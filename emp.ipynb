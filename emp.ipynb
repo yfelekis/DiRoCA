{
 "cells": [
  {
   "cell_type": "code",
   "execution_count": 1,
   "id": "a28ac6f7",
   "metadata": {},
   "outputs": [],
   "source": [
    "import json\n",
    "import pickle\n",
    "import time\n",
    "from datetime import datetime, timedelta\n",
    "from itertools import product\n",
    "\n",
    "import numpy as np\n",
    "import seaborn as sns\n",
    "import torch\n",
    "import torch.nn as nn\n",
    "import joblib\n",
    "import os\n",
    "\n",
    "import matplotlib.pyplot as plt\n",
    "from tqdm import tqdm\n",
    "\n",
    "# Local modules\n",
    "import modularised_utils as mut\n",
    "import opt_utils as oput\n",
    "import evaluation_utils as evut\n",
    "import Linear_Additive_Noise_Models as lanm\n",
    "import operations as ops\n",
    "import params\n",
    "\n",
    "np.random.seed(0)"
   ]
  },
  {
   "cell_type": "code",
   "execution_count": 2,
   "id": "5279c89f",
   "metadata": {},
   "outputs": [],
   "source": [
    "experiment       = 'lucas6x3'\n",
    "abduction        = True\n",
    "coeff_estimation = False\n",
    "\n",
    "# Define the radius of the Wasserstein balls (epsilon, delta) and the size for both models.\n",
    "epsilon, delta           = params.radius[experiment]\n",
    "ll_num_envs, hl_num_envs = params.n_envs[experiment]\n",
    "\n",
    "# Define the number of samples per environment. Currently every environment has the same number of samples\n",
    "num_llsamples, num_hlsamples  = params.n_samples[experiment]\n",
    "\n",
    "# Load ground truth abstraction\n",
    "Tau = mut.load_T(experiment)"
   ]
  },
  {
   "cell_type": "code",
   "execution_count": 3,
   "id": "21bf6a8e",
   "metadata": {},
   "outputs": [],
   "source": [
    "Dll_obs  = mut.load_samples(experiment)[None][0] \n",
    "Gll, Ill = mut.load_model(experiment, 'LL')\n",
    "l        = len(Gll.nodes())\n",
    "\n",
    "Dhl_obs  = mut.load_samples(experiment)[None][1] \n",
    "Ghl, Ihl = mut.load_model(experiment, 'HL')\n",
    "h        = len(Ghl.nodes())\n",
    "\n",
    "omega    = mut.load_omega_map(experiment)"
   ]
  },
  {
   "cell_type": "code",
   "execution_count": 4,
   "id": "01341509",
   "metadata": {},
   "outputs": [],
   "source": [
    "if coeff_estimation == True:\n",
    "    ll_coeffs = mut.get_coefficients(Dll_obs, Gll)\n",
    "    hl_coeffs = mut.get_coefficients(Dhl_obs, Ghl) \n",
    "else:\n",
    "    ll_coeffs = mut.load_coeffs(experiment, 'LL')\n",
    "    hl_coeffs = mut.load_coeffs(experiment, 'HL')"
   ]
  },
  {
   "cell_type": "code",
   "execution_count": 5,
   "id": "83a04da8",
   "metadata": {},
   "outputs": [],
   "source": [
    "if abduction == True:\n",
    "    U_ll_hat, mu_U_ll_hat, Sigma_U_ll_hat = mut.lan_abduction(Dll_obs, Gll, ll_coeffs)\n",
    "    U_hl_hat, mu_U_hl_hat, Sigma_U_hl_hat = mut.lan_abduction(Dhl_obs, Ghl, hl_coeffs)\n",
    "else:\n",
    "    U_ll_hat, mu_U_ll_hat, Sigma_U_ll_hat = mut.load_exogenous(experiment, 'LL')\n",
    "    U_hl_hat, mu_U_hl_hat, Sigma_U_hl_hat = mut.load_exogenous(experiment, 'HL')"
   ]
  },
  {
   "cell_type": "markdown",
   "id": "8b36a8dd",
   "metadata": {},
   "source": [
    "Experiment with different pertubations; i.e. different noise distributions"
   ]
  },
  {
   "cell_type": "code",
   "execution_count": 25,
   "id": "7ab262ed",
   "metadata": {},
   "outputs": [],
   "source": [
    "ll_loc = [1.0, -2.0, 0.5, 1.0, -2.0, 0.5]  # means for each dimension\n",
    "ll_scale = [0.5, 1.0, 0.3, 0.5, 1.0, 0.3]  \n",
    "hl_loc = [2, 2, 2]\n",
    "hl_scale = [1, 1, 1]\n",
    "lenv = ops.MultivariateLaplace(ll_loc, ll_scale)\n",
    "henv = ops.MultivariateLaplace(hl_loc, hl_scale)\n",
    "\n",
    "U_ll_hat = lenv.sample(num_llsamples)\n",
    "U_hl_hat = henv.sample(num_hlsamples)"
   ]
  },
  {
   "cell_type": "code",
   "execution_count": 26,
   "id": "7d0f0c0a",
   "metadata": {},
   "outputs": [],
   "source": [
    "LLmodels = {}\n",
    "for iota in Ill:\n",
    "    LLmodels[iota] = lanm.LinearAddSCM(Gll, ll_coeffs, iota)\n",
    "    \n",
    "HLmodels, Dhl_samples = {}, {}\n",
    "for eta in Ihl:\n",
    "    HLmodels[eta] = lanm.LinearAddSCM(Ghl, hl_coeffs, eta)"
   ]
  },
  {
   "cell_type": "code",
   "execution_count": 29,
   "id": "b36e77bf",
   "metadata": {},
   "outputs": [],
   "source": [
    "def plot_progress(objs, name):\n",
    "    plt.figure(figsize=(10, 6))\n",
    "    plt.plot(objs, label=name)\n",
    "    plt.xlabel('Iteration')\n",
    "    plt.ylabel('Objective Value')\n",
    "    plt.title(f'{name} Objective Progress')\n",
    "    plt.legend()\n",
    "    plt.show()"
   ]
  },
  {
   "cell_type": "code",
   "execution_count": 30,
   "id": "ede35124",
   "metadata": {},
   "outputs": [],
   "source": [
    "def run_empirical_optimization(U_L, U_H, L_models, H_models, epsilon, delta, eta_min, eta_max,\n",
    "                                num_steps_min, num_steps_max, max_iter, tol, seed, robust_L, robust_H, initialization):\n",
    "    \n",
    "    torch.manual_seed(seed)\n",
    "    erica = robust_L or robust_H\n",
    "    # Convert inputs to torch tensors\n",
    "    U_L = torch.as_tensor(U_L, dtype=torch.float32)\n",
    "    U_H = torch.as_tensor(U_H, dtype=torch.float32)\n",
    "    \n",
    "    # Get dimensions\n",
    "    N, l = U_L.shape\n",
    "    _, h = U_H.shape\n",
    "    \n",
    "    # Initialize variables\n",
    "    T     = torch.randn(h, l, requires_grad=True)\n",
    "    if initialization == 'random':\n",
    "        Theta = torch.randn(N, l, requires_grad=True)\n",
    "        Phi   = torch.randn(N, h, requires_grad=True)\n",
    "\n",
    "    elif initialization == 'projected':\n",
    "        Theta = oput.init_in_frobenius_ball((N, l), epsilon)\n",
    "        Phi   = oput.init_in_frobenius_ball((N, h), delta)\n",
    "\n",
    "    \n",
    "    # Create optimizers\n",
    "    optimizer_T   = torch.optim.Adam([T], lr=eta_min)\n",
    "    optimizer_max = torch.optim.Adam([Theta, Phi], lr=eta_max)\n",
    "    \n",
    "    prev_T_objective = float('inf')\n",
    "    \n",
    "    for iteration in tqdm(range(max_iter)):\n",
    "         \n",
    "        objs_T, objs_max = [], []\n",
    "        # Step 1: Minimize with respect to T\n",
    "        for _ in range(num_steps_min):\n",
    "            optimizer_T.zero_grad()\n",
    "            T_objective = oput.empirical_objective(U_L, U_H, T, Theta, Phi, L_models, H_models, Ill, omega)\n",
    "            objs_T.append(T_objective.item())\n",
    "            T_objective.backward()\n",
    "            optimizer_T.step()\n",
    "        #plot_progress(objs_T, 'T')\n",
    "        # Step 2: Maximize with respect to Theta and Phi\n",
    "        if erica == True:\n",
    "            for _ in range(num_steps_max):\n",
    "                optimizer_max.zero_grad()\n",
    "                max_objective = -oput.empirical_objective(U_L, U_H, T, Theta, Phi, L_models, H_models, Ill, omega)\n",
    "                max_objective.backward()\n",
    "                optimizer_max.step()\n",
    "                \n",
    "                # Project onto constraint sets\n",
    "                with torch.no_grad():\n",
    "                    Theta.data = oput.project_onto_frobenius_ball(Theta, epsilon)\n",
    "                    Phi.data = oput.project_onto_frobenius_ball(Phi, delta)\n",
    "\n",
    "                mobj = oput.empirical_objective(U_L, U_H, T, Theta, Phi, L_models, H_models, Ill, omega)\n",
    "                objs_max.append(mobj.item())\n",
    "\n",
    "        #plot_progress(objs_max, 'max')\n",
    "        # Check convergence of T's objective\n",
    "        with torch.no_grad():\n",
    "            current_T_objective = T_objective.item()\n",
    "            if abs(prev_T_objective - current_T_objective) < tol:\n",
    "                print(f\"Converged at iteration {iteration + 1}\")\n",
    "                break\n",
    "            prev_T_objective = current_T_objective\n",
    "            \n",
    "            # if iteration % 10 == 0:\n",
    "            #     print(f\"Iteration {iteration}, T Objective: {current_T_objective}\")\n",
    "    \n",
    "    return T.detach().numpy(), Theta.detach().numpy(), Phi.detach().numpy()"
   ]
  },
  {
   "cell_type": "code",
   "execution_count": 31,
   "id": "84176581",
   "metadata": {},
   "outputs": [],
   "source": [
    "epsilon, delta = 3, 3\n"
   ]
  },
  {
   "cell_type": "code",
   "execution_count": 32,
   "id": "de114160",
   "metadata": {},
   "outputs": [
    {
     "name": "stderr",
     "output_type": "stream",
     "text": [
      "100%|██████████| 100/100 [01:19<00:00,  1.25it/s]\n"
     ]
    }
   ],
   "source": [
    "params_erica = {\n",
    "                'U_L': U_ll_hat,\n",
    "                'U_H': U_hl_hat,\n",
    "                'L_models': LLmodels,\n",
    "                'H_models': HLmodels,\n",
    "                'epsilon': epsilon,\n",
    "                'delta': delta,\n",
    "                'eta_min': 0.001,\n",
    "                'eta_max': 0.01,\n",
    "                'num_steps_min': 5,\n",
    "                'num_steps_max': 5,\n",
    "                'max_iter': 100,\n",
    "                'tol': 1e-5,\n",
    "                'seed': 23,\n",
    "                'robust_L': True,\n",
    "                'robust_H': True,\n",
    "                'initialization': 'random'\n",
    "            }\n",
    "\n",
    "T_erica, Theta_erica, Phi_erica = run_empirical_optimization(**params_erica)"
   ]
  },
  {
   "cell_type": "code",
   "execution_count": 33,
   "id": "729d12b4",
   "metadata": {},
   "outputs": [
    {
     "data": {
      "text/plain": [
       "['data/lucas6x3/empirical_boundary_params.pkl']"
      ]
     },
     "execution_count": 33,
     "metadata": {},
     "output_type": "execute_result"
    }
   ],
   "source": [
    "empirical_boundary_params = {'Theta': (Theta_erica, epsilon), 'Phi': (Phi_erica, delta)}\n",
    "\n",
    "\n",
    "joblib.dump(empirical_boundary_params, f\"data/{experiment}/empirical_boundary_params.pkl\")"
   ]
  },
  {
   "cell_type": "code",
   "execution_count": 34,
   "id": "d3e79515",
   "metadata": {},
   "outputs": [
    {
     "name": "stderr",
     "output_type": "stream",
     "text": [
      "100%|██████████| 100/100 [00:29<00:00,  3.36it/s]\n"
     ]
    }
   ],
   "source": [
    "params_enrico = {\n",
    "                'U_L': U_ll_hat,\n",
    "                'U_H': U_hl_hat,\n",
    "                'L_models': LLmodels,\n",
    "                'H_models': HLmodels,\n",
    "                'epsilon': epsilon,\n",
    "                'delta': delta,\n",
    "                'eta_min': 0.001,\n",
    "                'eta_max': 0.01,\n",
    "                'num_steps_min': 5,\n",
    "                'num_steps_max': 5,\n",
    "                'max_iter': 100,\n",
    "                'tol': 1e-5,\n",
    "                'seed': 23,\n",
    "                'robust_L': False,\n",
    "                'robust_H': False,\n",
    "                'initialization': 'random'\n",
    "            }\n",
    "\n",
    "T_enrico, Theta_enrico, Phi_enrico = run_empirical_optimization(**params_enrico)"
   ]
  },
  {
   "cell_type": "code",
   "execution_count": 35,
   "id": "19769f3d",
   "metadata": {},
   "outputs": [
    {
     "data": {
      "image/png": "[encoded data removed]",
      "text/plain": [
       "<Figure size 400x500 with 1 Axes>"
      ]
     },
     "metadata": {},
     "output_type": "display_data"
    }
   ],
   "source": [
    "T_name         = ['T_erica', 'T_enrico', 'UniEnv T']\n",
    "condition_nums = {}\n",
    "for i, T in enumerate([T_erica, T_enrico, Tau]): \n",
    "    cn = evut.condition_number(T)\n",
    "    condition_nums[T_name[i]] = cn\n",
    "evut.plot_condition_nums(condition_nums)"
   ]
  },
  {
   "cell_type": "code",
   "execution_count": 36,
   "id": "dbd0d7d9",
   "metadata": {},
   "outputs": [],
   "source": [
    "data = mut.load_samples(experiment)"
   ]
  },
  {
   "cell_type": "code",
   "execution_count": 40,
   "id": "901a9fcd",
   "metadata": {},
   "outputs": [],
   "source": [
    "add_pertL          = True\n",
    "add_pertH          = True\n",
    "pert_typeL         = 'random_normal'\n",
    "pert_typeH         = 'random_normal'\n",
    "\n",
    "lin_contaminationL = False\n",
    "lin_contaminationH = False\n",
    "cont_type          = 'huber'\n",
    "cont_fracL         = .9\n",
    "cont_fracH         = .6\n",
    "\n",
    "metric             = 'fro'\n",
    "num_iter           = 100"
   ]
  },
  {
   "cell_type": "code",
   "execution_count": 41,
   "id": "2b0d2c81",
   "metadata": {},
   "outputs": [
    {
     "name": "stderr",
     "output_type": "stream",
     "text": [
      "100%|██████████| 100/100 [00:18<00:00,  5.50it/s]\n"
     ]
    },
    {
     "name": "stdout",
     "output_type": "stream",
     "text": [
      "Average e(τ) for ERiCA: 32.79 ± 0.526\n",
      "\n",
      "Average e(τ) for ENRiCO: 33.48 ± 0.515\n",
      "\n",
      "Average e(τ) for UniEnv: 45.11 ± 1.592\n",
      "\n"
     ]
    },
    {
     "data": {
      "image/png": "[encoded data removed]",
      "text/plain": [
       "<Figure size 400x500 with 1 Axes>"
      ]
     },
     "metadata": {},
     "output_type": "display_data"
    }
   ],
   "source": [
    "method_names      = ['ERiCA', 'ENRiCO', 'UniEnv']\n",
    "methods           = [T_erica, T_enrico, Tau]\n",
    "abstraction_error = {name: [] for name in method_names}\n",
    "\n",
    "# Outer loop: number of noise sampling iterations\n",
    "for iter_num in tqdm(range(num_iter)): # desc=\"Noise sampling iterations\"\n",
    "\n",
    "    pert_L = evut.generate_pertubation(data[None][0], pert_typeL, 'Theta', experiment)\n",
    "    pert_H = evut.generate_pertubation(data[None][1], pert_typeH, 'Phi', experiment)\n",
    "    \n",
    "    # For this noise iteration, evaluate each method\n",
    "    for i, T in enumerate(methods):\n",
    "        total = 0\n",
    "        # Compute average error over Ill for this method\n",
    "        for iota in Ill:\n",
    "            # Get base data and add noise\n",
    "            base, abst = data[iota]\n",
    "            \n",
    "            if add_pertL:\n",
    "                base = base + pert_L # + base \n",
    "            if add_pertH:\n",
    "                abst = abst + pert_H # + abst\n",
    "                \n",
    "            if lin_contaminationL:\n",
    "                base  = evut.contaminate_linear_relationships(base, contamination_fraction=cont_fracL, contamination_type=cont_type)\n",
    "            if lin_contaminationH:\n",
    "                abst  = evut.contaminate_linear_relationships(abst, contamination_fraction=cont_fracH, contamination_type=cont_type)\n",
    "            base_norm = base / np.linalg.norm(base, 'fro')\n",
    "            abst_norm = abst / np.linalg.norm(abst, 'fro')\n",
    "            # Apply method and compute distance\n",
    "            tau_base = base @ T.T\n",
    "            if metric == 'fro':\n",
    "                dist     = ops.MatrixDistances.frobenius_distance(tau_base, abst)\n",
    "            elif metric == 'sq_fro':\n",
    "                dist     = ops.MatrixDistances.squared_frobenius_distance(tau_base, abst)\n",
    "            elif metric == 'nuclear':\n",
    "                dist     = ops.MatrixDistances.nuclear_norm_distance(tau_base, abst)\n",
    "            elif metric == 'spectral':\n",
    "                dist     = ops.MatrixDistances.spectral_norm_distance(tau_base, abst)\n",
    "            elif metric == 'l1':\n",
    "                dist     = ops.MatrixDistances.l1_distance(tau_base, abst)    \n",
    "            else:\n",
    "                raise ValueError(f\"Invalid metric: {metric}\")\n",
    "                \n",
    "            total   += dist\n",
    "            \n",
    "        iter_avg = total / len(Ill)\n",
    "        abstraction_error[method_names[i]].append(iter_avg)\n",
    "\n",
    "final_abstraction_error = {}\n",
    "for name in method_names:\n",
    "    mean_e = np.mean(abstraction_error[name])\n",
    "    std_e = np.std(abstraction_error[name])\n",
    "    final_abstraction_error[name] = (mean_e/100, std_e * 1.96)\n",
    "    print(f\"Average e(τ) for {name}: {mean_e/100:.2f} ± {std_e:.3f}\\n\")\n",
    "\n",
    "evut.plot_abstraction_error(final_abstraction_error)"
   ]
  },
  {
   "cell_type": "code",
   "execution_count": null,
   "id": "4aa10e10",
   "metadata": {},
   "outputs": [],
   "source": []
  },
  {
   "cell_type": "code",
   "execution_count": null,
   "id": "17e79b88",
   "metadata": {},
   "outputs": [],
   "source": []
  },
  {
   "cell_type": "code",
   "execution_count": null,
   "id": "c794ecc1",
   "metadata": {},
   "outputs": [],
   "source": []
  },
  {
   "cell_type": "code",
   "execution_count": null,
   "id": "a070d5d9",
   "metadata": {},
   "outputs": [],
   "source": [
    "\n",
    "\n",
    "# Modified loop with Huber contamination\n",
    "for iter_num in tqdm(range(num_iter)):\n",
    "    noiseL = evut.generate_noise(data[None][0], noise_typeL, 'L', experiment, normalize=True, random_range=noise_range)\n",
    "    noiseH = evut.generate_noise(data[None][1], noise_typeH, 'H', experiment, normalize=True, random_range=noise_range)\n",
    "    \n",
    "    # For this noise iteration, evaluate each method\n",
    "    for i, T in enumerate(methods):\n",
    "        total = 0\n",
    "        # Compute average error over Ill for this method\n",
    "        for iota in Ill:\n",
    "            # Get base data and add noise\n",
    "            base, abst = data[iota]\n",
    "            \n",
    "            if add_noiseL:\n",
    "                base = base + noiseL\n",
    "            if add_noiseH:\n",
    "                abst = abst + noiseH\n",
    "                \n",
    "            if lin_contaminationL:\n",
    "                if cont_type == 'huber':\n",
    "                    base = contaminate_huber(base, contamination_fraction=cont_fracL)\n",
    "                else:\n",
    "                    base = evut.contaminate_linear_relationships(base, contamination_fraction=cont_fracL, contamination_type=cont_type)\n",
    "                    \n",
    "            if lin_contaminationH:\n",
    "                if cont_type == 'huber':\n",
    "                    abst = contaminate_huber(abst, contamination_fraction=cont_fracH)\n",
    "                else:\n",
    "                    abst = evut.contaminate_linear_relationships(abst, contamination_fraction=cont_fracH, contamination_type=cont_type)\n",
    "            \n",
    "            base_norm = base / np.linalg.norm(base, 'fro')\n",
    "            abst_norm = abst / np.linalg.norm(abst, 'fro')\n",
    "            \n",
    "            # Apply method and compute distance\n",
    "            tau_base = base @ T.T\n",
    "            dist = ops.MatrixDistances.frobenius_distance(tau_base, abst)\n",
    "                \n",
    "            total += dist\n",
    "            \n",
    "        # Store average error for this method in this iteration\n",
    "        iter_avg = total / len(Ill)\n",
    "        abstraction_error[method_names[i]].append(iter_avg)"
   ]
  },
  {
   "cell_type": "code",
   "execution_count": null,
   "id": "2a39c70a",
   "metadata": {},
   "outputs": [],
   "source": []
  },
  {
   "cell_type": "code",
   "execution_count": null,
   "id": "b15b2662",
   "metadata": {},
   "outputs": [],
   "source": []
  },
  {
   "cell_type": "code",
   "execution_count": null,
   "id": "fa3762df",
   "metadata": {},
   "outputs": [],
   "source": []
  },
  {
   "cell_type": "code",
   "execution_count": null,
   "id": "99cf65cd",
   "metadata": {},
   "outputs": [],
   "source": [
    "\n",
    "# Visualize results\n",
    "import matplotlib.pyplot as plt\n",
    "\n",
    "plt.figure(figsize=(15, 5))\n",
    "\n",
    "# Plot first variable distribution\n",
    "plt.subplot(131)\n",
    "for i, dist in enumerate(distributions):\n",
    "    plt.hist(dist[:, 0], bins=30, alpha=0.3, label=f'Dist {i+1}')\n",
    "plt.hist(bary_exact[:, 0], bins=30, alpha=0.5, color='red', label='Barycenter')\n",
    "plt.title('First Variable Distribution')\n",
    "plt.legend()\n",
    "\n",
    "# Plot 2D projection\n",
    "plt.subplot(132)\n",
    "for dist in distributions:\n",
    "    plt.scatter(dist[:, 0], dist[:, 1], alpha=0.1)\n",
    "plt.scatter(bary_exact[:, 0], bary_exact[:, 1], \n",
    "            color='red', alpha=0.5, label='Barycenter')\n",
    "plt.title('2D Projection (vars 0 and 1)')\n",
    "plt.legend()\n",
    "\n",
    "# Compare exact vs approximate\n",
    "plt.subplot(133)\n",
    "plt.scatter(bary_exact[:, 0], bary_exact[:, 1], \n",
    "            alpha=0.5, label='Exact')\n",
    "plt.scatter(bary_approx[:, 0], bary_approx[:, 1], \n",
    "            alpha=0.5, label='Approximate')\n",
    "plt.title('Exact vs Approximate Barycenter')\n",
    "plt.legend()\n",
    "\n",
    "plt.tight_layout()\n",
    "plt.show()"
   ]
  },
  {
   "cell_type": "code",
   "execution_count": 26,
   "id": "2b47a09a",
   "metadata": {},
   "outputs": [],
   "source": [
    "def compute_empirical_distribution(data, num_bins=10):\n",
    "    \"\"\"\n",
    "    Compute the empirical distribution for each variable in a dataset.\n",
    "\n",
    "    Parameters:\n",
    "        data (numpy.ndarray): Dataset of shape (num_samples, num_variables).\n",
    "        num_bins (int): Number of bins for the histogram.\n",
    "\n",
    "    Returns:\n",
    "        dict: A dictionary where each key is the variable index (0-based) and each value\n",
    "              is a vector of probabilities corresponding to the bins.\n",
    "    \"\"\"\n",
    "    if not isinstance(data, np.ndarray):\n",
    "        raise ValueError(\"Input data must be a numpy array.\")\n",
    "    \n",
    "    num_variables = data.shape[1]\n",
    "    empirical_distributions = {}\n",
    "\n",
    "    for i in range(num_variables):\n",
    "        variable_data = data[:, i]  # Extract data for one variable\n",
    "        hist, bin_edges = np.histogram(variable_data, bins=num_bins, density=True)  # Density=True gives probabilities\n",
    "        empirical_distributions[i] = hist  # Store the probabilities as a vector\n",
    "\n",
    "    return empirical_distributions\n"
   ]
  },
  {
   "cell_type": "code",
   "execution_count": 38,
   "id": "db9964f7",
   "metadata": {},
   "outputs": [
    {
     "name": "stdout",
     "output_type": "stream",
     "text": [
      "Variable 0:\n",
      "  Probabilities: [3.39452803e-04 6.21965136e-03 5.40824966e-02 2.06518705e-01\n",
      " 3.76058955e-01 3.12690782e-01 1.17330219e-01 2.00167653e-02\n",
      " 1.67536384e-03 7.66506330e-05]\n",
      "\n",
      "Variable 1:\n",
      "  Probabilities: [0.00043555 0.00503171 0.04011616 0.15979986 0.3327349  0.35362969\n",
      " 0.19120508 0.05393904 0.00869948 0.00058455]\n",
      "\n",
      "Variable 2:\n",
      "  Probabilities: [3.45294686e-04 5.64723890e-03 4.34180221e-02 1.78896063e-01\n",
      " 3.56477779e-01 3.35648712e-01 1.54614050e-01 3.48859018e-02\n",
      " 3.65344055e-03 2.67324918e-04]\n",
      "\n"
     ]
    }
   ],
   "source": [
    "num_samples = 100\n",
    "num_variables = 3\n",
    "example_data = np.random.randn(num_samples, num_variables)  # Replace with your dataset\n",
    "\n",
    "distributions = compute_empirical_distribution(base, num_bins=10)\n",
    "\n",
    "# Print the empirical distribution for each variable\n",
    "for var_index, dist in distributions.items():\n",
    "    print(f\"Variable {var_index}:\")\n",
    "    print(f\"  Probabilities: {dist}\")\n",
    "    print()"
   ]
  },
  {
   "cell_type": "code",
   "execution_count": 21,
   "id": "247b2736",
   "metadata": {},
   "outputs": [],
   "source": [
    "a = compute_empirical_distribution(base[None])"
   ]
  },
  {
   "cell_type": "code",
   "execution_count": 45,
   "id": "66d10906",
   "metadata": {},
   "outputs": [],
   "source": [
    "def compute_empirical_distribution(data: np.ndarray, num_bins: int = 50) -> tuple:\n",
    "    \"\"\"\n",
    "    Compute the empirical distribution for each variable in a dataset using binning.\n",
    "\n",
    "    Parameters:\n",
    "        data (numpy.ndarray): Dataset of shape (num_samples, num_variables).\n",
    "        num_bins (int): Number of bins to use for discretization.\n",
    "\n",
    "    Returns:\n",
    "        tuple: (binned_distribution, bin_edges)\n",
    "            - binned_distribution: array of shape (num_bins, num_variables) containing the normalized histogram\n",
    "            - bin_edges: list of arrays containing bin edges for each variable\n",
    "    \"\"\"\n",
    "    if not isinstance(data, np.ndarray):\n",
    "        raise ValueError(\"Input data must be a numpy array.\")\n",
    "    \n",
    "    num_samples, num_variables = data.shape\n",
    "    binned_distribution = np.zeros((num_bins, num_variables))\n",
    "    bin_edges = []\n",
    "    \n",
    "    # Process each variable separately\n",
    "    for var_idx in range(num_variables):\n",
    "        # Compute bin edges for equal-width partitioning\n",
    "        var_min = data[:, var_idx].min()\n",
    "        var_max = data[:, var_idx].max()\n",
    "        edges = np.linspace(var_min, var_max, num_bins + 1)\n",
    "        bin_edges.append(edges)\n",
    "        \n",
    "        # Compute histogram for this variable\n",
    "        hist, _ = np.histogram(data[:, var_idx], bins=edges, density=True)\n",
    "        binned_distribution[:, var_idx] = hist\n",
    "    \n",
    "    # Normalize the binned distribution\n",
    "    binned_distribution = binned_distribution / np.sum(binned_distribution, axis=0)\n",
    "    \n",
    "    return binned_distribution, bin_edges"
   ]
  },
  {
   "cell_type": "code",
   "execution_count": 69,
   "id": "a0173993",
   "metadata": {},
   "outputs": [],
   "source": [
    "dist, edges = compute_empirical_distribution(base, num_bins=15)"
   ]
  },
  {
   "cell_type": "code",
   "execution_count": 70,
   "id": "baa106c5",
   "metadata": {},
   "outputs": [
    {
     "data": {
      "image/png": "[encoded data removed]",
      "text/plain": [
       "<Figure size 1200x400 with 3 Axes>"
      ]
     },
     "metadata": {},
     "output_type": "display_data"
    }
   ],
   "source": [
    "plt.figure(figsize=(12, 4))\n",
    "    \n",
    "# Plot distributions for each variable\n",
    "for var_idx in range(3):\n",
    "    plt.subplot(1, 3, var_idx + 1)\n",
    "    \n",
    "    # Plot original data histogram\n",
    "    plt.hist(base[:, var_idx], bins=30, alpha=0.3, density=True, label='Original')\n",
    "    \n",
    "    # Plot binned distribution\n",
    "    bin_centers = (edges[var_idx][1:] + edges[var_idx][:-1]) / 2\n",
    "    plt.plot(bin_centers, dist[:, var_idx], 'r-', label='Binned', linewidth=2)\n",
    "    \n",
    "    plt.title(f'Variable {var_idx + 1}')\n",
    "    plt.legend()\n",
    "\n",
    "plt.tight_layout()\n",
    "plt.show()"
   ]
  },
  {
   "cell_type": "code",
   "execution_count": 72,
   "id": "07b2c0b1",
   "metadata": {},
   "outputs": [
    {
     "data": {
      "text/plain": [
       "[array([-4.34369039, -3.73486741, -3.12604443, -2.51722145, -1.90839848,\n",
       "        -1.2995755 , -0.69075252, -0.08192954,  0.52689344,  1.13571642,\n",
       "         1.74453939,  2.35336237,  2.96218535,  3.57100833,  4.17983131,\n",
       "         4.78865429]),\n",
       " array([-4.44707181, -3.86542757, -3.28378334, -2.70213911, -2.12049488,\n",
       "        -1.53885065, -0.95720642, -0.37556218,  0.20608205,  0.78772628,\n",
       "         1.36937051,  1.95101474,  2.53265897,  3.11430321,  3.69594744,\n",
       "         4.27759167]),\n",
       " array([-4.42929415, -3.83077157, -3.23224899, -2.6337264 , -2.03520382,\n",
       "        -1.43668124, -0.83815866, -0.23963608,  0.3588865 ,  0.95740908,\n",
       "         1.55593166,  2.15445424,  2.75297682,  3.3514994 ,  3.95002198,\n",
       "         4.54854457])]"
      ]
     },
     "execution_count": 72,
     "metadata": {},
     "output_type": "execute_result"
    }
   ],
   "source": [
    "edges"
   ]
  },
  {
   "cell_type": "code",
   "execution_count": 44,
   "id": "01b0388e",
   "metadata": {},
   "outputs": [
    {
     "name": "stdout",
     "output_type": "stream",
     "text": [
      "Empirical Distribution:\n",
      "{0: array([3.1000e-04, 5.6800e-03, 4.9390e-02, 1.8860e-01, 3.4343e-01,\n",
      "       2.8556e-01, 1.0715e-01, 1.8280e-02, 1.5300e-03, 7.0000e-05]), 1: array([0.00038, 0.00439, 0.035  , 0.13942, 0.2903 , 0.30853, 0.16682,\n",
      "       0.04706, 0.00759, 0.00051]), 2: array([3.1000e-04, 5.0700e-03, 3.8980e-02, 1.6061e-01, 3.2004e-01,\n",
      "       3.0134e-01, 1.3881e-01, 3.1320e-02, 3.2800e-03, 2.4000e-04])}\n"
     ]
    }
   ],
   "source": [
    "\n",
    "distribution = compute_empirical_distribution(base)\n",
    "\n",
    "# Print the uniform empirical distribution\n",
    "print(\"Empirical Distribution:\")\n",
    "print(distribution)"
   ]
  },
  {
   "cell_type": "code",
   "execution_count": null,
   "id": "604ccf66",
   "metadata": {},
   "outputs": [],
   "source": []
  }
 ],
 "metadata": {
  "kernelspec": {
   "display_name": "erica",
   "language": "python",
   "name": "python3"
  },
  "language_info": {
   "codemirror_mode": {
    "name": "ipython",
    "version": 3
   },
   "file_extension": ".py",
   "mimetype": "text/x-python",
   "name": "python",
   "nbconvert_exporter": "python",
   "pygments_lexer": "ipython3",
   "version": "3.12.5"
  }
 },
 "nbformat": 4,
 "nbformat_minor": 5
}
