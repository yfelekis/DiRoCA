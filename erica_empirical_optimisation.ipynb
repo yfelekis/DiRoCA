{
 "cells": [
  {
   "cell_type": "code",
   "execution_count": 1,
   "id": "a28ac6f7",
   "metadata": {},
   "outputs": [],
   "source": [
    "import random\n",
    "import itertools\n",
    "import joblib\n",
    "import pickle \n",
    "import os\n",
    "import cvxpy\n",
    "\n",
    "from itertools import chain, combinations\n",
    "from typing import Optional\n",
    "import numpy as np\n",
    "import pandas as pd\n",
    "import seaborn as sns\n",
    "from sklearn.mixture import GaussianMixture\n",
    "from sklearn.linear_model import LinearRegression\n",
    "\n",
    "from scipy.stats import wasserstein_distance\n",
    "from scipy.stats import norm\n",
    "from scipy.stats import wishart\n",
    "import networkx as nx\n",
    "import matplotlib.pyplot as plt\n",
    "\n",
    "from scipy.linalg import sqrtm\n",
    "from scipy.special import rel_entr\n",
    "from scipy.spatial.distance import jensenshannon\n",
    "\n",
    "from src.CBN import CausalBayesianNetwork as CBN\n",
    "import modularised_utils as mut\n",
    "import Linear_Additive_Noise_Models as lanm\n",
    "import operations as ops\n",
    "\n",
    "import params\n",
    "\n",
    "np.random.seed(0)"
   ]
  },
  {
   "cell_type": "code",
   "execution_count": 2,
   "id": "5279c89f",
   "metadata": {},
   "outputs": [],
   "source": [
    "experiment = 'synth1_gnd'"
   ]
  },
  {
   "cell_type": "code",
   "execution_count": 3,
   "id": "21bf6a8e",
   "metadata": {},
   "outputs": [],
   "source": [
    "# Define the radius of the Wasserstein balls (epsilon, delta) and the size for both models.\n",
    "epsilon         = params.radius[experiment][0]\n",
    "ll_num_envs     = params.n_envs[experiment][0]\n",
    "\n",
    "delta           = params.radius[experiment][1]\n",
    "hl_num_envs     = params.n_envs[experiment][1]\n",
    "\n",
    "# Define the number of samples per environment. Currently every environment has the same number of samples\n",
    "num_llsamples   = params.n_samples[experiment][0]\n",
    "num_hlsamples   = params.n_samples[experiment][1]\n",
    "\n",
    "distance_err    = 'wass'"
   ]
  },
  {
   "cell_type": "code",
   "execution_count": 4,
   "id": "01341509",
   "metadata": {},
   "outputs": [],
   "source": [
    "Dll = mut.load_samples(experiment)[None][0]\n",
    "Gll = mut.load_ll_model(experiment)[0]\n",
    "Ill = mut.load_ll_model(experiment)[1]\n",
    "\n",
    "\n",
    "Dhl = mut.load_samples(experiment)[None][1]\n",
    "Ghl = mut.load_hl_model(experiment)[0]\n",
    "Ihl = mut.load_hl_model(experiment)[1]\n",
    "\n",
    "omega = mut.load_omega_map(experiment)"
   ]
  },
  {
   "cell_type": "code",
   "execution_count": 5,
   "id": "16fef938",
   "metadata": {},
   "outputs": [],
   "source": [
    "ll_coeffs = mut.get_mle_coefficients(Dll, Gll) \n",
    "hl_coeffs = mut.get_mle_coefficients(Dhl, Ghl) "
   ]
  },
  {
   "cell_type": "code",
   "execution_count": 6,
   "id": "966329bd",
   "metadata": {},
   "outputs": [],
   "source": [
    "U_ll_hat, mu_U_ll_hat, Sigma_U_ll_hat = mut.lan_abduction(Dll, Gll, ll_coeffs)\n",
    "U_hl_hat, mu_U_hl_hat, Sigma_U_hl_hat = mut.lan_abduction(Dhl, Ghl, hl_coeffs)"
   ]
  },
  {
   "cell_type": "code",
   "execution_count": 7,
   "id": "d672984f",
   "metadata": {},
   "outputs": [],
   "source": [
    "LLmodels = {}\n",
    "for iota in Ill:\n",
    "    LLmodels[iota] = lanm.LinearAddSCM(Gll, ll_coeffs, iota)\n",
    "    \n",
    "HLmodels, Dhl_samples = {}, {}\n",
    "for eta in Ihl:\n",
    "    HLmodels[eta] = lanm.LinearAddSCM(Ghl, hl_coeffs, eta)"
   ]
  },
  {
   "cell_type": "markdown",
   "id": "cbfcb4d4",
   "metadata": {},
   "source": [
    "# GOOD UP TO HERE!"
   ]
  },
  {
   "cell_type": "code",
   "execution_count": 8,
   "id": "86bd45e3",
   "metadata": {},
   "outputs": [],
   "source": [
    "# Empirical Ambiguity set construction: Based on epsilon and delta include distribution (as many as the num_envs).\n",
    "ll_moments = mut.sample_moments_U(mu_hat    = mu_U_ll_hat,\n",
    "                                  Sigma_hat = Sigma_U_ll_hat,\n",
    "                                  bound     = epsilon,\n",
    "                                  num_envs  = ll_num_envs)\n",
    "\n",
    "A_ll       = mut.sample_distros_Gelbrich(ll_moments) #Low-level: A_epsilon\n",
    "\n",
    "\n",
    "hl_moments = mut.sample_moments_U(mu_hat    = mu_U_hl_hat,\n",
    "                                  Sigma_hat = Sigma_U_hl_hat,\n",
    "                                  bound     = delta,\n",
    "                                  num_envs  = hl_num_envs)\n",
    "\n",
    "A_hl       = mut.sample_distros_Gelbrich(hl_moments) #High-level A_delta"
   ]
  },
  {
   "cell_type": "code",
   "execution_count": 9,
   "id": "40e446d1",
   "metadata": {},
   "outputs": [
    {
     "name": "stderr",
     "output_type": "stream",
     "text": [
      "/Users/giofelekis/opt/anaconda3/lib/python3.9/site-packages/threadpoolctl.py:1214: RuntimeWarning: \n",
      "Found Intel OpenMP ('libiomp') and LLVM OpenMP ('libomp') loaded at\n",
      "the same time. Both libraries are known to be incompatible and this\n",
      "can cause random crashes or deadlocks on Linux when loaded in the\n",
      "same Python program.\n",
      "Using threadpoolctl may cause crashes or deadlocks. For more\n",
      "information and possible workarounds, please see\n",
      "    https://github.com/joblib/threadpoolctl/blob/master/multiple_openmp.md\n",
      "\n",
      "  warnings.warn(msg, RuntimeWarning)\n"
     ]
    }
   ],
   "source": [
    "abstraction_errors             = {}\n",
    "abstraction_env_errors         = {}\n",
    "max_env_avg_interv_error_value = -np.inf\n",
    "max_env_avg_interv_error_key   = None\n",
    "\n",
    "for lenv in A_ll:\n",
    "\n",
    "    Dll_noise      = lenv.sample(num_llsamples)[0]\n",
    "    ll_environment = mut.get_exogenous_distribution(Dll_noise)\n",
    "\n",
    "    for henv in A_hl:\n",
    "        Dhl_noise      = henv.sample(num_hlsamples)[0]\n",
    "        hl_environment = mut.get_exogenous_distribution(Dhl_noise)\n",
    "\n",
    "        #pairs = mut.create_pairs(Ill, omega, LLmodels, HLmodels)\n",
    "\n",
    "        total_ui_error = 0\n",
    "        num_distros    = len(Ill)\n",
    "\n",
    "        n, m  = len(LLmodels[None].endogenous_vars), len(HLmodels[None].endogenous_vars)\n",
    "\n",
    "        T     = mut.sample_stoch_matrix(n, m)\n",
    "\n",
    "        for iota in Ill:\n",
    "            llcm   = LLmodels[iota]\n",
    "            hlcm   = HLmodels[omega[iota]]\n",
    "            llmech = llcm.compute_mechanism()\n",
    "            hlmech = hlcm.compute_mechanism()\n",
    "            error  = mut.ui_error_dist(distance_err, lenv, henv, llmech, hlmech, T)\n",
    "\n",
    "            total_ui_error += error\n",
    "\n",
    "        avg_interv_error = total_ui_error/num_distros\n",
    "\n",
    "        if avg_interv_error > max_env_avg_interv_error_value:\n",
    "            max_env_avg_interv_error_value = avg_interv_error\n",
    "            max_env_avg_interv_error_key   = (lenv, henv)\n",
    "\n",
    "        abstraction_errors[str(T)] = avg_interv_error\n",
    "        abstraction_env_errors['ll: '+str(ll_environment.means_)+' hl: '+str(hl_environment.means_)] = avg_interv_error"
   ]
  },
  {
   "cell_type": "code",
   "execution_count": 10,
   "id": "b04b792b",
   "metadata": {},
   "outputs": [
    {
     "name": "stdout",
     "output_type": "stream",
     "text": [
      "Abstraction: [[0.27398458 0.72601542]\n",
      " [0.41617667 0.58382333]\n",
      " [0.23448161 0.76551839]], Error: 1.0352098551326778\n",
      "==============================================================================\n",
      "max LL mean vector = [[0.00118683 0.02572295 0.11418638]]\n",
      "max LL covariance = [[[0.78824083 0.         0.        ]\n",
      "  [0.         1.85288948 0.        ]\n",
      "  [0.         0.         0.8438252 ]]]\n",
      "\n",
      "max HL mean vector = [[-0.01718261  0.00744961]]\n",
      "max HL covariance = [[[0.97475669 0.        ]\n",
      "  [0.         0.9084075 ]]]\n",
      "==============================================================================\n",
      "max environment, average interventional abstraction error = 1.0352098551326778\n"
     ]
    }
   ],
   "source": [
    "max_tau   = max(abstraction_errors, key=abstraction_errors.get)\n",
    "max_error = abstraction_errors[max_tau]\n",
    "\n",
    "print(f\"Abstraction: {max_tau}, Error: {max_error}\")\n",
    "print('==============================================================================' )\n",
    "max_lenv = max_env_avg_interv_error_key[0]\n",
    "max_henv = max_env_avg_interv_error_key[1]\n",
    "\n",
    "print(f\"max LL mean vector = {max_lenv.means_}\")\n",
    "print(f\"max LL covariance = {max_lenv.covariances_}\")\n",
    "print( )\n",
    "\n",
    "print(f\"max HL mean vector = {max_henv.means_}\")\n",
    "print(f\"max HL covariance = {max_henv.covariances_}\")\n",
    "print('==============================================================================' )\n",
    "print(f\"max environment, average interventional abstraction error = {max_env_avg_interv_error_value}\")"
   ]
  },
  {
   "cell_type": "code",
   "execution_count": null,
   "id": "c5cea163",
   "metadata": {},
   "outputs": [],
   "source": []
  }
 ],
 "metadata": {
  "kernelspec": {
   "display_name": "Python 3 (ipykernel)",
   "language": "python",
   "name": "python3"
  },
  "language_info": {
   "codemirror_mode": {
    "name": "ipython",
    "version": 3
   },
   "file_extension": ".py",
   "mimetype": "text/x-python",
   "name": "python",
   "nbconvert_exporter": "python",
   "pygments_lexer": "ipython3",
   "version": "3.9.13"
  }
 },
 "nbformat": 4,
 "nbformat_minor": 5
}
