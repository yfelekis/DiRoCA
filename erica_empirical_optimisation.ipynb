{
 "cells": [
  {
   "cell_type": "code",
   "execution_count": 1,
   "id": "a28ac6f7",
   "metadata": {},
   "outputs": [
    {
     "name": "stderr",
     "output_type": "stream",
     "text": [
      "\n",
      "A module that was compiled using NumPy 1.x cannot be run in\n",
      "NumPy 2.1.1 as it may crash. To support both 1.x and 2.x\n",
      "versions of NumPy, modules must be compiled with NumPy 2.0.\n",
      "Some module may need to rebuild instead e.g. with 'pybind11>=2.12'.\n",
      "\n",
      "If you are a user of the module, the easiest solution will be to\n",
      "downgrade to 'numpy<2' or try to upgrade the affected module.\n",
      "We expect that some modules will need time to support NumPy 2.\n",
      "\n",
      "Traceback (most recent call last):  File \"<frozen runpy>\", line 198, in _run_module_as_main\n",
      "  File \"<frozen runpy>\", line 88, in _run_code\n",
      "  File \"/Users/giofelekis/opt/anaconda3/envs/erica/lib/python3.12/site-packages/ipykernel_launcher.py\", line 17, in <module>\n",
      "    app.launch_new_instance()\n",
      "  File \"/Users/giofelekis/opt/anaconda3/envs/erica/lib/python3.12/site-packages/traitlets/config/application.py\", line 1075, in launch_instance\n",
      "    app.start()\n",
      "  File \"/Users/giofelekis/opt/anaconda3/envs/erica/lib/python3.12/site-packages/ipykernel/kernelapp.py\", line 701, in start\n",
      "    self.io_loop.start()\n",
      "  File \"/Users/giofelekis/opt/anaconda3/envs/erica/lib/python3.12/site-packages/tornado/platform/asyncio.py\", line 205, in start\n",
      "    self.asyncio_loop.run_forever()\n",
      "  File \"/Users/giofelekis/opt/anaconda3/envs/erica/lib/python3.12/asyncio/base_events.py\", line 641, in run_forever\n",
      "    self._run_once()\n",
      "  File \"/Users/giofelekis/opt/anaconda3/envs/erica/lib/python3.12/asyncio/base_events.py\", line 1986, in _run_once\n",
      "    handle._run()\n",
      "  File \"/Users/giofelekis/opt/anaconda3/envs/erica/lib/python3.12/asyncio/events.py\", line 88, in _run\n",
      "    self._context.run(self._callback, *self._args)\n",
      "  File \"/Users/giofelekis/opt/anaconda3/envs/erica/lib/python3.12/site-packages/ipykernel/kernelbase.py\", line 534, in dispatch_queue\n",
      "    await self.process_one()\n",
      "  File \"/Users/giofelekis/opt/anaconda3/envs/erica/lib/python3.12/site-packages/ipykernel/kernelbase.py\", line 523, in process_one\n",
      "    await dispatch(*args)\n",
      "  File \"/Users/giofelekis/opt/anaconda3/envs/erica/lib/python3.12/site-packages/ipykernel/kernelbase.py\", line 429, in dispatch_shell\n",
      "    await result\n",
      "  File \"/Users/giofelekis/opt/anaconda3/envs/erica/lib/python3.12/site-packages/ipykernel/kernelbase.py\", line 767, in execute_request\n",
      "    reply_content = await reply_content\n",
      "  File \"/Users/giofelekis/opt/anaconda3/envs/erica/lib/python3.12/site-packages/ipykernel/ipkernel.py\", line 429, in do_execute\n",
      "    res = shell.run_cell(\n",
      "  File \"/Users/giofelekis/opt/anaconda3/envs/erica/lib/python3.12/site-packages/ipykernel/zmqshell.py\", line 549, in run_cell\n",
      "    return super().run_cell(*args, **kwargs)\n",
      "  File \"/Users/giofelekis/opt/anaconda3/envs/erica/lib/python3.12/site-packages/IPython/core/interactiveshell.py\", line 3075, in run_cell\n",
      "    result = self._run_cell(\n",
      "  File \"/Users/giofelekis/opt/anaconda3/envs/erica/lib/python3.12/site-packages/IPython/core/interactiveshell.py\", line 3130, in _run_cell\n",
      "    result = runner(coro)\n",
      "  File \"/Users/giofelekis/opt/anaconda3/envs/erica/lib/python3.12/site-packages/IPython/core/async_helpers.py\", line 128, in _pseudo_sync_runner\n",
      "    coro.send(None)\n",
      "  File \"/Users/giofelekis/opt/anaconda3/envs/erica/lib/python3.12/site-packages/IPython/core/interactiveshell.py\", line 3334, in run_cell_async\n",
      "    has_raised = await self.run_ast_nodes(code_ast.body, cell_name,\n",
      "  File \"/Users/giofelekis/opt/anaconda3/envs/erica/lib/python3.12/site-packages/IPython/core/interactiveshell.py\", line 3517, in run_ast_nodes\n",
      "    if await self.run_code(code, result, async_=asy):\n",
      "  File \"/Users/giofelekis/opt/anaconda3/envs/erica/lib/python3.12/site-packages/IPython/core/interactiveshell.py\", line 3577, in run_code\n",
      "    exec(code_obj, self.user_global_ns, self.user_ns)\n",
      "  File \"/var/folders/vn/9swzhgj513q7n9gd_4vsbd840000gn/T/ipykernel_11454/3926471469.py\", line 3, in <module>\n",
      "    from src.CBN import CausalBayesianNetwork as CBN\n",
      "  File \"/Users/giofelekis/Desktop/ERiCA/src/CBN.py\", line 4, in <module>\n",
      "    from pgmpy.models import BayesianNetwork\n",
      "  File \"/Users/giofelekis/opt/anaconda3/envs/erica/lib/python3.12/site-packages/pgmpy/__init__.py\", line 1, in <module>\n",
      "    from .global_vars import config\n",
      "  File \"/Users/giofelekis/opt/anaconda3/envs/erica/lib/python3.12/site-packages/pgmpy/global_vars.py\", line 4, in <module>\n",
      "    import torch\n",
      "  File \"/Users/giofelekis/opt/anaconda3/envs/erica/lib/python3.12/site-packages/torch/__init__.py\", line 1477, in <module>\n",
      "    from .functional import *  # noqa: F403\n",
      "  File \"/Users/giofelekis/opt/anaconda3/envs/erica/lib/python3.12/site-packages/torch/functional.py\", line 9, in <module>\n",
      "    import torch.nn.functional as F\n",
      "  File \"/Users/giofelekis/opt/anaconda3/envs/erica/lib/python3.12/site-packages/torch/nn/__init__.py\", line 1, in <module>\n",
      "    from .modules import *  # noqa: F403\n",
      "  File \"/Users/giofelekis/opt/anaconda3/envs/erica/lib/python3.12/site-packages/torch/nn/modules/__init__.py\", line 35, in <module>\n",
      "    from .transformer import TransformerEncoder, TransformerDecoder, \\\n",
      "  File \"/Users/giofelekis/opt/anaconda3/envs/erica/lib/python3.12/site-packages/torch/nn/modules/transformer.py\", line 20, in <module>\n",
      "    device: torch.device = torch.device(torch._C._get_default_device()),  # torch.device('cpu'),\n",
      "/Users/giofelekis/opt/anaconda3/envs/erica/lib/python3.12/site-packages/torch/nn/modules/transformer.py:20: UserWarning: Failed to initialize NumPy: _ARRAY_API not found (Triggered internally at /Users/runner/work/pytorch/pytorch/pytorch/torch/csrc/utils/tensor_numpy.cpp:84.)\n",
      "  device: torch.device = torch.device(torch._C._get_default_device()),  # torch.device('cpu'),\n"
     ]
    }
   ],
   "source": [
    "import numpy as np\n",
    "\n",
    "from src.CBN import CausalBayesianNetwork as CBN\n",
    "import modularised_utils as mut\n",
    "import Linear_Additive_Noise_Models as lanm\n",
    "import operations as ops\n",
    "\n",
    "from scipy.stats import wasserstein_distance_nd\n",
    "\n",
    "import params\n",
    "\n",
    "np.random.seed(0)"
   ]
  },
  {
   "cell_type": "code",
   "execution_count": 2,
   "id": "5279c89f",
   "metadata": {},
   "outputs": [],
   "source": [
    "experiment = 'synth1_gnd'"
   ]
  },
  {
   "cell_type": "code",
   "execution_count": 3,
   "id": "69768f17",
   "metadata": {},
   "outputs": [],
   "source": [
    "# import subprocess\n",
    "# subprocess.run(['python', 'params.py'])"
   ]
  },
  {
   "cell_type": "code",
   "execution_count": 4,
   "id": "21bf6a8e",
   "metadata": {},
   "outputs": [],
   "source": [
    "# Define the radius of the Wasserstein balls (epsilon, delta) and the size for both models.\n",
    "epsilon         = params.radius[experiment][0]\n",
    "ll_num_envs     = params.n_envs[experiment][0]\n",
    "\n",
    "delta           = params.radius[experiment][1]\n",
    "hl_num_envs     = params.n_envs[experiment][1]\n",
    "\n",
    "# Define the number of samples per environment. Currently every environment has the same number of samples\n",
    "num_llsamples   = params.n_samples[experiment][0]\n",
    "num_hlsamples   = params.n_samples[experiment][1]"
   ]
  },
  {
   "cell_type": "code",
   "execution_count": 5,
   "id": "01341509",
   "metadata": {},
   "outputs": [],
   "source": [
    "Dll = mut.load_samples(experiment)[None][0]\n",
    "Gll = mut.load_ll_model(experiment)[0]\n",
    "Ill = mut.load_ll_model(experiment)[1]\n",
    "\n",
    "\n",
    "Dhl = mut.load_samples(experiment)[None][1]\n",
    "Ghl = mut.load_hl_model(experiment)[0]\n",
    "Ihl = mut.load_hl_model(experiment)[1]\n",
    "\n",
    "omega = mut.load_omega_map(experiment)\n",
    "\n",
    "num_llvars      = Dll.shape[1]\n",
    "num_hlvars      = Dhl.shape[1]"
   ]
  },
  {
   "cell_type": "code",
   "execution_count": 10,
   "id": "16fef938",
   "metadata": {},
   "outputs": [],
   "source": [
    "ll_coeffs = mut.get_mle_coefficients_gmm(Dll, Gll, weights=None, n_components=num_llvars)\n",
    "hl_coeffs = mut.get_mle_coefficients_gmm(Dhl, Ghl, weights=None, n_components=num_hlvars)"
   ]
  },
  {
   "cell_type": "code",
   "execution_count": 11,
   "id": "966329bd",
   "metadata": {},
   "outputs": [],
   "source": [
    "U_ll_hat, mu_U_ll_hat, Sigma_U_ll_hat = mut.lan_abduction(Dll, Gll, ll_coeffs)\n",
    "U_hl_hat, mu_U_hl_hat, Sigma_U_hl_hat = mut.lan_abduction(Dhl, Ghl, hl_coeffs)\n",
    "\n",
    "A_ll = mut.generate_perturbed_datasets(D = U_ll_hat, bound = epsilon, num_envs = ll_num_envs) #Low-level: A_epsilon\n",
    "A_hl = mut.generate_perturbed_datasets(D = U_hl_hat, bound = delta, num_envs = hl_num_envs) #High-level A_delta"
   ]
  },
  {
   "cell_type": "code",
   "execution_count": 19,
   "id": "3cb6807b",
   "metadata": {},
   "outputs": [
    {
     "name": "stdout",
     "output_type": "stream",
     "text": [
      "Wasserstein distance: 0.4651247987640955\n"
     ]
    }
   ],
   "source": [
    "import numpy as np\n",
    "from scipy.stats import wasserstein_distance_nd\n",
    "\n",
    "# Sample matrices\n",
    "matrix1 = np.array([[-0.55136366,  2.25774711, -0.86015407],\n",
    "                    [ 0.61503798,  1.77686484, -1.14240173],\n",
    "                    [ 0.4236548 ,  2.36859825, -1.01963526],\n",
    "                    [ 0.16244389,  2.43970299, -0.1532324 ],\n",
    "                    [-0.01409638,  1.35641781, -2.70307514],\n",
    "                    [ 0.4121921 ,  2.12690513, -3.19979686]])\n",
    "\n",
    "matrix2 = np.array([[-0.40278489,  2.42774661, -1.27318467],\n",
    "                    [ 0.52018708,  2.03810244, -1.23559032],\n",
    "                    [ 0.46968178,  2.5194733 , -1.09609204],\n",
    "                    [ 0.10345296,  2.00214177, -0.52794575],\n",
    "                    [ 0.31595855,  1.36514995, -2.49965091],\n",
    "                    [-0.17957056,  2.65735194, -3.58858962]])\n",
    "\n",
    "# Compute Wasserstein distance between the two multivariate distributions\n",
    "distance = wasserstein_distance_nd(matrix1, matrix2)\n",
    "\n",
    "print(f\"Wasserstein distance: {distance}\")\n"
   ]
  },
  {
   "cell_type": "code",
   "execution_count": 12,
   "id": "d672984f",
   "metadata": {},
   "outputs": [],
   "source": [
    "LLmodels = {}\n",
    "for iota in Ill:\n",
    "    LLmodels[iota] = lanm.LinearAddSCM(Gll, ll_coeffs, iota)\n",
    "    \n",
    "HLmodels, Dhl_samples = {}, {}\n",
    "for eta in Ihl:\n",
    "    HLmodels[eta] = lanm.LinearAddSCM(Ghl, hl_coeffs, eta)"
   ]
  },
  {
   "cell_type": "code",
   "execution_count": 22,
   "id": "d7df312e",
   "metadata": {},
   "outputs": [
    {
     "name": "stdout",
     "output_type": "stream",
     "text": [
      "115.78577543617266 \n",
      "\n",
      "119.11496379782378 \n",
      "\n",
      "115.78577543617266 \n",
      "\n",
      "115.78577543617266 \n",
      "\n",
      "119.11496379782378 \n",
      "\n",
      "119.11496379782378 \n",
      "\n",
      "119.11506138389129 \n",
      "\n",
      "127.95031670149393 \n",
      "\n",
      "119.11506138389129 \n",
      "\n",
      "119.11506138389129 \n",
      "\n",
      "127.95031670149393 \n",
      "\n",
      "127.95031670149393 \n",
      "\n",
      "117.88659157284552 \n",
      "\n",
      "127.31904052360852 \n",
      "\n",
      "117.88659157284552 \n",
      "\n",
      "117.88659157284552 \n",
      "\n",
      "127.31904052360852 \n",
      "\n",
      "127.31904052360852 \n",
      "\n",
      "158.31560168930432 \n",
      "\n",
      "171.14041950368699 \n",
      "\n",
      "158.31560168930432 \n",
      "\n",
      "158.31560168930432 \n",
      "\n",
      "171.14041950368699 \n",
      "\n",
      "171.14041950368699 \n",
      "\n",
      "134.20801254736693 \n",
      "\n",
      "140.6445898831946 \n",
      "\n",
      "134.20801254736693 \n",
      "\n",
      "134.20801254736693 \n",
      "\n",
      "140.6445898831946 \n",
      "\n",
      "140.6445898831946 \n",
      "\n",
      "149.43885239259959 \n",
      "\n",
      "148.80733450633352 \n",
      "\n",
      "149.43885239259959 \n",
      "\n",
      "149.43885239259959 \n",
      "\n",
      "148.80733450633352 \n",
      "\n",
      "148.80733450633352 \n",
      "\n"
     ]
    }
   ],
   "source": [
    "abstraction_errors             = {}\n",
    "abstraction_env_errors         = {}\n",
    "max_env_avg_interv_error_value = -np.inf\n",
    "max_env_avg_interv_error_key   = None\n",
    "\n",
    "for lenv in A_ll:\n",
    "    for henv in A_hl:\n",
    "        total_ui_error = 0\n",
    "        num_distros    = len(Ill)\n",
    "\n",
    "        T  = mut.sample_stoch_matrix(num_hlvars, num_llvars) # sample the abstraction map/matrix\n",
    "\n",
    "        for iota in Ill:\n",
    "            llcm   = LLmodels[iota]\n",
    "            hlcm   = HLmodels[omega[iota]]\n",
    "            llmech = llcm.compute_mechanism()\n",
    "            hlmech = hlcm.compute_mechanism()\n",
    "\n",
    "            lefthh = T @ (llmech @ lenv.T)\n",
    "            righthh = hlmech @ henv.T\n",
    "            #print(rig)\n",
    "            error = wasserstein_distance_nd(lefthh, righthh)\n",
    "            #error = mut.mat_jsd_distance(T@(llmech @ lenv.T), hlmech @ henv.T)\n",
    "            #error = mut.mat_ot_wasserstein_distance(T@(llmech @ lenv.T), hlmech @ henv.T)\n",
    "            #error  = mut.mat_wasserstein_distance(T@(llmech @ lenv.T), hlmech @ henv.T)\n",
    "            \n",
    "            #print(error,'\\n')\n",
    "            total_ui_error += error\n",
    "\n",
    "        avg_interv_error = total_ui_error/num_distros\n",
    "\n",
    "        if avg_interv_error > max_env_avg_interv_error_value:\n",
    "            max_env_avg_interv_error_value = avg_interv_error\n",
    "            max_env_avg_interv_error_key   = (lenv, henv)\n",
    "\n",
    "        abstraction_errors[str(T)] = avg_interv_error\n",
    "        #abstraction_env_errors['ll: '+str(ll_environment.means_)+' hl: '+str(hl_environment.means_)] = avg_interv_error"
   ]
  },
  {
   "cell_type": "code",
   "execution_count": 26,
   "id": "d2b67fab",
   "metadata": {},
   "outputs": [
    {
     "data": {
      "text/plain": [
       "148.80733450633352"
      ]
     },
     "execution_count": 26,
     "metadata": {},
     "output_type": "execute_result"
    }
   ],
   "source": [
    "wasserstein_distance_nd(lefthh, righthh)"
   ]
  },
  {
   "cell_type": "code",
   "execution_count": 25,
   "id": "454cdebc",
   "metadata": {},
   "outputs": [
    {
     "data": {
      "text/plain": [
       "array([[-0.22146015, -1.20012052, -0.6699651 , ...,  0.47964543,\n",
       "        -2.02497188, -2.52262913],\n",
       "       [ 0.80358858,  0.42939909,  1.22193065, ...,  0.72460522,\n",
       "         0.18299241,  0.3622289 ]])"
      ]
     },
     "execution_count": 25,
     "metadata": {},
     "output_type": "execute_result"
    }
   ],
   "source": []
  },
  {
   "cell_type": "code",
   "execution_count": 21,
   "id": "f54595c5",
   "metadata": {},
   "outputs": [
    {
     "name": "stdout",
     "output_type": "stream",
     "text": [
      "Abstraction: [[0.19189168 0.13796931 0.67013901]\n",
      " [0.19350908 0.44310058 0.36339034]], Error: 146.88174146110885\n"
     ]
    }
   ],
   "source": [
    "max_tau   = max(abstraction_errors, key=abstraction_errors.get)\n",
    "max_error = abstraction_errors[max_tau]\n",
    "\n",
    "print(f\"Abstraction: {max_tau}, Error: {max_error}\")\n",
    "max_lenv = max_env_avg_interv_error_key[0]\n",
    "max_henv = max_env_avg_interv_error_key[1]"
   ]
  },
  {
   "cell_type": "code",
   "execution_count": null,
   "id": "c5cea163",
   "metadata": {},
   "outputs": [],
   "source": []
  }
 ],
 "metadata": {
  "kernelspec": {
   "display_name": "Python 3 (ipykernel)",
   "language": "python",
   "name": "python3"
  },
  "language_info": {
   "codemirror_mode": {
    "name": "ipython",
    "version": 3
   },
   "file_extension": ".py",
   "mimetype": "text/x-python",
   "name": "python",
   "nbconvert_exporter": "python",
   "pygments_lexer": "ipython3",
   "version": "3.12.5"
  }
 },
 "nbformat": 4,
 "nbformat_minor": 5
}
