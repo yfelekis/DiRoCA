{
 "cells": [
  {
   "cell_type": "code",
   "execution_count": 1,
   "id": "a28ac6f7",
   "metadata": {},
   "outputs": [
    {
     "name": "stdout",
     "output_type": "stream",
     "text": [
      "[KeOps] Warning : CUDA libraries not found or could not be loaded; Switching to CPU only.\n"
     ]
    }
   ],
   "source": [
    "import numpy as np\n",
    "import torch\n",
    "import joblib\n",
    "import matplotlib.pyplot as plt\n",
    "from tqdm import tqdm\n",
    "import seaborn as sns\n",
    "from sklearn.model_selection import train_test_split\n",
    "\n",
    "import modularised_utils as mut\n",
    "import opt_utils as oput \n",
    "import evaluation_utils as evut\n",
    "import Linear_Additive_Noise_Models as lanm\n",
    "import params\n",
    "import random"
   ]
  },
  {
   "cell_type": "markdown",
   "id": "e651d550",
   "metadata": {},
   "source": [
    "# Experiments set-up"
   ]
  },
  {
   "cell_type": "code",
   "execution_count": 21,
   "id": "677de9ef",
   "metadata": {},
   "outputs": [],
   "source": [
    "experiment       = 'lucas6x3' # or 'lucas6x3'\n",
    "coeff_estimation = False #assumes knowledge of the structural functions when set to False\n",
    "\n",
    "num_llsamples, num_hlsamples  = params.n_samples[experiment]"
   ]
  },
  {
   "cell_type": "code",
   "execution_count": null,
   "id": "6ccf37e0",
   "metadata": {},
   "outputs": [],
   "source": [
    "Dll_obs  = mut.load_samples(experiment)[None][0] \n",
    "Gll, Ill = mut.load_model(experiment, 'LL')\n",
    "n_varsll = len(Gll.nodes())\n",
    "\n",
    "Dhl_obs  = mut.load_samples(experiment)[None][1] \n",
    "Ghl, Ihl = mut.load_model(experiment, 'HL')\n",
    "n_varshl = len(Ghl.nodes())\n",
    "\n",
    "omega    = mut.load_omega_map(experiment)\n",
    "\n",
    "test_size = 0.1\n",
    "\n",
    "Dll_obs, Dll_obs_test = train_test_split(Dll_obs, test_size=test_size, random_state=42)\n",
    "Dhl_obs, Dhl_obs_test = train_test_split(Dhl_obs, test_size=test_size, random_state=42)\n",
    "\n",
    "joblib.dump(Dll_obs_test, f\"data/{experiment}/Dll_obs_test.pkl\")\n",
    "joblib.dump(Dhl_obs_test, f\"data/{experiment}/Dhl_obs_test.pkl\")"
   ]
  },
  {
   "cell_type": "code",
   "execution_count": 23,
   "id": "b9fb9e92",
   "metadata": {},
   "outputs": [],
   "source": [
    "if coeff_estimation == True:\n",
    "    ll_coeffs = mut.get_coefficients(Dll_obs, Gll)\n",
    "    hl_coeffs = mut.get_coefficients(Dhl_obs, Ghl) \n",
    "else:\n",
    "    ll_coeffs = mut.load_coeffs(experiment, 'LL')\n",
    "    hl_coeffs = mut.load_coeffs(experiment, 'HL')\n",
    "\n",
    "U_ll_hat, mu_U_ll_hat, Sigma_U_ll_hat = mut.lan_abduction(Dll_obs, Gll, ll_coeffs)\n",
    "U_hl_hat, mu_U_hl_hat, Sigma_U_hl_hat = mut.lan_abduction(Dhl_obs, Ghl, hl_coeffs)\n",
    "\n",
    "LLmodels = {}\n",
    "for iota in Ill:\n",
    "    LLmodels[iota] = lanm.LinearAddSCM(Gll, ll_coeffs, iota)\n",
    "    \n",
    "HLmodels = {}\n",
    "for eta in Ihl:\n",
    "    HLmodels[eta] = lanm.LinearAddSCM(Ghl, hl_coeffs, eta)"
   ]
  },
  {
   "cell_type": "code",
   "execution_count": null,
   "id": "aac61576",
   "metadata": {},
   "outputs": [],
   "source": [
    "joblib.dump(LLmodels, f\"data/{experiment}/LLmodels.pkl\")\n",
    "joblib.dump(HLmodels, f\"data/{experiment}/HLmodels.pkl\")"
   ]
  },
  {
   "cell_type": "markdown",
   "id": "92881a41",
   "metadata": {},
   "source": [
    "# Optimization"
   ]
  },
  {
   "cell_type": "markdown",
   "id": "a5c1047b",
   "metadata": {},
   "source": [
    "### Diroca_e,d optimization"
   ]
  },
  {
   "cell_type": "code",
   "execution_count": null,
   "id": "09e63c29",
   "metadata": {},
   "outputs": [],
   "source": [
    "ll_bound = round(mut.compute_radius_lb(N=num_llsamples, eta=0.05, c=1000), 3)\n",
    "hl_bound = round(mut.compute_radius_lb(N=num_hlsamples, eta=0.05, c=1000), 3)\n",
    "\n",
    "print(f\"LL bound: {ll_bound}, HL bound: {hl_bound}\") #robustness paramters provided by the theorem"
   ]
  },
  {
   "cell_type": "code",
   "execution_count": 26,
   "id": "e7182b76",
   "metadata": {},
   "outputs": [],
   "source": [
    "theta_hatL   = {'mu_U': mu_U_ll_hat, 'Sigma_U': Sigma_U_ll_hat, 'radius': ll_bound} #epsilonL\n",
    "theta_hatH   = {'mu_U': mu_U_hl_hat, 'Sigma_U': Sigma_U_hl_hat, 'radius': hl_bound} #epsilonH\n",
    "\n",
    "lambda_L = .6 \n",
    "\n",
    "lambda_H = .3 \n",
    "\n",
    "lambda_param_L = .2 \n",
    "lambda_param_H = .1 \n",
    "\n",
    "xavier = False\n",
    "project_onto_gelbrich = True\n",
    "\n",
    "eta_max = 0.001\n",
    "eta_min = 0.001\n",
    "\n",
    "max_iter = 1000\n",
    "num_steps_min = 5\n",
    "num_steps_max = 2\n",
    "\n",
    "robust_L = True \n",
    "robust_H = True\n",
    "\n",
    "proximal_grad = True\n",
    "\n",
    "tol = 1e-4\n",
    "grad_clip = True\n",
    "\n",
    "seed = 23\n",
    "\n",
    "plot_steps = False\n",
    "plot_epochs = False\n",
    "display_results = False"
   ]
  },
  {
   "cell_type": "code",
   "execution_count": 27,
   "id": "d1544367",
   "metadata": {},
   "outputs": [],
   "source": [
    "opt_params_erica =  {\n",
    "                        'theta_hatL': theta_hatL,\n",
    "                        'theta_hatH': theta_hatH,\n",
    "                        'initial_theta': 'empirical',\n",
    "                        'LLmodels': LLmodels,\n",
    "                        'HLmodels': HLmodels,\n",
    "                        'omega': omega,\n",
    "                        'lambda_L': lambda_L,\n",
    "                        'lambda_H': lambda_H,\n",
    "                        'lambda_param_L': lambda_param_L,\n",
    "                        'lambda_param_H': lambda_param_H,\n",
    "                        'xavier': xavier, \n",
    "                        'project_onto_gelbrich': project_onto_gelbrich, \n",
    "                        'eta_max': eta_max,\n",
    "                        'eta_min': eta_min,\n",
    "                        'max_iter': max_iter,\n",
    "                        'num_steps_min': num_steps_min,\n",
    "                        'num_steps_max': num_steps_max,\n",
    "                        'proximal_grad': proximal_grad,\n",
    "                        'tol': tol,\n",
    "                        'seed': seed,\n",
    "                        'robust_L': robust_L,\n",
    "                        'robust_H': robust_H,\n",
    "                        'grad_clip': grad_clip,\n",
    "                        'plot_steps': plot_steps,\n",
    "                        'plot_epochs': plot_epochs,\n",
    "                        'display_results': display_results,\n",
    "                        'experiment': experiment\n",
    "                    }"
   ]
  },
  {
   "cell_type": "code",
   "execution_count": null,
   "id": "f34e3e9d",
   "metadata": {},
   "outputs": [],
   "source": [
    "eps_delta_values     = [8, ll_bound, 1, 2, 4]\n",
    "diroca_train_results = {}\n",
    "\n",
    "for eps_delta in eps_delta_values:\n",
    "    print(f\"Training for ε=δ = {eps_delta}\")\n",
    "\n",
    "    # Update theta parameters\n",
    "    opt_params_erica['theta_hatL']['radius'] = eps_delta\n",
    "    opt_params_erica['theta_hatH']['radius'] = eps_delta\n",
    "    \n",
    "    # Run DIROCA optimization\n",
    "    params_erica_prox, T_erica_prox = oput.run_erica_optimization(**opt_params_erica)\n",
    "    \n",
    "    diroca_train_results['T_'+str(eps_delta)] = {\n",
    "                                                    'optimization_params': params_erica_prox,\n",
    "                                                    'T_matrix': T_erica_prox\n",
    "                                                }\n",
    "\n",
    "print(\"\\nTraining completed.\")\n",
    "print(\"Available ε=δ values:\", list(diroca_train_results.keys()))"
   ]
  },
  {
   "cell_type": "markdown",
   "id": "677a5bbf",
   "metadata": {},
   "source": [
    "### 2. GRADCA optimization"
   ]
  },
  {
   "cell_type": "code",
   "execution_count": null,
   "id": "943088ab",
   "metadata": {},
   "outputs": [],
   "source": [
    "params_Lenrico, T_enrico = oput.run_erica_optimization(**{**opt_params_erica, 'robust_L': False, 'robust_H': False})"
   ]
  },
  {
   "cell_type": "code",
   "execution_count": 30,
   "id": "ac0196be",
   "metadata": {},
   "outputs": [],
   "source": [
    "diroca_train_results['T_0.00'] = {\n",
    "                                'optimization_params': params_Lenrico,\n",
    "                                'T_matrix': T_enrico\n",
    "                            }"
   ]
  },
  {
   "cell_type": "markdown",
   "id": "48b55cd2",
   "metadata": {},
   "source": [
    "### 3. BARYCA optimization"
   ]
  },
  {
   "cell_type": "code",
   "execution_count": 31,
   "id": "fa744410",
   "metadata": {},
   "outputs": [],
   "source": [
    "projection_method = 'svd'\n",
    "initialization = 'avg'\n",
    "autograd = False\n",
    "seed = seed\n",
    "max_iter = max_iter\n",
    "tol = tol\n",
    "display_results = False"
   ]
  },
  {
   "cell_type": "code",
   "execution_count": 32,
   "id": "32f0d486",
   "metadata": {},
   "outputs": [],
   "source": [
    "opt_params_bary =  {\n",
    "                    'theta_L': theta_hatL,\n",
    "                    'theta_H': theta_hatH,\n",
    "                    'LLmodels': LLmodels,\n",
    "                    'HLmodels': HLmodels,\n",
    "                    'Ill': Ill,\n",
    "                    'Ihl': Ihl,\n",
    "                    'projection_method': projection_method,\n",
    "                    'initialization': initialization,\n",
    "                    'autograd': autograd,\n",
    "                    'seed': seed,\n",
    "                    'max_iter': max_iter,\n",
    "                    'tol': tol,\n",
    "                    'display_results': display_results\n",
    "                    }"
   ]
  },
  {
   "cell_type": "code",
   "execution_count": 33,
   "id": "0e79d55a",
   "metadata": {},
   "outputs": [],
   "source": [
    "params_bary, T_bary = oput.barycentric_optimization(**opt_params_bary)"
   ]
  },
  {
   "cell_type": "code",
   "execution_count": 34,
   "id": "f2440b2e",
   "metadata": {},
   "outputs": [],
   "source": [
    "diroca_train_results['T_b'] = {\n",
    "                                'optimization_params': params_bary,\n",
    "                                'T_matrix': T_bary\n",
    "                            }"
   ]
  },
  {
   "cell_type": "markdown",
   "id": "1b33ae00",
   "metadata": {},
   "source": [
    "### 5. RSCA optimization"
   ]
  },
  {
   "cell_type": "code",
   "execution_count": 35,
   "id": "900d5135",
   "metadata": {},
   "outputs": [],
   "source": [
    "opt_params_smooth = {\n",
    "                        'theta_hatL': theta_hatL,\n",
    "                        'theta_hatH': theta_hatH,\n",
    "                        'LLmodels': LLmodels,\n",
    "                        'HLmodels': HLmodels,\n",
    "                        'Ill': Ill,\n",
    "                        'omega': omega,\n",
    "                        'xavier': xavier,\n",
    "                        'project_onto_gelbrich': project_onto_gelbrich,\n",
    "                        'eta_min': eta_min,\n",
    "                        'max_iter': 300,\n",
    "                        'noise_sigma': 0.1,\n",
    "                        'num_samples': 10,\n",
    "                        'tol': tol,\n",
    "                        'seed': seed\n",
    "                    }"
   ]
  },
  {
   "cell_type": "code",
   "execution_count": null,
   "id": "7be4fd84",
   "metadata": {},
   "outputs": [],
   "source": [
    "T_smooth = oput.random_smoothing_optimization(**opt_params_smooth)"
   ]
  },
  {
   "cell_type": "code",
   "execution_count": 37,
   "id": "2ddc2178",
   "metadata": {},
   "outputs": [],
   "source": [
    "params_smooth, T_smooth = T_smooth"
   ]
  },
  {
   "cell_type": "code",
   "execution_count": 38,
   "id": "f4b5fa12",
   "metadata": {},
   "outputs": [],
   "source": [
    "diroca_train_results['T_s'] = {\n",
    "                                'optimization_params': params_smooth,\n",
    "                                'T_matrix': T_smooth\n",
    "                            }"
   ]
  },
  {
   "cell_type": "markdown",
   "id": "b8711745",
   "metadata": {},
   "source": [
    "## Save the results"
   ]
  },
  {
   "cell_type": "code",
   "execution_count": null,
   "id": "bec63215",
   "metadata": {},
   "outputs": [],
   "source": [
    "joblib.dump(diroca_train_results, f\"data/{experiment}/diroca_train_results.pkl\")"
   ]
  },
  {
   "cell_type": "code",
   "execution_count": null,
   "id": "55b07484",
   "metadata": {},
   "outputs": [],
   "source": []
  }
 ],
 "metadata": {
  "kernelspec": {
   "display_name": "erica",
   "language": "python",
   "name": "python3"
  },
  "language_info": {
   "codemirror_mode": {
    "name": "ipython",
    "version": 3
   },
   "file_extension": ".py",
   "mimetype": "text/x-python",
   "name": "python",
   "nbconvert_exporter": "python",
   "pygments_lexer": "ipython3",
   "version": "3.12.5"
  }
 },
 "nbformat": 4,
 "nbformat_minor": 5
}
