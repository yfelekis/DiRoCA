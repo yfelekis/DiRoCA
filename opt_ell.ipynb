{
 "cells": [
  {
   "cell_type": "code",
   "execution_count": 1,
   "id": "a28ac6f7",
   "metadata": {},
   "outputs": [
    {
     "name": "stdout",
     "output_type": "stream",
     "text": [
      "[KeOps] Warning : CUDA libraries not found or could not be loaded; Switching to CPU only.\n"
     ]
    }
   ],
   "source": [
    "import numpy as np\n",
    "import torch\n",
    "import joblib\n",
    "import matplotlib.pyplot as plt\n",
    "from tqdm import tqdm\n",
    "import seaborn as sns\n",
    "\n",
    "# Local modules\n",
    "import modularised_utils as mut\n",
    "import opt_utils as oput \n",
    "import evaluation_utils as evut\n",
    "import Linear_Additive_Noise_Models as lanm\n",
    "import params\n",
    "import random"
   ]
  },
  {
   "cell_type": "markdown",
   "id": "e651d550",
   "metadata": {},
   "source": [
    "# Experiments set-up"
   ]
  },
  {
   "cell_type": "code",
   "execution_count": 2,
   "id": "677de9ef",
   "metadata": {},
   "outputs": [],
   "source": [
    "experiment       = 'synth1'\n",
    "#abduction       = False\n",
    "coeff_estimation = False\n",
    "\n",
    "# Define the number of samples per environment. Currently every environment has the same number of samples\n",
    "if experiment == 'synth1' or experiment == 'synth1.1' or experiment == 'synth1.2':\n",
    "    num_llsamples, num_hlsamples  = params.n_samples['synth1']\n",
    "if experiment == 'lucas6x3' or experiment == 'lucas6x3.1' or experiment == 'lucas6x3.2':\n",
    "    num_llsamples, num_hlsamples  = params.n_samples['lucas6x3']\n"
   ]
  },
  {
   "cell_type": "code",
   "execution_count": 3,
   "id": "6ccf37e0",
   "metadata": {},
   "outputs": [],
   "source": [
    "Dll_obs  = mut.load_samples(experiment)[None][0] \n",
    "Gll, Ill = mut.load_model(experiment, 'LL')\n",
    "n_varsll = len(Gll.nodes())\n",
    "\n",
    "Dhl_obs  = mut.load_samples(experiment)[None][1] \n",
    "Ghl, Ihl = mut.load_model(experiment, 'HL')\n",
    "n_varshl = len(Ghl.nodes())\n",
    "\n",
    "omega    = mut.load_omega_map(experiment)"
   ]
  },
  {
   "cell_type": "code",
   "execution_count": 4,
   "id": "b9fb9e92",
   "metadata": {},
   "outputs": [],
   "source": [
    "if coeff_estimation == True:\n",
    "    ll_coeffs = mut.get_coefficients(Dll_obs, Gll)\n",
    "    hl_coeffs = mut.get_coefficients(Dhl_obs, Ghl) \n",
    "else:\n",
    "    ll_coeffs = mut.load_coeffs(experiment, 'LL')\n",
    "    hl_coeffs = mut.load_coeffs(experiment, 'HL')\n",
    "\n",
    "U_ll_hat, mu_U_ll_hat, Sigma_U_ll_hat = mut.lan_abduction(Dll_obs, Gll, ll_coeffs)\n",
    "U_hl_hat, mu_U_hl_hat, Sigma_U_hl_hat = mut.lan_abduction(Dhl_obs, Ghl, hl_coeffs)\n",
    "# if abduction == True:\n",
    "#     U_ll_hat, mu_U_ll_hat, Sigma_U_ll_hat = mut.lan_abduction(Dll_obs, Gll, ll_coeffs)\n",
    "#     U_hl_hat, mu_U_hl_hat, Sigma_U_hl_hat = mut.lan_abduction(Dhl_obs, Ghl, hl_coeffs)\n",
    "# else:\n",
    "#     U_ll_hat, mu_U_ll_hat, Sigma_U_ll_hat = mut.load_exogenous(experiment, 'LL')\n",
    "#     U_hl_hat, mu_U_hl_hat, Sigma_U_hl_hat = mut.load_exogenous(experiment, 'HL')"
   ]
  },
  {
   "cell_type": "code",
   "execution_count": 5,
   "id": "53e18c8a",
   "metadata": {},
   "outputs": [],
   "source": [
    "LLmodels = {}\n",
    "for iota in Ill:\n",
    "    LLmodels[iota] = lanm.LinearAddSCM(Gll, ll_coeffs, iota)\n",
    "    \n",
    "HLmodels = {}\n",
    "for eta in Ihl:\n",
    "    HLmodels[eta] = lanm.LinearAddSCM(Ghl, hl_coeffs, eta)"
   ]
  },
  {
   "cell_type": "markdown",
   "id": "92881a41",
   "metadata": {},
   "source": [
    "# Optimization"
   ]
  },
  {
   "cell_type": "markdown",
   "id": "a5c1047b",
   "metadata": {},
   "source": [
    "### Diroca_e,d optimization"
   ]
  },
  {
   "cell_type": "code",
   "execution_count": 6,
   "id": "09e63c29",
   "metadata": {},
   "outputs": [
    {
     "name": "stdout",
     "output_type": "stream",
     "text": [
      "LL bound: 0.031, HL bound: 0.031\n"
     ]
    }
   ],
   "source": [
    "ll_bound = round(mut.compute_radius_lb(N=num_llsamples, eta=0.05, c=1000), 3)\n",
    "hl_bound = round(mut.compute_radius_lb(N=num_hlsamples, eta=0.05, c=1000), 3)\n",
    "\n",
    "print(f\"LL bound: {ll_bound}, HL bound: {hl_bound}\")"
   ]
  },
  {
   "cell_type": "code",
   "execution_count": 7,
   "id": "e7182b76",
   "metadata": {},
   "outputs": [],
   "source": [
    "theta_hatL   = {'mu_U': mu_U_ll_hat, 'Sigma_U': Sigma_U_ll_hat, 'radius': ll_bound} #epsilonL\n",
    "theta_hatH   = {'mu_U': mu_U_hl_hat, 'Sigma_U': Sigma_U_hl_hat, 'radius': hl_bound} #epsilonH\n",
    "\n",
    "lambda_L = .6 #.6 for synth1 and epsilon-robust luvas\n",
    "\n",
    "lambda_H = .3 #.3 for synth1 and epsilon-robust luvas\n",
    "\n",
    "lambda_param_L = .2 #.2 #.3 \n",
    "lambda_param_H = .1 #.1 #.3\n",
    "\n",
    "xavier = False\n",
    "project_onto_gelbrich = True\n",
    "\n",
    "eta_max = 0.001\n",
    "eta_min = 0.001\n",
    "\n",
    "max_iter = 1000\n",
    "num_steps_min = 5\n",
    "num_steps_max = 2\n",
    "\n",
    "robust_L = True \n",
    "robust_H = True\n",
    "\n",
    "proximal_grad = True\n",
    "\n",
    "tol = 1e-4\n",
    "grad_clip = True\n",
    "\n",
    "seed = 23\n",
    "\n",
    "plot_steps = False\n",
    "plot_epochs = False\n",
    "display_results = False"
   ]
  },
  {
   "cell_type": "code",
   "execution_count": 8,
   "id": "d1544367",
   "metadata": {},
   "outputs": [],
   "source": [
    "opt_params_erica =  {\n",
    "                        'theta_hatL': theta_hatL,\n",
    "                        'theta_hatH': theta_hatH,\n",
    "                        'initial_theta': 'empirical',\n",
    "                        'LLmodels': LLmodels,\n",
    "                        'HLmodels': HLmodels,\n",
    "                        'omega': omega,\n",
    "                        'lambda_L': lambda_L,\n",
    "                        'lambda_H': lambda_H,\n",
    "                        'lambda_param_L': lambda_param_L,\n",
    "                        'lambda_param_H': lambda_param_H,\n",
    "                        'xavier': xavier, \n",
    "                        'project_onto_gelbrich': project_onto_gelbrich, \n",
    "                        'eta_max': eta_max,\n",
    "                        'eta_min': eta_min,\n",
    "                        'max_iter': max_iter,\n",
    "                        'num_steps_min': num_steps_min,\n",
    "                        'num_steps_max': num_steps_max,\n",
    "                        'proximal_grad': proximal_grad,\n",
    "                        'tol': tol,\n",
    "                        'seed': seed,\n",
    "                        'robust_L': robust_L,\n",
    "                        'robust_H': robust_H,\n",
    "                        'grad_clip': grad_clip,\n",
    "                        'plot_steps': plot_steps,\n",
    "                        'plot_epochs': plot_epochs,\n",
    "                        'display_results': display_results,\n",
    "                        'experiment': experiment\n",
    "                    }"
   ]
  },
  {
   "cell_type": "code",
   "execution_count": 9,
   "id": "f34e3e9d",
   "metadata": {},
   "outputs": [
    {
     "name": "stdout",
     "output_type": "stream",
     "text": [
      "Training for ε=δ = 8\n"
     ]
    },
    {
     "name": "stderr",
     "output_type": "stream",
     "text": [
      " 27%|██▋       | 271/1000 [00:25<01:07, 10.79it/s]\n"
     ]
    },
    {
     "name": "stdout",
     "output_type": "stream",
     "text": [
      "Convergence reached at epoch 272 with objective 2.419301986694336\n",
      "Training for ε=δ = 0.031\n"
     ]
    },
    {
     "name": "stderr",
     "output_type": "stream",
     "text": [
      " 31%|███       | 307/1000 [00:27<01:01, 11.34it/s]\n"
     ]
    },
    {
     "name": "stdout",
     "output_type": "stream",
     "text": [
      "Convergence reached at epoch 308 with objective 0.015491485595703125\n",
      "Training for ε=δ = 1\n"
     ]
    },
    {
     "name": "stderr",
     "output_type": "stream",
     "text": [
      " 14%|█▍        | 139/1000 [00:11<01:13, 11.66it/s]\n"
     ]
    },
    {
     "name": "stdout",
     "output_type": "stream",
     "text": [
      "Convergence reached at epoch 140 with objective 0.00617218017578125\n",
      "Training for ε=δ = 2\n"
     ]
    },
    {
     "name": "stderr",
     "output_type": "stream",
     "text": [
      " 69%|██████▊   | 687/1000 [01:00<00:27, 11.31it/s]\n"
     ]
    },
    {
     "name": "stdout",
     "output_type": "stream",
     "text": [
      "Convergence reached at epoch 688 with objective 0.028204917907714844\n",
      "Training for ε=δ = 4\n"
     ]
    },
    {
     "name": "stderr",
     "output_type": "stream",
     "text": [
      " 27%|██▋       | 271/1000 [00:23<01:02, 11.67it/s]\n"
     ]
    },
    {
     "name": "stdout",
     "output_type": "stream",
     "text": [
      "Convergence reached at epoch 272 with objective 2.419301986694336\n",
      "\n",
      "Training completed. T matrices stored in trained_results dictionary.\n",
      "Available ε=δ values: ['T_8', 'T_0.031', 'T_1', 'T_2', 'T_4']\n"
     ]
    }
   ],
   "source": [
    "# Define different epsilon=delta values\n",
    "eps_delta_values     = [8, ll_bound, 1, 2, 4]\n",
    "diroca_train_results = {}\n",
    "\n",
    "# For each epsilon=delta value\n",
    "for eps_delta in eps_delta_values:\n",
    "    print(f\"Training for ε=δ = {eps_delta}\")\n",
    "    # Update theta parameters\n",
    "    opt_params_erica['theta_hatL']['radius'] = eps_delta\n",
    "    opt_params_erica['theta_hatH']['radius'] = eps_delta\n",
    "    \n",
    "    # Run ERICA optimization\n",
    "    params_erica_prox, T_erica_prox = oput.run_erica_optimization(**opt_params_erica)\n",
    "    \n",
    "    # Store results including optimization parameters and transformation matrix\n",
    "    diroca_train_results['T_'+str(eps_delta)] = {\n",
    "                                                    'optimization_params': params_erica_prox,\n",
    "                                                    'T_matrix': T_erica_prox\n",
    "                                                }\n",
    "\n",
    "print(\"\\nTraining completed. T matrices stored in trained_results dictionary.\")\n",
    "print(\"Available ε=δ values:\", list(diroca_train_results.keys()))\n",
    "\n"
   ]
  },
  {
   "cell_type": "markdown",
   "id": "677a5bbf",
   "metadata": {},
   "source": [
    "### 2. ENRiCO optimization"
   ]
  },
  {
   "cell_type": "code",
   "execution_count": 10,
   "id": "070f76d2",
   "metadata": {},
   "outputs": [],
   "source": [
    "# INCREASE max_iter"
   ]
  },
  {
   "cell_type": "code",
   "execution_count": 11,
   "id": "943088ab",
   "metadata": {},
   "outputs": [
    {
     "name": "stderr",
     "output_type": "stream",
     "text": [
      "100%|██████████| 1000/1000 [00:10<00:00, 96.15it/s]\n"
     ]
    }
   ],
   "source": [
    "params_Lenrico, T_enrico = oput.run_erica_optimization(**{**opt_params_erica, 'robust_L': False, 'robust_H': False})"
   ]
  },
  {
   "cell_type": "code",
   "execution_count": 12,
   "id": "ac0196be",
   "metadata": {},
   "outputs": [],
   "source": [
    "diroca_train_results['T_0.00'] = {\n",
    "                                'optimization_params': params_Lenrico,\n",
    "                                'T_matrix': T_enrico\n",
    "                            }"
   ]
  },
  {
   "cell_type": "markdown",
   "id": "48b55cd2",
   "metadata": {},
   "source": [
    "### 3. Barycentric optimization"
   ]
  },
  {
   "cell_type": "code",
   "execution_count": 13,
   "id": "fa744410",
   "metadata": {},
   "outputs": [],
   "source": [
    "projection_method = 'svd'\n",
    "initialization = 'avg'\n",
    "autograd = False\n",
    "seed = seed\n",
    "max_iter = max_iter\n",
    "tol = tol\n",
    "display_results = False"
   ]
  },
  {
   "cell_type": "code",
   "execution_count": 14,
   "id": "32f0d486",
   "metadata": {},
   "outputs": [],
   "source": [
    "opt_params_bary =  {\n",
    "                    'theta_L': theta_hatL,\n",
    "                    'theta_H': theta_hatH,\n",
    "                    'LLmodels': LLmodels,\n",
    "                    'HLmodels': HLmodels,\n",
    "                    'Ill': Ill,\n",
    "                    'Ihl': Ihl,\n",
    "                    'projection_method': projection_method,\n",
    "                    'initialization': initialization,\n",
    "                    'autograd': autograd,\n",
    "                    'seed': seed,\n",
    "                    'max_iter': max_iter,\n",
    "                    'tol': tol,\n",
    "                    'display_results': display_results\n",
    "                    }"
   ]
  },
  {
   "cell_type": "code",
   "execution_count": 15,
   "id": "0e79d55a",
   "metadata": {},
   "outputs": [],
   "source": [
    "# Monge method\n",
    "params_bary, T_bary = oput.barycentric_optimization(**opt_params_bary)\n",
    "\n",
    "# Autograd method\n",
    "params_bary_auto, T_bary_auto = oput.barycentric_optimization(**{**opt_params_bary, 'autograd': True})"
   ]
  },
  {
   "cell_type": "code",
   "execution_count": 16,
   "id": "f2440b2e",
   "metadata": {},
   "outputs": [],
   "source": [
    "diroca_train_results['T_b'] = {\n",
    "                                'optimization_params': params_bary,\n",
    "                                'T_matrix': T_bary\n",
    "                            }\n",
    "diroca_train_results['T_ba'] = {\n",
    "                                'optimization_params': params_bary_auto,\n",
    "                                'T_matrix': T_bary_auto\n",
    "                            }"
   ]
  },
  {
   "cell_type": "markdown",
   "id": "1b33ae00",
   "metadata": {},
   "source": [
    "### 5. Random Smoothing"
   ]
  },
  {
   "cell_type": "code",
   "execution_count": 30,
   "id": "5962c921",
   "metadata": {},
   "outputs": [],
   "source": [
    "noise_sigma = 1.0\n",
    "num_samples = 2"
   ]
  },
  {
   "cell_type": "code",
   "execution_count": 31,
   "id": "900d5135",
   "metadata": {},
   "outputs": [],
   "source": [
    "opt_params_smooth = {\n",
    "                        'theta_hatL': theta_hatL,\n",
    "                        'theta_hatH': theta_hatH,\n",
    "                        'LLmodels': LLmodels,\n",
    "                        'HLmodels': HLmodels,\n",
    "                        'Ill': Ill,\n",
    "                        'omega': omega,\n",
    "                        'xavier': xavier,\n",
    "                        'project_onto_gelbrich': project_onto_gelbrich,\n",
    "                        'eta_min': eta_min,\n",
    "                        'max_iter': max_iter,\n",
    "                        'noise_sigma': noise_sigma,\n",
    "                        'num_samples': num_samples,\n",
    "                        'tol': tol,\n",
    "                        'seed': seed\n",
    "                    }"
   ]
  },
  {
   "cell_type": "code",
   "execution_count": 32,
   "id": "7be4fd84",
   "metadata": {},
   "outputs": [
    {
     "name": "stderr",
     "output_type": "stream",
     "text": [
      "100%|██████████| 1000/1000 [00:15<00:00, 65.88it/s]\n"
     ]
    }
   ],
   "source": [
    "T_smooth = oput.random_smoothing_optimization(**opt_params_smooth)"
   ]
  },
  {
   "cell_type": "code",
   "execution_count": 33,
   "id": "2ddc2178",
   "metadata": {},
   "outputs": [],
   "source": [
    "params_smooth, T_smooth = T_smooth"
   ]
  },
  {
   "cell_type": "code",
   "execution_count": 34,
   "id": "f4b5fa12",
   "metadata": {},
   "outputs": [],
   "source": [
    "diroca_train_results['T_s'] = {\n",
    "                                'optimization_params': params_smooth,\n",
    "                                'T_matrix': T_smooth\n",
    "                            }"
   ]
  },
  {
   "cell_type": "markdown",
   "id": "b8711745",
   "metadata": {},
   "source": [
    "## Save the results"
   ]
  },
  {
   "cell_type": "code",
   "execution_count": 35,
   "id": "bec63215",
   "metadata": {},
   "outputs": [
    {
     "data": {
      "text/plain": [
       "['data/synth1/diroca_train_results.pkl']"
      ]
     },
     "execution_count": 35,
     "metadata": {},
     "output_type": "execute_result"
    }
   ],
   "source": [
    "joblib.dump(diroca_train_results, f\"data/{experiment}/diroca_train_results.pkl\")"
   ]
  },
  {
   "cell_type": "code",
   "execution_count": null,
   "id": "da102846",
   "metadata": {},
   "outputs": [],
   "source": []
  }
 ],
 "metadata": {
  "kernelspec": {
   "display_name": "erica",
   "language": "python",
   "name": "python3"
  },
  "language_info": {
   "codemirror_mode": {
    "name": "ipython",
    "version": 3
   },
   "file_extension": ".py",
   "mimetype": "text/x-python",
   "name": "python",
   "nbconvert_exporter": "python",
   "pygments_lexer": "ipython3",
   "version": "3.12.5"
  }
 },
 "nbformat": 4,
 "nbformat_minor": 5
}
