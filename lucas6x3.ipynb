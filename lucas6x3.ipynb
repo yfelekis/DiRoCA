{
 "cells": [
  {
   "cell_type": "code",
   "execution_count": 1,
   "id": "a28ac6f7",
   "metadata": {},
   "outputs": [],
   "source": [
    "import joblib\n",
    "\n",
    "import numpy as np\n",
    "import networkx as nx\n",
    "\n",
    "from src.CBN import CausalBayesianNetwork as CBN\n",
    "import modularised_utils as mut\n",
    "import Linear_Additive_Noise_Models as lanm\n",
    "import operations as ops\n",
    "import evaluation_utils as evut\n",
    "import params"
   ]
  },
  {
   "cell_type": "markdown",
   "id": "ce898cd9",
   "metadata": {},
   "source": [
    "### Define low-level DCM \"LL\" and high-level DCM \"HL\""
   ]
  },
  {
   "cell_type": "code",
   "execution_count": 2,
   "id": "0575feee",
   "metadata": {},
   "outputs": [],
   "source": [
    "experiment = 'lucas6x3'"
   ]
  },
  {
   "cell_type": "code",
   "execution_count": 3,
   "id": "10230e5e",
   "metadata": {},
   "outputs": [],
   "source": [
    "# 6x3 LUCAS\n",
    "Sm  = 'Smoking'\n",
    "Gen = 'Genetics'\n",
    "LC  = 'Lung Cancer'\n",
    "All = 'Allergy'\n",
    "Cou = 'Coughing'\n",
    "Fat = 'Fatigue'\n",
    "\n",
    "Env = 'Environment'\n",
    "Gen_ = 'Genetics_'\n",
    "LC_  = 'Lung Cancer_'"
   ]
  },
  {
   "cell_type": "code",
   "execution_count": 4,
   "id": "2cbd063e",
   "metadata": {},
   "outputs": [],
   "source": [
    "ll_endogenous_coeff_dict = {\n",
    "                            (Sm, LC): 0.9,   # Smoking → Lung Cancer\n",
    "                            (Gen, LC): 0.8,  # Genetics → Lung Cancer\n",
    "                            (LC, Cou): 0.6,  # Lung Cancer → Coughing\n",
    "                            (LC, Fat): 0.9,  # Lung Cancer → Fatigue\n",
    "                            (Cou, Fat): 0.5, # Coughing → Fatigue\n",
    "                            (All, Cou): 0.4  # Allergy → Coughing\n",
    "                           }\n",
    "\n",
    "hl_endogenous_coeff_dict = {\n",
    "                            (Env, LC_): 0.0, # Environment → Lung Cancer\n",
    "                            (Gen_, LC_):0.0 # Genetics → Lung Cancer\n",
    "                           }"
   ]
  },
  {
   "cell_type": "code",
   "execution_count": 5,
   "id": "afb18cf8",
   "metadata": {},
   "outputs": [],
   "source": [
    "ll_causal_graph          = CBN(list(ll_endogenous_coeff_dict.keys()))\n",
    "hl_causal_graph          = CBN(list(hl_endogenous_coeff_dict.keys()))"
   ]
  },
  {
   "cell_type": "code",
   "execution_count": 6,
   "id": "d66c8778",
   "metadata": {},
   "outputs": [],
   "source": [
    "num_llsamples   = params.n_samples[experiment][0]\n",
    "num_hlsamples   = params.n_samples[experiment][1]"
   ]
  },
  {
   "cell_type": "markdown",
   "id": "c2b57b88",
   "metadata": {},
   "source": [
    "### Construct the empirical nominal distribution/ environment"
   ]
  },
  {
   "cell_type": "code",
   "execution_count": 7,
   "id": "942ffe6d",
   "metadata": {},
   "outputs": [],
   "source": [
    "ll_mu_hat    = np.array([0, 0, 0.1, 0.1, 0.3, 0.2]) \n",
    "ll_Sigma_hat = np.diag([0.5, 2.0, 1.0, 1.5, 0.8, 1.2])"
   ]
  },
  {
   "cell_type": "markdown",
   "id": "d7ba255d",
   "metadata": {},
   "source": [
    "### Define the sets of relevant interventions and the (total) surjective and order-preserving function $ω:I^{L} \\mapsto I^{H}$"
   ]
  },
  {
   "cell_type": "code",
   "execution_count": 8,
   "id": "fc02d782",
   "metadata": {
    "scrolled": true
   },
   "outputs": [],
   "source": [
    "iota0 = None  # No intervention\n",
    "\n",
    "iota1 = ops.Intervention({Sm: 0})  \n",
    "iota2 = ops.Intervention({Sm: 1})  \n",
    "\n",
    "iota3 = ops.Intervention({LC: 0})  \n",
    "iota4 = ops.Intervention({LC: 1})  \n",
    "\n",
    "iota5 = ops.Intervention({Sm: 0, LC: 0})  \n",
    "iota6 = ops.Intervention({Sm: 1, LC: 1})  \n",
    "iota7 = ops.Intervention({Sm: 0, LC: 1}) \n",
    "iota8 = ops.Intervention({Sm: 1, LC: 0})  \n",
    "\n",
    "iota9 = ops.Intervention({Gen: 0})  \n",
    "iota10 = ops.Intervention({Gen: 1})  \n",
    "\n",
    "iota11 = ops.Intervention({Gen: 0, Sm: 0})  \n",
    "iota12 = ops.Intervention({Gen: 1, Sm: 1})  \n",
    "iota13 = ops.Intervention({Gen: 0, Sm: 1})  \n",
    "iota14 = ops.Intervention({Gen: 1, Sm: 0})  \n",
    "\n",
    "iota15 = ops.Intervention({All: 0})  \n",
    "iota16 = ops.Intervention({All: 1})  \n",
    "\n",
    "iota17 = ops.Intervention({Cou: 0})  \n",
    "iota18 = ops.Intervention({Cou: 1, Fat: 1})  \n",
    "iota19 = ops.Intervention({Cou: 1, Fat: 0}) \n",
    "iota20 = ops.Intervention({Cou: 0, Fat: 1})  \n",
    "\n",
    "\n",
    "\n",
    "eta0 = None  # No intervention\n",
    "\n",
    "eta1 = ops.Intervention({Env: 0})  \n",
    "eta2 = ops.Intervention({Env: 1})  \n",
    "eta3 = ops.Intervention({Gen_: 0})  \n",
    "eta4 = ops.Intervention({Gen_: 1})  \n",
    "\n",
    "eta5 = ops.Intervention({Env: 0, Gen_: 0}) \n",
    "eta6 = ops.Intervention({Env: 1, Gen_: 1})  \n",
    "eta7 = ops.Intervention({Env: 0, Gen_: 1})  \n",
    "eta8 = ops.Intervention({Env: 1, Gen_: 0})  \n",
    "\n",
    "eta9 = ops.Intervention({LC_: 0})  \n",
    "eta10 = ops.Intervention({LC_: 1})  \n",
    "\n",
    "\n",
    "\n",
    "omega = {\n",
    "    iota0: eta0, \n",
    "    iota1: eta1,  \n",
    "    iota2: eta2, \n",
    "    iota3: eta3,  \n",
    "    iota4: eta4,  \n",
    "    iota5: eta5,  \n",
    "    iota6: eta6,  \n",
    "    iota7: eta9,  \n",
    "    iota8: eta10, \n",
    "    iota10: eta5, \n",
    "    iota11: eta6, \n",
    "    iota12: eta3, \n",
    "    iota13: eta4, \n",
    "    iota14: eta8, \n",
    "    iota15: eta7, \n",
    "    iota16: eta5, \n",
    "    iota17: eta6, \n",
    "    iota18: eta10, \n",
    "    iota19: eta9, \n",
    "    iota20: eta8 \n",
    "}\n",
    "\n",
    "\n",
    "Ill_relevant = list(set(omega.keys()))\n",
    "Ihl_relevant = list(set(omega.values()))"
   ]
  },
  {
   "cell_type": "markdown",
   "id": "e0d71d01",
   "metadata": {},
   "source": [
    "### Sampling and Pair construction"
   ]
  },
  {
   "cell_type": "code",
   "execution_count": 9,
   "id": "c9e4a531",
   "metadata": {},
   "outputs": [],
   "source": [
    "Dll_samples, Dll_noise = {}, {}\n",
    "for iota in Ill_relevant:\n",
    "\n",
    "    llcm              = lanm.LinearAddSCM(ll_causal_graph, ll_endogenous_coeff_dict, iota)\n",
    "    #Different Dll_noise for each iota\n",
    "    lenv_iota         = mut.sample_distros_Gelbrich([(ll_mu_hat, ll_Sigma_hat)])[0] \n",
    "    Dll_noise[iota]   = lenv_iota.sample(num_llsamples)[0]\n",
    "    Dll_samples[iota] = llcm.simulate(Dll_noise[iota], iota)"
   ]
  },
  {
   "cell_type": "code",
   "execution_count": 10,
   "id": "03a267e5",
   "metadata": {},
   "outputs": [],
   "source": [
    "T = np.array([\n",
    "    [2, 1, 1, 0.5, 1, 0.5],  \n",
    "    [0.5, 2, 0.8, 1.5, 0.7, 1],  \n",
    "    [1, 0.5, 1, 2, 0.9, 1.5]  \n",
    "])"
   ]
  },
  {
   "cell_type": "code",
   "execution_count": 11,
   "id": "b42da1fd",
   "metadata": {},
   "outputs": [],
   "source": [
    "data_observational_hl      = Dll_samples[None]@ T.T\n",
    "hl_endogenous_coeff_dict   = mut.get_coefficients(data_observational_hl, hl_causal_graph) \n",
    "U_hl, hl_mu_hat, hl_Sigma_hat = mut.lan_abduction(data_observational_hl, hl_causal_graph, hl_endogenous_coeff_dict)"
   ]
  },
  {
   "cell_type": "code",
   "execution_count": 12,
   "id": "5e36ea3d",
   "metadata": {},
   "outputs": [],
   "source": [
    "Dhl_samples, Dhl_noise = {}, {}\n",
    "for eta in Ihl_relevant:\n",
    "\n",
    "    if eta is not None:\n",
    "        hlcm              = lanm.LinearAddSCM(hl_causal_graph, hl_endogenous_coeff_dict, eta)\n",
    "        lenv_eta         = mut.sample_distros_Gelbrich([(hl_mu_hat, hl_Sigma_hat)])[0] \n",
    "        Dhl_noise[eta]   = lenv_eta.sample(num_hlsamples)[0]\n",
    "        Dhl_samples[eta] = hlcm.simulate(Dhl_noise[eta], eta)\n",
    "\n",
    "    else:\n",
    "        Dhl_noise[eta]   = U_hl\n",
    "        Dhl_samples[eta] = data_observational_hl"
   ]
  },
  {
   "cell_type": "code",
   "execution_count": 14,
   "id": "5af26569",
   "metadata": {},
   "outputs": [],
   "source": [
    "Ds = {}\n",
    "for iota in Ill_relevant:\n",
    "    Ds[iota] = (Dll_samples[iota], Dhl_samples[omega[iota]])"
   ]
  },
  {
   "cell_type": "code",
   "execution_count": 15,
   "id": "b6dcae3b",
   "metadata": {},
   "outputs": [
    {
     "data": {
      "text/plain": [
       "['data/lucas6x3/exogenous_HL.pkl']"
      ]
     },
     "execution_count": 15,
     "metadata": {},
     "output_type": "execute_result"
    }
   ],
   "source": [
    "joblib.dump((ll_causal_graph, Ill_relevant), f\"data/{experiment}/LL.pkl\")\n",
    "joblib.dump(ll_endogenous_coeff_dict, f\"data/{experiment}/ll_coeffs.pkl\")\n",
    "\n",
    "joblib.dump((hl_causal_graph, Ihl_relevant), f\"data/{experiment}/HL.pkl\")\n",
    "joblib.dump(hl_endogenous_coeff_dict, f\"data/{experiment}/hl_coeffs.pkl\")\n",
    "\n",
    "joblib.dump(Ds, f\"data/{experiment}/Ds.pkl\")\n",
    "\n",
    "joblib.dump(T, f\"data/{experiment}/Tau.pkl\")\n",
    "joblib.dump(omega, f\"data/{experiment}/omega.pkl\")\n",
    "\n",
    "joblib.dump((Dll_noise[None], ll_mu_hat, ll_Sigma_hat), f\"data/{experiment}/exogenous_LL.pkl\")\n",
    "joblib.dump((U_hl, hl_mu_hat, hl_Sigma_hat), f\"data/{experiment}/exogenous_HL.pkl\")"
   ]
  },
  {
   "cell_type": "code",
   "execution_count": null,
   "id": "4dda1bfe",
   "metadata": {},
   "outputs": [],
   "source": []
  }
 ],
 "metadata": {
  "kernelspec": {
   "display_name": "erica",
   "language": "python",
   "name": "python3"
  },
  "language_info": {
   "codemirror_mode": {
    "name": "ipython",
    "version": 3
   },
   "file_extension": ".py",
   "mimetype": "text/x-python",
   "name": "python",
   "nbconvert_exporter": "python",
   "pygments_lexer": "ipython3",
   "version": "3.12.5"
  }
 },
 "nbformat": 4,
 "nbformat_minor": 5
}
