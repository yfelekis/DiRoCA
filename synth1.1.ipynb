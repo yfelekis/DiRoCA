{
 "cells": [
  {
   "cell_type": "code",
   "execution_count": 2,
   "id": "a28ac6f7",
   "metadata": {},
   "outputs": [],
   "source": [
    "import joblib\n",
    "\n",
    "import numpy as np\n",
    "import networkx as nx\n",
    "\n",
    "from src.CBN import CausalBayesianNetwork as CBN\n",
    "import modularised_utils as mut\n",
    "import Linear_Additive_Noise_Models as lanm\n",
    "import operations as ops\n",
    "import evaluation_utils as evut\n",
    "import params"
   ]
  },
  {
   "cell_type": "markdown",
   "id": "ce898cd9",
   "metadata": {},
   "source": [
    "### Define low-level DCM \"LL\" and high-level DCM \"HL\""
   ]
  },
  {
   "cell_type": "code",
   "execution_count": 3,
   "id": "0575feee",
   "metadata": {},
   "outputs": [],
   "source": [
    "experiment = 'synth1.1'"
   ]
  },
  {
   "cell_type": "code",
   "execution_count": 4,
   "id": "10230e5e",
   "metadata": {},
   "outputs": [],
   "source": [
    "S = 'Smoking'\n",
    "T = 'Tar'\n",
    "C = 'Cancer'\n",
    "\n",
    "S_ = 'Smoking_'\n",
    "C_ = 'Cancer_'"
   ]
  },
  {
   "cell_type": "code",
   "execution_count": 5,
   "id": "afb18cf8",
   "metadata": {},
   "outputs": [],
   "source": [
    "#ll_endogenous_coeff_dict = {(S, T): 0.3, (T, C): 0.2}\n",
    "ll_endogenous_coeff_dict = {(S, T): 1.0, (T, C): .3} \n",
    "#ll_endogenous_coeff_dict = {(S, T): 4.0, (T, C): 3} \n",
    "#ll_endogenous_coeff_dict = {(S, T): 10.0, (T, C): 8.0} \n",
    "\n",
    "ll_causal_graph          = CBN(list(ll_endogenous_coeff_dict.keys()))\n",
    "#nx.draw(nx.DiGraph(ll_causal_graph.edges()),with_labels=True)\n",
    "\n",
    "hl_endogenous_coeff_dict = {(S_, C_): 0.0}\n",
    "hl_causal_graph          = CBN(list(hl_endogenous_coeff_dict.keys()))\n",
    "# #nx.draw(nx.DiGraph(hl_causal_graph.edges()),with_labels=True)"
   ]
  },
  {
   "cell_type": "code",
   "execution_count": 6,
   "id": "d66c8778",
   "metadata": {},
   "outputs": [],
   "source": [
    "# Define the number of samples from the low-level environment.\n",
    "num_llsamples   = params.n_samples['synth1'][0]\n",
    "num_hlsamples   = params.n_samples['synth1'][1]"
   ]
  },
  {
   "cell_type": "markdown",
   "id": "c2b57b88",
   "metadata": {},
   "source": [
    "### Construct the empirical nominal distribution for the low-level model"
   ]
  },
  {
   "cell_type": "code",
   "execution_count": 7,
   "id": "942ffe6d",
   "metadata": {},
   "outputs": [],
   "source": [
    "ll_mu_hat    = np.array([0, 0, 0])  \n",
    "ll_Sigma_hat = np.diag([1, 1, 1])  #np.diag([1, 2, 1]) \n",
    "\n",
    "hl_mu_hat    = np.array([0, 0]) \n",
    "hl_Sigma_hat = np.diag([1, 1]) #np.diag([1, 2])"
   ]
  },
  {
   "cell_type": "markdown",
   "id": "d7ba255d",
   "metadata": {},
   "source": [
    "### Define the sets of relevant interventions and the (total) surjective and order-preserving function $ω:I^{L} \\mapsto I^{H}$"
   ]
  },
  {
   "cell_type": "code",
   "execution_count": 8,
   "id": "fc02d782",
   "metadata": {
    "scrolled": true
   },
   "outputs": [],
   "source": [
    "iota0 = None\n",
    "iota1 = ops.Intervention({S:0})\n",
    "iota2 = ops.Intervention({S:0, T:1})\n",
    "iota3 = ops.Intervention({S:1})\n",
    "iota4 = ops.Intervention({S:1, T:0})\n",
    "iota5 = ops.Intervention({S:1, T:1})\n",
    "\n",
    "eta0 = None\n",
    "eta1 = ops.Intervention({S_:0})\n",
    "eta2 = ops.Intervention({S_:1})\n",
    "\n",
    "omega = {   \n",
    "            iota0: eta0,\n",
    "            iota1: eta1,\n",
    "            iota2: eta1,\n",
    "            iota3: eta2,\n",
    "            iota4: eta2,\n",
    "            iota5: eta2\n",
    "        }\n",
    "\n",
    "Ill_relevant = list(set(omega.keys()))\n",
    "Ihl_relevant = list(set(omega.values()))"
   ]
  },
  {
   "cell_type": "markdown",
   "id": "e0d71d01",
   "metadata": {},
   "source": [
    "### Sampling and Pair construction"
   ]
  },
  {
   "cell_type": "code",
   "execution_count": 9,
   "id": "39858720",
   "metadata": {},
   "outputs": [],
   "source": [
    "Dll_samples, Dll_noise = {}, {}\n",
    "for iota in Ill_relevant:\n",
    "\n",
    "    llcm              = lanm.LinearAddSCM(ll_causal_graph, ll_endogenous_coeff_dict, iota)\n",
    "    #Different Dll_noise for each iota\n",
    "    lenv_iota         = mut.sample_distros_Gelbrich([(ll_mu_hat, ll_Sigma_hat)])[0] \n",
    "    Dll_noise[iota]   = lenv_iota.sample(num_llsamples)[0]\n",
    "    Dll_samples[iota] = llcm.simulate(Dll_noise[iota], iota)"
   ]
  },
  {
   "cell_type": "markdown",
   "id": "1184c205",
   "metadata": {},
   "source": [
    "### Define the abstraction T"
   ]
  },
  {
   "cell_type": "code",
   "execution_count": 10,
   "id": "ac14aca2",
   "metadata": {},
   "outputs": [],
   "source": [
    "#T = np.array([[.1, .6, .2], [.6, .2, .7]])\n",
    "T = np.array([[1, 2, 1], [0, 1, 0]])"
   ]
  },
  {
   "cell_type": "markdown",
   "id": "df10ad18",
   "metadata": {},
   "source": [
    "### Compute the empirical nominal distribution for the high-level model and the linear coefficients"
   ]
  },
  {
   "cell_type": "code",
   "execution_count": 11,
   "id": "7afaa6aa",
   "metadata": {},
   "outputs": [],
   "source": [
    "data_observational_hl         = Dll_samples[None]@ T.T\n",
    "hl_endogenous_coeff_dict      = mut.get_coefficients(data_observational_hl, hl_causal_graph) \n",
    "U_hl, hl_mu_hat, hl_Sigma_hat = mut.lan_abduction(data_observational_hl, hl_causal_graph, hl_endogenous_coeff_dict)"
   ]
  },
  {
   "cell_type": "code",
   "execution_count": 12,
   "id": "d4db58f6",
   "metadata": {},
   "outputs": [],
   "source": [
    "# data_observational_hl    = Dll_samples[None]@ T.T\n",
    "# U_hl                     = np.random.multivariate_normal(mean=hl_mu_hat, cov=hl_Sigma_hat, size=num_hlsamples)\n",
    "# hl_endogenous_coeff_dict = mut.get_coefficients_with_known_noise(data_observational_hl, U_hl, hl_causal_graph)"
   ]
  },
  {
   "cell_type": "markdown",
   "id": "adb6b0fa",
   "metadata": {},
   "source": [
    "### Generate samples for the high-level model"
   ]
  },
  {
   "cell_type": "code",
   "execution_count": 13,
   "id": "e9ba90e3",
   "metadata": {},
   "outputs": [],
   "source": [
    "Dhl_samples, Dhl_noise = {}, {}\n",
    "for eta in Ihl_relevant:\n",
    "\n",
    "    if eta is not None:\n",
    "        hlcm             = lanm.LinearAddSCM(hl_causal_graph, hl_endogenous_coeff_dict, eta)\n",
    "        #Different Dll_noise for each iota\n",
    "        lenv_eta         = mut.sample_distros_Gelbrich([(hl_mu_hat, hl_Sigma_hat)])[0] \n",
    "        Dhl_noise[eta]   = lenv_eta.sample(num_hlsamples)[0]\n",
    "        Dhl_samples[eta] = hlcm.simulate(Dhl_noise[eta], eta)\n",
    "\n",
    "    else:\n",
    "        Dhl_noise[eta]   = U_hl\n",
    "        Dhl_samples[eta] = data_observational_hl"
   ]
  },
  {
   "cell_type": "code",
   "execution_count": 14,
   "id": "fd56aadd",
   "metadata": {},
   "outputs": [],
   "source": [
    "# # Closer to exact abstraction\n",
    "# Dhl_samples = {}\n",
    "# list_of_iotas = []\n",
    "# for iota in Ill_relevant:\n",
    "    \n",
    "#     if iota not in list_of_iotas:\n",
    "#         list_of_iotas.append(omega[iota])\n",
    "#         if iota is not None:\n",
    "#             Dhl_samples[omega[iota]] = Dll_samples[iota] @ T.T\n",
    "#         else:\n",
    "#             Dhl_samples[omega[iota]] = data_observational_hl"
   ]
  },
  {
   "cell_type": "code",
   "execution_count": 15,
   "id": "b871678f",
   "metadata": {},
   "outputs": [],
   "source": [
    "Ds = {}\n",
    "for iota in Ill_relevant:\n",
    "    Ds[iota] = (Dll_samples[iota], Dhl_samples[omega[iota]])"
   ]
  },
  {
   "cell_type": "markdown",
   "id": "ddfe34d1",
   "metadata": {},
   "source": [
    "### Save the data"
   ]
  },
  {
   "cell_type": "code",
   "execution_count": 20,
   "id": "b6dcae3b",
   "metadata": {},
   "outputs": [
    {
     "data": {
      "text/plain": [
       "['data/synth1.1/exogenous_HL.pkl']"
      ]
     },
     "execution_count": 20,
     "metadata": {},
     "output_type": "execute_result"
    }
   ],
   "source": [
    "joblib.dump((ll_causal_graph, Ill_relevant), f\"data/{experiment}/LL.pkl\")\n",
    "joblib.dump(ll_endogenous_coeff_dict, f\"data/{experiment}/ll_coeffs.pkl\")\n",
    "\n",
    "joblib.dump((hl_causal_graph, Ihl_relevant), f\"data/{experiment}/HL.pkl\")\n",
    "joblib.dump(hl_endogenous_coeff_dict, f\"data/{experiment}/hl_coeffs.pkl\")\n",
    "\n",
    "joblib.dump(Ds, f\"data/{experiment}/Ds.pkl\")\n",
    "\n",
    "joblib.dump(T, f\"data/{experiment}/Tau.pkl\")\n",
    "joblib.dump(omega, f\"data/{experiment}/omega.pkl\")\n",
    "\n",
    "joblib.dump((Dll_noise[None], ll_mu_hat, ll_Sigma_hat), f\"data/{experiment}/exogenous_LL.pkl\")\n",
    "joblib.dump((U_hl, hl_mu_hat, hl_Sigma_hat), f\"data/{experiment}/exogenous_HL.pkl\")"
   ]
  },
  {
   "cell_type": "code",
   "execution_count": null,
   "id": "b1d39686",
   "metadata": {},
   "outputs": [],
   "source": []
  }
 ],
 "metadata": {
  "kernelspec": {
   "display_name": "erica",
   "language": "python",
   "name": "python3"
  },
  "language_info": {
   "codemirror_mode": {
    "name": "ipython",
    "version": 3
   },
   "file_extension": ".py",
   "mimetype": "text/x-python",
   "name": "python",
   "nbconvert_exporter": "python",
   "pygments_lexer": "ipython3",
   "version": "3.12.5"
  }
 },
 "nbformat": 4,
 "nbformat_minor": 5
}
