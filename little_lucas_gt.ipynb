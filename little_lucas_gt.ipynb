{
 "cells": [
  {
   "cell_type": "code",
   "execution_count": 1,
   "id": "a28ac6f7",
   "metadata": {},
   "outputs": [],
   "source": [
    "import joblib\n",
    "\n",
    "import numpy as np\n",
    "import networkx as nx\n",
    "\n",
    "from src.CBN import CausalBayesianNetwork as CBN\n",
    "import modularised_utils as mut\n",
    "import Linear_Additive_Noise_Models as lanm\n",
    "import operations as ops\n",
    "import params"
   ]
  },
  {
   "cell_type": "markdown",
   "id": "ce898cd9",
   "metadata": {},
   "source": [
    "### Define low-level DCM \"LL\" and high-level DCM \"HL\""
   ]
  },
  {
   "cell_type": "code",
   "execution_count": 2,
   "id": "0575feee",
   "metadata": {},
   "outputs": [],
   "source": [
    "experiment = 'little_lucas'"
   ]
  },
  {
   "cell_type": "code",
   "execution_count": 3,
   "id": "10230e5e",
   "metadata": {},
   "outputs": [],
   "source": [
    "# Sm  = 'Smoking'\n",
    "# Gen = 'Genetics'\n",
    "# LC  = 'Lung Cancer'\n",
    "# All = 'Allergy'\n",
    "# Cou = 'Coughing'\n",
    "\n",
    "# Env = 'Environment'\n",
    "# Gen_ = 'Genetics_'\n",
    "# LC_  = 'Lung Cancer_'\n",
    "\n",
    "Sm  = 'Smoking'\n",
    "Gen = 'Genetics'\n",
    "LC  = 'Lung Cancer'\n",
    "All = 'Allergy'\n",
    "Cou = 'Coughing'\n",
    "Fat = 'Fatigue'\n",
    "\n",
    "Env = 'Environment'\n",
    "Gen_ = 'Genetics_'\n",
    "LC_  = 'Lung Cancer_'"
   ]
  },
  {
   "cell_type": "code",
   "execution_count": 4,
   "id": "afb18cf8",
   "metadata": {},
   "outputs": [],
   "source": [
    "ll_endogenous_coeff_dict = {\n",
    "    (Sm, LC): 0.9,   # Smoking → Lung Cancer\n",
    "    (Gen, LC): 0.8,  # Genetics → Lung Cancer\n",
    "    (LC, Cou): 0.6,  # Lung Cancer → Coughing\n",
    "    (LC, Fat): 0.9,  # Lung Cancer → Fatigue\n",
    "    (Cou, Fat): 0.5, # Coughing → Fatigue\n",
    "    (All, Cou): 0.4  # Allergy → Coughing\n",
    "}\n",
    "\n",
    "ll_causal_graph          = CBN(list(ll_endogenous_coeff_dict.keys()))\n",
    "\n",
    "\n",
    "hl_endogenous_coeff_dict = {(Env, LC_): 0.0, (Gen_, LC_):0.0}\n",
    "hl_causal_graph          = CBN(list(hl_endogenous_coeff_dict.keys()))"
   ]
  },
  {
   "cell_type": "code",
   "execution_count": 5,
   "id": "d66c8778",
   "metadata": {},
   "outputs": [],
   "source": [
    "# Define the number of samples from the low-level environment.\n",
    "num_llsamples   = params.n_samples[experiment][0]"
   ]
  },
  {
   "cell_type": "markdown",
   "id": "c2b57b88",
   "metadata": {},
   "source": [
    "### Construct the empirical nominal distribution/ environment"
   ]
  },
  {
   "cell_type": "code",
   "execution_count": 6,
   "id": "942ffe6d",
   "metadata": {},
   "outputs": [],
   "source": [
    "ll_mu_hat    = np.array([0, 0, 0.1, 0.1, 0.3, 0.2]) \n",
    "ll_Sigma_hat = np.diag([0.5, 2.0, 1.0, 1.5, 0.8, 1.2])\n",
    "# # Alternative way of initializing these randomly\n",
    "# ll_mu_hat    = np.random.randn(5)  \n",
    "# ll_Sigma_hat = np.diag(np.random.rand(5)) "
   ]
  },
  {
   "cell_type": "markdown",
   "id": "d7ba255d",
   "metadata": {},
   "source": [
    "### Define the sets of relevant interventions and the (total) surjective and order-preserving function $ω:I^{L} \\mapsto I^{H}$"
   ]
  },
  {
   "cell_type": "code",
   "execution_count": 7,
   "id": "fc02d782",
   "metadata": {
    "scrolled": true
   },
   "outputs": [],
   "source": [
    "# Baseline (No intervention)\n",
    "iota0 = None  # No intervention\n",
    "\n",
    "# Smoking interventions\n",
    "iota1 = ops.Intervention({Sm: 0})  # Force no smoking\n",
    "iota2 = ops.Intervention({Sm: 1})  # Force smoking\n",
    "\n",
    "# Lung Cancer interventions\n",
    "iota3 = ops.Intervention({LC: 0})  # Prevent lung cancer\n",
    "iota4 = ops.Intervention({LC: 1})  # Force lung cancer occurrence\n",
    "\n",
    "# Combined Smoking and Lung Cancer interventions\n",
    "iota5 = ops.Intervention({Sm: 0, LC: 0})  # No smoking, prevent lung cancer\n",
    "iota6 = ops.Intervention({Sm: 1, LC: 1})  # Smoking, force lung cancer\n",
    "iota7 = ops.Intervention({Sm: 0, LC: 1})  # No smoking, force lung cancer\n",
    "iota8 = ops.Intervention({Sm: 1, LC: 0})  # Smoking, prevent lung cancer\n",
    "\n",
    "# Genetics interventions\n",
    "iota9 = ops.Intervention({Gen: 0})  # No genetic predisposition\n",
    "iota10 = ops.Intervention({Gen: 1})  # Strong genetic predisposition\n",
    "\n",
    "# Combined Genetics and Smoking interventions\n",
    "iota11 = ops.Intervention({Gen: 0, Sm: 0})  # No predisposition, no smoking\n",
    "iota12 = ops.Intervention({Gen: 1, Sm: 1})  # Genetic predisposition, smoking\n",
    "iota13 = ops.Intervention({Gen: 0, Sm: 1})  # No predisposition, smoking\n",
    "iota14 = ops.Intervention({Gen: 1, Sm: 0})  # Genetic predisposition, no smoking\n",
    "\n",
    "# Allergy interventions\n",
    "iota15 = ops.Intervention({All: 0})  # No allergy\n",
    "iota16 = ops.Intervention({All: 1})  # Force allergy\n",
    "\n",
    "# Coughing and Fatigue interventions\n",
    "iota17 = ops.Intervention({Cou: 0})  # No coughing\n",
    "iota18 = ops.Intervention({Cou: 1, Fat: 1})  # Force coughing and fatigue\n",
    "iota19 = ops.Intervention({Cou: 1, Fat: 0})  # Force coughing, no fatigue\n",
    "iota20 = ops.Intervention({Cou: 0, Fat: 1})  # No coughing, force fatigue\n",
    "\n",
    "\n",
    "\n",
    "# Baseline (No intervention)\n",
    "eta0 = None  # No intervention\n",
    "\n",
    "# Single-node interventions\n",
    "eta1 = ops.Intervention({Env: 0})  # Force environment to have no impact\n",
    "eta2 = ops.Intervention({Env: 1})  # Force environment to fully impact\n",
    "eta3 = ops.Intervention({Gen_: 0})  # No genetic predisposition\n",
    "eta4 = ops.Intervention({Gen_: 1})  # Strong genetic predisposition\n",
    "\n",
    "# Combined node interventions\n",
    "eta5 = ops.Intervention({Env: 0, Gen_: 0})  # No environmental or genetic influence\n",
    "eta6 = ops.Intervention({Env: 1, Gen_: 1})  # Full environmental and genetic influence\n",
    "eta7 = ops.Intervention({Env: 0, Gen_: 1})  # No environment, strong genetics\n",
    "eta8 = ops.Intervention({Env: 1, Gen_: 0})  # Full environment, no genetics\n",
    "\n",
    "# Lung Cancer direct interventions\n",
    "eta9 = ops.Intervention({LC_: 0})  # Force no lung cancer occurrence\n",
    "eta10 = ops.Intervention({LC_: 1})  # Force lung cancer occurrence\n",
    "\n",
    "\n",
    "\n",
    "omega = {\n",
    "    iota0: eta0,  # No intervention maps to no intervention\n",
    "    iota1: eta1,  # Force no smoking -> Force no environmental influence\n",
    "    iota2: eta2,  # Force smoking -> Force full environmental influence\n",
    "    iota3: eta3,  # Prevent lung cancer -> No genetic predisposition\n",
    "    iota4: eta4,  # Force lung cancer -> Strong genetic predisposition\n",
    "    iota5: eta5,  # No smoking, prevent lung cancer -> No environment, no genetics\n",
    "    iota6: eta6,  # Smoking, force lung cancer -> Full environment, strong genetics\n",
    "    iota7: eta9,  # Prevent lung cancer -> Force no lung cancer occurrence\n",
    "    iota8: eta10, # Force lung cancer -> Force lung cancer occurrence\n",
    "    iota10: eta5, # No genetic predisposition, no smoking -> No environment, no genetics\n",
    "    iota11: eta6, # Genetic predisposition, smoking -> Full environment, strong genetics\n",
    "    iota12: eta3, # No genetic predisposition -> No genetic predisposition\n",
    "    iota13: eta4, # Strong genetic predisposition -> Strong genetic predisposition\n",
    "    iota14: eta8, # Smoking leads to coughing -> Full environment, no genetics\n",
    "    iota15: eta7, # Force allergy -> No environment, strong genetics\n",
    "    iota16: eta5, # No predisposition, no smoking, no lung cancer -> No environment, no genetics\n",
    "    iota17: eta6, # Full predisposition, smoking, lung cancer -> Full environment, strong genetics\n",
    "    iota18: eta10, # Smoking leads to coughing -> Force lung cancer occurrence\n",
    "    iota19: eta9, # Smoking, no coughing -> Force no lung cancer occurrence\n",
    "    iota20: eta8, # Genetic predisposition, no smoking -> Full environment, no genetics\n",
    "}\n",
    "\n",
    "\n",
    "Ill_relevant = list(set(omega.keys()))\n",
    "Ihl_relevant = list(set(omega.values()))"
   ]
  },
  {
   "cell_type": "markdown",
   "id": "e0d71d01",
   "metadata": {},
   "source": [
    "### Sampling and Pair construction"
   ]
  },
  {
   "cell_type": "code",
   "execution_count": 8,
   "id": "c9e4a531",
   "metadata": {},
   "outputs": [],
   "source": [
    "Dll_samples, Dll_noise = {}, {}\n",
    "for iota in Ill_relevant:\n",
    "    llcm              = lanm.LinearAddSCM(ll_causal_graph, ll_endogenous_coeff_dict, iota)\n",
    "    #Different Dll_noise for each iota\n",
    "    lenv_iota         = mut.sample_distros_Gelbrich([(ll_mu_hat, ll_Sigma_hat)])[0] \n",
    "    Dll_noise[iota]   = lenv_iota.sample(num_llsamples)[0]\n",
    "    Dll_samples[iota] = llcm.sample_settings(Dll_noise[iota])"
   ]
  },
  {
   "cell_type": "code",
   "execution_count": 9,
   "id": "03a267e5",
   "metadata": {},
   "outputs": [],
   "source": [
    "T = np.array([\n",
    "    [2, 1, 1, 0.5, 1, 0.5],  # Strong focus on Sm and LC for first output\n",
    "    [0.5, 2, 0.8, 1.5, 0.7, 1],  # Balanced focus on Gen and All\n",
    "    [1, 0.5, 1, 2, 0.9, 1.5]   # Emphasis on Cou and Fat\n",
    "])"
   ]
  },
  {
   "cell_type": "code",
   "execution_count": 10,
   "id": "b42da1fd",
   "metadata": {},
   "outputs": [],
   "source": [
    "Dhl_samples = {}\n",
    "for iota in Ill_relevant:\n",
    "    Dhl_samples[omega[iota]] = Dll_samples[iota] @ T.T"
   ]
  },
  {
   "cell_type": "code",
   "execution_count": 11,
   "id": "5e36ea3d",
   "metadata": {},
   "outputs": [],
   "source": [
    "Ds = {}\n",
    "for iota in Ill_relevant:\n",
    "    Ds[iota] = (Dll_samples[iota], Dhl_samples[omega[iota]])"
   ]
  },
  {
   "cell_type": "code",
   "execution_count": 12,
   "id": "5af26569",
   "metadata": {},
   "outputs": [],
   "source": [
    "hl_coeffs = mut.get_coefficients(Dhl_samples[None], hl_causal_graph) "
   ]
  },
  {
   "cell_type": "code",
   "execution_count": 13,
   "id": "e10b4f4b",
   "metadata": {},
   "outputs": [],
   "source": [
    "Dhl_noise, hl_mu_hat, hl_Sigma_hat = mut.lan_abduction(Dhl_samples[None], hl_causal_graph, hl_coeffs)\n",
    "# hl_moments     = [(hl_mu_hat, hl_Sigma_hat)]\n",
    "# henv           = mut.sample_distros_Gelbrich(hl_moments)[0] "
   ]
  },
  {
   "cell_type": "code",
   "execution_count": 14,
   "id": "b6dcae3b",
   "metadata": {},
   "outputs": [
    {
     "data": {
      "text/plain": [
       "['data/little_lucas/exogenous_HL.pkl']"
      ]
     },
     "execution_count": 14,
     "metadata": {},
     "output_type": "execute_result"
    }
   ],
   "source": [
    "joblib.dump((ll_causal_graph, Ill_relevant), f\"data/{experiment}/LL.pkl\")\n",
    "joblib.dump(ll_endogenous_coeff_dict, f\"data/{experiment}/ll_coeffs.pkl\")\n",
    "\n",
    "joblib.dump((hl_causal_graph, Ihl_relevant), f\"data/{experiment}/HL.pkl\")\n",
    "joblib.dump(hl_coeffs, f\"data/{experiment}/hl_coeffs.pkl\")\n",
    "\n",
    "joblib.dump(Ds, f\"data/{experiment}/Ds.pkl\")\n",
    "\n",
    "joblib.dump(T, f\"data/{experiment}/Tau.pkl\")\n",
    "joblib.dump(omega, f\"data/{experiment}/omega.pkl\")\n",
    "\n",
    "joblib.dump((Dll_noise[None], ll_mu_hat, ll_Sigma_hat), f\"data/{experiment}/exogenous_LL.pkl\")\n",
    "joblib.dump((Dhl_noise, hl_mu_hat, hl_Sigma_hat), f\"data/{experiment}/exogenous_HL.pkl\")"
   ]
  },
  {
   "cell_type": "code",
   "execution_count": null,
   "id": "385598e6",
   "metadata": {},
   "outputs": [],
   "source": []
  },
  {
   "cell_type": "code",
   "execution_count": null,
   "id": "805f4eb1",
   "metadata": {},
   "outputs": [],
   "source": []
  },
  {
   "cell_type": "code",
   "execution_count": null,
   "id": "5fe5cc7c",
   "metadata": {},
   "outputs": [],
   "source": []
  }
 ],
 "metadata": {
  "kernelspec": {
   "display_name": "erica",
   "language": "python",
   "name": "python3"
  },
  "language_info": {
   "codemirror_mode": {
    "name": "ipython",
    "version": 3
   },
   "file_extension": ".py",
   "mimetype": "text/x-python",
   "name": "python",
   "nbconvert_exporter": "python",
   "pygments_lexer": "ipython3",
   "version": "3.12.5"
  }
 },
 "nbformat": 4,
 "nbformat_minor": 5
}
