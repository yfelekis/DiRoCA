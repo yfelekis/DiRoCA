{
 "cells": [
  {
   "cell_type": "code",
   "execution_count": 1,
   "id": "f13cbf69",
   "metadata": {},
   "outputs": [],
   "source": [
    "import random\n",
    "import itertools\n",
    "import joblib\n",
    "import pickle \n",
    "import os\n",
    "\n",
    "from itertools import chain, combinations\n",
    "from typing import Optional\n",
    "import numpy as np\n",
    "import pandas as pd\n",
    "import seaborn as sns\n",
    "from sklearn.mixture import GaussianMixture\n",
    "from sklearn.linear_model import LinearRegression\n",
    "\n",
    "from scipy.stats import wasserstein_distance\n",
    "from scipy.stats import norm\n",
    "from scipy.stats import wishart\n",
    "import networkx as nx\n",
    "import matplotlib.pyplot as plt\n",
    "\n",
    "from scipy.linalg import sqrtm\n",
    "from scipy.special import rel_entr\n",
    "from scipy.spatial.distance import jensenshannon\n",
    "\n",
    "from src.CBN import CausalBayesianNetwork as CBN\n",
    "import modularised_utils as mut\n",
    "import Linear_Additive_Noise_Models as lanm\n",
    "import operations as ops\n",
    "\n",
    "from sklearn.linear_model import LinearRegression\n",
    "import params\n",
    "import numpy as np\n",
    "import pandas as pd\n",
    "import networkx as nx\n",
    "import statsmodels.api as sm"
   ]
  },
  {
   "cell_type": "code",
   "execution_count": 2,
   "id": "ab41e135",
   "metadata": {},
   "outputs": [],
   "source": [
    "experiment = 'synth1'"
   ]
  },
  {
   "cell_type": "code",
   "execution_count": 3,
   "id": "7191cb88",
   "metadata": {},
   "outputs": [],
   "source": [
    "ll_mu_hat       = np.array([0, 0, 0])  \n",
    "ll_Sigma_hat    = np.diag([1, 2, 1]) \n",
    "\n",
    "\n",
    "hl_mu_hat       = np.array([0, 0])  \n",
    "hl_Sigma_hat    = np.diag([1, 2])"
   ]
  },
  {
   "cell_type": "code",
   "execution_count": 4,
   "id": "e5ecf26d",
   "metadata": {},
   "outputs": [],
   "source": [
    "# Define the radius of the Wasserstein balls (epsilon, delta) and the size for both models.\n",
    "epsilon         = params.radius[experiment][0]\n",
    "ll_num_envs     = params.n_envs[experiment][0]\n",
    "\n",
    "delta           = params.radius[experiment][1]\n",
    "hl_num_envs     = params.n_envs[experiment][1]\n",
    "\n",
    "# Define the number of samples per environment. Currently every environment has the same number of samples\n",
    "num_llsamples   = params.n_samples[experiment][0]\n",
    "num_hlsamples   = params.n_samples[experiment][1]\n",
    "\n",
    "distance_err    = 'wass'"
   ]
  },
  {
   "cell_type": "code",
   "execution_count": 5,
   "id": "a2c10c36",
   "metadata": {},
   "outputs": [],
   "source": [
    "# Ambiguity set construction: Based on epsilon and delta include distribution (as many as the num_envs) that\n",
    "# pass the \"gelbrich\" test.\n",
    "ll_moments = mut.sample_moments_U(mu_hat    = ll_mu_hat,\n",
    "                                  Sigma_hat = ll_Sigma_hat,\n",
    "                                  bound     = epsilon,\n",
    "                                  num_envs  = ll_num_envs)\n",
    "\n",
    "A_ll       = mut.sample_distros_Gelbrich(ll_moments) #Low-level: A_epsilon\n",
    "\n",
    "\n",
    "hl_moments = mut.sample_moments_U(mu_hat    = hl_mu_hat,\n",
    "                                  Sigma_hat = hl_Sigma_hat,\n",
    "                                  bound     = delta,\n",
    "                                  num_envs  = hl_num_envs)\n",
    "\n",
    "A_hl       = mut.sample_distros_Gelbrich(hl_moments) #High-level A_delta"
   ]
  },
  {
   "cell_type": "code",
   "execution_count": 6,
   "id": "cc24730a",
   "metadata": {},
   "outputs": [],
   "source": [
    "S = 'Smoking'\n",
    "T = 'Tar'\n",
    "C = 'Cancer'\n",
    "\n",
    "S_ = 'Smoking_'\n",
    "C_ = 'Cancer_'\n",
    "\n",
    "ll_endogenous_coeff_dict = {(S, T): 0.3, (T, C): 0.2}\n",
    "ll_causal_graph          = CBN(list(ll_endogenous_coeff_dict.keys()))\n",
    "llcm                     = lanm.LinearAddSCM(ll_causal_graph, ll_endogenous_coeff_dict)\n",
    "Dll_noise                = A_ll[0].sample(10000)[0]\n",
    "Dll_samples              = llcm.sample_settings(Dll_noise)\n",
    "\n",
    "hl_endogenous_coeff_dict = {(S_, C_): 0.6}\n",
    "hl_causal_graph          = CBN(list(hl_endogenous_coeff_dict.keys()))\n",
    "hlcm                     = lanm.LinearAddSCM(hl_causal_graph, hl_endogenous_coeff_dict)\n",
    "Dhl_noise                = A_hl[0].sample(10000)[0]\n",
    "Dhl_samples              = hlcm.sample_settings(Dhl_noise)"
   ]
  },
  {
   "cell_type": "code",
   "execution_count": 7,
   "id": "c5102118",
   "metadata": {},
   "outputs": [
    {
     "name": "stdout",
     "output_type": "stream",
     "text": [
      "{('Smoking', 'Tar'): 0.2984797773630235, ('Tar', 'Cancer'): 0.19987539997230558}\n"
     ]
    }
   ],
   "source": [
    "coefficients = mut.get_mle_coefficients(Dll_samples, ll_causal_graph)\n",
    "print(coefficients)"
   ]
  },
  {
   "cell_type": "code",
   "execution_count": 9,
   "id": "32293398",
   "metadata": {},
   "outputs": [],
   "source": [
    "U, mu  = mut.lan_abduction(Dll_samples, ll_causal_graph, coefficients)"
   ]
  },
  {
   "cell_type": "code",
   "execution_count": 11,
   "id": "e96fab6f",
   "metadata": {},
   "outputs": [
    {
     "name": "stderr",
     "output_type": "stream",
     "text": [
      "/Users/giofelekis/opt/anaconda3/lib/python3.9/site-packages/numpy/core/_methods.py:163: VisibleDeprecationWarning: Creating an ndarray from ragged nested sequences (which is a list-or-tuple of lists-or-tuples-or ndarrays with different lengths or shapes) is deprecated. If you meant to do this, you must specify 'dtype=object' when creating the ndarray.\n",
      "  arr = asanyarray(a)\n"
     ]
    },
    {
     "ename": "ValueError",
     "evalue": "operands could not be broadcast together with shapes (10000,3) (3,3) ",
     "output_type": "error",
     "traceback": [
      "\u001b[0;31m---------------------------------------------------------------------------\u001b[0m",
      "\u001b[0;31mValueError\u001b[0m                                Traceback (most recent call last)",
      "\u001b[0;32m/var/folders/vn/9swzhgj513q7n9gd_4vsbd840000gn/T/ipykernel_2192/1327079222.py\u001b[0m in \u001b[0;36m<module>\u001b[0;34m\u001b[0m\n\u001b[0;32m----> 1\u001b[0;31m \u001b[0mmean_U\u001b[0m \u001b[0;34m=\u001b[0m \u001b[0mnp\u001b[0m\u001b[0;34m.\u001b[0m\u001b[0mmean\u001b[0m\u001b[0;34m(\u001b[0m\u001b[0mU\u001b[0m\u001b[0;34m,\u001b[0m \u001b[0maxis\u001b[0m\u001b[0;34m=\u001b[0m\u001b[0;36m0\u001b[0m\u001b[0;34m)\u001b[0m\u001b[0;34m\u001b[0m\u001b[0;34m\u001b[0m\u001b[0m\n\u001b[0m\u001b[1;32m      2\u001b[0m \u001b[0mmean_U\u001b[0m\u001b[0;34m\u001b[0m\u001b[0;34m\u001b[0m\u001b[0m\n",
      "\u001b[0;32m~/opt/anaconda3/lib/python3.9/site-packages/numpy/core/overrides.py\u001b[0m in \u001b[0;36mmean\u001b[0;34m(*args, **kwargs)\u001b[0m\n",
      "\u001b[0;32m~/opt/anaconda3/lib/python3.9/site-packages/numpy/core/fromnumeric.py\u001b[0m in \u001b[0;36mmean\u001b[0;34m(a, axis, dtype, out, keepdims, where)\u001b[0m\n\u001b[1;32m   3472\u001b[0m             \u001b[0;32mreturn\u001b[0m \u001b[0mmean\u001b[0m\u001b[0;34m(\u001b[0m\u001b[0maxis\u001b[0m\u001b[0;34m=\u001b[0m\u001b[0maxis\u001b[0m\u001b[0;34m,\u001b[0m \u001b[0mdtype\u001b[0m\u001b[0;34m=\u001b[0m\u001b[0mdtype\u001b[0m\u001b[0;34m,\u001b[0m \u001b[0mout\u001b[0m\u001b[0;34m=\u001b[0m\u001b[0mout\u001b[0m\u001b[0;34m,\u001b[0m \u001b[0;34m**\u001b[0m\u001b[0mkwargs\u001b[0m\u001b[0;34m)\u001b[0m\u001b[0;34m\u001b[0m\u001b[0;34m\u001b[0m\u001b[0m\n\u001b[1;32m   3473\u001b[0m \u001b[0;34m\u001b[0m\u001b[0m\n\u001b[0;32m-> 3474\u001b[0;31m     return _methods._mean(a, axis=axis, dtype=dtype,\n\u001b[0m\u001b[1;32m   3475\u001b[0m                           out=out, **kwargs)\n\u001b[1;32m   3476\u001b[0m \u001b[0;34m\u001b[0m\u001b[0m\n",
      "\u001b[0;32m~/opt/anaconda3/lib/python3.9/site-packages/numpy/core/_methods.py\u001b[0m in \u001b[0;36m_mean\u001b[0;34m(a, axis, dtype, out, keepdims, where)\u001b[0m\n\u001b[1;32m    177\u001b[0m             \u001b[0mis_float16_result\u001b[0m \u001b[0;34m=\u001b[0m \u001b[0;32mTrue\u001b[0m\u001b[0;34m\u001b[0m\u001b[0;34m\u001b[0m\u001b[0m\n\u001b[1;32m    178\u001b[0m \u001b[0;34m\u001b[0m\u001b[0m\n\u001b[0;32m--> 179\u001b[0;31m     \u001b[0mret\u001b[0m \u001b[0;34m=\u001b[0m \u001b[0mumr_sum\u001b[0m\u001b[0;34m(\u001b[0m\u001b[0marr\u001b[0m\u001b[0;34m,\u001b[0m \u001b[0maxis\u001b[0m\u001b[0;34m,\u001b[0m \u001b[0mdtype\u001b[0m\u001b[0;34m,\u001b[0m \u001b[0mout\u001b[0m\u001b[0;34m,\u001b[0m \u001b[0mkeepdims\u001b[0m\u001b[0;34m,\u001b[0m \u001b[0mwhere\u001b[0m\u001b[0;34m=\u001b[0m\u001b[0mwhere\u001b[0m\u001b[0;34m)\u001b[0m\u001b[0;34m\u001b[0m\u001b[0;34m\u001b[0m\u001b[0m\n\u001b[0m\u001b[1;32m    180\u001b[0m     \u001b[0;32mif\u001b[0m \u001b[0misinstance\u001b[0m\u001b[0;34m(\u001b[0m\u001b[0mret\u001b[0m\u001b[0;34m,\u001b[0m \u001b[0mmu\u001b[0m\u001b[0;34m.\u001b[0m\u001b[0mndarray\u001b[0m\u001b[0;34m)\u001b[0m\u001b[0;34m:\u001b[0m\u001b[0;34m\u001b[0m\u001b[0;34m\u001b[0m\u001b[0m\n\u001b[1;32m    181\u001b[0m         ret = um.true_divide(\n",
      "\u001b[0;31mValueError\u001b[0m: operands could not be broadcast together with shapes (10000,3) (3,3) "
     ]
    }
   ],
   "source": [
    "mean_U = np.mean(U, axis=0)\n",
    "mean_U"
   ]
  },
  {
   "cell_type": "code",
   "execution_count": 10,
   "id": "657d19ca",
   "metadata": {},
   "outputs": [
    {
     "data": {
      "text/plain": [
       "(array([[-0.44571664, -0.33276221,  0.32544466],\n",
       "        [-1.17890942,  0.91576935,  2.03253243],\n",
       "        [-0.37662672,  1.03540905, -0.45704497],\n",
       "        ...,\n",
       "        [ 0.53363363,  0.29664976, -2.07140003],\n",
       "        [-0.02825778, -0.85853373, -0.44567322],\n",
       "        [-0.4507428 , -1.66739107, -0.61139118]]),\n",
       " array([ 0.05542259,  0.07281238, -0.04902966]),\n",
       " array([[ 0.90956111,  0.00511329, -0.00201476],\n",
       "        [ 0.00511329,  1.89729062,  0.01115016],\n",
       "        [-0.00201476,  0.01115016,  1.01399216]]))"
      ]
     },
     "execution_count": 10,
     "metadata": {},
     "output_type": "execute_result"
    }
   ],
   "source": [
    "mut.lan_abduction(Dll_samples, ll_causal_graph, coefficients)"
   ]
  },
  {
   "cell_type": "code",
   "execution_count": null,
   "id": "41725c71",
   "metadata": {},
   "outputs": [],
   "source": []
  },
  {
   "cell_type": "code",
   "execution_count": null,
   "id": "df133589",
   "metadata": {},
   "outputs": [],
   "source": []
  },
  {
   "cell_type": "code",
   "execution_count": null,
   "id": "444a3355",
   "metadata": {},
   "outputs": [],
   "source": []
  },
  {
   "cell_type": "code",
   "execution_count": null,
   "id": "321fb980",
   "metadata": {},
   "outputs": [],
   "source": []
  },
  {
   "cell_type": "code",
   "execution_count": 7,
   "id": "4a38e57b",
   "metadata": {},
   "outputs": [],
   "source": [
    "ll_coefs               = mut.get_coefficients(Dll_samples, ll_causal_graph)\n",
    "U_l, mean_U_l, cov_U_l = mut.lan_abduction(Dll_samples, ll_causal_graph, ll_coefs)\n",
    "\n",
    "hl_coefs               = mut.get_coefficients(Dhl_samples, hl_causal_graph)\n",
    "U_h, mean_U_h, cov_U_h = mut.lan_abduction(Dhl_samples, hl_causal_graph, hl_coefs)"
   ]
  },
  {
   "cell_type": "code",
   "execution_count": 8,
   "id": "19d4fb85",
   "metadata": {},
   "outputs": [],
   "source": [
    "dag = CBN(list(ll_coefs.keys()))\n",
    "cm  = lanm.LinearAddSCM(dag, ll_coefs)"
   ]
  },
  {
   "cell_type": "code",
   "execution_count": 9,
   "id": "5e253597",
   "metadata": {},
   "outputs": [
    {
     "data": {
      "text/plain": [
       "array([[0.        , 0.30635831, 0.        ],\n",
       "       [0.        , 0.        , 0.20882779],\n",
       "       [0.        , 0.        , 0.        ]])"
      ]
     },
     "execution_count": 9,
     "metadata": {},
     "output_type": "execute_result"
    }
   ],
   "source": [
    "cm.return_adjacency_matrix()"
   ]
  },
  {
   "cell_type": "code",
   "execution_count": null,
   "id": "f094d3bb",
   "metadata": {},
   "outputs": [],
   "source": [
    "import numpy as np\n",
    "from scipy.optimize import minimize\n",
    "\n",
    "# Function to generate perturbed datasets\n",
    "def generate_perturbed_datasets(xi_hat, num_datasets, epsilon, p=2):\n",
    "    \"\"\"\n",
    "    Generate perturbed datasets based on the Wasserstein ball.\n",
    "    \n",
    "    Args:\n",
    "    xi_hat (numpy.ndarray): Original empirical samples, shape (N, m)\n",
    "    num_datasets (int): Number of perturbed datasets to generate\n",
    "    epsilon (float): Wasserstein ball radius\n",
    "    p (int): Power for the Wasserstein distance constraint (default is 2)\n",
    "    \n",
    "    Returns:\n",
    "    list of numpy.ndarray: List of perturbed datasets, each of shape (N, m)\n",
    "    \"\"\"\n",
    "    N, m = xi_hat.shape\n",
    "    perturbed_datasets = []\n",
    "    \n",
    "    # Target distribution or something you want to optimize over (optional)\n",
    "    some_target_distribution = np.random.randn(N, m)\n",
    "\n",
    "    # Loss function to minimize (e.g., distance to target distribution)\n",
    "    def objective_function(Theta_flat, xi_hat):\n",
    "        Theta = Theta_flat.reshape(N, m)\n",
    "        perturbed_samples = xi_hat + Theta\n",
    "        # Define a loss function here, e.g., distance from some target distribution\n",
    "        loss = np.linalg.norm(perturbed_samples - some_target_distribution)\n",
    "        return loss\n",
    "\n",
    "    # Wasserstein constraint\n",
    "    def wasserstein_constraint(Theta_flat):\n",
    "        Theta = Theta_flat.reshape(N, m)\n",
    "        return epsilon**p - np.mean(np.linalg.norm(Theta, ord=p, axis=1))\n",
    "\n",
    "    # Initial guess for perturbations (start with zeros)\n",
    "    Theta_init = np.zeros((N * m,))  # Flattened version of Theta_init\n",
    "\n",
    "    # Define bounds to ensure samples remain within some space (if needed)\n",
    "    bounds = [(-epsilon, epsilon)] * (N * m)  # Bounds for each element of Theta\n",
    "\n",
    "    # Generate multiple perturbed datasets\n",
    "    for _ in range(num_datasets):\n",
    "        result = minimize(objective_function, Theta_init, args=(xi_hat,),\n",
    "                          constraints={'type': 'ineq', 'fun': wasserstein_constraint},\n",
    "                          bounds=bounds)\n",
    "        \n",
    "        # Get the optimal perturbations and generate the perturbed dataset\n",
    "        Theta_opt = result.x.reshape(N, m)  # Reshape to get the original matrix form\n",
    "        perturbed_dataset = xi_hat + Theta_opt  # Apply the perturbation\n",
    "        perturbed_datasets.append(perturbed_dataset)\n",
    "\n",
    "    return perturbed_datasets\n",
    "\n",
    "\n",
    "# Example usage\n",
    "xi_hat = np.array([[ 1.51008893,  1.30967393,  1.21715588],\n",
    "                   [ 0.61357709,  0.52529855,  0.80942376],\n",
    "                   [ 0.83850483,  1.8185908 , -0.9543258 ],\n",
    "                   [ 1.14229802,  0.19042338,  1.34538866],\n",
    "                   [ 0.79083913, -0.09300395,  2.11915202],\n",
    "                   [ 1.34298599,  1.29666316,  0.11071287],\n",
    "                   [ 0.9738364 ,  0.71673072,  0.87294646],\n",
    "                   [ 0.9225889 ,  0.01205517,  0.09270841],\n",
    "                   [ 0.94860394,  1.14796928,  0.57379993],\n",
    "                   [ 0.51783036, -1.57670005,  0.89880883]])\n",
    "\n",
    "epsilon = 0.1  # Define the Wasserstein ball radius\n",
    "num_datasets = 5  # Number of perturbed datasets to generate\n",
    "\n",
    "# Generate perturbed datasets\n",
    "perturbed_datasets = generate_perturbed_datasets(xi_hat, num_datasets, epsilon)\n",
    "\n",
    "# Example: Access the first perturbed dataset\n",
    "print(perturbed_datasets)\n"
   ]
  },
  {
   "cell_type": "code",
   "execution_count": 16,
   "id": "94f0125a",
   "metadata": {},
   "outputs": [
    {
     "name": "stdout",
     "output_type": "stream",
     "text": [
      "Samples (x_i):\n",
      "[[ 0.59052003  0.39646013]\n",
      " [-0.3465302  -1.50803031]\n",
      " [-0.93230998  0.89260516]\n",
      " [-0.55444732  0.71291643]\n",
      " [ 0.73847934  0.35594886]]\n",
      "\n",
      "Weights (1/N for each sample):\n",
      "[0.2 0.2 0.2 0.2 0.2]\n"
     ]
    }
   ],
   "source": [
    "import numpy as np\n",
    "\n",
    "# Function to compute empirical distribution P_N\n",
    "def empirical_distribution(P_N):\n",
    "    N = len(P_N)\n",
    "    return P_N, np.ones(N) / N  # Return the samples and their weights (1/N)\n",
    "\n",
    "# Example dataset: N samples with k variables each\n",
    "N = 5  # Number of samples\n",
    "k = 2  # Number of variables per sample\n",
    "\n",
    "# Create a sample dataset (replace this with your actual dataset)\n",
    "data = np.random.randn(N, k)\n",
    "\n",
    "# Compute empirical distribution P_N\n",
    "samples, weights = empirical_distribution(data)\n",
    "\n",
    "# Output the samples and weights\n",
    "print(\"Samples (x_i):\")\n",
    "print(samples)\n",
    "\n",
    "print(\"\\nWeights (1/N for each sample):\")\n",
    "print(weights)"
   ]
  },
  {
   "cell_type": "code",
   "execution_count": 15,
   "id": "407e51c0",
   "metadata": {
    "scrolled": true
   },
   "outputs": [
    {
     "data": {
      "text/plain": [
       "array([[ 6.19190006e-02,  1.52367358e+00],\n",
       "       [ 4.64995785e-01, -5.84862328e-01],\n",
       "       [-2.94821146e-01,  5.65221370e-02],\n",
       "       [-1.58874056e+00,  1.47683924e+00],\n",
       "       [-1.98604682e+00, -1.93759398e+00],\n",
       "       [ 4.72642466e-01, -2.92036146e-01],\n",
       "       [ 1.05801366e+00, -1.33273531e+00],\n",
       "       [-4.98287478e-01,  6.37078417e-01],\n",
       "       [ 1.82538087e+00,  5.93908124e-01],\n",
       "       [ 5.33864011e-01,  3.80632599e-01],\n",
       "       [-2.04494684e-01,  1.20420164e+00],\n",
       "       [ 1.20613446e+00,  8.46666191e-01],\n",
       "       [-9.17067302e-01,  4.08418214e-01],\n",
       "       [ 1.94066240e+00,  2.00187183e+00],\n",
       "       [-1.35542056e+00,  9.23502599e-01],\n",
       "       [ 5.11578693e-01,  1.10774924e+00],\n",
       "       [ 2.57793032e-01,  1.10987304e+00],\n",
       "       [-5.26314554e-01, -7.90926453e-01],\n",
       "       [-2.77185385e-01, -9.99674160e-01],\n",
       "       [ 5.14191336e-01, -1.23366912e+00],\n",
       "       [ 1.13791194e+00,  4.54684160e-01],\n",
       "       [-2.06002885e+00,  1.31312254e+00],\n",
       "       [ 4.17410634e-01, -1.77609429e-01],\n",
       "       [-8.34152211e-01,  5.36554262e-01],\n",
       "       [-2.56782056e-01,  1.53852850e+00],\n",
       "       [ 2.87279381e-02, -1.46326295e+00],\n",
       "       [ 3.03400809e-01,  4.67132492e-01],\n",
       "       [ 5.67367887e-01, -4.83151188e-02],\n",
       "       [-5.85289215e-01,  8.52890235e-01],\n",
       "       [-1.71672359e-01, -8.02652944e-01],\n",
       "       [ 4.13421527e-01,  1.74782876e+00],\n",
       "       [ 2.04062581e-01, -9.64822441e-01],\n",
       "       [-2.50145757e-01,  8.52581959e-01],\n",
       "       [ 5.94300390e-01, -6.42313103e-01],\n",
       "       [-3.95946699e-01, -3.32041603e-01],\n",
       "       [ 1.95522651e-01,  1.67583884e-01],\n",
       "       [-3.76536727e-01, -2.39888751e+00],\n",
       "       [ 1.01507408e+00, -4.57089558e-01],\n",
       "       [-6.95053879e-01, -1.00945790e+00],\n",
       "       [-1.05471994e+00,  1.58069661e+00],\n",
       "       [-3.03222786e-01,  3.27800145e+00],\n",
       "       [-4.48666625e-01, -1.24239702e+00],\n",
       "       [-8.02074844e-01, -6.27584630e-01],\n",
       "       [ 1.09121013e+00, -2.11337132e+00],\n",
       "       [-1.45041251e+00, -5.68104929e-02],\n",
       "       [ 7.20199948e-01,  2.30300870e-01],\n",
       "       [ 3.85384213e-01, -4.42692023e-01],\n",
       "       [-1.45269528e+00, -1.56999838e+00],\n",
       "       [-6.80115793e-01, -1.84774155e+00],\n",
       "       [ 5.99860311e-01,  3.81469522e-01],\n",
       "       [-3.78979861e-01,  1.41830538e-02],\n",
       "       [-2.30079077e+00, -9.66465504e-01],\n",
       "       [ 1.16083683e+00, -5.29745188e-01],\n",
       "       [-2.51795106e-01, -1.21118263e+00],\n",
       "       [ 9.67484073e-01,  4.18498545e-01],\n",
       "       [ 2.98524907e+00, -1.32005157e+00],\n",
       "       [-7.51190826e-01,  4.83358871e-03],\n",
       "       [ 7.73660711e-01, -1.26828457e+00],\n",
       "       [ 5.16571950e-01, -1.38057277e+00],\n",
       "       [-3.94449667e-01,  5.62299949e-01],\n",
       "       [-5.95184445e-01,  1.08762354e+00],\n",
       "       [-2.23058337e-01,  4.68080445e-01],\n",
       "       [ 6.78245679e-02,  5.38116361e-01],\n",
       "       [-4.71663571e-01, -1.01721392e+00],\n",
       "       [-7.38757751e-01, -2.96436031e-01],\n",
       "       [ 4.00012175e-01,  4.77913243e-01],\n",
       "       [ 1.29180997e+00,  1.71109069e+00],\n",
       "       [-7.32404311e-01, -2.50671038e+00],\n",
       "       [ 6.28276324e-01,  2.29450355e-01],\n",
       "       [ 8.78134280e-01, -2.80316487e-01],\n",
       "       [-3.98300069e-01, -2.38067566e+00],\n",
       "       [ 2.75147718e+00,  9.76257932e-01],\n",
       "       [ 1.11202064e-01,  1.34946263e+00],\n",
       "       [ 4.69875257e-01, -1.14006622e+00],\n",
       "       [-3.98605350e-01,  2.93667283e-01],\n",
       "       [ 6.33897794e-01, -1.06882505e+00],\n",
       "       [ 5.96361093e-01, -1.85395587e+00],\n",
       "       [ 7.64184703e-02,  3.07526858e-01],\n",
       "       [-8.69027594e-01,  9.46044096e-01],\n",
       "       [-1.25284821e+00, -1.89100539e+00],\n",
       "       [-1.62453849e+00, -5.11465958e-01],\n",
       "       [ 1.60907825e+00,  9.08135649e-02],\n",
       "       [ 4.60889338e-01,  1.20453357e+00],\n",
       "       [-1.43776267e-01, -7.07998096e-01],\n",
       "       [ 2.31737662e-01,  1.29221287e+00],\n",
       "       [-2.39596395e+00,  1.04838542e-01],\n",
       "       [ 1.12929377e+00,  7.14978388e-01],\n",
       "       [ 5.08488037e-01,  7.32693114e-01],\n",
       "       [ 1.03983581e+00, -2.25679616e-01],\n",
       "       [-2.70996442e+00, -1.01925765e-01],\n",
       "       [ 2.04055695e-01, -5.71320360e-01],\n",
       "       [-1.54397028e+00,  3.62513128e-02],\n",
       "       [-9.79145993e-01, -5.07782101e-01],\n",
       "       [ 3.78735257e-01,  2.62393480e-02],\n",
       "       [ 9.00575891e-01,  3.40427952e-01],\n",
       "       [ 1.85716295e-01,  1.11261355e-01],\n",
       "       [ 5.54357117e-01, -2.83848029e-01],\n",
       "       [ 1.02674158e+00,  2.33509397e-02],\n",
       "       [ 7.56967362e-01,  7.95607428e-02],\n",
       "       [-1.65893791e+00,  1.25547241e-03]])"
      ]
     },
     "execution_count": 15,
     "metadata": {},
     "output_type": "execute_result"
    }
   ],
   "source": [
    "perturbed_samples"
   ]
  },
  {
   "cell_type": "code",
   "execution_count": null,
   "id": "231a60b2",
   "metadata": {},
   "outputs": [],
   "source": []
  },
  {
   "cell_type": "code",
   "execution_count": null,
   "id": "62698eb8",
   "metadata": {},
   "outputs": [],
   "source": []
  },
  {
   "cell_type": "code",
   "execution_count": null,
   "id": "a42376b5",
   "metadata": {},
   "outputs": [],
   "source": []
  }
 ],
 "metadata": {
  "kernelspec": {
   "display_name": "Python 3 (ipykernel)",
   "language": "python",
   "name": "python3"
  },
  "language_info": {
   "codemirror_mode": {
    "name": "ipython",
    "version": 3
   },
   "file_extension": ".py",
   "mimetype": "text/x-python",
   "name": "python",
   "nbconvert_exporter": "python",
   "pygments_lexer": "ipython3",
   "version": "3.9.13"
  }
 },
 "nbformat": 4,
 "nbformat_minor": 5
}
