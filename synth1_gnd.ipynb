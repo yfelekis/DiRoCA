{
 "cells": [
  {
   "cell_type": "code",
   "execution_count": 1,
   "id": "a28ac6f7",
   "metadata": {},
   "outputs": [],
   "source": [
    "import joblib\n",
    "import numpy as np\n",
    "import networkx as nx\n",
    "\n",
    "from src.CBN import CausalBayesianNetwork as CBN\n",
    "import modularised_utils as mut\n",
    "import Linear_Additive_Noise_Models as lanm\n",
    "import operations as ops\n",
    "\n",
    "import params\n",
    "\n",
    "np.random.seed(0)"
   ]
  },
  {
   "cell_type": "code",
   "execution_count": 12,
   "id": "406b67a9",
   "metadata": {},
   "outputs": [],
   "source": [
    "import torch"
   ]
  },
  {
   "cell_type": "markdown",
   "id": "ce898cd9",
   "metadata": {},
   "source": [
    "### Define low-level DCM \"LL\" and high-level DCM \"HL\""
   ]
  },
  {
   "cell_type": "code",
   "execution_count": 2,
   "id": "0575feee",
   "metadata": {},
   "outputs": [],
   "source": [
    "experiment = 'synth1_gnd'"
   ]
  },
  {
   "cell_type": "code",
   "execution_count": 3,
   "id": "10230e5e",
   "metadata": {},
   "outputs": [],
   "source": [
    "S = 'Smoking'\n",
    "T = 'Tar'\n",
    "C = 'Cancer'\n",
    "\n",
    "S_ = 'Smoking_'\n",
    "C_ = 'Cancer_'"
   ]
  },
  {
   "cell_type": "code",
   "execution_count": 4,
   "id": "afb18cf8",
   "metadata": {},
   "outputs": [],
   "source": [
    "ll_endogenous_coeff_dict = {(S, T): 0.3, (T, C): 0.2}\n",
    "ll_causal_graph          = CBN(list(ll_endogenous_coeff_dict.keys()))\n",
    "#nx.draw(nx.DiGraph(ll_causal_graph.edges()),with_labels=True)\n",
    "\n",
    "hl_endogenous_coeff_dict = {(S_, C_): 0.6}\n",
    "hl_causal_graph          = CBN(list(hl_endogenous_coeff_dict.keys()))\n",
    "#nx.draw(nx.DiGraph(hl_causal_graph.edges()),with_labels=True)"
   ]
  },
  {
   "cell_type": "code",
   "execution_count": 5,
   "id": "d66c8778",
   "metadata": {},
   "outputs": [],
   "source": [
    "# Define the number of samples from the low-level environment.\n",
    "num_llsamples   = params.n_samples[experiment][0]\n",
    "num_hlsamples   = params.n_samples[experiment][1]"
   ]
  },
  {
   "cell_type": "markdown",
   "id": "c2b57b88",
   "metadata": {},
   "source": [
    "### Construct the empirical nominal distribution/ environment"
   ]
  },
  {
   "cell_type": "code",
   "execution_count": 6,
   "id": "8eeb11ce",
   "metadata": {},
   "outputs": [],
   "source": [
    "ll_loc    = [0, 2, -1]    \n",
    "ll_scale  = [1, 0.5, 2]\n",
    "ll_shape  = [2, 2, 2] # beta = 2 => Laplace, beta--> inf => Uniform\n",
    "\n",
    "# hl_loc    = [0, 1]\n",
    "# hl_scale  = [1, 1]\n",
    "# hl_shape  = [2, 2]\n",
    "\n",
    "# # ll_moments = (ll_loc, ll_scale)\n",
    "# # hl_moments = (hl_loc, hl_scale)\n",
    "# lenv      = ops.MultivariateGeneralizedNormal(ll_loc, ll_scale, ll_shape)\n",
    "# henv      = ops.MultivariateGeneralizedNormal(hl_loc, hl_scale, hl_shape)\n",
    "\n",
    "# # lenv      = ops.MultivariateLaplace(ll_loc, ll_scale)\n",
    "# # henv      = ops.MultivariateLaplace(hl_loc, hl_scale)\n",
    "\n",
    "# Dll_noise = lenv.sample(10000)\n",
    "# Dhl_noise = henv.sample(10000)\n",
    "\n",
    "# # ll_environment = mut.get_exogenous_distribution(Dll_noise)\n",
    "# # hl_environment = mut.get_exogenous_distribution(Dhl_noise)"
   ]
  },
  {
   "cell_type": "markdown",
   "id": "d7ba255d",
   "metadata": {},
   "source": [
    "### Define the sets of relevant interventions and the (total) surjective and order-preserving function $ω:I^{L} \\mapsto I^{H}$"
   ]
  },
  {
   "cell_type": "code",
   "execution_count": 7,
   "id": "fc02d782",
   "metadata": {
    "scrolled": true
   },
   "outputs": [],
   "source": [
    "iota0 = None\n",
    "iota1 = ops.Intervention({S:0})\n",
    "iota2 = ops.Intervention({S:0, T:1})\n",
    "iota3 = ops.Intervention({S:1})\n",
    "iota4 = ops.Intervention({S:1, T:0})\n",
    "iota5 = ops.Intervention({S:1, T:1})\n",
    "\n",
    "eta0 = None\n",
    "eta1 = ops.Intervention({S_:0})\n",
    "eta2 = ops.Intervention({S_:1})\n",
    "\n",
    "omega = {   \n",
    "            iota0: eta0,\n",
    "            iota1: eta1,\n",
    "            iota2: eta1,\n",
    "            iota3: eta2,\n",
    "            iota4: eta2,\n",
    "            iota5: eta2\n",
    "        }\n",
    "\n",
    "Ill_relevant = list(set(omega.keys()))\n",
    "Ihl_relevant = list(set(omega.values()))"
   ]
  },
  {
   "cell_type": "markdown",
   "id": "e0d71d01",
   "metadata": {},
   "source": [
    "### Sampling and Pair construction"
   ]
  },
  {
   "cell_type": "code",
   "execution_count": 8,
   "id": "bb71bb68",
   "metadata": {},
   "outputs": [],
   "source": [
    "Dll_samples, Dll_noise = {}, {}\n",
    "for iota in Ill_relevant:\n",
    "\n",
    "    llcm              = lanm.LinearAddSCM(ll_causal_graph, ll_endogenous_coeff_dict, iota)\n",
    "    #Different Dll_noise for each iota\n",
    "    lenv_iota         = ops.MultivariateLaplace(ll_loc, ll_scale)\n",
    "    \n",
    "    Dll_noise[iota]   = lenv_iota.sample(num_llsamples)\n",
    "    Dll_samples[iota] = llcm.simulate(Dll_noise[iota], iota)"
   ]
  },
  {
   "cell_type": "code",
   "execution_count": 9,
   "id": "2d785c58",
   "metadata": {},
   "outputs": [],
   "source": [
    "noise, loc, scale = mut.lan_abduction_laplace(Dll_samples[None], ll_causal_graph, ll_endogenous_coeff_dict)"
   ]
  },
  {
   "cell_type": "code",
   "execution_count": 10,
   "id": "780b01ca",
   "metadata": {},
   "outputs": [
    {
     "data": {
      "text/plain": [
       "array([-1.35878524e-03,  2.00436547e+00, -1.00857800e+00])"
      ]
     },
     "execution_count": 10,
     "metadata": {},
     "output_type": "execute_result"
    }
   ],
   "source": [
    "loc"
   ]
  },
  {
   "cell_type": "code",
   "execution_count": 14,
   "id": "07f4685d",
   "metadata": {},
   "outputs": [],
   "source": [
    "# Define ground truth abstraction\n",
    "T = np.array([[1, 2, 1], [0, 1, 0]])"
   ]
  },
  {
   "cell_type": "code",
   "execution_count": null,
   "id": "0a0ee5a4",
   "metadata": {},
   "outputs": [],
   "source": [
    "data_observational_hl        = Dll_samples[None]@ T.T\n",
    "hl_endogenous_coeff_dict      = mut.get_coefficients(data_observational_hl, hl_causal_graph) \n",
    "U_hl, hl_mu_hat, hl_Sigma_hat = mut.lan_abduction(data_observational_hl, hl_causal_graph, hl_endogenous_coeff_dict)"
   ]
  },
  {
   "cell_type": "code",
   "execution_count": null,
   "id": "557404d8",
   "metadata": {},
   "outputs": [],
   "source": []
  },
  {
   "cell_type": "code",
   "execution_count": 21,
   "id": "c9e4a531",
   "metadata": {},
   "outputs": [],
   "source": [
    "Dll_samples = {}\n",
    "for iota in Ill_relevant:\n",
    "    llcm              = lanm.LinearAddSCM(ll_causal_graph, ll_endogenous_coeff_dict, iota)\n",
    "    Dll_samples[iota] = llcm.sample_settings(Dll_noise)\n",
    "\n",
    "Dhl_samples = {}\n",
    "for eta in Ihl_relevant:\n",
    "    hlcm             = lanm.LinearAddSCM(hl_causal_graph, hl_endogenous_coeff_dict, eta)\n",
    "    Dhl_samples[eta] = hlcm.sample_settings(Dhl_noise)\n",
    "\n",
    "Ds = {}\n",
    "for iota in Ill_relevant:\n",
    "    Ds[iota] = (Dll_samples[iota], Dhl_samples[omega[iota]])"
   ]
  },
  {
   "cell_type": "code",
   "execution_count": 22,
   "id": "454bb121",
   "metadata": {},
   "outputs": [
    {
     "data": {
      "text/plain": [
       "['data/synth1_gnd/Ds.pkl']"
      ]
     },
     "execution_count": 22,
     "metadata": {},
     "output_type": "execute_result"
    }
   ],
   "source": [
    "joblib.dump(Ds, f\"data/{experiment}/Ds.pkl\")"
   ]
  },
  {
   "cell_type": "code",
   "execution_count": 23,
   "id": "f97cb72f",
   "metadata": {},
   "outputs": [],
   "source": [
    "# LLmodels, Dll_samples = {}, {}\n",
    "# for iota in Ill_relevant:\n",
    "\n",
    "#     LLmodels[iota]      = lanm.LinearAddSCM(ll_causal_graph, ll_endogenous_coeff_dict, iota)\n",
    "#     Dll_samples[iota]   = LLmodels[iota].sample_settings(Dll_noise)\n",
    "\n",
    "# HLmodels, Dhl_samples = {}, {}\n",
    "# for eta in Ihl_relevant:\n",
    "\n",
    "#     HLmodels[eta]      = lanm.LinearAddSCM(hl_causal_graph, hl_endogenous_coeff_dict, eta)\n",
    "#     Dhl_samples[eta]   = HLmodels[eta].sample_settings(Dhl_noise)\n",
    "\n",
    "\n",
    "# pairs = mut.create_pairs(Ill_relevant, omega, LLmodels, HLmodels)\n",
    "\n",
    "# Ds = {}\n",
    "# for iota in Ill_relevant:\n",
    "#     Ds[iota] = (Dll_samples[iota], Dhl_samples[omega[iota]])"
   ]
  },
  {
   "cell_type": "code",
   "execution_count": 24,
   "id": "b87961d1",
   "metadata": {},
   "outputs": [],
   "source": [
    "# joblib.dump(pairs, f\"data/{experiment}/pairs.pkl\")\n",
    "# joblib.dump(Ds, f\"data/{experiment}/Ds.pkl\")"
   ]
  },
  {
   "cell_type": "code",
   "execution_count": null,
   "id": "b4ea1cbe",
   "metadata": {},
   "outputs": [],
   "source": []
  }
 ],
 "metadata": {
  "kernelspec": {
   "display_name": "erica",
   "language": "python",
   "name": "python3"
  },
  "language_info": {
   "codemirror_mode": {
    "name": "ipython",
    "version": 3
   },
   "file_extension": ".py",
   "mimetype": "text/x-python",
   "name": "python",
   "nbconvert_exporter": "python",
   "pygments_lexer": "ipython3",
   "version": "3.12.5"
  }
 },
 "nbformat": 4,
 "nbformat_minor": 5
}
