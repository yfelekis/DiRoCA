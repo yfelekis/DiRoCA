{
 "cells": [
  {
   "cell_type": "code",
   "execution_count": 2,
   "id": "a28ac6f7",
   "metadata": {},
   "outputs": [
    {
     "name": "stdout",
     "output_type": "stream",
     "text": [
      "[KeOps] Warning : CUDA libraries not found or could not be loaded; Switching to CPU only.\n"
     ]
    }
   ],
   "source": [
    "import json\n",
    "import pickle\n",
    "import time\n",
    "from datetime import datetime, timedelta\n",
    "from itertools import product\n",
    "\n",
    "import numpy as np\n",
    "import seaborn as sns\n",
    "import torch\n",
    "import torch.nn as nn\n",
    "import joblib\n",
    "import os\n",
    "\n",
    "import matplotlib.pyplot as plt\n",
    "from sklearn.model_selection import train_test_split\n",
    "\n",
    "from tqdm import tqdm\n",
    "\n",
    "# Local modules\n",
    "import modularised_utils as mut\n",
    "import opt_utils as oput\n",
    "import evaluation_utils as evut\n",
    "import Linear_Additive_Noise_Models as lanm\n",
    "import operations as ops\n",
    "import params\n",
    "\n",
    "np.random.seed(0)"
   ]
  },
  {
   "cell_type": "code",
   "execution_count": null,
   "id": "5279c89f",
   "metadata": {},
   "outputs": [],
   "source": [
    "experiment       = 'synth1' # or lucas6x3\n",
    "coeff_estimation = True\n",
    "\n",
    "num_llsamples, num_hlsamples  = params.n_samples[experiment]"
   ]
  },
  {
   "cell_type": "code",
   "execution_count": 4,
   "id": "21bf6a8e",
   "metadata": {},
   "outputs": [
    {
     "data": {
      "text/plain": [
       "['data/lucas6x3/Dhl_obs_test.pkl']"
      ]
     },
     "execution_count": 4,
     "metadata": {},
     "output_type": "execute_result"
    }
   ],
   "source": [
    "Dll_obs  = mut.load_samples(experiment)[None][0] \n",
    "Gll, Ill = mut.load_model(experiment, 'LL')\n",
    "l        = len(Gll.nodes())\n",
    "\n",
    "Dhl_obs  = mut.load_samples(experiment)[None][1] \n",
    "Ghl, Ihl = mut.load_model(experiment, 'HL')\n",
    "h        = len(Ghl.nodes())\n",
    "\n",
    "omega    = mut.load_omega_map(experiment)\n",
    "\n",
    "test_size = 0.2\n",
    "\n",
    "Dll_obs, Dll_obs_test = train_test_split(Dll_obs, test_size=test_size, random_state=42)\n",
    "Dhl_obs, Dhl_obs_test = train_test_split(Dhl_obs, test_size=test_size, random_state=42)\n",
    "\n",
    "joblib.dump(Dll_obs_test, f\"data/{experiment}/Dll_obs_test.pkl\")\n",
    "joblib.dump(Dhl_obs_test, f\"data/{experiment}/Dhl_obs_test.pkl\")"
   ]
  },
  {
   "cell_type": "code",
   "execution_count": 5,
   "id": "01341509",
   "metadata": {},
   "outputs": [],
   "source": [
    "if coeff_estimation == True:\n",
    "    ll_coeffs = mut.get_coefficients(Dll_obs, Gll)\n",
    "    hl_coeffs = mut.get_coefficients(Dhl_obs, Ghl) \n",
    "else:\n",
    "    ll_coeffs = mut.load_coeffs(experiment, 'LL')\n",
    "    hl_coeffs = mut.load_coeffs(experiment, 'HL')\n",
    "\n",
    "U_ll_hat, mu_U_ll_hat, Sigma_U_ll_hat = mut.lan_abduction(Dll_obs, Gll, ll_coeffs)\n",
    "U_hl_hat, mu_U_hl_hat, Sigma_U_hl_hat = mut.lan_abduction(Dhl_obs, Ghl, hl_coeffs)"
   ]
  },
  {
   "cell_type": "code",
   "execution_count": 6,
   "id": "2089d61b",
   "metadata": {},
   "outputs": [],
   "source": [
    "LLmodels = {}\n",
    "for iota in Ill:\n",
    "    LLmodels[iota] = lanm.LinearAddSCM(Gll, ll_coeffs, iota)\n",
    "    \n",
    "HLmodels, Dhl_samples = {}, {}\n",
    "for eta in Ihl:\n",
    "    HLmodels[eta] = lanm.LinearAddSCM(Ghl, hl_coeffs, eta)"
   ]
  },
  {
   "cell_type": "code",
   "execution_count": 6,
   "id": "18649c5a",
   "metadata": {},
   "outputs": [
    {
     "data": {
      "text/plain": [
       "['data/lucas6x3/HLmodels.pkl']"
      ]
     },
     "execution_count": 6,
     "metadata": {},
     "output_type": "execute_result"
    }
   ],
   "source": [
    "joblib.dump(LLmodels, f\"data/{experiment}/LLmodels.pkl\")\n",
    "joblib.dump(HLmodels, f\"data/{experiment}/HLmodels.pkl\")"
   ]
  },
  {
   "cell_type": "code",
   "execution_count": 7,
   "id": "71b00312",
   "metadata": {},
   "outputs": [],
   "source": [
    "L_matrices = oput.compute_struc_matrices(LLmodels, Ill)\n",
    "H_matrices = oput.compute_struc_matrices(HLmodels, Ihl)"
   ]
  },
  {
   "cell_type": "markdown",
   "id": "23480439",
   "metadata": {},
   "source": [
    "# Optimisation"
   ]
  },
  {
   "cell_type": "markdown",
   "id": "7330dc83",
   "metadata": {},
   "source": [
    "### 1. ERiCA optimization\n"
   ]
  },
  {
   "cell_type": "code",
   "execution_count": 7,
   "id": "4433eb10",
   "metadata": {},
   "outputs": [],
   "source": [
    "def compute_empirical_radius(N, eta, c1=1.0, c2=1.0, alpha=2.0, m=3):\n",
    "    \"\"\"\n",
    "    Compute epsilon_N(eta) for empirical Wasserstein case.\n",
    "\n",
    "    Parameters:\n",
    "    - N: int, number of samples\n",
    "    - eta: float, confidence level (0 < eta < 1)\n",
    "    - c1: float, constant from theorem (default 1.0, adjust if needed)\n",
    "    - c2: float, constant from theorem (default 1.0, adjust if needed)\n",
    "    - alpha: float, light-tail exponent (P[exp(||ξ||^α)] ≤ A)\n",
    "    - m: int, ambient dimension\n",
    "\n",
    "    Returns:\n",
    "    - epsilon: float, the concentration radius\n",
    "    \"\"\"\n",
    "    assert 0 < eta < 1, \"eta must be in (0,1)\"\n",
    "    threshold = np.log(c1 / eta) / c2\n",
    "    if N >= threshold:\n",
    "        exponent = min(1/m, 0.5)\n",
    "    else:\n",
    "        exponent = 1 / alpha\n",
    "\n",
    "    epsilon = (np.log(c1 / eta) / (c2 * N)) ** exponent\n",
    "    return epsilon\n"
   ]
  },
  {
   "cell_type": "code",
   "execution_count": 8,
   "id": "805389f9",
   "metadata": {},
   "outputs": [],
   "source": [
    "ll_bound = round(compute_empirical_radius(N=num_llsamples, eta=0.05, c1=1000.0, c2=1.0, alpha=2.0, m=l), 3)\n",
    "hl_bound = round(compute_empirical_radius(N=num_hlsamples, eta=0.05, c1=1000.0, c2=1.0, alpha=2.0, m=h), 3)\n"
   ]
  },
  {
   "cell_type": "code",
   "execution_count": 11,
   "id": "10bc46f3",
   "metadata": {},
   "outputs": [
    {
     "data": {
      "text/plain": [
       "0.215"
      ]
     },
     "execution_count": 11,
     "metadata": {},
     "output_type": "execute_result"
    }
   ],
   "source": [
    "ll_bound"
   ]
  },
  {
   "cell_type": "code",
   "execution_count": 10,
   "id": "9de5f555",
   "metadata": {},
   "outputs": [],
   "source": [
    "epsilon, delta = ll_bound, hl_bound\n",
    "\n",
    "eta_max = 0.001\n",
    "eta_min = 0.001\n",
    "\n",
    "max_iter = 1000\n",
    "num_steps_min = 5\n",
    "num_steps_max = 2\n",
    "\n",
    "robust_L = True \n",
    "robust_H = True\n",
    "\n",
    "initialization = 'random'\n",
    "\n",
    "tol  = 1e-4\n",
    "seed = 23"
   ]
  },
  {
   "cell_type": "code",
   "execution_count": 11,
   "id": "de114160",
   "metadata": {},
   "outputs": [],
   "source": [
    "opt_params_erica = {\n",
    "                        'U_L': U_ll_hat,\n",
    "                        'U_H': U_hl_hat,\n",
    "                        'L_models': LLmodels,\n",
    "                        'H_models': HLmodels,\n",
    "                        'omega': omega,\n",
    "                        'epsilon': epsilon,\n",
    "                        'delta': delta,\n",
    "                        'eta_min': eta_min,\n",
    "                        'eta_max': eta_max,\n",
    "                        'num_steps_min': num_steps_min,\n",
    "                        'num_steps_max': num_steps_max,\n",
    "                        'max_iter': max_iter,\n",
    "                        'tol': tol,\n",
    "                        'seed': seed,\n",
    "                        'robust_L': robust_L,\n",
    "                        'robust_H': robust_H,\n",
    "                        'initialization': initialization,\n",
    "                        'experiment': experiment\n",
    "                    }"
   ]
  },
  {
   "cell_type": "code",
   "execution_count": 12,
   "id": "dde931fe",
   "metadata": {},
   "outputs": [
    {
     "name": "stdout",
     "output_type": "stream",
     "text": [
      "Training for ε=δ = 8\n"
     ]
    },
    {
     "name": "stderr",
     "output_type": "stream",
     "text": [
      " 20%|██        | 204/1000 [05:06<19:56,  1.50s/it]\n"
     ]
    },
    {
     "name": "stdout",
     "output_type": "stream",
     "text": [
      "Converged at iteration 205\n",
      "Training for ε=δ = 0.215\n"
     ]
    },
    {
     "name": "stderr",
     "output_type": "stream",
     "text": [
      "100%|██████████| 1000/1000 [17:15<00:00,  1.04s/it]\n"
     ]
    },
    {
     "name": "stdout",
     "output_type": "stream",
     "text": [
      "Training for ε=δ = 1\n"
     ]
    },
    {
     "name": "stderr",
     "output_type": "stream",
     "text": [
      " 81%|████████  | 807/1000 [16:32<03:57,  1.23s/it]\n"
     ]
    },
    {
     "name": "stdout",
     "output_type": "stream",
     "text": [
      "Converged at iteration 808\n",
      "Training for ε=δ = 2\n"
     ]
    },
    {
     "name": "stderr",
     "output_type": "stream",
     "text": [
      " 23%|██▎       | 231/1000 [03:30<11:40,  1.10it/s]\n"
     ]
    },
    {
     "name": "stdout",
     "output_type": "stream",
     "text": [
      "Converged at iteration 232\n",
      "Training for ε=δ = 4\n"
     ]
    },
    {
     "name": "stderr",
     "output_type": "stream",
     "text": [
      "  1%|          | 11/1000 [00:12<18:05,  1.10s/it]\n"
     ]
    },
    {
     "ename": "KeyboardInterrupt",
     "evalue": "",
     "output_type": "error",
     "traceback": [
      "\u001b[0;31m---------------------------------------------------------------------------\u001b[0m",
      "\u001b[0;31mKeyboardInterrupt\u001b[0m                         Traceback (most recent call last)",
      "Cell \u001b[0;32mIn[12], line 18\u001b[0m\n\u001b[1;32m     15\u001b[0m     opt_params_erica[\u001b[38;5;124m'\u001b[39m\u001b[38;5;124mdelta\u001b[39m\u001b[38;5;124m'\u001b[39m]   \u001b[38;5;241m=\u001b[39m eps_delta\n\u001b[1;32m     17\u001b[0m \u001b[38;5;66;03m# Run ERICA optimization\u001b[39;00m\n\u001b[0;32m---> 18\u001b[0m params_empirical, T_empirical \u001b[38;5;241m=\u001b[39m oput\u001b[38;5;241m.\u001b[39mrun_empirical_erica_optimization(\u001b[38;5;241m*\u001b[39m\u001b[38;5;241m*\u001b[39mopt_params_erica)\n\u001b[1;32m     20\u001b[0m \u001b[38;5;66;03m# Store results including optimization parameters and transformation matrix\u001b[39;00m\n\u001b[1;32m     21\u001b[0m \u001b[38;5;28;01mif\u001b[39;00m eps_delta \u001b[38;5;241m==\u001b[39m ll_bound:\n",
      "File \u001b[0;32m~/Desktop/ERiCA/opt_utils.py:1566\u001b[0m, in \u001b[0;36mrun_empirical_erica_optimization\u001b[0;34m(U_L, U_H, L_models, H_models, omega, epsilon, delta, eta_min, eta_max, num_steps_min, num_steps_max, max_iter, tol, seed, robust_L, robust_H, initialization, experiment)\u001b[0m\n\u001b[1;32m   1564\u001b[0m \u001b[38;5;66;03m# Project onto constraint sets\u001b[39;00m\n\u001b[1;32m   1565\u001b[0m \u001b[38;5;28;01mwith\u001b[39;00m torch\u001b[38;5;241m.\u001b[39mno_grad():\n\u001b[0;32m-> 1566\u001b[0m     Theta\u001b[38;5;241m.\u001b[39mdata \u001b[38;5;241m=\u001b[39m project_onto_frobenius_ball(Theta, epsilon)\n\u001b[1;32m   1567\u001b[0m     Phi\u001b[38;5;241m.\u001b[39mdata   \u001b[38;5;241m=\u001b[39m project_onto_frobenius_ball(Phi, delta)\n\u001b[1;32m   1569\u001b[0m mobj \u001b[38;5;241m=\u001b[39m empirical_objective(U_L, U_H, T, Theta, Phi, L_models, H_models, Ill, omega)\n",
      "File \u001b[0;32m~/Desktop/ERiCA/opt_utils.py:1491\u001b[0m, in \u001b[0;36mproject_onto_frobenius_ball\u001b[0;34m(matrix, radius)\u001b[0m\n\u001b[1;32m   1483\u001b[0m \u001b[38;5;250m\u001b[39m\u001b[38;5;124;03m\"\"\"\u001b[39;00m\n\u001b[1;32m   1484\u001b[0m \u001b[38;5;124;03mProjects matrix onto the ball defined by ||matrix||_F^2 <= radius_squared\u001b[39;00m\n\u001b[1;32m   1485\u001b[0m \u001b[38;5;124;03m\u001b[39;00m\n\u001b[0;32m   (...)\u001b[0m\n\u001b[1;32m   1488\u001b[0m \u001b[38;5;124;03m    radius_squared: The squared radius (N*epsilon^2 or N*delta^2)\u001b[39;00m\n\u001b[1;32m   1489\u001b[0m \u001b[38;5;124;03m\"\"\"\u001b[39;00m\n\u001b[1;32m   1490\u001b[0m N \u001b[38;5;241m=\u001b[39m matrix\u001b[38;5;241m.\u001b[39mshape[\u001b[38;5;241m0\u001b[39m]\n\u001b[0;32m-> 1491\u001b[0m squared_norm \u001b[38;5;241m=\u001b[39m torch\u001b[38;5;241m.\u001b[39mnorm(matrix, p\u001b[38;5;241m=\u001b[39m\u001b[38;5;124m'\u001b[39m\u001b[38;5;124mfro\u001b[39m\u001b[38;5;124m'\u001b[39m)\u001b[38;5;241m*\u001b[39m\u001b[38;5;241m*\u001b[39m\u001b[38;5;241m2\u001b[39m\n\u001b[1;32m   1492\u001b[0m \u001b[38;5;28;01mif\u001b[39;00m squared_norm \u001b[38;5;241m>\u001b[39m N \u001b[38;5;241m*\u001b[39m radius\u001b[38;5;241m*\u001b[39m\u001b[38;5;241m*\u001b[39m\u001b[38;5;241m2\u001b[39m:\n\u001b[1;32m   1493\u001b[0m     \u001b[38;5;28;01mreturn\u001b[39;00m matrix \u001b[38;5;241m*\u001b[39m torch\u001b[38;5;241m.\u001b[39msqrt(N \u001b[38;5;241m*\u001b[39m radius\u001b[38;5;241m*\u001b[39m\u001b[38;5;241m*\u001b[39m\u001b[38;5;241m2\u001b[39m \u001b[38;5;241m/\u001b[39m squared_norm)\n",
      "File \u001b[0;32m~/opt/anaconda3/envs/erica/lib/python3.12/site-packages/torch/_tensor.py:40\u001b[0m, in \u001b[0;36m_handle_torch_function_and_wrap_type_error_to_not_implemented.<locals>.wrapped\u001b[0;34m(*args, **kwargs)\u001b[0m\n\u001b[1;32m     38\u001b[0m     \u001b[38;5;28;01mif\u001b[39;00m has_torch_function(args):\n\u001b[1;32m     39\u001b[0m         \u001b[38;5;28;01mreturn\u001b[39;00m handle_torch_function(wrapped, args, \u001b[38;5;241m*\u001b[39margs, \u001b[38;5;241m*\u001b[39m\u001b[38;5;241m*\u001b[39mkwargs)\n\u001b[0;32m---> 40\u001b[0m     \u001b[38;5;28;01mreturn\u001b[39;00m f(\u001b[38;5;241m*\u001b[39margs, \u001b[38;5;241m*\u001b[39m\u001b[38;5;241m*\u001b[39mkwargs)\n\u001b[1;32m     41\u001b[0m \u001b[38;5;28;01mexcept\u001b[39;00m \u001b[38;5;167;01mTypeError\u001b[39;00m:\n\u001b[1;32m     42\u001b[0m     \u001b[38;5;28;01mreturn\u001b[39;00m \u001b[38;5;28mNotImplemented\u001b[39m\n",
      "\u001b[0;31mKeyboardInterrupt\u001b[0m: "
     ]
    }
   ],
   "source": [
    "# Define different epsilon=delta values\n",
    "eps_delta_values     = [8, ll_bound, 1, 2, 4]\n",
    "diroca_train_results_empirical = {}\n",
    "\n",
    "# For each epsilon=delta value\n",
    "for eps_delta in eps_delta_values:\n",
    "    print(f\"Training for ε=δ = {eps_delta}\")\n",
    "    # Update theta parameters\n",
    "    if eps_delta == ll_bound:\n",
    "        opt_params_erica['epsilon'] = ll_bound\n",
    "        opt_params_erica['delta']   = hl_bound\n",
    "    \n",
    "    else:\n",
    "        opt_params_erica['epsilon'] = eps_delta\n",
    "        opt_params_erica['delta']   = eps_delta\n",
    "    \n",
    "    # Run ERICA optimization\n",
    "    params_empirical, T_empirical = oput.run_empirical_erica_optimization(**opt_params_erica)\n",
    "    \n",
    "    # Store results including optimization parameters and transformation matrix\n",
    "    if eps_delta == ll_bound:\n",
    "        diroca_train_results_empirical['T_'+str(ll_bound)+'-'+str(hl_bound)] = {\n",
    "                                                    'optimization_params': params_empirical,\n",
    "                                                    'T_matrix': T_empirical\n",
    "                                                }\n",
    "    else:\n",
    "        diroca_train_results_empirical['T_'+str(eps_delta)] = {\n",
    "                                                    'optimization_params': params_empirical,\n",
    "                                                    'T_matrix': T_empirical\n",
    "                                                }\n",
    "\n",
    "print(\"\\nTraining completed. T matrices stored in trained_results dictionary.\")\n",
    "print(\"Available ε=δ values:\", list(diroca_train_results_empirical.keys()))"
   ]
  },
  {
   "cell_type": "markdown",
   "id": "342a3b53",
   "metadata": {},
   "source": [
    "### 2. ENRiCO optimization"
   ]
  },
  {
   "cell_type": "code",
   "execution_count": 13,
   "id": "d3e79515",
   "metadata": {},
   "outputs": [
    {
     "name": "stderr",
     "output_type": "stream",
     "text": [
      "100%|██████████| 1000/1000 [00:37<00:00, 26.97it/s]\n"
     ]
    }
   ],
   "source": [
    "params_enrico, T_enrico = oput.run_empirical_erica_optimization(**{**opt_params_erica, 'robust_L': False, 'robust_H': False})"
   ]
  },
  {
   "cell_type": "code",
   "execution_count": 14,
   "id": "21cdf455",
   "metadata": {},
   "outputs": [],
   "source": [
    "diroca_train_results_empirical['T_0.00'] = {\n",
    "                                'optimization_params': params_enrico,\n",
    "                                'T_matrix': T_enrico\n",
    "                            }"
   ]
  },
  {
   "cell_type": "markdown",
   "id": "118338bd",
   "metadata": {},
   "source": [
    "### 3. Barycentric Optimization"
   ]
  },
  {
   "cell_type": "code",
   "execution_count": 15,
   "id": "0f37197d",
   "metadata": {},
   "outputs": [],
   "source": [
    "opt_params_bary = {\n",
    "                        'U_ll_hat':U_ll_hat,\n",
    "                        'U_hl_hat':U_hl_hat,\n",
    "                        'L_matrices':L_matrices,\n",
    "                        'H_matrices':H_matrices,\n",
    "                        'max_iter':max_iter,\n",
    "                        'tol':tol,\n",
    "                        'seed':seed\n",
    "                    }\n",
    "                                    "
   ]
  },
  {
   "cell_type": "code",
   "execution_count": 16,
   "id": "e356f4a4",
   "metadata": {},
   "outputs": [
    {
     "name": "stderr",
     "output_type": "stream",
     "text": [
      "  0%|          | 0/1000 [00:00<?, ?it/s]"
     ]
    },
    {
     "name": "stderr",
     "output_type": "stream",
     "text": [
      "100%|██████████| 1000/1000 [00:02<00:00, 396.72it/s]\n"
     ]
    }
   ],
   "source": [
    "\n",
    "T_bary = oput.run_empirical_bary_optim(**opt_params_bary)\n",
    "params_bary = {'L':{}, 'H':{}}"
   ]
  },
  {
   "cell_type": "code",
   "execution_count": 17,
   "id": "a43ac3ab",
   "metadata": {},
   "outputs": [],
   "source": [
    "diroca_train_results_empirical['T_b'] = {\n",
    "                                'optimization_params': params_bary,\n",
    "                                'T_matrix': T_bary\n",
    "                            }"
   ]
  },
  {
   "cell_type": "markdown",
   "id": "a3fe2238",
   "metadata": {},
   "source": [
    "### 3. Randomized Smoothing"
   ]
  },
  {
   "cell_type": "code",
   "execution_count": 18,
   "id": "f62e41ab",
   "metadata": {},
   "outputs": [],
   "source": [
    "opt_params_smooth = {\n",
    "                        'U_L': U_ll_hat,\n",
    "                        'U_H': U_hl_hat,\n",
    "                        'L_models': LLmodels,\n",
    "                        'H_models': HLmodels,\n",
    "                        'omega': omega,\n",
    "                        'eta_min': eta_min,\n",
    "                        'num_steps_min': num_steps_min,\n",
    "                        'max_iter': 300,\n",
    "                        'tol': tol,\n",
    "                        'seed': seed,\n",
    "                        'noise_sigma': 0.1,\n",
    "                        'num_noise_samples': 10\n",
    "                        }"
   ]
  },
  {
   "cell_type": "code",
   "execution_count": 19,
   "id": "5df1ee1c",
   "metadata": {},
   "outputs": [
    {
     "name": "stderr",
     "output_type": "stream",
     "text": [
      "100%|██████████| 300/300 [05:46<00:00,  1.15s/it]\n"
     ]
    }
   ],
   "source": [
    "params_smooth, T_smooth = oput.run_empirical_smooth_optimization(**opt_params_smooth)"
   ]
  },
  {
   "cell_type": "code",
   "execution_count": 20,
   "id": "84cc9b52",
   "metadata": {},
   "outputs": [],
   "source": [
    "diroca_train_results_empirical['T_s'] = {\n",
    "                                'optimization_params': params_smooth,\n",
    "                                'T_matrix': T_smooth\n",
    "                            }"
   ]
  },
  {
   "cell_type": "code",
   "execution_count": null,
   "id": "77cac1d8",
   "metadata": {},
   "outputs": [],
   "source": []
  },
  {
   "cell_type": "code",
   "execution_count": 21,
   "id": "0a2d1517",
   "metadata": {},
   "outputs": [],
   "source": [
    "# First run the Abs-LiNGAM algorithm to get the transformation matrices\n",
    "abslingam_results = evut.run_abs_lingam_complete(Dll_obs, Dhl_obs)\n",
    "\n",
    "# Add these results to your T_results_emp dictionary\n",
    "diroca_train_results_empirical['T_pa'] = {'optimization_params':{'L':{'pert_U':U_ll_hat},'H':{'pert_U':U_hl_hat}}, 'T_matrix': abslingam_results['Perfect']['T'].T}\n",
    "diroca_train_results_empirical['T_na'] = {'optimization_params':{'L':{'pert_U':U_ll_hat},'H':{'pert_U':U_hl_hat}}, 'T_matrix': abslingam_results['Noisy']['T'].T}\n"
   ]
  },
  {
   "cell_type": "code",
   "execution_count": null,
   "id": "d50c303b",
   "metadata": {},
   "outputs": [],
   "source": []
  },
  {
   "cell_type": "markdown",
   "id": "67955a14",
   "metadata": {},
   "source": [
    "## Save the results"
   ]
  },
  {
   "cell_type": "code",
   "execution_count": null,
   "id": "dd57b0f5",
   "metadata": {},
   "outputs": [
    {
     "data": {
      "text/plain": [
       "['data/synth1/diroca_train_results_empirical.pkl']"
      ]
     },
     "execution_count": 22,
     "metadata": {},
     "output_type": "execute_result"
    }
   ],
   "source": [
    "joblib.dump(diroca_train_results_empirical, f\"data/{experiment}/diroca_train_results_empirical.pkl\")"
   ]
  },
  {
   "cell_type": "code",
   "execution_count": 23,
   "id": "9ef253c5",
   "metadata": {},
   "outputs": [
    {
     "name": "stdout",
     "output_type": "stream",
     "text": [
      "done!\n"
     ]
    }
   ],
   "source": [
    "print('done!')"
   ]
  },
  {
   "cell_type": "code",
   "execution_count": null,
   "id": "1c7a1eac",
   "metadata": {},
   "outputs": [],
   "source": []
  }
 ],
 "metadata": {
  "kernelspec": {
   "display_name": "erica",
   "language": "python",
   "name": "python3"
  },
  "language_info": {
   "codemirror_mode": {
    "name": "ipython",
    "version": 3
   },
   "file_extension": ".py",
   "mimetype": "text/x-python",
   "name": "python",
   "nbconvert_exporter": "python",
   "pygments_lexer": "ipython3",
   "version": "3.12.5"
  }
 },
 "nbformat": 4,
 "nbformat_minor": 5
}
