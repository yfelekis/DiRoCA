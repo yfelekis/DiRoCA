{
 "cells": [
  {
   "cell_type": "code",
   "execution_count": null,
   "id": "a28ac6f7",
   "metadata": {},
   "outputs": [],
   "source": [
    "import json\n",
    "import pickle\n",
    "import time\n",
    "from datetime import datetime, timedelta\n",
    "from itertools import product\n",
    "\n",
    "import numpy as np\n",
    "import seaborn as sns\n",
    "import torch\n",
    "import torch.nn as nn\n",
    "import joblib\n",
    "import os\n",
    "\n",
    "import matplotlib.pyplot as plt\n",
    "from sklearn.model_selection import train_test_split\n",
    "\n",
    "from tqdm import tqdm\n",
    "\n",
    "import modularised_utils as mut\n",
    "import opt_utils as oput\n",
    "import evaluation_utils as evut\n",
    "import Linear_Additive_Noise_Models as lanm\n",
    "import operations as ops\n",
    "import params\n",
    "\n",
    "np.random.seed(0)"
   ]
  },
  {
   "cell_type": "code",
   "execution_count": 20,
   "id": "5279c89f",
   "metadata": {},
   "outputs": [],
   "source": [
    "experiment       = 'lucas6x3' # or synth1\n",
    "coeff_estimation = False #assumes knowledge of the structural functions when set to False\n",
    "\n",
    "num_llsamples, num_hlsamples  = params.n_samples[experiment]"
   ]
  },
  {
   "cell_type": "code",
   "execution_count": null,
   "id": "21bf6a8e",
   "metadata": {},
   "outputs": [],
   "source": [
    "Dll_obs  = mut.load_samples(experiment)[None][0] \n",
    "Gll, Ill = mut.load_model(experiment, 'LL')\n",
    "l        = len(Gll.nodes())\n",
    "\n",
    "Dhl_obs  = mut.load_samples(experiment)[None][1] \n",
    "Ghl, Ihl = mut.load_model(experiment, 'HL')\n",
    "h        = len(Ghl.nodes())\n",
    "\n",
    "omega    = mut.load_omega_map(experiment)\n",
    "\n",
    "test_size = 0.2\n",
    "\n",
    "Dll_obs, Dll_obs_test = train_test_split(Dll_obs, test_size=test_size, random_state=42)\n",
    "Dhl_obs, Dhl_obs_test = train_test_split(Dhl_obs, test_size=test_size, random_state=42)\n",
    "\n",
    "joblib.dump(Dll_obs_test, f\"data/{experiment}/Dll_obs_test.pkl\")\n",
    "joblib.dump(Dhl_obs_test, f\"data/{experiment}/Dhl_obs_test.pkl\")"
   ]
  },
  {
   "cell_type": "code",
   "execution_count": 22,
   "id": "01341509",
   "metadata": {},
   "outputs": [],
   "source": [
    "if coeff_estimation == True:\n",
    "    ll_coeffs = mut.get_coefficients(Dll_obs, Gll)\n",
    "    hl_coeffs = mut.get_coefficients(Dhl_obs, Ghl) \n",
    "else:\n",
    "    ll_coeffs = mut.load_coeffs(experiment, 'LL')\n",
    "    hl_coeffs = mut.load_coeffs(experiment, 'HL')\n",
    "\n",
    "U_ll_hat, mu_U_ll_hat, Sigma_U_ll_hat = mut.lan_abduction(Dll_obs, Gll, ll_coeffs)\n",
    "U_hl_hat, mu_U_hl_hat, Sigma_U_hl_hat = mut.lan_abduction(Dhl_obs, Ghl, hl_coeffs)\n",
    "\n",
    "LLmodels = {}\n",
    "for iota in Ill:\n",
    "    LLmodels[iota] = lanm.LinearAddSCM(Gll, ll_coeffs, iota)\n",
    "    \n",
    "HLmodels, Dhl_samples = {}, {}\n",
    "for eta in Ihl:\n",
    "    HLmodels[eta] = lanm.LinearAddSCM(Ghl, hl_coeffs, eta)\n",
    "\n",
    "L_matrices = oput.compute_struc_matrices(LLmodels, Ill)\n",
    "H_matrices = oput.compute_struc_matrices(HLmodels, Ihl)"
   ]
  },
  {
   "cell_type": "code",
   "execution_count": null,
   "id": "18649c5a",
   "metadata": {},
   "outputs": [],
   "source": [
    "joblib.dump(LLmodels, f\"data/{experiment}/LLmodels.pkl\")\n",
    "joblib.dump(HLmodels, f\"data/{experiment}/HLmodels.pkl\")"
   ]
  },
  {
   "cell_type": "markdown",
   "id": "23480439",
   "metadata": {},
   "source": [
    "# Optimisation"
   ]
  },
  {
   "cell_type": "markdown",
   "id": "53f8b4b1",
   "metadata": {},
   "source": [
    "### Diroca_e,d optimization"
   ]
  },
  {
   "cell_type": "code",
   "execution_count": 24,
   "id": "805389f9",
   "metadata": {},
   "outputs": [],
   "source": [
    "ll_bound = round(oput.compute_empirical_radius(N=num_llsamples, eta=0.05, c1=1000.0, c2=1.0, alpha=2.0, m=l), 3)\n",
    "hl_bound = round(oput.compute_empirical_radius(N=num_hlsamples, eta=0.05, c1=1000.0, c2=1.0, alpha=2.0, m=h), 3)\n"
   ]
  },
  {
   "cell_type": "code",
   "execution_count": 25,
   "id": "9de5f555",
   "metadata": {},
   "outputs": [],
   "source": [
    "epsilon, delta = ll_bound, hl_bound\n",
    "\n",
    "eta_max = 0.001\n",
    "eta_min = 0.001\n",
    "\n",
    "max_iter = 3\n",
    "num_steps_min = 5\n",
    "num_steps_max = 2\n",
    "\n",
    "robust_L = True \n",
    "robust_H = True\n",
    "\n",
    "initialization = 'random'\n",
    "\n",
    "tol  = 1e-4\n",
    "seed = 23"
   ]
  },
  {
   "cell_type": "code",
   "execution_count": 26,
   "id": "de114160",
   "metadata": {},
   "outputs": [],
   "source": [
    "opt_params_erica = {\n",
    "                        'U_L': U_ll_hat,\n",
    "                        'U_H': U_hl_hat,\n",
    "                        'L_models': LLmodels,\n",
    "                        'H_models': HLmodels,\n",
    "                        'omega': omega,\n",
    "                        'epsilon': epsilon,\n",
    "                        'delta': delta,\n",
    "                        'eta_min': eta_min,\n",
    "                        'eta_max': eta_max,\n",
    "                        'num_steps_min': num_steps_min,\n",
    "                        'num_steps_max': num_steps_max,\n",
    "                        'max_iter': max_iter,\n",
    "                        'tol': tol,\n",
    "                        'seed': seed,\n",
    "                        'robust_L': robust_L,\n",
    "                        'robust_H': robust_H,\n",
    "                        'initialization': initialization,\n",
    "                        'experiment': experiment\n",
    "                    }"
   ]
  },
  {
   "cell_type": "code",
   "execution_count": null,
   "id": "dde931fe",
   "metadata": {},
   "outputs": [],
   "source": [
    "# Define different epsilon=delta values\n",
    "eps_delta_values     = [8, ll_bound, 1, 2, 4]\n",
    "diroca_train_results_empirical = {}\n",
    "\n",
    "# For each epsilon=delta value\n",
    "for eps_delta in eps_delta_values:\n",
    "    print(f\"Training for ε=δ = {eps_delta}\")\n",
    "    # Update theta parameters\n",
    "    if eps_delta == ll_bound:\n",
    "        opt_params_erica['epsilon'] = ll_bound\n",
    "        opt_params_erica['delta']   = hl_bound\n",
    "    \n",
    "    else:\n",
    "        opt_params_erica['epsilon'] = eps_delta\n",
    "        opt_params_erica['delta']   = eps_delta\n",
    "    \n",
    "    # Run DIROCA optimization\n",
    "    params_empirical, T_empirical = oput.run_empirical_erica_optimization(**opt_params_erica)\n",
    "    \n",
    "    # Store results including optimization parameters and transformation matrix\n",
    "    if eps_delta == ll_bound:\n",
    "        diroca_train_results_empirical['T_'+str(ll_bound)+'-'+str(hl_bound)] = {\n",
    "                                                    'optimization_params': params_empirical,\n",
    "                                                    'T_matrix': T_empirical\n",
    "                                                }\n",
    "    else:\n",
    "        diroca_train_results_empirical['T_'+str(eps_delta)] = {\n",
    "                                                    'optimization_params': params_empirical,\n",
    "                                                    'T_matrix': T_empirical\n",
    "                                                }\n",
    "\n",
    "print(\"\\nTraining completed. .\")\n",
    "print(\"Available ε=δ values:\", list(diroca_train_results_empirical.keys()))"
   ]
  },
  {
   "cell_type": "markdown",
   "id": "342a3b53",
   "metadata": {},
   "source": [
    "### GRADCA optimization"
   ]
  },
  {
   "cell_type": "code",
   "execution_count": null,
   "id": "d3e79515",
   "metadata": {},
   "outputs": [],
   "source": [
    "params_enrico, T_enrico = oput.run_empirical_erica_optimization(**{**opt_params_erica, 'robust_L': False, 'robust_H': False})"
   ]
  },
  {
   "cell_type": "code",
   "execution_count": 29,
   "id": "21cdf455",
   "metadata": {},
   "outputs": [],
   "source": [
    "diroca_train_results_empirical['T_0.00'] = {\n",
    "                                'optimization_params': params_enrico,\n",
    "                                'T_matrix': T_enrico\n",
    "                            }"
   ]
  },
  {
   "cell_type": "markdown",
   "id": "118338bd",
   "metadata": {},
   "source": [
    "### BARYCA optimization"
   ]
  },
  {
   "cell_type": "code",
   "execution_count": 30,
   "id": "0f37197d",
   "metadata": {},
   "outputs": [],
   "source": [
    "opt_params_bary = {\n",
    "                        'U_ll_hat':U_ll_hat,\n",
    "                        'U_hl_hat':U_hl_hat,\n",
    "                        'L_matrices':L_matrices,\n",
    "                        'H_matrices':H_matrices,\n",
    "                        'max_iter':max_iter,\n",
    "                        'tol':tol,\n",
    "                        'seed':seed\n",
    "                    }\n",
    "                                    "
   ]
  },
  {
   "cell_type": "code",
   "execution_count": null,
   "id": "e356f4a4",
   "metadata": {},
   "outputs": [],
   "source": [
    "\n",
    "T_bary = oput.run_empirical_bary_optim(**opt_params_bary)\n",
    "params_bary = {'L':{}, 'H':{}}"
   ]
  },
  {
   "cell_type": "code",
   "execution_count": 32,
   "id": "a43ac3ab",
   "metadata": {},
   "outputs": [],
   "source": [
    "diroca_train_results_empirical['T_b'] = {\n",
    "                                'optimization_params': params_bary,\n",
    "                                'T_matrix': T_bary\n",
    "                            }"
   ]
  },
  {
   "cell_type": "markdown",
   "id": "a3fe2238",
   "metadata": {},
   "source": [
    "### RSCA optimization"
   ]
  },
  {
   "cell_type": "code",
   "execution_count": 33,
   "id": "f62e41ab",
   "metadata": {},
   "outputs": [],
   "source": [
    "opt_params_smooth = {\n",
    "                        'U_L': U_ll_hat,\n",
    "                        'U_H': U_hl_hat,\n",
    "                        'L_models': LLmodels,\n",
    "                        'H_models': HLmodels,\n",
    "                        'omega': omega,\n",
    "                        'eta_min': eta_min,\n",
    "                        'num_steps_min': num_steps_min,\n",
    "                        'max_iter': 2,\n",
    "                        'tol': tol,\n",
    "                        'seed': seed,\n",
    "                        'noise_sigma': 0.1,\n",
    "                        'num_noise_samples': 10\n",
    "                        }"
   ]
  },
  {
   "cell_type": "code",
   "execution_count": null,
   "id": "5df1ee1c",
   "metadata": {},
   "outputs": [],
   "source": [
    "params_smooth, T_smooth = oput.run_empirical_smooth_optimization(**opt_params_smooth)"
   ]
  },
  {
   "cell_type": "code",
   "execution_count": 35,
   "id": "84cc9b52",
   "metadata": {},
   "outputs": [],
   "source": [
    "diroca_train_results_empirical['T_s'] = {\n",
    "                                'optimization_params': params_smooth,\n",
    "                                'T_matrix': T_smooth\n",
    "                            }"
   ]
  },
  {
   "cell_type": "markdown",
   "id": "03df593e",
   "metadata": {},
   "source": [
    "### Abs-LiNGAM optimization"
   ]
  },
  {
   "cell_type": "code",
   "execution_count": 36,
   "id": "0a2d1517",
   "metadata": {},
   "outputs": [],
   "source": [
    "abslingam_results = evut.run_abs_lingam_complete(Dll_obs, Dhl_obs)\n",
    "\n",
    "diroca_train_results_empirical['T_pa'] = {'optimization_params':{'L':{'pert_U':U_ll_hat},'H':{'pert_U':U_hl_hat}}, 'T_matrix': abslingam_results['Perfect']['T'].T}\n",
    "diroca_train_results_empirical['T_na'] = {'optimization_params':{'L':{'pert_U':U_ll_hat},'H':{'pert_U':U_hl_hat}}, 'T_matrix': abslingam_results['Noisy']['T'].T}\n"
   ]
  },
  {
   "cell_type": "markdown",
   "id": "67955a14",
   "metadata": {},
   "source": [
    "## Save the results"
   ]
  },
  {
   "cell_type": "code",
   "execution_count": null,
   "id": "dd57b0f5",
   "metadata": {},
   "outputs": [],
   "source": [
    "joblib.dump(diroca_train_results_empirical, f\"data/{experiment}/diroca_train_results_empirical.pkl\")"
   ]
  },
  {
   "cell_type": "code",
   "execution_count": null,
   "id": "1c7a1eac",
   "metadata": {},
   "outputs": [],
   "source": []
  }
 ],
 "metadata": {
  "kernelspec": {
   "display_name": "erica",
   "language": "python",
   "name": "python3"
  },
  "language_info": {
   "codemirror_mode": {
    "name": "ipython",
    "version": 3
   },
   "file_extension": ".py",
   "mimetype": "text/x-python",
   "name": "python",
   "nbconvert_exporter": "python",
   "pygments_lexer": "ipython3",
   "version": "3.12.5"
  }
 },
 "nbformat": 4,
 "nbformat_minor": 5
}
