{
 "cells": [
  {
   "cell_type": "code",
   "execution_count": 1,
   "id": "a28ac6f7",
   "metadata": {},
   "outputs": [],
   "source": [
    "import joblib\n",
    "import numpy as np\n",
    "# import networkx as nx  \n",
    "\n",
    "from models import LinearAddSCM, CausalBayesianNetwork, Intervention\n",
    "import utilities as ut"
   ]
  },
  {
   "cell_type": "markdown",
   "id": "ce898cd9",
   "metadata": {},
   "source": [
    "### Define low-level DCM \"LL\" and high-level DCM \"HL\""
   ]
  },
  {
   "cell_type": "code",
   "execution_count": 2,
   "id": "0575feee",
   "metadata": {},
   "outputs": [],
   "source": [
    "experiment = 'SLC'"
   ]
  },
  {
   "cell_type": "code",
   "execution_count": 3,
   "id": "10230e5e",
   "metadata": {},
   "outputs": [],
   "source": [
    "S = 'Smoking'\n",
    "T = 'Tar'\n",
    "C = 'Cancer'\n",
    "\n",
    "S_ = 'Smoking_'\n",
    "C_ = 'Cancer_'"
   ]
  },
  {
   "cell_type": "code",
   "execution_count": 4,
   "id": "afb18cf8",
   "metadata": {},
   "outputs": [],
   "source": [
    "ll_endogenous_coeff_dict = {(S, T): 0.3, (T, C): 0.2}\n",
    "ll_causal_graph          = CausalBayesianNetwork(list(ll_endogenous_coeff_dict.keys()))\n",
    "\n",
    "hl_endogenous_coeff_dict = {(S_, C_): 0.0}\n",
    "hl_causal_graph          = CausalBayesianNetwork(list(hl_endogenous_coeff_dict.keys()))"
   ]
  },
  {
   "cell_type": "code",
   "execution_count": 5,
   "id": "d66c8778",
   "metadata": {},
   "outputs": [],
   "source": [
    "num_llsamples, num_hlsamples = 10000, 10000"
   ]
  },
  {
   "cell_type": "markdown",
   "id": "c2b57b88",
   "metadata": {},
   "source": [
    "### Construct the empirical nominal distribution for the low-level model"
   ]
  },
  {
   "cell_type": "code",
   "execution_count": 6,
   "id": "942ffe6d",
   "metadata": {},
   "outputs": [],
   "source": [
    "ll_mu_hat    = np.array([0, 0, 0])  \n",
    "ll_Sigma_hat = np.diag([1, 1, 1])  "
   ]
  },
  {
   "cell_type": "markdown",
   "id": "d7ba255d",
   "metadata": {},
   "source": [
    "### Define the sets of relevant interventions and the (total) surjective and order-preserving function $ω:I^{L} \\mapsto I^{H}$"
   ]
  },
  {
   "cell_type": "code",
   "execution_count": 7,
   "id": "fc02d782",
   "metadata": {
    "scrolled": true
   },
   "outputs": [],
   "source": [
    "iota0 = None\n",
    "iota1 = Intervention({S:0})\n",
    "iota2 = Intervention({S:0, T:1})\n",
    "iota3 = Intervention({S:1})\n",
    "iota4 = Intervention({S:1, T:0})\n",
    "iota5 = Intervention({S:1, T:1})\n",
    "\n",
    "eta0 = None\n",
    "eta1 = Intervention({S_:0})\n",
    "eta2 = Intervention({S_:1})\n",
    "\n",
    "omega = {   \n",
    "            iota0: eta0,\n",
    "            iota1: eta1,\n",
    "            iota2: eta1,\n",
    "            iota3: eta2,\n",
    "            iota4: eta2,\n",
    "            iota5: eta2\n",
    "        }\n",
    "\n",
    "Ill_relevant = list(set(omega.keys()))\n",
    "Ihl_relevant = list(set(omega.values()))"
   ]
  },
  {
   "cell_type": "markdown",
   "id": "e0d71d01",
   "metadata": {},
   "source": [
    "### Sampling and Pair construction"
   ]
  },
  {
   "cell_type": "code",
   "execution_count": 8,
   "id": "39858720",
   "metadata": {},
   "outputs": [],
   "source": [
    "Dll_samples, Dll_noise = {}, {}\n",
    "for iota in Ill_relevant:\n",
    "    llcm              = LinearAddSCM(ll_causal_graph, ll_endogenous_coeff_dict, iota)\n",
    "    Dll_noise[iota]   = np.random.multivariate_normal(mean=ll_mu_hat, cov=ll_Sigma_hat, size=num_llsamples)\n",
    "    Dll_samples[iota] = llcm.simulate(Dll_noise[iota])"
   ]
  },
  {
   "cell_type": "markdown",
   "id": "1184c205",
   "metadata": {},
   "source": [
    "### Define the abstraction T"
   ]
  },
  {
   "cell_type": "code",
   "execution_count": 9,
   "id": "ac14aca2",
   "metadata": {},
   "outputs": [],
   "source": [
    "T = np.array([[1, 2, 1], [0, 1, 0]])"
   ]
  },
  {
   "cell_type": "markdown",
   "id": "df10ad18",
   "metadata": {},
   "source": [
    "### Compute the empirical nominal distribution for the high-level model and the linear coefficients"
   ]
  },
  {
   "cell_type": "code",
   "execution_count": 11,
   "id": "8965e2e2",
   "metadata": {},
   "outputs": [],
   "source": [
    "data_observational_hl = Dll_samples[None] @ T.T\n",
    "\n",
    "hl_endogenous_coeff_dict, U_hl = ut.get_coefficients(data_observational_hl, hl_causal_graph, return_noise=True) \n",
    "\n",
    "hl_mu_hat    = np.mean(U_hl, axis=0)\n",
    "hl_Sigma_hat = np.diag(np.var(U_hl, axis=0))"
   ]
  },
  {
   "cell_type": "markdown",
   "id": "adb6b0fa",
   "metadata": {},
   "source": [
    "### Generate samples for the high-level model"
   ]
  },
  {
   "cell_type": "code",
   "execution_count": 12,
   "id": "e9ba90e3",
   "metadata": {},
   "outputs": [],
   "source": [
    "Dhl_samples, Dhl_noise = {}, {}\n",
    "for eta in Ihl_relevant:\n",
    "\n",
    "    if eta is not None:\n",
    "        hlcm             = LinearAddSCM(hl_causal_graph, hl_endogenous_coeff_dict, eta)\n",
    "        Dhl_noise[eta]   = np.random.multivariate_normal(mean=hl_mu_hat, cov=hl_Sigma_hat, size=num_hlsamples)\n",
    "        Dhl_samples[eta] = hlcm.simulate(Dhl_noise[eta])\n",
    "\n",
    "    else:\n",
    "        Dhl_noise[eta]   = U_hl\n",
    "        Dhl_samples[eta] = data_observational_hl"
   ]
  },
  {
   "cell_type": "markdown",
   "id": "ddfe34d1",
   "metadata": {},
   "source": [
    "### Save the data"
   ]
  },
  {
   "cell_type": "code",
   "execution_count": 13,
   "id": "47650fa0",
   "metadata": {},
   "outputs": [],
   "source": [
    "LLmodel = {\n",
    "    'graph': ll_causal_graph,\n",
    "    'intervention_set': Ill_relevant,\n",
    "    'coeffs': ll_endogenous_coeff_dict,\n",
    "    'noise_dist': {\n",
    "        'mu': ll_mu_hat,\n",
    "        'sigma': ll_Sigma_hat\n",
    "    }\n",
    "}\n",
    "\n",
    "HLmodel = {\n",
    "    'graph': hl_causal_graph,\n",
    "    'intervention_set': Ihl_relevant,\n",
    "    'coeffs': hl_endogenous_coeff_dict,\n",
    "    'noise_dist': {\n",
    "        'mu': hl_mu_hat,\n",
    "        'sigma': hl_Sigma_hat\n",
    "    }\n",
    "}\n",
    "\n",
    "abstraction_data = {\n",
    "    'T': T,\n",
    "    'omega': omega\n",
    "}"
   ]
  },
  {
   "cell_type": "code",
   "execution_count": 14,
   "id": "91f8b26d",
   "metadata": {},
   "outputs": [
    {
     "data": {
      "text/plain": [
       "['data/SLC/abstraction_data.pkl']"
      ]
     },
     "execution_count": 14,
     "metadata": {},
     "output_type": "execute_result"
    }
   ],
   "source": [
    "path = f\"data/{experiment}\"\n",
    "\n",
    "joblib.dump(LLmodel, f\"{path}/LLmodel.pkl\")\n",
    "joblib.dump(HLmodel, f\"{path}/HLmodel.pkl\")\n",
    "joblib.dump(abstraction_data, f\"{path}/abstraction_data.pkl\")"
   ]
  },
  {
   "cell_type": "code",
   "execution_count": 7,
   "id": "ac240f27",
   "metadata": {},
   "outputs": [
    {
     "name": "stdout",
     "output_type": "stream",
     "text": [
      "✅ Successfully loaded data for experiment: 'lilucas'\n",
      "\n",
      "--- Example Data Access ---\n",
      "\n",
      "Low-level coefficients: {('Smoking', 'Lung Cancer'): 0.9, ('Genetics', 'Lung Cancer'): 0.8, ('Lung Cancer', 'Coughing'): 0.6, ('Lung Cancer', 'Fatigue'): 0.9, ('Coughing', 'Fatigue'): 0.5, ('Allergy', 'Coughing'): 0.4}\n",
      "High-level graph nodes: ['Environment', 'Lung Cancer_', 'Genetics_']\n",
      "Abstraction T matrix shape: (3, 6)\n"
     ]
    }
   ],
   "source": [
    "\n",
    "\n",
    "# --- 1. Define the experiment to load ---\n",
    "# This must match the experiment_name used to save the data.\n",
    "experiment = 'lilucas'\n",
    "path = f\"data/{experiment}\"\n",
    "\n",
    "# --- 2. Load the data from the .pkl files ---\n",
    "try:\n",
    "    LLmodel = joblib.load(f\"{path}/LLmodel.pkl\")\n",
    "    HLmodel = joblib.load(f\"{path}/HLmodel.pkl\")\n",
    "    abstraction_data = joblib.load(f\"{path}/abstraction_data.pkl\")\n",
    "    print(f\"✅ Successfully loaded data for experiment: '{experiment}'\")\n",
    "\n",
    "except FileNotFoundError:\n",
    "    print(f\"❌ Error: Data files not found in '{path}'.\")\n",
    "    print(\"Please ensure you have run the 'generate_data.py' script first.\")\n",
    "\n",
    "# --- 3. Example of how to access the loaded data ---\n",
    "if 'LLmodel' in locals():\n",
    "    print(\"\\n--- Example Data Access ---\")\n",
    "    \n",
    "    # Accessing low-level model components\n",
    "    ll_coeffs = LLmodel['coeffs']\n",
    "    print(f\"\\nLow-level coefficients: {ll_coeffs}\")\n",
    "    \n",
    "    # Accessing high-level model components\n",
    "    hl_graph = HLmodel['graph']\n",
    "    print(f\"High-level graph nodes: {hl_graph.nodes()}\")\n",
    "    \n",
    "    # Accessing abstraction data\n",
    "    T_matrix = abstraction_data['T']\n",
    "    print(f\"Abstraction T matrix shape: {T_matrix.shape}\")"
   ]
  },
  {
   "cell_type": "code",
   "execution_count": 1,
   "id": "0d221903",
   "metadata": {},
   "outputs": [
    {
     "name": "stdout",
     "output_type": "stream",
     "text": [
      "✅ Successfully loaded data for experiment: 'nonlinlucas'\n",
      "\n",
      "--- Verifying Loaded Data ---\n",
      "✓ Found 'functions' key, confirming non-linear model was loaded.\n",
      "  - Example function for Lung_Cancer: lambda Smoking, Genetics: 0.9 * np.abs(Smoking)**1.2 + 0.8 * np.sin(Genetics * 3)\n",
      "\n",
      "Inferred high-level coefficients: {('Environment', 'Lung_Cancer_'): 0.7047221723831408, ('Genetics_', 'Lung_Cancer_'): 0.44343675340811933}\n"
     ]
    }
   ],
   "source": [
    "import joblib\n",
    "import numpy as np\n",
    "\n",
    "# Define the experiment name for the non-linear dataset\n",
    "experiment = 'nonlinlucas'\n",
    "path = f\"data/{experiment}\"\n",
    "\n",
    "# Load the data files from the path\n",
    "try:\n",
    "    LLmodel = joblib.load(f\"{path}/LLmodel.pkl\")\n",
    "    HLmodel = joblib.load(f\"{path}/HLmodel.pkl\")\n",
    "    abstraction_data = joblib.load(f\"{path}/abstraction_data.pkl\")\n",
    "    print(f\"✅ Successfully loaded data for experiment: '{experiment}'\")\n",
    "\n",
    "except FileNotFoundError:\n",
    "    print(f\"❌ Error: Data files not found in '{path}'.\")\n",
    "    print(\"Please ensure you have run the data generation script first.\")\n",
    "\n",
    "# Test and verify the loaded non-linear data\n",
    "if 'LLmodel' in locals():\n",
    "    print(\"\\n--- Verifying Loaded Data ---\")\n",
    "    \n",
    "    # Check for the 'functions' key, which is specific to the non-linear model\n",
    "    if 'functions' in LLmodel:\n",
    "        print(\"✓ Found 'functions' key, confirming non-linear model was loaded.\")\n",
    "        \n",
    "        # Print one of the non-linear function strings as an example\n",
    "        lung_cancer_func = LLmodel['functions']['Lung_Cancer']\n",
    "        print(f\"  - Example function for Lung_Cancer: {lung_cancer_func}\")\n",
    "    else:\n",
    "        print(\"⚠️ Warning: Expected 'functions' key not found. Loaded model may be linear.\")\n",
    "    \n",
    "    # The HL model is still inferred as linear, so it has 'coeffs'\n",
    "    hl_coeffs = HLmodel['coeffs']\n",
    "    print(f\"\\nInferred high-level coefficients: {hl_coeffs}\")"
   ]
  },
  {
   "cell_type": "code",
   "execution_count": null,
   "id": "eef2aecc",
   "metadata": {},
   "outputs": [],
   "source": []
  }
 ],
 "metadata": {
  "kernelspec": {
   "display_name": "erica",
   "language": "python",
   "name": "python3"
  },
  "language_info": {
   "codemirror_mode": {
    "name": "ipython",
    "version": 3
   },
   "file_extension": ".py",
   "mimetype": "text/x-python",
   "name": "python",
   "nbconvert_exporter": "python",
   "pygments_lexer": "ipython3",
   "version": "3.12.5"
  }
 },
 "nbformat": 4,
 "nbformat_minor": 5
}
