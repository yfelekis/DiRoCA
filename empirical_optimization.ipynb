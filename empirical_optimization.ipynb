{
 "cells": [
  {
   "cell_type": "code",
   "execution_count": 1,
   "id": "a28ac6f7",
   "metadata": {},
   "outputs": [
    {
     "name": "stdout",
     "output_type": "stream",
     "text": [
      "[KeOps] Warning : CUDA libraries not found or could not be loaded; Switching to CPU only.\n"
     ]
    }
   ],
   "source": [
    "import joblib\n",
    "import numpy as np\n",
    "import joblib\n",
    "import numpy as np\n",
    "import torch\n",
    "import torch.nn as nn\n",
    "import yaml\n",
    "import utilities as ut \n",
    "import opt_tools as optools\n",
    "import scipy.stats as stats\n",
    "import seaborn as sns\n",
    "from matplotlib import pyplot as plt"
   ]
  },
  {
   "cell_type": "code",
   "execution_count": 2,
   "id": "fc2f8617",
   "metadata": {},
   "outputs": [],
   "source": [
    "experiment = 'lilucas'"
   ]
  },
  {
   "cell_type": "code",
   "execution_count": 3,
   "id": "277226d1",
   "metadata": {},
   "outputs": [],
   "source": [
    "config_files = {\n",
    "                    'hyperparams_diroca': 'configs/diroca_opt_config_empirical.yaml',\n",
    "                    'hyperparams_gradca': 'configs/gradca_opt_config_empirical.yaml',\n",
    "                    'hyperparams_baryca': 'configs/baryca_opt_config_empirical.yaml'\n",
    "                }\n",
    "configs = ut.load_configs(config_files)\n",
    "\n",
    "hyperparams_diroca = configs['hyperparams_diroca']\n",
    "hyperparams_gradca = configs['hyperparams_gradca']\n",
    "hyperparams_baryca = configs['hyperparams_baryca']"
   ]
  },
  {
   "cell_type": "code",
   "execution_count": 4,
   "id": "1416449f",
   "metadata": {},
   "outputs": [
    {
     "name": "stdout",
     "output_type": "stream",
     "text": [
      "Data loaded for 'lilucas'.\n",
      "Created and saved 10 folds to 'data/lilucas/cv_folds.pkl'\n"
     ]
    }
   ],
   "source": [
    "all_data   = ut.load_all_data(experiment)\n",
    "all_data['experiment_name'] = experiment\n",
    "\n",
    "Dll_obs     = all_data['LLmodel']['data'][None]\n",
    "Dhl_obs     = all_data['HLmodel']['data'][None]\n",
    "folds_path  = f\"data/{experiment}/cv_folds.pkl\"\n",
    "saved_folds = ut.prepare_cv_folds(Dll_obs, hyperparams_diroca['k_folds'], hyperparams_diroca['seed'], folds_path)"
   ]
  },
  {
   "cell_type": "code",
   "execution_count": 5,
   "id": "d0aac158",
   "metadata": {},
   "outputs": [],
   "source": [
    "U_ll_hat = all_data['LLmodel']['noise'][None]\n",
    "U_hl_hat = all_data['HLmodel']['noise'][None]"
   ]
  },
  {
   "cell_type": "code",
   "execution_count": 6,
   "id": "afcaa04f",
   "metadata": {},
   "outputs": [
    {
     "name": "stdout",
     "output_type": "stream",
     "text": [
      "\n",
      "--- Starting Empirical Optimization for Fold 1/10 ---\n",
      "  - Training for ε = 0.321, δ = 0.103\n"
     ]
    },
    {
     "name": "stderr",
     "output_type": "stream",
     "text": [
      "100%|██████████| 1000/1000 [01:55<00:00,  8.65it/s]\n"
     ]
    },
    {
     "name": "stdout",
     "output_type": "stream",
     "text": [
      "  - Training for ε = 1.0, δ = 1.0\n"
     ]
    },
    {
     "name": "stderr",
     "output_type": "stream",
     "text": [
      " 43%|████▎     | 431/1000 [00:45<01:00,  9.41it/s]\n"
     ]
    },
    {
     "name": "stdout",
     "output_type": "stream",
     "text": [
      "Converged at iteration 432\n",
      "  - Training for ε = 2.0, δ = 2.0\n"
     ]
    },
    {
     "name": "stderr",
     "output_type": "stream",
     "text": [
      "100%|██████████| 1000/1000 [01:55<00:00,  8.63it/s]\n"
     ]
    },
    {
     "name": "stdout",
     "output_type": "stream",
     "text": [
      "  - Training for ε = 4.0, δ = 4.0\n"
     ]
    },
    {
     "name": "stderr",
     "output_type": "stream",
     "text": [
      "100%|██████████| 1000/1000 [01:56<00:00,  8.56it/s]\n"
     ]
    },
    {
     "name": "stdout",
     "output_type": "stream",
     "text": [
      "  - Training for ε = 8.0, δ = 8.0\n"
     ]
    },
    {
     "name": "stderr",
     "output_type": "stream",
     "text": [
      "100%|██████████| 1000/1000 [01:49<00:00,  9.14it/s]\n"
     ]
    },
    {
     "name": "stdout",
     "output_type": "stream",
     "text": [
      "\n",
      "--- Starting Empirical Optimization for Fold 2/10 ---\n",
      "  - Training for ε = 0.321, δ = 0.103\n"
     ]
    },
    {
     "name": "stderr",
     "output_type": "stream",
     "text": [
      "100%|██████████| 1000/1000 [01:49<00:00,  9.12it/s]\n"
     ]
    },
    {
     "name": "stdout",
     "output_type": "stream",
     "text": [
      "  - Training for ε = 1.0, δ = 1.0\n"
     ]
    },
    {
     "name": "stderr",
     "output_type": "stream",
     "text": [
      " 16%|█▌        | 159/1000 [00:17<01:31,  9.15it/s]\n"
     ]
    },
    {
     "name": "stdout",
     "output_type": "stream",
     "text": [
      "Converged at iteration 160\n",
      "  - Training for ε = 2.0, δ = 2.0\n"
     ]
    },
    {
     "name": "stderr",
     "output_type": "stream",
     "text": [
      "100%|██████████| 1000/1000 [01:55<00:00,  8.66it/s]\n"
     ]
    },
    {
     "name": "stdout",
     "output_type": "stream",
     "text": [
      "  - Training for ε = 4.0, δ = 4.0\n"
     ]
    },
    {
     "name": "stderr",
     "output_type": "stream",
     "text": [
      "100%|██████████| 1000/1000 [01:52<00:00,  8.87it/s]\n"
     ]
    },
    {
     "name": "stdout",
     "output_type": "stream",
     "text": [
      "  - Training for ε = 8.0, δ = 8.0\n"
     ]
    },
    {
     "name": "stderr",
     "output_type": "stream",
     "text": [
      "100%|██████████| 1000/1000 [01:51<00:00,  8.97it/s]\n"
     ]
    },
    {
     "name": "stdout",
     "output_type": "stream",
     "text": [
      "\n",
      "--- Starting Empirical Optimization for Fold 3/10 ---\n",
      "  - Training for ε = 0.321, δ = 0.103\n"
     ]
    },
    {
     "name": "stderr",
     "output_type": "stream",
     "text": [
      "100%|██████████| 1000/1000 [01:52<00:00,  8.89it/s]\n"
     ]
    },
    {
     "name": "stdout",
     "output_type": "stream",
     "text": [
      "  - Training for ε = 1.0, δ = 1.0\n"
     ]
    },
    {
     "name": "stderr",
     "output_type": "stream",
     "text": [
      " 16%|█▌        | 162/1000 [00:20<01:45,  7.97it/s]\n"
     ]
    },
    {
     "name": "stdout",
     "output_type": "stream",
     "text": [
      "Converged at iteration 163\n",
      "  - Training for ε = 2.0, δ = 2.0\n"
     ]
    },
    {
     "name": "stderr",
     "output_type": "stream",
     "text": [
      "100%|██████████| 1000/1000 [01:58<00:00,  8.45it/s]\n"
     ]
    },
    {
     "name": "stdout",
     "output_type": "stream",
     "text": [
      "  - Training for ε = 4.0, δ = 4.0\n"
     ]
    },
    {
     "name": "stderr",
     "output_type": "stream",
     "text": [
      " 11%|█▏        | 113/1000 [00:11<01:31,  9.69it/s]\n"
     ]
    },
    {
     "name": "stdout",
     "output_type": "stream",
     "text": [
      "Converged at iteration 114\n",
      "  - Training for ε = 8.0, δ = 8.0\n"
     ]
    },
    {
     "name": "stderr",
     "output_type": "stream",
     "text": [
      " 11%|█▏        | 113/1000 [00:11<01:32,  9.62it/s]\n"
     ]
    },
    {
     "name": "stdout",
     "output_type": "stream",
     "text": [
      "Converged at iteration 114\n",
      "\n",
      "--- Starting Empirical Optimization for Fold 4/10 ---\n",
      "  - Training for ε = 0.321, δ = 0.103\n"
     ]
    },
    {
     "name": "stderr",
     "output_type": "stream",
     "text": [
      "100%|██████████| 1000/1000 [01:41<00:00,  9.89it/s]\n"
     ]
    },
    {
     "name": "stdout",
     "output_type": "stream",
     "text": [
      "  - Training for ε = 1.0, δ = 1.0\n"
     ]
    },
    {
     "name": "stderr",
     "output_type": "stream",
     "text": [
      " 16%|█▋        | 163/1000 [00:16<01:26,  9.62it/s]\n"
     ]
    },
    {
     "name": "stdout",
     "output_type": "stream",
     "text": [
      "Converged at iteration 164\n",
      "  - Training for ε = 2.0, δ = 2.0\n"
     ]
    },
    {
     "name": "stderr",
     "output_type": "stream",
     "text": [
      "100%|██████████| 1000/1000 [01:46<00:00,  9.36it/s]\n"
     ]
    },
    {
     "name": "stdout",
     "output_type": "stream",
     "text": [
      "  - Training for ε = 4.0, δ = 4.0\n"
     ]
    },
    {
     "name": "stderr",
     "output_type": "stream",
     "text": [
      "100%|██████████| 1000/1000 [01:38<00:00, 10.14it/s]\n"
     ]
    },
    {
     "name": "stdout",
     "output_type": "stream",
     "text": [
      "  - Training for ε = 8.0, δ = 8.0\n"
     ]
    },
    {
     "name": "stderr",
     "output_type": "stream",
     "text": [
      "100%|██████████| 1000/1000 [01:38<00:00, 10.13it/s]\n"
     ]
    },
    {
     "name": "stdout",
     "output_type": "stream",
     "text": [
      "\n",
      "--- Starting Empirical Optimization for Fold 5/10 ---\n",
      "  - Training for ε = 0.321, δ = 0.103\n"
     ]
    },
    {
     "name": "stderr",
     "output_type": "stream",
     "text": [
      "100%|██████████| 1000/1000 [01:40<00:00,  9.96it/s]\n"
     ]
    },
    {
     "name": "stdout",
     "output_type": "stream",
     "text": [
      "  - Training for ε = 1.0, δ = 1.0\n"
     ]
    },
    {
     "name": "stderr",
     "output_type": "stream",
     "text": [
      " 16%|█▌        | 161/1000 [00:16<01:25,  9.77it/s]\n"
     ]
    },
    {
     "name": "stdout",
     "output_type": "stream",
     "text": [
      "Converged at iteration 162\n",
      "  - Training for ε = 2.0, δ = 2.0\n"
     ]
    },
    {
     "name": "stderr",
     "output_type": "stream",
     "text": [
      "100%|██████████| 1000/1000 [01:40<00:00,  9.91it/s]\n"
     ]
    },
    {
     "name": "stdout",
     "output_type": "stream",
     "text": [
      "  - Training for ε = 4.0, δ = 4.0\n"
     ]
    },
    {
     "name": "stderr",
     "output_type": "stream",
     "text": [
      "100%|██████████| 1000/1000 [01:38<00:00, 10.17it/s]\n"
     ]
    },
    {
     "name": "stdout",
     "output_type": "stream",
     "text": [
      "  - Training for ε = 8.0, δ = 8.0\n"
     ]
    },
    {
     "name": "stderr",
     "output_type": "stream",
     "text": [
      "100%|██████████| 1000/1000 [01:41<00:00,  9.84it/s]\n"
     ]
    },
    {
     "name": "stdout",
     "output_type": "stream",
     "text": [
      "\n",
      "--- Starting Empirical Optimization for Fold 6/10 ---\n",
      "  - Training for ε = 0.321, δ = 0.103\n"
     ]
    },
    {
     "name": "stderr",
     "output_type": "stream",
     "text": [
      "100%|██████████| 1000/1000 [01:41<00:00,  9.84it/s]\n"
     ]
    },
    {
     "name": "stdout",
     "output_type": "stream",
     "text": [
      "  - Training for ε = 1.0, δ = 1.0\n"
     ]
    },
    {
     "name": "stderr",
     "output_type": "stream",
     "text": [
      " 16%|█▌        | 162/1000 [00:16<01:27,  9.58it/s]\n"
     ]
    },
    {
     "name": "stdout",
     "output_type": "stream",
     "text": [
      "Converged at iteration 163\n",
      "  - Training for ε = 2.0, δ = 2.0\n"
     ]
    },
    {
     "name": "stderr",
     "output_type": "stream",
     "text": [
      "100%|██████████| 1000/1000 [01:45<00:00,  9.45it/s]\n"
     ]
    },
    {
     "name": "stdout",
     "output_type": "stream",
     "text": [
      "  - Training for ε = 4.0, δ = 4.0\n"
     ]
    },
    {
     "name": "stderr",
     "output_type": "stream",
     "text": [
      "100%|██████████| 1000/1000 [01:43<00:00,  9.70it/s]\n"
     ]
    },
    {
     "name": "stdout",
     "output_type": "stream",
     "text": [
      "  - Training for ε = 8.0, δ = 8.0\n"
     ]
    },
    {
     "name": "stderr",
     "output_type": "stream",
     "text": [
      "100%|██████████| 1000/1000 [01:42<00:00,  9.74it/s]\n"
     ]
    },
    {
     "name": "stdout",
     "output_type": "stream",
     "text": [
      "\n",
      "--- Starting Empirical Optimization for Fold 7/10 ---\n",
      "  - Training for ε = 0.321, δ = 0.103\n"
     ]
    },
    {
     "name": "stderr",
     "output_type": "stream",
     "text": [
      "100%|██████████| 1000/1000 [01:42<00:00,  9.76it/s]\n"
     ]
    },
    {
     "name": "stdout",
     "output_type": "stream",
     "text": [
      "  - Training for ε = 1.0, δ = 1.0\n"
     ]
    },
    {
     "name": "stderr",
     "output_type": "stream",
     "text": [
      " 16%|█▌        | 161/1000 [00:16<01:27,  9.62it/s]\n"
     ]
    },
    {
     "name": "stdout",
     "output_type": "stream",
     "text": [
      "Converged at iteration 162\n",
      "  - Training for ε = 2.0, δ = 2.0\n"
     ]
    },
    {
     "name": "stderr",
     "output_type": "stream",
     "text": [
      " 11%|█▏        | 114/1000 [00:11<01:31,  9.64it/s]\n"
     ]
    },
    {
     "name": "stdout",
     "output_type": "stream",
     "text": [
      "Converged at iteration 115\n",
      "  - Training for ε = 4.0, δ = 4.0\n"
     ]
    },
    {
     "name": "stderr",
     "output_type": "stream",
     "text": [
      "100%|██████████| 1000/1000 [01:43<00:00,  9.70it/s]\n"
     ]
    },
    {
     "name": "stdout",
     "output_type": "stream",
     "text": [
      "  - Training for ε = 8.0, δ = 8.0\n"
     ]
    },
    {
     "name": "stderr",
     "output_type": "stream",
     "text": [
      "100%|██████████| 1000/1000 [01:47<00:00,  9.33it/s]\n"
     ]
    },
    {
     "name": "stdout",
     "output_type": "stream",
     "text": [
      "\n",
      "--- Starting Empirical Optimization for Fold 8/10 ---\n",
      "  - Training for ε = 0.321, δ = 0.103\n"
     ]
    },
    {
     "name": "stderr",
     "output_type": "stream",
     "text": [
      "100%|██████████| 1000/1000 [01:43<00:00,  9.62it/s]\n"
     ]
    },
    {
     "name": "stdout",
     "output_type": "stream",
     "text": [
      "  - Training for ε = 1.0, δ = 1.0\n"
     ]
    },
    {
     "name": "stderr",
     "output_type": "stream",
     "text": [
      " 16%|█▌        | 162/1000 [00:16<01:27,  9.61it/s]\n"
     ]
    },
    {
     "name": "stdout",
     "output_type": "stream",
     "text": [
      "Converged at iteration 163\n",
      "  - Training for ε = 2.0, δ = 2.0\n"
     ]
    },
    {
     "name": "stderr",
     "output_type": "stream",
     "text": [
      "100%|██████████| 1000/1000 [01:43<00:00,  9.66it/s]\n"
     ]
    },
    {
     "name": "stdout",
     "output_type": "stream",
     "text": [
      "  - Training for ε = 4.0, δ = 4.0\n"
     ]
    },
    {
     "name": "stderr",
     "output_type": "stream",
     "text": [
      "100%|██████████| 1000/1000 [01:43<00:00,  9.69it/s]\n"
     ]
    },
    {
     "name": "stdout",
     "output_type": "stream",
     "text": [
      "  - Training for ε = 8.0, δ = 8.0\n"
     ]
    },
    {
     "name": "stderr",
     "output_type": "stream",
     "text": [
      "100%|██████████| 1000/1000 [01:44<00:00,  9.59it/s]\n"
     ]
    },
    {
     "name": "stdout",
     "output_type": "stream",
     "text": [
      "\n",
      "--- Starting Empirical Optimization for Fold 9/10 ---\n",
      "  - Training for ε = 0.321, δ = 0.103\n"
     ]
    },
    {
     "name": "stderr",
     "output_type": "stream",
     "text": [
      "100%|██████████| 1000/1000 [01:47<00:00,  9.28it/s]\n"
     ]
    },
    {
     "name": "stdout",
     "output_type": "stream",
     "text": [
      "  - Training for ε = 1.0, δ = 1.0\n"
     ]
    },
    {
     "name": "stderr",
     "output_type": "stream",
     "text": [
      " 16%|█▌        | 161/1000 [00:17<01:31,  9.13it/s]\n"
     ]
    },
    {
     "name": "stdout",
     "output_type": "stream",
     "text": [
      "Converged at iteration 162\n",
      "  - Training for ε = 2.0, δ = 2.0\n"
     ]
    },
    {
     "name": "stderr",
     "output_type": "stream",
     "text": [
      "100%|██████████| 1000/1000 [01:45<00:00,  9.44it/s]\n"
     ]
    },
    {
     "name": "stdout",
     "output_type": "stream",
     "text": [
      "  - Training for ε = 4.0, δ = 4.0\n"
     ]
    },
    {
     "name": "stderr",
     "output_type": "stream",
     "text": [
      "100%|██████████| 1000/1000 [01:45<00:00,  9.51it/s]\n"
     ]
    },
    {
     "name": "stdout",
     "output_type": "stream",
     "text": [
      "  - Training for ε = 8.0, δ = 8.0\n"
     ]
    },
    {
     "name": "stderr",
     "output_type": "stream",
     "text": [
      "100%|██████████| 1000/1000 [01:44<00:00,  9.59it/s]\n"
     ]
    },
    {
     "name": "stdout",
     "output_type": "stream",
     "text": [
      "\n",
      "--- Starting Empirical Optimization for Fold 10/10 ---\n",
      "  - Training for ε = 0.321, δ = 0.103\n"
     ]
    },
    {
     "name": "stderr",
     "output_type": "stream",
     "text": [
      "100%|██████████| 1000/1000 [01:44<00:00,  9.56it/s]\n"
     ]
    },
    {
     "name": "stdout",
     "output_type": "stream",
     "text": [
      "  - Training for ε = 1.0, δ = 1.0\n"
     ]
    },
    {
     "name": "stderr",
     "output_type": "stream",
     "text": [
      " 16%|█▌        | 159/1000 [00:16<01:29,  9.38it/s]\n"
     ]
    },
    {
     "name": "stdout",
     "output_type": "stream",
     "text": [
      "Converged at iteration 160\n",
      "  - Training for ε = 2.0, δ = 2.0\n"
     ]
    },
    {
     "name": "stderr",
     "output_type": "stream",
     "text": [
      " 11%|█▏        | 114/1000 [00:12<01:34,  9.35it/s]\n"
     ]
    },
    {
     "name": "stdout",
     "output_type": "stream",
     "text": [
      "Converged at iteration 115\n",
      "  - Training for ε = 4.0, δ = 4.0\n"
     ]
    },
    {
     "name": "stderr",
     "output_type": "stream",
     "text": [
      "100%|██████████| 1000/1000 [01:46<00:00,  9.41it/s]\n"
     ]
    },
    {
     "name": "stdout",
     "output_type": "stream",
     "text": [
      "  - Training for ε = 8.0, δ = 8.0\n"
     ]
    },
    {
     "name": "stderr",
     "output_type": "stream",
     "text": [
      "100%|██████████| 1000/1000 [01:49<00:00,  9.17it/s]"
     ]
    },
    {
     "name": "stdout",
     "output_type": "stream",
     "text": [
      "\n",
      "\n",
      "--- Optimization Complete ---\n"
     ]
    },
    {
     "name": "stderr",
     "output_type": "stream",
     "text": [
      "\n"
     ]
    }
   ],
   "source": [
    "diroca_cv_results_empirical = {}\n",
    "\n",
    "# Iterate through each cross-validation fold\n",
    "for i, fold_info in enumerate(saved_folds):\n",
    "    print(f\"\\n--- Starting Empirical Optimization for Fold {i+1}/{len(saved_folds)} ---\")\n",
    "    fold_key = f'fold_{i}'\n",
    "    diroca_cv_results_empirical[fold_key] = {}\n",
    "    \n",
    "    # Calculate the theoretical bounds for THIS FOLD'S training data\n",
    "    train_n = len(fold_info['train'])\n",
    "\n",
    "    l = U_ll_hat.shape[1]\n",
    "    h = U_hl_hat.shape[1]\n",
    "    \n",
    "    ll_bound = round(ut.compute_empirical_radius(N=train_n, eta=0.05, c1=1000.0, c2=1.0, alpha=2.0, m=l), 3)\n",
    "    hl_bound = round(ut.compute_empirical_radius(N=train_n, eta=0.05, c1=1000.0, c2=1.0, alpha=2.0, m=h), 3)\n",
    "    \n",
    "    # Define the list of (epsilon, delta) pairs to search over\n",
    "    radius_pairs_to_test = [\n",
    "                                (ll_bound, hl_bound), # The specific theoretical case\n",
    "                                (1.0, 1.0),\n",
    "                                (2.0, 2.0),\n",
    "                                (4.0, 4.0),\n",
    "                                (8.0, 8.0)\n",
    "                            ]\n",
    "\n",
    "    # Get the train split for the noise data for this fold\n",
    "    U_ll_train = U_ll_hat[fold_info['train']]\n",
    "    U_hl_train = U_hl_hat[fold_info['train']]\n",
    "\n",
    "    # Iterate through each (epsilon, delta) pair\n",
    "    for epsilon, delta in radius_pairs_to_test:\n",
    "        print(f\"  - Training for ε = {epsilon}, δ = {delta}\")\n",
    "        \n",
    "        # a. Assemble the parameters using the helper function\n",
    "        params_for_this_run = ut.assemble_empirical_parameters(\n",
    "                                                                U_ll_train, \n",
    "                                                                U_hl_train, \n",
    "                                                                all_data, \n",
    "                                                                hyperparams_diroca\n",
    "                                                            )\n",
    "        \n",
    "        # b. Set the epsilon and delta for this specific run\n",
    "        params_for_this_run['epsilon'] = epsilon\n",
    "        params_for_this_run['delta']   = delta\n",
    "\n",
    "        opt_args = params_for_this_run.copy()\n",
    "        opt_args.pop('k_folds', None)\n",
    "\n",
    "        # Run the optimization\n",
    "        trained_params, trained_T = optools.run_empirical_erica_optimization(**opt_args)\n",
    "        \n",
    "        # Store the results in the nested dictionary\n",
    "        hyperparam_key = f'eps_{epsilon}_delta_{delta}'\n",
    "        diroca_cv_results_empirical[fold_key][hyperparam_key] = {\n",
    "                                                            'T_matrix': trained_T,\n",
    "                                                            'optimization_params': trained_params,\n",
    "                                                            'test_indices': fold_info['test'] \n",
    "                                                        }\n",
    "\n",
    "print(\"\\n\\n--- Optimization Complete ---\")"
   ]
  },
  {
   "cell_type": "code",
   "execution_count": null,
   "id": "7d39fd81",
   "metadata": {},
   "outputs": [],
   "source": []
  },
  {
   "cell_type": "markdown",
   "id": "342a3b53",
   "metadata": {},
   "source": [
    "### GRADCA optimization"
   ]
  },
  {
   "cell_type": "code",
   "execution_count": 9,
   "id": "9ac15df0",
   "metadata": {},
   "outputs": [
    {
     "name": "stdout",
     "output_type": "stream",
     "text": [
      "\n",
      "--- Starting Empirical Optimization for Fold 1/10 ---\n"
     ]
    },
    {
     "name": "stderr",
     "output_type": "stream",
     "text": [
      "100%|██████████| 2000/2000 [00:05<00:00, 358.80it/s]\n"
     ]
    },
    {
     "name": "stdout",
     "output_type": "stream",
     "text": [
      "\n",
      "--- Starting Empirical Optimization for Fold 2/10 ---\n"
     ]
    },
    {
     "name": "stderr",
     "output_type": "stream",
     "text": [
      "100%|██████████| 2000/2000 [00:05<00:00, 367.92it/s]\n"
     ]
    },
    {
     "name": "stdout",
     "output_type": "stream",
     "text": [
      "\n",
      "--- Starting Empirical Optimization for Fold 3/10 ---\n"
     ]
    },
    {
     "name": "stderr",
     "output_type": "stream",
     "text": [
      "100%|██████████| 2000/2000 [00:05<00:00, 371.77it/s]\n"
     ]
    },
    {
     "name": "stdout",
     "output_type": "stream",
     "text": [
      "\n",
      "--- Starting Empirical Optimization for Fold 4/10 ---\n"
     ]
    },
    {
     "name": "stderr",
     "output_type": "stream",
     "text": [
      "100%|██████████| 2000/2000 [00:05<00:00, 334.83it/s]\n"
     ]
    },
    {
     "name": "stdout",
     "output_type": "stream",
     "text": [
      "\n",
      "--- Starting Empirical Optimization for Fold 5/10 ---\n"
     ]
    },
    {
     "name": "stderr",
     "output_type": "stream",
     "text": [
      "100%|██████████| 2000/2000 [00:05<00:00, 377.31it/s]\n"
     ]
    },
    {
     "name": "stdout",
     "output_type": "stream",
     "text": [
      "\n",
      "--- Starting Empirical Optimization for Fold 6/10 ---\n"
     ]
    },
    {
     "name": "stderr",
     "output_type": "stream",
     "text": [
      "100%|██████████| 2000/2000 [00:05<00:00, 376.03it/s]\n"
     ]
    },
    {
     "name": "stdout",
     "output_type": "stream",
     "text": [
      "\n",
      "--- Starting Empirical Optimization for Fold 7/10 ---\n"
     ]
    },
    {
     "name": "stderr",
     "output_type": "stream",
     "text": [
      "100%|██████████| 2000/2000 [00:05<00:00, 376.34it/s]\n"
     ]
    },
    {
     "name": "stdout",
     "output_type": "stream",
     "text": [
      "\n",
      "--- Starting Empirical Optimization for Fold 8/10 ---\n"
     ]
    },
    {
     "name": "stderr",
     "output_type": "stream",
     "text": [
      "100%|██████████| 2000/2000 [00:05<00:00, 382.81it/s]\n"
     ]
    },
    {
     "name": "stdout",
     "output_type": "stream",
     "text": [
      "\n",
      "--- Starting Empirical Optimization for Fold 9/10 ---\n"
     ]
    },
    {
     "name": "stderr",
     "output_type": "stream",
     "text": [
      "100%|██████████| 2000/2000 [00:05<00:00, 374.29it/s]\n"
     ]
    },
    {
     "name": "stdout",
     "output_type": "stream",
     "text": [
      "\n",
      "--- Starting Empirical Optimization for Fold 10/10 ---\n"
     ]
    },
    {
     "name": "stderr",
     "output_type": "stream",
     "text": [
      "100%|██████████| 2000/2000 [00:05<00:00, 378.66it/s]"
     ]
    },
    {
     "name": "stdout",
     "output_type": "stream",
     "text": [
      "\n",
      "\n",
      "--- Optimization Complete ---\n"
     ]
    },
    {
     "name": "stderr",
     "output_type": "stream",
     "text": [
      "\n"
     ]
    }
   ],
   "source": [
    "gradca_cv_results_empirical = {}\n",
    "\n",
    "# Iterate through each cross-validation fold\n",
    "for i, fold_info in enumerate(saved_folds):\n",
    "    print(f\"\\n--- Starting Empirical Optimization for Fold {i+1}/{len(saved_folds)} ---\")\n",
    "    fold_key = f'fold_{i}'\n",
    "    gradca_cv_results_empirical[fold_key] = {}\n",
    "    \n",
    "    # Calculate the theoretical bounds for THIS FOLD'S training data\n",
    "    train_n = len(fold_info['train'])\n",
    "\n",
    "    # Get the train split for the noise data for this fold\n",
    "    U_ll_train = U_ll_hat[fold_info['train']]\n",
    "    U_hl_train = U_hl_hat[fold_info['train']]\n",
    "    \n",
    "    params_for_this_run = ut.assemble_empirical_parameters(\n",
    "                                                            U_ll_train, \n",
    "                                                            U_hl_train, \n",
    "                                                            all_data, \n",
    "                                                            hyperparams_gradca\n",
    "                                                        )\n",
    "    \n",
    "    opt_args = params_for_this_run.copy()\n",
    "    opt_args.pop('k_folds', None)\n",
    "\n",
    "    # Run the optimization\n",
    "    trained_params, trained_T = optools.run_empirical_erica_optimization(**opt_args)\n",
    "        \n",
    "    # Store the results in the dictionary\n",
    "    gradca_cv_results_empirical[fold_key] = { 'gradca_run': {\n",
    "                                                'T_matrix': trained_T,\n",
    "                                                'optimization_params': trained_params,\n",
    "                                                'test_indices': fold_info['test'] \n",
    "                                            }}\n",
    "\n",
    "print(\"\\n\\n--- Optimization Complete ---\")"
   ]
  },
  {
   "cell_type": "code",
   "execution_count": null,
   "id": "e168f361",
   "metadata": {},
   "outputs": [],
   "source": []
  },
  {
   "cell_type": "markdown",
   "id": "118338bd",
   "metadata": {},
   "source": [
    "### BARYCA optimization"
   ]
  },
  {
   "cell_type": "code",
   "execution_count": 10,
   "id": "df716334",
   "metadata": {},
   "outputs": [
    {
     "name": "stdout",
     "output_type": "stream",
     "text": [
      "✓ Pre-computed 6 low-level and 3 high-level structural matrices.\n"
     ]
    }
   ],
   "source": [
    "# Get the SCM instances and intervention sets from your loaded data\n",
    "LLmodels     = all_data['LLmodel'].get('scm_instances')\n",
    "Ill_relevant = all_data['LLmodel']['intervention_set']\n",
    "HLmodels     = all_data['HLmodel'].get('scm_instances')\n",
    "Ihl_relevant = all_data['HLmodel']['intervention_set']\n",
    "\n",
    "# Compute the list of matrices for each model\n",
    "L_matrices = ut.compute_struc_matrices(LLmodels, Ill_relevant)\n",
    "H_matrices = ut.compute_struc_matrices(HLmodels, Ihl_relevant)\n",
    "\n",
    "print(f\"✓ Pre-computed {len(L_matrices)} low-level and {len(H_matrices)} high-level structural matrices.\")"
   ]
  },
  {
   "cell_type": "code",
   "execution_count": 11,
   "id": "cc69dc6b",
   "metadata": {},
   "outputs": [
    {
     "name": "stdout",
     "output_type": "stream",
     "text": [
      "\n",
      "--- Starting Empirical Barycentric Optimization for Fold 1/10 ---\n"
     ]
    },
    {
     "name": "stderr",
     "output_type": "stream",
     "text": [
      "  0%|          | 0/2000 [00:00<?, ?it/s]"
     ]
    },
    {
     "name": "stderr",
     "output_type": "stream",
     "text": [
      "100%|██████████| 2000/2000 [00:00<00:00, 3271.52it/s]\n"
     ]
    },
    {
     "name": "stdout",
     "output_type": "stream",
     "text": [
      "\n",
      "--- Starting Empirical Barycentric Optimization for Fold 2/10 ---\n"
     ]
    },
    {
     "name": "stderr",
     "output_type": "stream",
     "text": [
      "100%|██████████| 2000/2000 [00:00<00:00, 2935.58it/s]\n"
     ]
    },
    {
     "name": "stdout",
     "output_type": "stream",
     "text": [
      "\n",
      "--- Starting Empirical Barycentric Optimization for Fold 3/10 ---\n"
     ]
    },
    {
     "name": "stderr",
     "output_type": "stream",
     "text": [
      "100%|██████████| 2000/2000 [00:00<00:00, 3301.06it/s]\n"
     ]
    },
    {
     "name": "stdout",
     "output_type": "stream",
     "text": [
      "\n",
      "--- Starting Empirical Barycentric Optimization for Fold 4/10 ---\n"
     ]
    },
    {
     "name": "stderr",
     "output_type": "stream",
     "text": [
      "100%|██████████| 2000/2000 [00:00<00:00, 3306.45it/s]\n"
     ]
    },
    {
     "name": "stdout",
     "output_type": "stream",
     "text": [
      "\n",
      "--- Starting Empirical Barycentric Optimization for Fold 5/10 ---\n"
     ]
    },
    {
     "name": "stderr",
     "output_type": "stream",
     "text": [
      "100%|██████████| 2000/2000 [00:00<00:00, 3305.11it/s]\n"
     ]
    },
    {
     "name": "stdout",
     "output_type": "stream",
     "text": [
      "\n",
      "--- Starting Empirical Barycentric Optimization for Fold 6/10 ---\n"
     ]
    },
    {
     "name": "stderr",
     "output_type": "stream",
     "text": [
      "100%|██████████| 2000/2000 [00:00<00:00, 2946.26it/s]\n"
     ]
    },
    {
     "name": "stdout",
     "output_type": "stream",
     "text": [
      "\n",
      "--- Starting Empirical Barycentric Optimization for Fold 7/10 ---\n"
     ]
    },
    {
     "name": "stderr",
     "output_type": "stream",
     "text": [
      "100%|██████████| 2000/2000 [00:00<00:00, 3256.11it/s]\n"
     ]
    },
    {
     "name": "stdout",
     "output_type": "stream",
     "text": [
      "\n",
      "--- Starting Empirical Barycentric Optimization for Fold 8/10 ---\n"
     ]
    },
    {
     "name": "stderr",
     "output_type": "stream",
     "text": [
      "100%|██████████| 2000/2000 [00:00<00:00, 3283.18it/s]\n"
     ]
    },
    {
     "name": "stdout",
     "output_type": "stream",
     "text": [
      "\n",
      "--- Starting Empirical Barycentric Optimization for Fold 9/10 ---\n"
     ]
    },
    {
     "name": "stderr",
     "output_type": "stream",
     "text": [
      "100%|██████████| 2000/2000 [00:00<00:00, 3271.01it/s]\n"
     ]
    },
    {
     "name": "stdout",
     "output_type": "stream",
     "text": [
      "\n",
      "--- Starting Empirical Barycentric Optimization for Fold 10/10 ---\n"
     ]
    },
    {
     "name": "stderr",
     "output_type": "stream",
     "text": [
      "100%|██████████| 2000/2000 [00:00<00:00, 3316.73it/s]"
     ]
    },
    {
     "name": "stdout",
     "output_type": "stream",
     "text": [
      "\n",
      "\n",
      "--- Optimization Complete ---\n"
     ]
    },
    {
     "name": "stderr",
     "output_type": "stream",
     "text": [
      "\n"
     ]
    }
   ],
   "source": [
    "baryca_cv_results_empirical = {}\n",
    "\n",
    "# 3. Iterate through each cross-validation fold\n",
    "for i, fold_info in enumerate(saved_folds):\n",
    "    print(f\"\\n--- Starting Empirical Barycentric Optimization for Fold {i+1}/{len(saved_folds)} ---\")\n",
    "    fold_key = f'fold_{i}'\n",
    "    \n",
    "    # Get the training split for the noise data for this fold\n",
    "    U_ll_train = U_ll_hat[fold_info['train']]\n",
    "    U_hl_train = U_hl_hat[fold_info['train']]\n",
    "    \n",
    "    # a. Assemble the arguments dictionary directly for this optimization run\n",
    "    baryca_args = {\n",
    "        'U_ll_hat': U_ll_train,\n",
    "        'U_hl_hat': U_hl_train,\n",
    "        'L_matrices': L_matrices,\n",
    "        'H_matrices': H_matrices,\n",
    "        # Get hyperparameters from the pre-loaded dictionary\n",
    "        'max_iter': hyperparams_baryca['max_iter'],\n",
    "        'tol': hyperparams_baryca['tol'],\n",
    "        'seed': hyperparams_baryca['seed']\n",
    "    }\n",
    "\n",
    "    # b. Run the optimization\n",
    "    # Note: This function only returns the T matrix\n",
    "    trained_T = optools.run_empirical_bary_optim(**baryca_args)\n",
    "    \n",
    "    # c. Store the results for this fold\n",
    "    baryca_cv_results_empirical[fold_key] = {\n",
    "        'baryca_run': {\n",
    "            'T_matrix': trained_T,\n",
    "            'test_indices': fold_info['test'] \n",
    "        }\n",
    "    }\n",
    "\n",
    "print(\"\\n\\n--- Optimization Complete ---\")"
   ]
  },
  {
   "cell_type": "code",
   "execution_count": null,
   "id": "de5330a4",
   "metadata": {},
   "outputs": [],
   "source": []
  },
  {
   "cell_type": "markdown",
   "id": "03df593e",
   "metadata": {},
   "source": [
    "### Abs-LiNGAM optimization"
   ]
  },
  {
   "cell_type": "code",
   "execution_count": 12,
   "id": "0489dad0",
   "metadata": {},
   "outputs": [
    {
     "name": "stdout",
     "output_type": "stream",
     "text": [
      "\n",
      "--- Running Abs-LiNGAM for Fold 1/10 ---\n",
      "\n",
      "--- Running Abs-LiNGAM for Fold 2/10 ---\n",
      "\n",
      "--- Running Abs-LiNGAM for Fold 3/10 ---\n",
      "\n",
      "--- Running Abs-LiNGAM for Fold 4/10 ---\n",
      "\n",
      "--- Running Abs-LiNGAM for Fold 5/10 ---\n",
      "\n",
      "--- Running Abs-LiNGAM for Fold 6/10 ---\n",
      "\n",
      "--- Running Abs-LiNGAM for Fold 7/10 ---\n",
      "\n",
      "--- Running Abs-LiNGAM for Fold 8/10 ---\n",
      "\n",
      "--- Running Abs-LiNGAM for Fold 9/10 ---\n",
      "\n",
      "--- Running Abs-LiNGAM for Fold 10/10 ---\n",
      "\n",
      "\n",
      "--- Optimization Complete ---\n"
     ]
    }
   ],
   "source": [
    "abslingam_cv_results_empirical = {}\n",
    "\n",
    "for i, fold_info in enumerate(saved_folds):\n",
    "    print(f\"\\n--- Running Abs-LiNGAM for Fold {i+1}/{len(saved_folds)} ---\")\n",
    "    fold_key = f'fold_{i}'\n",
    "    \n",
    "    train_idx = fold_info['train']\n",
    "    Dll_obs_train = Dll_obs[train_idx]\n",
    "    Dhl_obs_train = Dhl_obs[train_idx]\n",
    "    \n",
    "\n",
    "    abslingam_results_for_fold = optools.run_abs_lingam_complete(Dll_obs_train, Dhl_obs_train)\n",
    "\n",
    "    # c. Store the results for this fold\n",
    "    abslingam_cv_results_empirical[fold_key] = {\n",
    "        'Perfect': {\n",
    "            'T_matrix': abslingam_results_for_fold['Perfect']['T'].T, # Transpose if needed\n",
    "            'test_indices': fold_info['test']\n",
    "        },\n",
    "        'Noisy': {\n",
    "            'T_matrix': abslingam_results_for_fold['Noisy']['T'].T, # Transpose if needed\n",
    "            'test_indices': fold_info['test']\n",
    "        }\n",
    "    }\n",
    "    \n",
    "print(\"\\n\\n--- Optimization Complete ---\")"
   ]
  },
  {
   "cell_type": "code",
   "execution_count": null,
   "id": "98db7fe4",
   "metadata": {},
   "outputs": [],
   "source": []
  },
  {
   "cell_type": "markdown",
   "id": "67955a14",
   "metadata": {},
   "source": [
    "## Save the results"
   ]
  },
  {
   "cell_type": "code",
   "execution_count": 13,
   "id": "dd57b0f5",
   "metadata": {},
   "outputs": [
    {
     "name": "stdout",
     "output_type": "stream",
     "text": [
      "All results have been saved successfully!\n"
     ]
    }
   ],
   "source": [
    "joblib.dump(diroca_cv_results_empirical, f\"data/{experiment}/diroca_cv_results_empirical.pkl\")\n",
    "joblib.dump(gradca_cv_results_empirical, f\"data/{experiment}/gradca_cv_results_empirical.pkl\")\n",
    "joblib.dump(baryca_cv_results_empirical, f\"data/{experiment}/baryca_cv_results_empirical.pkl\")\n",
    "joblib.dump(abslingam_cv_results_empirical, f\"data/{experiment}/abslingam_cv_results_empirical.pkl\")\n",
    "\n",
    "print(\"All results have been saved successfully!\")"
   ]
  },
  {
   "cell_type": "code",
   "execution_count": 14,
   "id": "3ed0eeb6",
   "metadata": {},
   "outputs": [
    {
     "name": "stdout",
     "output_type": "stream",
     "text": [
      "Done!\n"
     ]
    }
   ],
   "source": [
    "print('Done!')"
   ]
  },
  {
   "cell_type": "code",
   "execution_count": null,
   "id": "17b5bc9f",
   "metadata": {},
   "outputs": [],
   "source": []
  }
 ],
 "metadata": {
  "kernelspec": {
   "display_name": "erica",
   "language": "python",
   "name": "python3"
  },
  "language_info": {
   "codemirror_mode": {
    "name": "ipython",
    "version": 3
   },
   "file_extension": ".py",
   "mimetype": "text/x-python",
   "name": "python",
   "nbconvert_exporter": "python",
   "pygments_lexer": "ipython3",
   "version": "3.12.5"
  }
 },
 "nbformat": 4,
 "nbformat_minor": 5
}
