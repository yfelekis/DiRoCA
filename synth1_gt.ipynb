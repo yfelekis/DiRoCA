{
 "cells": [
  {
   "cell_type": "code",
   "execution_count": 1,
   "id": "a28ac6f7",
   "metadata": {},
   "outputs": [],
   "source": [
    "import joblib\n",
    "\n",
    "import numpy as np\n",
    "import networkx as nx\n",
    "\n",
    "from src.CBN import CausalBayesianNetwork as CBN\n",
    "import modularised_utils as mut\n",
    "import Linear_Additive_Noise_Models as lanm\n",
    "import operations as ops\n",
    "import params"
   ]
  },
  {
   "cell_type": "markdown",
   "id": "ce898cd9",
   "metadata": {},
   "source": [
    "### Define low-level DCM \"LL\" and high-level DCM \"HL\""
   ]
  },
  {
   "cell_type": "code",
   "execution_count": 2,
   "id": "0575feee",
   "metadata": {},
   "outputs": [],
   "source": [
    "experiment = 'synth1'"
   ]
  },
  {
   "cell_type": "code",
   "execution_count": 3,
   "id": "10230e5e",
   "metadata": {},
   "outputs": [],
   "source": [
    "S = 'Smoking'\n",
    "T = 'Tar'\n",
    "C = 'Cancer'\n",
    "\n",
    "S_ = 'Smoking_'\n",
    "C_ = 'Cancer_'"
   ]
  },
  {
   "cell_type": "code",
   "execution_count": 4,
   "id": "afb18cf8",
   "metadata": {},
   "outputs": [],
   "source": [
    "ll_endogenous_coeff_dict = {(S, T): 0.3, (T, C): 0.2}\n",
    "ll_causal_graph          = CBN(list(ll_endogenous_coeff_dict.keys()))\n",
    "#nx.draw(nx.DiGraph(ll_causal_graph.edges()),with_labels=True)\n",
    "\n",
    "hl_endogenous_coeff_dict = {(S_, C_): 0.0}\n",
    "hl_causal_graph          = CBN(list(hl_endogenous_coeff_dict.keys()))\n",
    "# #nx.draw(nx.DiGraph(hl_causal_graph.edges()),with_labels=True)"
   ]
  },
  {
   "cell_type": "code",
   "execution_count": 5,
   "id": "d66c8778",
   "metadata": {},
   "outputs": [],
   "source": [
    "# Define the number of samples from the low-level environment.\n",
    "num_llsamples   = params.n_samples[experiment][0]"
   ]
  },
  {
   "cell_type": "code",
   "execution_count": 63,
   "id": "e3f10bba",
   "metadata": {},
   "outputs": [
    {
     "data": {
      "text/plain": [
       "tensor([-0.7679,  0.4804, -0.3191])"
      ]
     },
     "execution_count": 63,
     "metadata": {},
     "output_type": "execute_result"
    }
   ],
   "source": [
    "torch.randn(3)"
   ]
  },
  {
   "cell_type": "code",
   "execution_count": null,
   "id": "f14502c8",
   "metadata": {},
   "outputs": [],
   "source": []
  },
  {
   "cell_type": "markdown",
   "id": "c2b57b88",
   "metadata": {},
   "source": [
    "### Construct the empirical nominal distribution/ environment"
   ]
  },
  {
   "cell_type": "code",
   "execution_count": 6,
   "id": "942ffe6d",
   "metadata": {},
   "outputs": [],
   "source": [
    "ll_mu_hat    = np.array([0, 0, 0])  \n",
    "ll_Sigma_hat = np.diag([1, 1, 1]) "
   ]
  },
  {
   "cell_type": "markdown",
   "id": "d7ba255d",
   "metadata": {},
   "source": [
    "### Define the sets of relevant interventions and the (total) surjective and order-preserving function $ω:I^{L} \\mapsto I^{H}$"
   ]
  },
  {
   "cell_type": "code",
   "execution_count": 7,
   "id": "fc02d782",
   "metadata": {
    "scrolled": true
   },
   "outputs": [],
   "source": [
    "iota0 = None\n",
    "iota1 = ops.Intervention({S:0})\n",
    "iota2 = ops.Intervention({S:0, T:1})\n",
    "iota3 = ops.Intervention({S:1})\n",
    "iota4 = ops.Intervention({S:1, T:0})\n",
    "iota5 = ops.Intervention({S:1, T:1})\n",
    "\n",
    "eta0 = None\n",
    "eta1 = ops.Intervention({S_:0})\n",
    "eta2 = ops.Intervention({S_:1})\n",
    "\n",
    "omega = {   \n",
    "            iota0: eta0,\n",
    "            iota1: eta1,\n",
    "            iota2: eta1,\n",
    "            iota3: eta2,\n",
    "            iota4: eta2,\n",
    "            iota5: eta2\n",
    "        }\n",
    "\n",
    "Ill_relevant = list(set(omega.keys()))\n",
    "Ihl_relevant = list(set(omega.values()))"
   ]
  },
  {
   "cell_type": "markdown",
   "id": "e0d71d01",
   "metadata": {},
   "source": [
    "### Sampling and Pair construction"
   ]
  },
  {
   "cell_type": "code",
   "execution_count": 92,
   "id": "7add1bf7",
   "metadata": {},
   "outputs": [],
   "source": [
    "T = np.array([[1, 2, 1], [0, 1, 0]])"
   ]
  },
  {
   "cell_type": "code",
   "execution_count": 96,
   "id": "c9e4a531",
   "metadata": {},
   "outputs": [],
   "source": [
    "Dll_samples, Dll_noise, Dhl_samples = {}, {}, {}\n",
    "for iota in Ill_relevant:\n",
    "    llcm              = lanm.LinearAddSCM(ll_causal_graph, ll_endogenous_coeff_dict, iota)\n",
    "    \n",
    "    #Different Dll_noise for each iota\n",
    "    lenv_iota         = mut.sample_distros_Gelbrich([(ll_mu_hat, ll_Sigma_hat)])[0] \n",
    "    Dll_noise[iota]   = lenv_iota.sample(5)[0]\n",
    "    Dll_samples[iota] = llcm.sample_settings(Dll_noise[iota])\n",
    "    Dhl_samples[omega[iota]] = Dll_samples[iota] @ T.T"
   ]
  },
  {
   "cell_type": "code",
   "execution_count": 98,
   "id": "0f7bc005",
   "metadata": {},
   "outputs": [
    {
     "name": "stdout",
     "output_type": "stream",
     "text": [
      "None\n",
      "{'Smoking': 0, 'Tar': 1}\n",
      "{'Smoking': 1, 'Tar': 0}\n",
      "{'Smoking': 1}\n",
      "{'Smoking': 0}\n",
      "{'Smoking': 1, 'Tar': 1}\n"
     ]
    }
   ],
   "source": [
    "for iota in Ill_relevant:\n",
    "    if iota is not None:\n",
    "        print(iota.vv())\n",
    "    else:\n",
    "        print(iota)"
   ]
  },
  {
   "cell_type": "code",
   "execution_count": 100,
   "id": "9fde1593",
   "metadata": {},
   "outputs": [
    {
     "name": "stdout",
     "output_type": "stream",
     "text": [
      "None -- None\n",
      "{'Smoking': 0, 'Tar': 1} -- {'Smoking_': 0}\n",
      "{'Smoking': 1, 'Tar': 0} -- {'Smoking_': 1}\n",
      "{'Smoking': 1} -- {'Smoking_': 1}\n",
      "{'Smoking': 0} -- {'Smoking_': 0}\n",
      "{'Smoking': 1, 'Tar': 1} -- {'Smoking_': 1}\n"
     ]
    }
   ],
   "source": [
    "cur_list = []\n",
    "i = 0\n",
    "for iota in Ill_relevant:\n",
    "    if iota is not None:\n",
    "        print(iota.vv(),'--',omega[iota].vv())\n",
    "    else:\n",
    "        print(iota,'--', omega[iota])\n",
    "    if omega[iota] not in cur_list:\n",
    "        Dhl_samples[Ihl_relevant[i]] = Dll_samples[iota]@T.T\n",
    "        cur_list.append(Ihl_relevant[i])\n",
    "        i += 1"
   ]
  },
  {
   "cell_type": "code",
   "execution_count": 103,
   "id": "829193cb",
   "metadata": {},
   "outputs": [
    {
     "name": "stdout",
     "output_type": "stream",
     "text": [
      "[[ 1.61672621  0.7208437 ]\n",
      " [ 1.2531752  -0.52818454]\n",
      " [ 0.66325701  0.18840785]\n",
      " [ 1.06495801 -0.39740576]\n",
      " [ 0.32929939 -1.29155702]] --- [[ 1.61672621  0.7208437 ]\n",
      " [ 1.2531752  -0.52818454]\n",
      " [ 0.66325701  0.18840785]\n",
      " [ 1.06495801 -0.39740576]\n",
      " [ 0.32929939 -1.29155702]]\n"
     ]
    },
    {
     "ename": "KeyError",
     "evalue": "<operations.Intervention object at 0x195bca9c0>",
     "output_type": "error",
     "traceback": [
      "\u001b[0;31m---------------------------------------------------------------------------\u001b[0m",
      "\u001b[0;31mKeyError\u001b[0m                                  Traceback (most recent call last)",
      "Cell \u001b[0;32mIn[103], line 2\u001b[0m\n\u001b[1;32m      1\u001b[0m \u001b[38;5;28;01mfor\u001b[39;00m iota \u001b[38;5;129;01min\u001b[39;00m Ill_relevant:\n\u001b[0;32m----> 2\u001b[0m     \u001b[38;5;28mprint\u001b[39m(Dhl_samples[iota],\u001b[38;5;124m'\u001b[39m\u001b[38;5;124m---\u001b[39m\u001b[38;5;124m'\u001b[39m,Dll_samples[iota]\u001b[38;5;129m@T\u001b[39m\u001b[38;5;241m.\u001b[39mT)\n\u001b[1;32m      3\u001b[0m     \u001b[38;5;28;01mif\u001b[39;00m omega[iota] \u001b[38;5;129;01mnot\u001b[39;00m \u001b[38;5;129;01min\u001b[39;00m cur_list:\n\u001b[1;32m      4\u001b[0m         \u001b[38;5;28;01mpass\u001b[39;00m\n",
      "\u001b[0;31mKeyError\u001b[0m: <operations.Intervention object at 0x195bca9c0>"
     ]
    }
   ],
   "source": [
    "for iota in Ill_relevant:\n",
    "    print(Dhl_samples[iota],'---',Dll_samples[iota]@T.T)"
   ]
  },
  {
   "cell_type": "code",
   "execution_count": 11,
   "id": "b871678f",
   "metadata": {},
   "outputs": [],
   "source": [
    "Ds = {}\n",
    "for iota in Ill_relevant:\n",
    "    Ds[iota] = (Dll_samples[iota], Dhl_samples[omega[iota]])"
   ]
  },
  {
   "cell_type": "code",
   "execution_count": 12,
   "id": "191dc1dc",
   "metadata": {},
   "outputs": [],
   "source": [
    "hl_coeffs = mut.get_coefficients(Dhl_samples[None], hl_causal_graph) "
   ]
  },
  {
   "cell_type": "code",
   "execution_count": 13,
   "id": "e10b4f4b",
   "metadata": {},
   "outputs": [],
   "source": [
    "Dhl_noise, hl_mu_hat, hl_Sigma_hat = mut.lan_abduction(Dhl_samples[None], hl_causal_graph, hl_coeffs)\n",
    "\n",
    "# hl_moments     = [(hl_mu_hat, hl_Sigma_hat)]\n",
    "# henv           = mut.sample_distros_Gelbrich(hl_moments)[0] "
   ]
  },
  {
   "cell_type": "code",
   "execution_count": 14,
   "id": "b6dcae3b",
   "metadata": {},
   "outputs": [
    {
     "data": {
      "text/plain": [
       "['data/synth1/exogenous_HL.pkl']"
      ]
     },
     "execution_count": 14,
     "metadata": {},
     "output_type": "execute_result"
    }
   ],
   "source": [
    "joblib.dump((ll_causal_graph, Ill_relevant), f\"data/{experiment}/LL.pkl\")\n",
    "joblib.dump(ll_endogenous_coeff_dict, f\"data/{experiment}/ll_coeffs.pkl\")\n",
    "\n",
    "joblib.dump((hl_causal_graph, Ihl_relevant), f\"data/{experiment}/HL.pkl\")\n",
    "joblib.dump(hl_coeffs, f\"data/{experiment}/hl_coeffs.pkl\")\n",
    "\n",
    "joblib.dump(Ds, f\"data/{experiment}/Ds.pkl\")\n",
    "\n",
    "joblib.dump(T, f\"data/{experiment}/Tau.pkl\")\n",
    "joblib.dump(omega, f\"data/{experiment}/omega.pkl\")\n",
    "\n",
    "joblib.dump((Dll_noise[None], ll_mu_hat, ll_Sigma_hat), f\"data/{experiment}/exogenous_LL.pkl\")\n",
    "joblib.dump((Dhl_noise, hl_mu_hat, hl_Sigma_hat), f\"data/{experiment}/exogenous_HL.pkl\")"
   ]
  },
  {
   "cell_type": "code",
   "execution_count": null,
   "id": "270ca1de",
   "metadata": {},
   "outputs": [],
   "source": []
  }
 ],
 "metadata": {
  "kernelspec": {
   "display_name": "erica",
   "language": "python",
   "name": "python3"
  },
  "language_info": {
   "codemirror_mode": {
    "name": "ipython",
    "version": 3
   },
   "file_extension": ".py",
   "mimetype": "text/x-python",
   "name": "python",
   "nbconvert_exporter": "python",
   "pygments_lexer": "ipython3",
   "version": "3.12.5"
  }
 },
 "nbformat": 4,
 "nbformat_minor": 5
}
