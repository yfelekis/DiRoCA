{
 "cells": [
  {
   "cell_type": "code",
   "execution_count": 1,
   "id": "a28ac6f7",
   "metadata": {},
   "outputs": [],
   "source": [
    "import json\n",
    "import pickle\n",
    "import time\n",
    "from datetime import datetime, timedelta\n",
    "from itertools import product\n",
    "\n",
    "import numpy as np\n",
    "import torch\n",
    "from torch.nn.utils import clip_grad_norm_\n",
    "import joblib\n",
    "import os\n",
    "\n",
    "import matplotlib.pyplot as plt\n",
    "from tqdm import tqdm\n",
    "\n",
    "# Local modules\n",
    "import modularised_utils as mut\n",
    "import opt_utils as oput\n",
    "import Linear_Additive_Noise_Models as lanm\n",
    "import operations as ops\n",
    "import params\n",
    "\n",
    "np.random.seed(0)"
   ]
  },
  {
   "cell_type": "code",
   "execution_count": 2,
   "id": "677de9ef",
   "metadata": {},
   "outputs": [],
   "source": [
    "experiment       = 'synth1'\n",
    "abduction        = False\n",
    "coeff_estimation = False\n",
    "\n",
    "# Define the radius of the Wasserstein balls (epsilon, delta) and the size for both models.\n",
    "epsilon, delta           = params.radius[experiment]\n",
    "ll_num_envs, hl_num_envs = params.n_envs[experiment]\n",
    "\n",
    "# Define the number of samples per environment. Currently every environment has the same number of samples\n",
    "num_llsamples, num_hlsamples  = params.n_samples[experiment]\n",
    "\n",
    "# Load ground truth abstraction\n",
    "Tau = mut.load_T(experiment)"
   ]
  },
  {
   "cell_type": "code",
   "execution_count": 3,
   "id": "6ccf37e0",
   "metadata": {},
   "outputs": [],
   "source": [
    "Dll_obs  = mut.load_samples(experiment)[None][0] \n",
    "Gll, Ill = mut.load_model(experiment, 'LL')\n",
    "n_varsll = len(Gll.nodes())\n",
    "\n",
    "Dhl_obs  = mut.load_samples(experiment)[None][1] \n",
    "Ghl, Ihl = mut.load_model(experiment, 'HL')\n",
    "n_varshl = len(Ghl.nodes())\n",
    "\n",
    "\n",
    "omega    = mut.load_omega_map(experiment)"
   ]
  },
  {
   "cell_type": "code",
   "execution_count": 4,
   "id": "b9fb9e92",
   "metadata": {},
   "outputs": [],
   "source": [
    "if coeff_estimation == True:\n",
    "    ll_coeffs = mut.get_coefficients(Dll_obs, Gll)\n",
    "    hl_coeffs = mut.get_coefficients(Dhl_obs, Ghl) \n",
    "else:\n",
    "    ll_coeffs = mut.load_coeffs(experiment, 'LL')\n",
    "    hl_coeffs = mut.load_coeffs(experiment, 'HL')"
   ]
  },
  {
   "cell_type": "code",
   "execution_count": 5,
   "id": "3e42545e",
   "metadata": {},
   "outputs": [],
   "source": [
    "# # [Not suggested] In case we want to explore also the interventional --> worse estimation!\n",
    "# Dlls, Dhls = [], []\n",
    "# for dpair in list(mut.load_samples(experiment).values()):\n",
    "#     Dlls.append(dpair[0])\n",
    "#     Dhls.append(dpair[1])\n",
    "    \n",
    "# ll_coeffs = mut.get_coefficients(Dlls, Gll)\n",
    "# hl_coeffs = mut.get_coefficients(Dhls, Ghl) "
   ]
  },
  {
   "cell_type": "code",
   "execution_count": 6,
   "id": "75470de5",
   "metadata": {},
   "outputs": [],
   "source": [
    "if abduction == True:\n",
    "    U_ll_hat, mu_U_ll_hat, Sigma_U_ll_hat = mut.lan_abduction(Dll_obs, Gll, ll_coeffs)\n",
    "    U_hl_hat, mu_U_hl_hat, Sigma_U_hl_hat = mut.lan_abduction(Dhl_obs, Ghl, hl_coeffs)\n",
    "else:\n",
    "    U_ll_hat, mu_U_ll_hat, Sigma_U_ll_hat = mut.load_exogenous(experiment, 'LL')\n",
    "    U_hl_hat, mu_U_hl_hat, Sigma_U_hl_hat = mut.load_exogenous(experiment, 'HL')"
   ]
  },
  {
   "cell_type": "code",
   "execution_count": 7,
   "id": "53e18c8a",
   "metadata": {},
   "outputs": [],
   "source": [
    "LLmodels = {}\n",
    "for iota in Ill:\n",
    "    LLmodels[iota] = lanm.LinearAddSCM(Gll, ll_coeffs, iota)\n",
    "    \n",
    "HLmodels, Dhl_samples = {}, {}\n",
    "for eta in Ihl:\n",
    "    HLmodels[eta] = lanm.LinearAddSCM(Ghl, hl_coeffs, eta)"
   ]
  },
  {
   "cell_type": "code",
   "execution_count": 8,
   "id": "0a7f3845",
   "metadata": {},
   "outputs": [],
   "source": [
    "def update_mu_L(T, mu_L, mu_H, LLmodels, HLmodels, lambda_L, hat_mu_L, eta):\n",
    "    term1     = torch.zeros_like(mu_L)\n",
    "    for n, iota in enumerate(Ill):\n",
    "        L_i = torch.from_numpy(LLmodels[iota]._compute_reduced_form()).float() \n",
    "        V_i = T @ L_i  \n",
    "        H_i = torch.from_numpy(HLmodels[omega[iota]]._compute_reduced_form()).float() \n",
    "\n",
    "        term1     = term1 + V_i.T @ V_i @ mu_L.float() - V_i.T @ H_i @ mu_H.float()\n",
    "    \n",
    "    term2     = -2 * lambda_L * (mu_L - hat_mu_L)\n",
    "    grad_mu_L = (2 / (n+1)) * term1 - term2\n",
    "\n",
    "    return mu_L + (eta * grad_mu_L)\n",
    "\n",
    "def update_mu_H(T, mu_L, mu_H, LLmodels, HLmodels, lambda_H, hat_mu_H, eta):\n",
    "\n",
    "    term1     = torch.zeros_like(mu_H)\n",
    "    for n, iota in enumerate(Ill):\n",
    "        L_i = torch.from_numpy(LLmodels[iota]._compute_reduced_form()).float()  \n",
    "        V_i = T @ L_i  \n",
    "        H_i = torch.from_numpy(HLmodels[omega[iota]]._compute_reduced_form()).float()  \n",
    "\n",
    "        term1 = term1 + H_i.T @ H_i @ mu_H.float() - (V_i.T @ H_i).T @ mu_L.float()\n",
    "    \n",
    "    term2     = -2 * lambda_H * (mu_H - hat_mu_H)\n",
    "    grad_mu_H = (2 / (n+1)) * term1 - term2\n",
    "\n",
    "    return mu_H + (eta * grad_mu_H)\n",
    "\n",
    "\n",
    "def update_Sigma_L_half(T, Sigma_L, LLmodels, lambda_L, hat_Sigma_L, eta):\n",
    "\n",
    "    term1        = torch.zeros_like(Sigma_L)\n",
    "    for n, iota in enumerate(Ill):\n",
    "        L_i = torch.from_numpy(LLmodels[iota]._compute_reduced_form())\n",
    "        V_i = T @ L_i.float()\n",
    "\n",
    "        term1 = term1 + V_i.T @ V_i\n",
    "\n",
    "    Sigma_L_sqrt     = oput.sqrtm_svd(Sigma_L)  \n",
    "    hat_Sigma_L_sqrt = oput.sqrtm_svd(hat_Sigma_L) \n",
    "\n",
    "    term2        = -2 * lambda_L * (Sigma_L_sqrt - hat_Sigma_L_sqrt) @ torch.inverse(Sigma_L_sqrt)\n",
    "    grad_Sigma_L = (2 / (n+1)) * term1 - term2\n",
    "    \n",
    "    return Sigma_L + eta * grad_Sigma_L\n",
    "\n",
    "def update_Sigma_H_half(T, Sigma_H, HLmodels, lambda_H, hat_Sigma_H, eta):\n",
    "\n",
    "    term1        = torch.zeros_like(Sigma_H)\n",
    "    for n, iota in enumerate(Ill):\n",
    "        H_i   = torch.from_numpy(HLmodels[omega[iota]]._compute_reduced_form()).float()\n",
    "        \n",
    "        term1 = term1 + H_i.T @ H_i\n",
    "\n",
    "    Sigma_H_sqrt     = oput.sqrtm_svd(Sigma_H)  \n",
    "    hat_Sigma_H_sqrt = oput.sqrtm_svd(hat_Sigma_H) \n",
    "\n",
    "    term2        = -2 * lambda_H * (Sigma_H_sqrt - hat_Sigma_H_sqrt) @ torch.inverse(Sigma_H_sqrt)\n",
    "    grad_Sigma_H = (2 / (n+1)) * term1 - term2\n",
    "\n",
    "    return Sigma_H + eta * grad_Sigma_H\n",
    "\n",
    "def update_Sigma_L(T, Sigma_L_half, LLmodels, Sigma_H, HLmodels, lambda_param):\n",
    "\n",
    "    Sigma_L = torch.zeros_like(Sigma_L_half, dtype=torch.float32)  \n",
    "    for n, iota in enumerate(Ill):\n",
    "        L_i = torch.from_numpy(LLmodels[iota]._compute_reduced_form()).float()  \n",
    "        V_i = oput.regmat(T @ L_i)  \n",
    "        H_i = torch.from_numpy(HLmodels[omega[iota]]._compute_reduced_form()).float()  \n",
    "        \n",
    "        Sigma_L_half      = Sigma_L_half.float()\n",
    "        V_Sigma_V         = V_i @ Sigma_L_half @ V_i.T\n",
    "        sqrtm_V_Sigma_V   = oput.sqrtm_svd(oput.regmat(V_Sigma_V)) \n",
    "        prox_Sigma_L_half = oput.prox_operator(sqrtm_V_Sigma_V, lambda_param) @ oput.prox_operator(sqrtm_V_Sigma_V, lambda_param).T\n",
    "        \n",
    "        #ll_term_a = oput.regmat(torch.linalg.pinv(V_i)) @ oput.regmat(prox_Sigma_L_half)\n",
    "        #ll_term_b = oput.regmat(torch.linalg.pinv(V_i).T)\n",
    "        #ll_term   = ll_term_a @ ll_term_b\n",
    "        ll_term   = oput.regmat(torch.linalg.pinv(V_i)) @ oput.regmat(prox_Sigma_L_half) @ oput.regmat(torch.linalg.pinv(V_i).T)\n",
    "\n",
    "        Sigma_H   = Sigma_H.float()  \n",
    "        H_Sigma_H = H_i @ Sigma_H @ H_i.T\n",
    "\n",
    "        hl_term   = torch.norm(oput.sqrtm_svd(oput.regmat(H_Sigma_H)), p='fro') \n",
    "\n",
    "        Sigma_L = Sigma_L + (ll_term * hl_term)\n",
    "\n",
    "    Sigma_L_final = (2 / (n+1)) * Sigma_L \n",
    "    Sigma_L_final = oput.diagonalize(Sigma_L_final)\n",
    "\n",
    "    return Sigma_L_final\n",
    "\n",
    "def check_for_invalid_values(matrix):\n",
    "    if torch.isnan(matrix).any() or torch.isinf(matrix).any():\n",
    "        #print(\"Matrix contains NaN or Inf values!\")\n",
    "        return True\n",
    "    return False\n",
    "\n",
    "def handle_nans(matrix, replacement_value=0.0):\n",
    "    # Replace NaNs with a given value (default is 0)\n",
    "    if torch.isnan(matrix).any():\n",
    "        print(\"Warning: NaN values found! Replacing with zero.\")\n",
    "        matrix = torch.nan_to_num(matrix, nan=replacement_value)\n",
    "    return matrix\n",
    "\n",
    "\n",
    "def update_Sigma_H(T, Sigma_H_half, LLmodels, Sigma_L, HLmodels, lambda_param):\n",
    "    Sigma_H = torch.zeros_like(Sigma_H_half)\n",
    "    for n, iota in enumerate(Ill):\n",
    "        L_i = torch.from_numpy(LLmodels[iota]._compute_reduced_form())\n",
    "        V_i = oput.regmat(T @ L_i.float())\n",
    "        H_i = torch.from_numpy(HLmodels[omega[iota]]._compute_reduced_form()).float()\n",
    "\n",
    "        #H_Sigma_H         = oput.regmat(H_i @ Sigma_H_half @ H_i.T)\n",
    "        H_Sigma_H         = H_i @ Sigma_H_half @ H_i.T\n",
    "        sqrtm_H_Sigma_H   = oput.regmat(oput.sqrtm_svd(H_Sigma_H)) \n",
    "\n",
    "        #sqrtm_H_Sigma_H   = oput.sqrtm_svd(H_Sigma_H) \n",
    "\n",
    "        prox_Sigma_H_half = oput.prox_operator(sqrtm_H_Sigma_H, lambda_param) @ oput.prox_operator(sqrtm_H_Sigma_H, lambda_param).T\n",
    "        #hl_term           = torch.inverse(H_i) @ prox_Sigma_H_half @ torch.inverse(H_i).T\n",
    "        hl_term           = H_i @ prox_Sigma_H_half @ H_i.T\n",
    "        \n",
    "        V_Sigma_V = V_i @ Sigma_L @ V_i.T\n",
    "        ll_term   = torch.norm(oput.sqrtm_svd(oput.regmat(V_Sigma_V)))\n",
    "\n",
    "        Sigma_H = Sigma_H + (ll_term * hl_term)\n",
    "    \n",
    "    Sigma_H_final = (2 / (n+1)) * Sigma_H\n",
    "    Sigma_H_final = oput.diagonalize(Sigma_H_final)\n",
    "    \n",
    "    return Sigma_H_final"
   ]
  },
  {
   "cell_type": "code",
   "execution_count": 9,
   "id": "db35b6b8",
   "metadata": {},
   "outputs": [],
   "source": [
    "def optimize_max(T, mu_L, Sigma_L, mu_H, Sigma_H, LLmodels, HLmodels, hat_mu_L, hat_Sigma_L, hat_mu_H, hat_Sigma_H, lambda_L, lambda_H, lambda_param, eta, num_steps_max, epsilon, delta, seed):\n",
    "    \n",
    "    torch.manual_seed(seed)\n",
    "    for t in range(num_steps_max): \n",
    "        mu_L         = update_mu_L(T, mu_L, mu_H, LLmodels, HLmodels, lambda_L, hat_mu_L, eta)\n",
    "        mu_H         = update_mu_H(T, mu_L, mu_H, LLmodels, HLmodels, lambda_H, hat_mu_H, eta)\n",
    "        Sigma_L_half = update_Sigma_L_half(T, Sigma_L, LLmodels, lambda_L, hat_Sigma_L, eta)\n",
    "        Sigma_L      = update_Sigma_L(T, Sigma_L_half, LLmodels, Sigma_H, HLmodels, lambda_param)\n",
    "        \n",
    "        Sigma_H_half = update_Sigma_H_half(T, Sigma_H, HLmodels, lambda_H, hat_Sigma_H, eta)\n",
    "        \n",
    "        Sigma_H      = update_Sigma_H(T, Sigma_H_half, LLmodels, Sigma_L, HLmodels, lambda_param)\n",
    "        \n",
    "        # Project onto Gelbrich balls\n",
    "        mu_L, Sigma_L = oput.project_onto_gelbrich_ball(mu_L, Sigma_L, hat_mu_L, hat_Sigma_L, epsilon)\n",
    "        mu_H, Sigma_H = oput.project_onto_gelbrich_ball(mu_H, Sigma_H, hat_mu_H, hat_Sigma_H, delta)\n",
    "        \n",
    "        # Verify constraints\n",
    "        satisfied_L, dist_L, epsi = oput.verify_gelbrich_constraint(mu_L, Sigma_L, hat_mu_L, hat_Sigma_L, epsilon)\n",
    "        satisfied_H, dist_H, delt = oput.verify_gelbrich_constraint(mu_H, Sigma_H, hat_mu_H, hat_Sigma_H, delta)\n",
    "        \n",
    "        if not satisfied_L:\n",
    "            print(f\"Warning: Constraints not satisfied for mu_L and Sigma_L! Distance: {dist_L} and epsilon = {epsi}\")\n",
    "\n",
    "        if not satisfied_H:\n",
    "            print(f\"Warning: Constraints not satisfied for mu_H and Sigma_H! Distance: {dist_H} and delta = {delt}\")\n",
    "        \n",
    "        obj = 0\n",
    "        \n",
    "        for i, iota in enumerate(Ill):\n",
    "            L_i = torch.from_numpy(LLmodels[iota]._compute_reduced_form())\n",
    "            V_i = T @ L_i.float()\n",
    "            H_i = torch.from_numpy(HLmodels[omega[iota]]._compute_reduced_form()).float()\n",
    "                        \n",
    "            L_i_mu_L = V_i @ mu_L\n",
    "            H_i_mu_H = H_i @ mu_H\n",
    "            term1 = torch.norm(L_i_mu_L.float() - H_i_mu_H.float())**2\n",
    "            \n",
    "            V_Sigma_V = oput.regmat(V_i.float() @ Sigma_L.float() @ V_i.T.float())\n",
    "            H_Sigma_H = oput.regmat(H_i.float() @ Sigma_H.float() @ H_i.T.float())\n",
    "            \n",
    "            term2 = torch.trace(V_Sigma_V)\n",
    "            term3 = torch.trace(H_Sigma_H)\n",
    "            \n",
    "            sqrtVSV = oput.sqrtm_svd(V_Sigma_V)\n",
    "            sqrtHSH = oput.sqrtm_svd(H_Sigma_H)\n",
    "\n",
    "            term4 = -2 * torch.trace(oput.sqrtm_svd(oput.regmat(sqrtVSV @ sqrtHSH @ sqrtVSV)))\n",
    "\n",
    "            obj = obj + (term1 + term2 + term3 + term4)\n",
    "        \n",
    "        obj = obj/(i+1)\n",
    "        #print(f\"Max step {t+1}/{num_steps_max}, Objective: {obj.item()}\")\n",
    "\n",
    "    return obj, mu_L, Sigma_L, mu_H, Sigma_H\n",
    "\n",
    "\n",
    "def optimize_min(T, mu_L, Sigma_L, mu_H, Sigma_H, LLmodels, HLmodels, num_steps_min, optimizer_T, seed):\n",
    "\n",
    "    torch.manual_seed(seed)\n",
    "    T = torch.nn.init.xavier_normal_(T, gain=0.01)\n",
    "    objective_T = torch.tensor(0.0)  # Initialize as tensor instead of int \n",
    "    for step in range(num_steps_min):\n",
    "        objective_T = torch.tensor(0.0) # Reset objective at the start of each step\n",
    "        for n, iota in enumerate(Ill):\n",
    "            L_i = torch.from_numpy(LLmodels[iota]._compute_reduced_form()).float()\n",
    "            H_i = torch.from_numpy(HLmodels[omega[iota]]._compute_reduced_form()).float()\n",
    "            \n",
    "            L_i_mu_L = L_i @ mu_L  \n",
    "            H_i_mu_H = H_i @ mu_H \n",
    "\n",
    "            term1 = torch.norm(T @ L_i_mu_L - H_i_mu_H) ** 2\n",
    "            term2 = torch.trace(T @ L_i @ Sigma_L @ L_i.T @ T.T)\n",
    "            term3 = torch.trace(H_i @ Sigma_H @ H_i.T)\n",
    "            \n",
    "            L_i_Sigma_L = oput.regmat(T @ L_i @ Sigma_L @ L_i.T @ T.T)\n",
    "            H_i_Sigma_H = oput.regmat(H_i @ Sigma_H @ H_i.T)\n",
    "\n",
    "            L_i_Sigma_L = T @ L_i @ Sigma_L @ L_i.T @ T.T\n",
    "            H_i_Sigma_H = H_i @ Sigma_H @ H_i.T\n",
    "            #term4 = -2 * torch.norm(oput.sqrtm_svd(L_i_Sigma_L) @ oput.sqrtm_svd(H_i_Sigma_H), 'nuc')\n",
    "            term4 = -2 * torch.trace(oput.sqrtm_svd(oput.sqrtm_svd(L_i_Sigma_L) @ H_i_Sigma_H @ oput.sqrtm_svd(L_i_Sigma_L)))\n",
    "\n",
    "            objective_T = objective_T + term1 + term2 + term3 + term4\n",
    "            \n",
    "        objective_T = objective_T/(n+1)\n",
    "        # print(f\"obgective value at the end of step {step} = {objective_T}\")\n",
    "        # print(f\"current T at step {step}: {T}\")\n",
    "        # print('T.grad', T.grad) \n",
    "        if torch.isnan(T).any():\n",
    "            print(\"Gradient contains NaN!\")\n",
    "            print('step: ', step+1)\n",
    "\n",
    "        optimizer_T.zero_grad() \n",
    "        objective_T.backward(retain_graph=True) \n",
    "        optimizer_T.step()            \n",
    "        \n",
    "        #print(f\"Min step {step+1}/{num_steps_min}, Objective: {objective_T.item()}\")\n",
    "\n",
    "\n",
    "    return objective_T, T "
   ]
  },
  {
   "cell_type": "code",
   "execution_count": 10,
   "id": "49a99b08",
   "metadata": {},
   "outputs": [],
   "source": [
    "# def run_optimization(mu_L, Sigma_L, mu_H, Sigma_H, LLmodels, HLmodels, \n",
    "#                      hat_mu_L, hat_Sigma_L, hat_mu_H, hat_Sigma_H, \n",
    "#                      epsilon, delta, lambda_L, lambda_H, lambda_param, \n",
    "#                      eta_min, eta_max, max_iter, num_steps_min, num_steps_max, tol, seed, robust):\n",
    "#     torch.manual_seed(seed) \n",
    "#     torch.cuda.manual_seed_all(seed)\n",
    "\n",
    "#     if robust == False:\n",
    "#         epsilon = 0.0\n",
    "#         delta   = 0.0\n",
    "\n",
    "#     T = torch.randn(mu_H.shape[0], mu_L.shape[0], requires_grad=True)\n",
    "    \n",
    "#     optimizer_T = torch.optim.Adam([T], lr=1e-5, eps=1e-8, amsgrad=True)\n",
    "    \n",
    "#     #optimizer_T = torch.optim.Adam([T], lr=1e-5)\n",
    "#     #optimizer_T        = torch.optim.SGD([T], lr=1e-5, momentum=0.9)\n",
    "#     previous_objective = float('inf')  \n",
    "#     for epoch in tqdm(range(max_iter)): \n",
    "\n",
    "#         # ---- Minimize T ----\n",
    "#         print(f\"Before optimize_min, T: {T}\")\n",
    "#         objective_T, T = optimize_min(T, mu_L, Sigma_L, mu_H, Sigma_H, LLmodels, HLmodels, num_steps_min, optimizer_T, seed)\n",
    "#         print(f\"After optimize_min, T: {T}\")\n",
    "\n",
    "#         # ---- Maximize mu_L, Sigma_L, mu_H, Sigma_H ----\n",
    "#         if robust == True:\n",
    "           \n",
    "#             obj_theta, mu_L, Sigma_L, mu_H, Sigma_H = optimize_max(T, mu_L, Sigma_L, mu_H, Sigma_H, LLmodels, HLmodels,\n",
    "#                                                         hat_mu_L, hat_Sigma_L, hat_mu_H, hat_Sigma_H,\n",
    "#                                                         lambda_L, lambda_H, lambda_param, eta_max, num_steps_max,\n",
    "#                                                         epsilon, delta, seed)\n",
    "#         print( )\n",
    "       \n",
    "#         criterion = abs(previous_objective - objective_T.item()) \n",
    "        \n",
    "#         if criterion < tol:\n",
    "#             print(f\"Convergence reached at epoch {epoch+1} with objective {objective_T.item()}\")\n",
    "#             break\n",
    "\n",
    "#         previous_objective = objective_T.item()\n",
    "\n",
    "#     print(\"Final T:\", T)\n",
    "#     print(\"Final mu_L:\", mu_L)\n",
    "#     print(\"Final Sigma_L:\", Sigma_L)\n",
    "#     print(\"Final mu_H:\", mu_H)\n",
    "#     print(\"Final Sigma_H:\", Sigma_H)\n",
    "#     print('Final T: ', T)\n",
    "\n",
    "#     return mu_L, Sigma_L, mu_H, Sigma_H, T"
   ]
  },
  {
   "cell_type": "code",
   "execution_count": 15,
   "id": "fec115b7",
   "metadata": {},
   "outputs": [],
   "source": [
    "def run_optimization(theta_hatL, theta_hatH, initial_theta,\n",
    "                     epsilon, delta, lambda_L, lambda_H, lambda_param, \n",
    "                     eta_min, eta_max, max_iter, num_steps_min, num_steps_max, tol, seed, robust, plot_steps, plot_epochs):\n",
    "    \n",
    "    torch.manual_seed(seed) \n",
    "    torch.cuda.manual_seed_all(seed)\n",
    "\n",
    "    hat_mu_L, hat_Sigma_L = torch.from_numpy(theta_hatL['mu_U']).float(), torch.from_numpy(theta_hatL['Sigma_U']).float()\n",
    "    hat_mu_H, hat_Sigma_H = torch.from_numpy(theta_hatH['mu_U']).float(), torch.from_numpy(theta_hatH['Sigma_U']).float()\n",
    "\n",
    "    if initial_theta == 'gelbrich':\n",
    "        l = hat_mu_L.shape[0]\n",
    "        h = hat_mu_H.shape[0]\n",
    "\n",
    "        # Gelbrich initialization\n",
    "        ll_moments      = mut.sample_moments_U(mu_hat = theta_hatL['mu_U'], Sigma_hat = theta_hatL['Sigma_U'], bound = epsilon, num_envs = 1)\n",
    "        mu_L, Sigma_L = ll_moments[0]\n",
    "        mu_L, Sigma_L = torch.from_numpy(mu_L).float(), torch.from_numpy(Sigma_L).float()\n",
    "\n",
    "        hl_moments      = mut.sample_moments_U(mu_hat = theta_hatH['mu_U'], Sigma_hat = theta_hatH['Sigma_U'], bound = delta, num_envs = 1)\n",
    "        mu_H, Sigma_H = hl_moments[0]\n",
    "        mu_H, Sigma_H = torch.from_numpy(mu_H).float(), torch.from_numpy(Sigma_H).float()\n",
    "        \n",
    "    elif initial_theta == 'empirical':\n",
    "        mu_L, Sigma_L = hat_mu_L, hat_Sigma_L\n",
    "        mu_H, Sigma_H = hat_mu_H, hat_Sigma_H\n",
    "    \n",
    "    # Initialize storage\n",
    "    epoch_objectives      = {'T_objectives': [], 'theta_objectives': []}\n",
    "    inner_loop_objectives = {'min_objectives': [], 'max_objectives': []}\n",
    "\n",
    "    if not robust:\n",
    "        epsilon = delta = 0.0\n",
    "\n",
    "    T = torch.randn(mu_H.shape[0], mu_L.shape[0], requires_grad=True)\n",
    "    optimizer_T = torch.optim.Adam([T], lr=1e-5, eps=1e-8, amsgrad=True)\n",
    "    \n",
    "    previous_objective = float('inf')  \n",
    "    for epoch in tqdm(range(max_iter)): \n",
    "        epoch_min_objectives = []  \n",
    "        epoch_max_objectives = []  \n",
    "\n",
    "        # Minimize T\n",
    "        for min_step in range(num_steps_min):\n",
    "            objective_T, T = optimize_min(T, mu_L, Sigma_L, mu_H, Sigma_H, LLmodels, HLmodels, 1, optimizer_T, seed)\n",
    "            epoch_min_objectives.append(objective_T.item())\n",
    "\n",
    "        # Maximize parameters if robust\n",
    "        final_obj_theta = None\n",
    "        if robust:\n",
    "            for max_step in range(num_steps_max):\n",
    "                obj_theta, mu_L, Sigma_L, mu_H, Sigma_H = optimize_max(\n",
    "                    T, mu_L, Sigma_L, mu_H, Sigma_H, LLmodels, HLmodels,\n",
    "                    hat_mu_L, hat_Sigma_L, hat_mu_H, hat_Sigma_H,\n",
    "                    lambda_L, lambda_H, lambda_param, eta_max, 1,\n",
    "                    epsilon, delta, seed\n",
    "                )\n",
    "                epoch_max_objectives.append(obj_theta.item())\n",
    "                final_obj_theta = obj_theta.item()\n",
    "\n",
    "        # Store objectives\n",
    "        inner_loop_objectives['min_objectives'].append(epoch_min_objectives)\n",
    "        inner_loop_objectives['max_objectives'].append(epoch_max_objectives)\n",
    "        epoch_objectives['T_objectives'].append(objective_T.item())\n",
    "        if final_obj_theta is not None:\n",
    "            epoch_objectives['theta_objectives'].append(final_obj_theta)\n",
    "\n",
    "        # Plot progress\n",
    "        if plot_steps == True:\n",
    "            oput.plot_epoch_progress(epoch, epoch_min_objectives, epoch_max_objectives, robust)\n",
    "\n",
    "        # Check convergence\n",
    "        criterion = abs(previous_objective - objective_T.item()) \n",
    "        if criterion < tol:\n",
    "            print(f\"Convergence reached at epoch {epoch+1} with objective {objective_T.item()}\")\n",
    "            break\n",
    "\n",
    "        previous_objective = objective_T.item()\n",
    "\n",
    "    # Plot overall progress\n",
    "    if plot_epochs == True:\n",
    "        oput.plot_overall_progress(epoch_objectives, robust)\n",
    "\n",
    "    # Print final values\n",
    "    print(\"Final T:\", T)\n",
    "    print(\"Final mu_L:\", mu_L)\n",
    "    print(\"Final Sigma_L:\", Sigma_L)\n",
    "    print(\"Final mu_H:\", mu_H)\n",
    "    print(\"Final Sigma_H:\", Sigma_H)\n",
    "\n",
    "    paramsL = {'mu_U': mu_L.detach().numpy(), 'Sigma_U': Sigma_L.detach().numpy(), 'radius': epsilon}\n",
    "    paramsH = {'mu_U': mu_H.detach().numpy(), 'Sigma_U': Sigma_H.detach().numpy(), 'radius': delta}\n",
    "\n",
    "    T = T.detach().numpy()\n",
    "    \n",
    "    return paramsL, paramsH, T, inner_loop_objectives, epoch_objectives"
   ]
  },
  {
   "cell_type": "markdown",
   "id": "5bd895cb",
   "metadata": {},
   "source": [
    "### ERICA optimization"
   ]
  },
  {
   "cell_type": "code",
   "execution_count": 19,
   "id": "d854736c",
   "metadata": {},
   "outputs": [],
   "source": [
    "theta_hatL   = {'mu_U': mu_U_ll_hat, 'Sigma_U': Sigma_U_ll_hat, 'radius': epsilon}\n",
    "theta_hatH   = {'mu_U': mu_U_hl_hat, 'Sigma_U': Sigma_U_hl_hat, 'radius': delta}\n",
    "\n",
    "params_erica =  {\n",
    "                    'theta_hatL': theta_hatL,\n",
    "                    'theta_hatH': theta_hatH,\n",
    "                    'initial_theta': 'empirical',\n",
    "                    'epsilon': 0.9,\n",
    "                    'delta': 0.8,\n",
    "                    'lambda_L': 0.9,\n",
    "                    'lambda_H': 0.9,\n",
    "                    'lambda_param': 0.9,\n",
    "                    'eta_max': 0.001,\n",
    "                    'eta_min': 0.0001,\n",
    "                    'max_iter': 10,\n",
    "                    'num_steps_min': 3,\n",
    "                    'num_steps_max': 2,\n",
    "                    'tol': 1e-8,\n",
    "                    'seed': 0,\n",
    "                    'robust': True,\n",
    "                    'plot_steps': False,\n",
    "                    'plot_epochs': False\n",
    "                }"
   ]
  },
  {
   "cell_type": "code",
   "execution_count": 20,
   "id": "504a3029",
   "metadata": {},
   "outputs": [
    {
     "name": "stderr",
     "output_type": "stream",
     "text": [
      "  0%|          | 0/10 [00:00<?, ?it/s]"
     ]
    },
    {
     "data": {
      "application/vnd.plotly.v1+json": {
       "config": {
        "plotlyServerURL": "https://plot.ly"
       },
       "data": [
        {
         "line": {
          "color": "green"
         },
         "mode": "lines",
         "name": "Min steps",
         "type": "scatter",
         "xaxis": "x",
         "y": [
          13.585732460021973,
          13.585732460021973,
          13.585732460021973
         ],
         "yaxis": "y"
        },
        {
         "line": {
          "color": "purple"
         },
         "mode": "lines",
         "name": "Max steps",
         "type": "scatter",
         "xaxis": "x2",
         "y": [
          8.392189025878906,
          8.391385078430176
         ],
         "yaxis": "y2"
        }
       ],
       "layout": {
        "annotations": [
         {
          "font": {
           "size": 16
          },
          "showarrow": false,
          "text": "Minimization Steps (Epoch 1)",
          "x": 0.225,
          "xanchor": "center",
          "xref": "paper",
          "y": 1,
          "yanchor": "bottom",
          "yref": "paper"
         },
         {
          "font": {
           "size": 16
          },
          "showarrow": false,
          "text": "Maximization Steps (Epoch 1)",
          "x": 0.775,
          "xanchor": "center",
          "xref": "paper",
          "y": 1,
          "yanchor": "bottom",
          "yref": "paper"
         }
        ],
        "font": {
         "size": 12
        },
        "height": 400,
        "paper_bgcolor": "white",
        "plot_bgcolor": "white",
        "showlegend": true,
        "template": {
         "data": {
          "bar": [
           {
            "error_x": {
             "color": "#2a3f5f"
            },
            "error_y": {
             "color": "#2a3f5f"
            },
            "marker": {
             "line": {
              "color": "#E5ECF6",
              "width": 0.5
             },
             "pattern": {
              "fillmode": "overlay",
              "size": 10,
              "solidity": 0.2
             }
            },
            "type": "bar"
           }
          ],
          "barpolar": [
           {
            "marker": {
             "line": {
              "color": "#E5ECF6",
              "width": 0.5
             },
             "pattern": {
              "fillmode": "overlay",
              "size": 10,
              "solidity": 0.2
             }
            },
            "type": "barpolar"
           }
          ],
          "carpet": [
           {
            "aaxis": {
             "endlinecolor": "#2a3f5f",
             "gridcolor": "white",
             "linecolor": "white",
             "minorgridcolor": "white",
             "startlinecolor": "#2a3f5f"
            },
            "baxis": {
             "endlinecolor": "#2a3f5f",
             "gridcolor": "white",
             "linecolor": "white",
             "minorgridcolor": "white",
             "startlinecolor": "#2a3f5f"
            },
            "type": "carpet"
           }
          ],
          "choropleth": [
           {
            "colorbar": {
             "outlinewidth": 0,
             "ticks": ""
            },
            "type": "choropleth"
           }
          ],
          "contour": [
           {
            "colorbar": {
             "outlinewidth": 0,
             "ticks": ""
            },
            "colorscale": [
             [
              0,
              "#0d0887"
             ],
             [
              0.1111111111111111,
              "#46039f"
             ],
             [
              0.2222222222222222,
              "#7201a8"
             ],
             [
              0.3333333333333333,
              "#9c179e"
             ],
             [
              0.4444444444444444,
              "#bd3786"
             ],
             [
              0.5555555555555556,
              "#d8576b"
             ],
             [
              0.6666666666666666,
              "#ed7953"
             ],
             [
              0.7777777777777778,
              "#fb9f3a"
             ],
             [
              0.8888888888888888,
              "#fdca26"
             ],
             [
              1,
              "#f0f921"
             ]
            ],
            "type": "contour"
           }
          ],
          "contourcarpet": [
           {
            "colorbar": {
             "outlinewidth": 0,
             "ticks": ""
            },
            "type": "contourcarpet"
           }
          ],
          "heatmap": [
           {
            "colorbar": {
             "outlinewidth": 0,
             "ticks": ""
            },
            "colorscale": [
             [
              0,
              "#0d0887"
             ],
             [
              0.1111111111111111,
              "#46039f"
             ],
             [
              0.2222222222222222,
              "#7201a8"
             ],
             [
              0.3333333333333333,
              "#9c179e"
             ],
             [
              0.4444444444444444,
              "#bd3786"
             ],
             [
              0.5555555555555556,
              "#d8576b"
             ],
             [
              0.6666666666666666,
              "#ed7953"
             ],
             [
              0.7777777777777778,
              "#fb9f3a"
             ],
             [
              0.8888888888888888,
              "#fdca26"
             ],
             [
              1,
              "#f0f921"
             ]
            ],
            "type": "heatmap"
           }
          ],
          "heatmapgl": [
           {
            "colorbar": {
             "outlinewidth": 0,
             "ticks": ""
            },
            "colorscale": [
             [
              0,
              "#0d0887"
             ],
             [
              0.1111111111111111,
              "#46039f"
             ],
             [
              0.2222222222222222,
              "#7201a8"
             ],
             [
              0.3333333333333333,
              "#9c179e"
             ],
             [
              0.4444444444444444,
              "#bd3786"
             ],
             [
              0.5555555555555556,
              "#d8576b"
             ],
             [
              0.6666666666666666,
              "#ed7953"
             ],
             [
              0.7777777777777778,
              "#fb9f3a"
             ],
             [
              0.8888888888888888,
              "#fdca26"
             ],
             [
              1,
              "#f0f921"
             ]
            ],
            "type": "heatmapgl"
           }
          ],
          "histogram": [
           {
            "marker": {
             "pattern": {
              "fillmode": "overlay",
              "size": 10,
              "solidity": 0.2
             }
            },
            "type": "histogram"
           }
          ],
          "histogram2d": [
           {
            "colorbar": {
             "outlinewidth": 0,
             "ticks": ""
            },
            "colorscale": [
             [
              0,
              "#0d0887"
             ],
             [
              0.1111111111111111,
              "#46039f"
             ],
             [
              0.2222222222222222,
              "#7201a8"
             ],
             [
              0.3333333333333333,
              "#9c179e"
             ],
             [
              0.4444444444444444,
              "#bd3786"
             ],
             [
              0.5555555555555556,
              "#d8576b"
             ],
             [
              0.6666666666666666,
              "#ed7953"
             ],
             [
              0.7777777777777778,
              "#fb9f3a"
             ],
             [
              0.8888888888888888,
              "#fdca26"
             ],
             [
              1,
              "#f0f921"
             ]
            ],
            "type": "histogram2d"
           }
          ],
          "histogram2dcontour": [
           {
            "colorbar": {
             "outlinewidth": 0,
             "ticks": ""
            },
            "colorscale": [
             [
              0,
              "#0d0887"
             ],
             [
              0.1111111111111111,
              "#46039f"
             ],
             [
              0.2222222222222222,
              "#7201a8"
             ],
             [
              0.3333333333333333,
              "#9c179e"
             ],
             [
              0.4444444444444444,
              "#bd3786"
             ],
             [
              0.5555555555555556,
              "#d8576b"
             ],
             [
              0.6666666666666666,
              "#ed7953"
             ],
             [
              0.7777777777777778,
              "#fb9f3a"
             ],
             [
              0.8888888888888888,
              "#fdca26"
             ],
             [
              1,
              "#f0f921"
             ]
            ],
            "type": "histogram2dcontour"
           }
          ],
          "mesh3d": [
           {
            "colorbar": {
             "outlinewidth": 0,
             "ticks": ""
            },
            "type": "mesh3d"
           }
          ],
          "parcoords": [
           {
            "line": {
             "colorbar": {
              "outlinewidth": 0,
              "ticks": ""
             }
            },
            "type": "parcoords"
           }
          ],
          "pie": [
           {
            "automargin": true,
            "type": "pie"
           }
          ],
          "scatter": [
           {
            "fillpattern": {
             "fillmode": "overlay",
             "size": 10,
             "solidity": 0.2
            },
            "type": "scatter"
           }
          ],
          "scatter3d": [
           {
            "line": {
             "colorbar": {
              "outlinewidth": 0,
              "ticks": ""
             }
            },
            "marker": {
             "colorbar": {
              "outlinewidth": 0,
              "ticks": ""
             }
            },
            "type": "scatter3d"
           }
          ],
          "scattercarpet": [
           {
            "marker": {
             "colorbar": {
              "outlinewidth": 0,
              "ticks": ""
             }
            },
            "type": "scattercarpet"
           }
          ],
          "scattergeo": [
           {
            "marker": {
             "colorbar": {
              "outlinewidth": 0,
              "ticks": ""
             }
            },
            "type": "scattergeo"
           }
          ],
          "scattergl": [
           {
            "marker": {
             "colorbar": {
              "outlinewidth": 0,
              "ticks": ""
             }
            },
            "type": "scattergl"
           }
          ],
          "scattermapbox": [
           {
            "marker": {
             "colorbar": {
              "outlinewidth": 0,
              "ticks": ""
             }
            },
            "type": "scattermapbox"
           }
          ],
          "scatterpolar": [
           {
            "marker": {
             "colorbar": {
              "outlinewidth": 0,
              "ticks": ""
             }
            },
            "type": "scatterpolar"
           }
          ],
          "scatterpolargl": [
           {
            "marker": {
             "colorbar": {
              "outlinewidth": 0,
              "ticks": ""
             }
            },
            "type": "scatterpolargl"
           }
          ],
          "scatterternary": [
           {
            "marker": {
             "colorbar": {
              "outlinewidth": 0,
              "ticks": ""
             }
            },
            "type": "scatterternary"
           }
          ],
          "surface": [
           {
            "colorbar": {
             "outlinewidth": 0,
             "ticks": ""
            },
            "colorscale": [
             [
              0,
              "#0d0887"
             ],
             [
              0.1111111111111111,
              "#46039f"
             ],
             [
              0.2222222222222222,
              "#7201a8"
             ],
             [
              0.3333333333333333,
              "#9c179e"
             ],
             [
              0.4444444444444444,
              "#bd3786"
             ],
             [
              0.5555555555555556,
              "#d8576b"
             ],
             [
              0.6666666666666666,
              "#ed7953"
             ],
             [
              0.7777777777777778,
              "#fb9f3a"
             ],
             [
              0.8888888888888888,
              "#fdca26"
             ],
             [
              1,
              "#f0f921"
             ]
            ],
            "type": "surface"
           }
          ],
          "table": [
           {
            "cells": {
             "fill": {
              "color": "#EBF0F8"
             },
             "line": {
              "color": "white"
             }
            },
            "header": {
             "fill": {
              "color": "#C8D4E3"
             },
             "line": {
              "color": "white"
             }
            },
            "type": "table"
           }
          ]
         },
         "layout": {
          "annotationdefaults": {
           "arrowcolor": "#2a3f5f",
           "arrowhead": 0,
           "arrowwidth": 1
          },
          "autotypenumbers": "strict",
          "coloraxis": {
           "colorbar": {
            "outlinewidth": 0,
            "ticks": ""
           }
          },
          "colorscale": {
           "diverging": [
            [
             0,
             "#8e0152"
            ],
            [
             0.1,
             "#c51b7d"
            ],
            [
             0.2,
             "#de77ae"
            ],
            [
             0.3,
             "#f1b6da"
            ],
            [
             0.4,
             "#fde0ef"
            ],
            [
             0.5,
             "#f7f7f7"
            ],
            [
             0.6,
             "#e6f5d0"
            ],
            [
             0.7,
             "#b8e186"
            ],
            [
             0.8,
             "#7fbc41"
            ],
            [
             0.9,
             "#4d9221"
            ],
            [
             1,
             "#276419"
            ]
           ],
           "sequential": [
            [
             0,
             "#0d0887"
            ],
            [
             0.1111111111111111,
             "#46039f"
            ],
            [
             0.2222222222222222,
             "#7201a8"
            ],
            [
             0.3333333333333333,
             "#9c179e"
            ],
            [
             0.4444444444444444,
             "#bd3786"
            ],
            [
             0.5555555555555556,
             "#d8576b"
            ],
            [
             0.6666666666666666,
             "#ed7953"
            ],
            [
             0.7777777777777778,
             "#fb9f3a"
            ],
            [
             0.8888888888888888,
             "#fdca26"
            ],
            [
             1,
             "#f0f921"
            ]
           ],
           "sequentialminus": [
            [
             0,
             "#0d0887"
            ],
            [
             0.1111111111111111,
             "#46039f"
            ],
            [
             0.2222222222222222,
             "#7201a8"
            ],
            [
             0.3333333333333333,
             "#9c179e"
            ],
            [
             0.4444444444444444,
             "#bd3786"
            ],
            [
             0.5555555555555556,
             "#d8576b"
            ],
            [
             0.6666666666666666,
             "#ed7953"
            ],
            [
             0.7777777777777778,
             "#fb9f3a"
            ],
            [
             0.8888888888888888,
             "#fdca26"
            ],
            [
             1,
             "#f0f921"
            ]
           ]
          },
          "colorway": [
           "#636efa",
           "#EF553B",
           "#00cc96",
           "#ab63fa",
           "#FFA15A",
           "#19d3f3",
           "#FF6692",
           "#B6E880",
           "#FF97FF",
           "#FECB52"
          ],
          "font": {
           "color": "#2a3f5f"
          },
          "geo": {
           "bgcolor": "white",
           "lakecolor": "white",
           "landcolor": "#E5ECF6",
           "showlakes": true,
           "showland": true,
           "subunitcolor": "white"
          },
          "hoverlabel": {
           "align": "left"
          },
          "hovermode": "closest",
          "mapbox": {
           "style": "light"
          },
          "paper_bgcolor": "white",
          "plot_bgcolor": "#E5ECF6",
          "polar": {
           "angularaxis": {
            "gridcolor": "white",
            "linecolor": "white",
            "ticks": ""
           },
           "bgcolor": "#E5ECF6",
           "radialaxis": {
            "gridcolor": "white",
            "linecolor": "white",
            "ticks": ""
           }
          },
          "scene": {
           "xaxis": {
            "backgroundcolor": "#E5ECF6",
            "gridcolor": "white",
            "gridwidth": 2,
            "linecolor": "white",
            "showbackground": true,
            "ticks": "",
            "zerolinecolor": "white"
           },
           "yaxis": {
            "backgroundcolor": "#E5ECF6",
            "gridcolor": "white",
            "gridwidth": 2,
            "linecolor": "white",
            "showbackground": true,
            "ticks": "",
            "zerolinecolor": "white"
           },
           "zaxis": {
            "backgroundcolor": "#E5ECF6",
            "gridcolor": "white",
            "gridwidth": 2,
            "linecolor": "white",
            "showbackground": true,
            "ticks": "",
            "zerolinecolor": "white"
           }
          },
          "shapedefaults": {
           "line": {
            "color": "#2a3f5f"
           }
          },
          "ternary": {
           "aaxis": {
            "gridcolor": "white",
            "linecolor": "white",
            "ticks": ""
           },
           "baxis": {
            "gridcolor": "white",
            "linecolor": "white",
            "ticks": ""
           },
           "bgcolor": "#E5ECF6",
           "caxis": {
            "gridcolor": "white",
            "linecolor": "white",
            "ticks": ""
           }
          },
          "title": {
           "x": 0.05
          },
          "xaxis": {
           "automargin": true,
           "gridcolor": "white",
           "linecolor": "white",
           "ticks": "",
           "title": {
            "standoff": 15
           },
           "zerolinecolor": "white",
           "zerolinewidth": 2
          },
          "yaxis": {
           "automargin": true,
           "gridcolor": "white",
           "linecolor": "white",
           "ticks": "",
           "title": {
            "standoff": 15
           },
           "zerolinecolor": "white",
           "zerolinewidth": 2
          }
         }
        },
        "title": {
         "text": "Optimization Progress - Epoch 1"
        },
        "width": 1000,
        "xaxis": {
         "anchor": "y",
         "domain": [
          0,
          0.45
         ],
         "gridcolor": "lightgray",
         "linecolor": "black",
         "linewidth": 1,
         "showgrid": true,
         "showline": true,
         "title": {
          "text": "Step"
         }
        },
        "xaxis2": {
         "anchor": "y2",
         "domain": [
          0.55,
          1
         ],
         "gridcolor": "lightgray",
         "linecolor": "black",
         "linewidth": 1,
         "showgrid": true,
         "showline": true,
         "title": {
          "text": "Step"
         }
        },
        "yaxis": {
         "anchor": "x",
         "domain": [
          0,
          1
         ],
         "gridcolor": "lightgray",
         "linecolor": "black",
         "linewidth": 1,
         "showgrid": true,
         "showline": true,
         "title": {
          "text": "Objective T Value"
         }
        },
        "yaxis2": {
         "anchor": "x2",
         "domain": [
          0,
          1
         ],
         "gridcolor": "lightgray",
         "linecolor": "black",
         "linewidth": 1,
         "showgrid": true,
         "showline": true,
         "title": {
          "text": "Objective θ Value"
         }
        }
       }
      }
     },
     "metadata": {},
     "output_type": "display_data"
    },
    {
     "name": "stderr",
     "output_type": "stream",
     "text": [
      " 10%|█         | 1/10 [00:00<00:00,  9.87it/s]"
     ]
    },
    {
     "data": {
      "application/vnd.plotly.v1+json": {
       "config": {
        "plotlyServerURL": "https://plot.ly"
       },
       "data": [
        {
         "line": {
          "color": "green"
         },
         "mode": "lines",
         "name": "Min steps",
         "type": "scatter",
         "xaxis": "x",
         "y": [
          8.371624946594238,
          8.371624946594238,
          8.371624946594238
         ],
         "yaxis": "y"
        },
        {
         "line": {
          "color": "purple"
         },
         "mode": "lines",
         "name": "Max steps",
         "type": "scatter",
         "xaxis": "x2",
         "y": [
          8.391366004943848,
          8.39136791229248
         ],
         "yaxis": "y2"
        }
       ],
       "layout": {
        "annotations": [
         {
          "font": {
           "size": 16
          },
          "showarrow": false,
          "text": "Minimization Steps (Epoch 2)",
          "x": 0.225,
          "xanchor": "center",
          "xref": "paper",
          "y": 1,
          "yanchor": "bottom",
          "yref": "paper"
         },
         {
          "font": {
           "size": 16
          },
          "showarrow": false,
          "text": "Maximization Steps (Epoch 2)",
          "x": 0.775,
          "xanchor": "center",
          "xref": "paper",
          "y": 1,
          "yanchor": "bottom",
          "yref": "paper"
         }
        ],
        "font": {
         "size": 12
        },
        "height": 400,
        "paper_bgcolor": "white",
        "plot_bgcolor": "white",
        "showlegend": true,
        "template": {
         "data": {
          "bar": [
           {
            "error_x": {
             "color": "#2a3f5f"
            },
            "error_y": {
             "color": "#2a3f5f"
            },
            "marker": {
             "line": {
              "color": "#E5ECF6",
              "width": 0.5
             },
             "pattern": {
              "fillmode": "overlay",
              "size": 10,
              "solidity": 0.2
             }
            },
            "type": "bar"
           }
          ],
          "barpolar": [
           {
            "marker": {
             "line": {
              "color": "#E5ECF6",
              "width": 0.5
             },
             "pattern": {
              "fillmode": "overlay",
              "size": 10,
              "solidity": 0.2
             }
            },
            "type": "barpolar"
           }
          ],
          "carpet": [
           {
            "aaxis": {
             "endlinecolor": "#2a3f5f",
             "gridcolor": "white",
             "linecolor": "white",
             "minorgridcolor": "white",
             "startlinecolor": "#2a3f5f"
            },
            "baxis": {
             "endlinecolor": "#2a3f5f",
             "gridcolor": "white",
             "linecolor": "white",
             "minorgridcolor": "white",
             "startlinecolor": "#2a3f5f"
            },
            "type": "carpet"
           }
          ],
          "choropleth": [
           {
            "colorbar": {
             "outlinewidth": 0,
             "ticks": ""
            },
            "type": "choropleth"
           }
          ],
          "contour": [
           {
            "colorbar": {
             "outlinewidth": 0,
             "ticks": ""
            },
            "colorscale": [
             [
              0,
              "#0d0887"
             ],
             [
              0.1111111111111111,
              "#46039f"
             ],
             [
              0.2222222222222222,
              "#7201a8"
             ],
             [
              0.3333333333333333,
              "#9c179e"
             ],
             [
              0.4444444444444444,
              "#bd3786"
             ],
             [
              0.5555555555555556,
              "#d8576b"
             ],
             [
              0.6666666666666666,
              "#ed7953"
             ],
             [
              0.7777777777777778,
              "#fb9f3a"
             ],
             [
              0.8888888888888888,
              "#fdca26"
             ],
             [
              1,
              "#f0f921"
             ]
            ],
            "type": "contour"
           }
          ],
          "contourcarpet": [
           {
            "colorbar": {
             "outlinewidth": 0,
             "ticks": ""
            },
            "type": "contourcarpet"
           }
          ],
          "heatmap": [
           {
            "colorbar": {
             "outlinewidth": 0,
             "ticks": ""
            },
            "colorscale": [
             [
              0,
              "#0d0887"
             ],
             [
              0.1111111111111111,
              "#46039f"
             ],
             [
              0.2222222222222222,
              "#7201a8"
             ],
             [
              0.3333333333333333,
              "#9c179e"
             ],
             [
              0.4444444444444444,
              "#bd3786"
             ],
             [
              0.5555555555555556,
              "#d8576b"
             ],
             [
              0.6666666666666666,
              "#ed7953"
             ],
             [
              0.7777777777777778,
              "#fb9f3a"
             ],
             [
              0.8888888888888888,
              "#fdca26"
             ],
             [
              1,
              "#f0f921"
             ]
            ],
            "type": "heatmap"
           }
          ],
          "heatmapgl": [
           {
            "colorbar": {
             "outlinewidth": 0,
             "ticks": ""
            },
            "colorscale": [
             [
              0,
              "#0d0887"
             ],
             [
              0.1111111111111111,
              "#46039f"
             ],
             [
              0.2222222222222222,
              "#7201a8"
             ],
             [
              0.3333333333333333,
              "#9c179e"
             ],
             [
              0.4444444444444444,
              "#bd3786"
             ],
             [
              0.5555555555555556,
              "#d8576b"
             ],
             [
              0.6666666666666666,
              "#ed7953"
             ],
             [
              0.7777777777777778,
              "#fb9f3a"
             ],
             [
              0.8888888888888888,
              "#fdca26"
             ],
             [
              1,
              "#f0f921"
             ]
            ],
            "type": "heatmapgl"
           }
          ],
          "histogram": [
           {
            "marker": {
             "pattern": {
              "fillmode": "overlay",
              "size": 10,
              "solidity": 0.2
             }
            },
            "type": "histogram"
           }
          ],
          "histogram2d": [
           {
            "colorbar": {
             "outlinewidth": 0,
             "ticks": ""
            },
            "colorscale": [
             [
              0,
              "#0d0887"
             ],
             [
              0.1111111111111111,
              "#46039f"
             ],
             [
              0.2222222222222222,
              "#7201a8"
             ],
             [
              0.3333333333333333,
              "#9c179e"
             ],
             [
              0.4444444444444444,
              "#bd3786"
             ],
             [
              0.5555555555555556,
              "#d8576b"
             ],
             [
              0.6666666666666666,
              "#ed7953"
             ],
             [
              0.7777777777777778,
              "#fb9f3a"
             ],
             [
              0.8888888888888888,
              "#fdca26"
             ],
             [
              1,
              "#f0f921"
             ]
            ],
            "type": "histogram2d"
           }
          ],
          "histogram2dcontour": [
           {
            "colorbar": {
             "outlinewidth": 0,
             "ticks": ""
            },
            "colorscale": [
             [
              0,
              "#0d0887"
             ],
             [
              0.1111111111111111,
              "#46039f"
             ],
             [
              0.2222222222222222,
              "#7201a8"
             ],
             [
              0.3333333333333333,
              "#9c179e"
             ],
             [
              0.4444444444444444,
              "#bd3786"
             ],
             [
              0.5555555555555556,
              "#d8576b"
             ],
             [
              0.6666666666666666,
              "#ed7953"
             ],
             [
              0.7777777777777778,
              "#fb9f3a"
             ],
             [
              0.8888888888888888,
              "#fdca26"
             ],
             [
              1,
              "#f0f921"
             ]
            ],
            "type": "histogram2dcontour"
           }
          ],
          "mesh3d": [
           {
            "colorbar": {
             "outlinewidth": 0,
             "ticks": ""
            },
            "type": "mesh3d"
           }
          ],
          "parcoords": [
           {
            "line": {
             "colorbar": {
              "outlinewidth": 0,
              "ticks": ""
             }
            },
            "type": "parcoords"
           }
          ],
          "pie": [
           {
            "automargin": true,
            "type": "pie"
           }
          ],
          "scatter": [
           {
            "fillpattern": {
             "fillmode": "overlay",
             "size": 10,
             "solidity": 0.2
            },
            "type": "scatter"
           }
          ],
          "scatter3d": [
           {
            "line": {
             "colorbar": {
              "outlinewidth": 0,
              "ticks": ""
             }
            },
            "marker": {
             "colorbar": {
              "outlinewidth": 0,
              "ticks": ""
             }
            },
            "type": "scatter3d"
           }
          ],
          "scattercarpet": [
           {
            "marker": {
             "colorbar": {
              "outlinewidth": 0,
              "ticks": ""
             }
            },
            "type": "scattercarpet"
           }
          ],
          "scattergeo": [
           {
            "marker": {
             "colorbar": {
              "outlinewidth": 0,
              "ticks": ""
             }
            },
            "type": "scattergeo"
           }
          ],
          "scattergl": [
           {
            "marker": {
             "colorbar": {
              "outlinewidth": 0,
              "ticks": ""
             }
            },
            "type": "scattergl"
           }
          ],
          "scattermapbox": [
           {
            "marker": {
             "colorbar": {
              "outlinewidth": 0,
              "ticks": ""
             }
            },
            "type": "scattermapbox"
           }
          ],
          "scatterpolar": [
           {
            "marker": {
             "colorbar": {
              "outlinewidth": 0,
              "ticks": ""
             }
            },
            "type": "scatterpolar"
           }
          ],
          "scatterpolargl": [
           {
            "marker": {
             "colorbar": {
              "outlinewidth": 0,
              "ticks": ""
             }
            },
            "type": "scatterpolargl"
           }
          ],
          "scatterternary": [
           {
            "marker": {
             "colorbar": {
              "outlinewidth": 0,
              "ticks": ""
             }
            },
            "type": "scatterternary"
           }
          ],
          "surface": [
           {
            "colorbar": {
             "outlinewidth": 0,
             "ticks": ""
            },
            "colorscale": [
             [
              0,
              "#0d0887"
             ],
             [
              0.1111111111111111,
              "#46039f"
             ],
             [
              0.2222222222222222,
              "#7201a8"
             ],
             [
              0.3333333333333333,
              "#9c179e"
             ],
             [
              0.4444444444444444,
              "#bd3786"
             ],
             [
              0.5555555555555556,
              "#d8576b"
             ],
             [
              0.6666666666666666,
              "#ed7953"
             ],
             [
              0.7777777777777778,
              "#fb9f3a"
             ],
             [
              0.8888888888888888,
              "#fdca26"
             ],
             [
              1,
              "#f0f921"
             ]
            ],
            "type": "surface"
           }
          ],
          "table": [
           {
            "cells": {
             "fill": {
              "color": "#EBF0F8"
             },
             "line": {
              "color": "white"
             }
            },
            "header": {
             "fill": {
              "color": "#C8D4E3"
             },
             "line": {
              "color": "white"
             }
            },
            "type": "table"
           }
          ]
         },
         "layout": {
          "annotationdefaults": {
           "arrowcolor": "#2a3f5f",
           "arrowhead": 0,
           "arrowwidth": 1
          },
          "autotypenumbers": "strict",
          "coloraxis": {
           "colorbar": {
            "outlinewidth": 0,
            "ticks": ""
           }
          },
          "colorscale": {
           "diverging": [
            [
             0,
             "#8e0152"
            ],
            [
             0.1,
             "#c51b7d"
            ],
            [
             0.2,
             "#de77ae"
            ],
            [
             0.3,
             "#f1b6da"
            ],
            [
             0.4,
             "#fde0ef"
            ],
            [
             0.5,
             "#f7f7f7"
            ],
            [
             0.6,
             "#e6f5d0"
            ],
            [
             0.7,
             "#b8e186"
            ],
            [
             0.8,
             "#7fbc41"
            ],
            [
             0.9,
             "#4d9221"
            ],
            [
             1,
             "#276419"
            ]
           ],
           "sequential": [
            [
             0,
             "#0d0887"
            ],
            [
             0.1111111111111111,
             "#46039f"
            ],
            [
             0.2222222222222222,
             "#7201a8"
            ],
            [
             0.3333333333333333,
             "#9c179e"
            ],
            [
             0.4444444444444444,
             "#bd3786"
            ],
            [
             0.5555555555555556,
             "#d8576b"
            ],
            [
             0.6666666666666666,
             "#ed7953"
            ],
            [
             0.7777777777777778,
             "#fb9f3a"
            ],
            [
             0.8888888888888888,
             "#fdca26"
            ],
            [
             1,
             "#f0f921"
            ]
           ],
           "sequentialminus": [
            [
             0,
             "#0d0887"
            ],
            [
             0.1111111111111111,
             "#46039f"
            ],
            [
             0.2222222222222222,
             "#7201a8"
            ],
            [
             0.3333333333333333,
             "#9c179e"
            ],
            [
             0.4444444444444444,
             "#bd3786"
            ],
            [
             0.5555555555555556,
             "#d8576b"
            ],
            [
             0.6666666666666666,
             "#ed7953"
            ],
            [
             0.7777777777777778,
             "#fb9f3a"
            ],
            [
             0.8888888888888888,
             "#fdca26"
            ],
            [
             1,
             "#f0f921"
            ]
           ]
          },
          "colorway": [
           "#636efa",
           "#EF553B",
           "#00cc96",
           "#ab63fa",
           "#FFA15A",
           "#19d3f3",
           "#FF6692",
           "#B6E880",
           "#FF97FF",
           "#FECB52"
          ],
          "font": {
           "color": "#2a3f5f"
          },
          "geo": {
           "bgcolor": "white",
           "lakecolor": "white",
           "landcolor": "#E5ECF6",
           "showlakes": true,
           "showland": true,
           "subunitcolor": "white"
          },
          "hoverlabel": {
           "align": "left"
          },
          "hovermode": "closest",
          "mapbox": {
           "style": "light"
          },
          "paper_bgcolor": "white",
          "plot_bgcolor": "#E5ECF6",
          "polar": {
           "angularaxis": {
            "gridcolor": "white",
            "linecolor": "white",
            "ticks": ""
           },
           "bgcolor": "#E5ECF6",
           "radialaxis": {
            "gridcolor": "white",
            "linecolor": "white",
            "ticks": ""
           }
          },
          "scene": {
           "xaxis": {
            "backgroundcolor": "#E5ECF6",
            "gridcolor": "white",
            "gridwidth": 2,
            "linecolor": "white",
            "showbackground": true,
            "ticks": "",
            "zerolinecolor": "white"
           },
           "yaxis": {
            "backgroundcolor": "#E5ECF6",
            "gridcolor": "white",
            "gridwidth": 2,
            "linecolor": "white",
            "showbackground": true,
            "ticks": "",
            "zerolinecolor": "white"
           },
           "zaxis": {
            "backgroundcolor": "#E5ECF6",
            "gridcolor": "white",
            "gridwidth": 2,
            "linecolor": "white",
            "showbackground": true,
            "ticks": "",
            "zerolinecolor": "white"
           }
          },
          "shapedefaults": {
           "line": {
            "color": "#2a3f5f"
           }
          },
          "ternary": {
           "aaxis": {
            "gridcolor": "white",
            "linecolor": "white",
            "ticks": ""
           },
           "baxis": {
            "gridcolor": "white",
            "linecolor": "white",
            "ticks": ""
           },
           "bgcolor": "#E5ECF6",
           "caxis": {
            "gridcolor": "white",
            "linecolor": "white",
            "ticks": ""
           }
          },
          "title": {
           "x": 0.05
          },
          "xaxis": {
           "automargin": true,
           "gridcolor": "white",
           "linecolor": "white",
           "ticks": "",
           "title": {
            "standoff": 15
           },
           "zerolinecolor": "white",
           "zerolinewidth": 2
          },
          "yaxis": {
           "automargin": true,
           "gridcolor": "white",
           "linecolor": "white",
           "ticks": "",
           "title": {
            "standoff": 15
           },
           "zerolinecolor": "white",
           "zerolinewidth": 2
          }
         }
        },
        "title": {
         "text": "Optimization Progress - Epoch 2"
        },
        "width": 1000,
        "xaxis": {
         "anchor": "y",
         "domain": [
          0,
          0.45
         ],
         "gridcolor": "lightgray",
         "linecolor": "black",
         "linewidth": 1,
         "showgrid": true,
         "showline": true,
         "title": {
          "text": "Step"
         }
        },
        "xaxis2": {
         "anchor": "y2",
         "domain": [
          0.55,
          1
         ],
         "gridcolor": "lightgray",
         "linecolor": "black",
         "linewidth": 1,
         "showgrid": true,
         "showline": true,
         "title": {
          "text": "Step"
         }
        },
        "yaxis": {
         "anchor": "x",
         "domain": [
          0,
          1
         ],
         "gridcolor": "lightgray",
         "linecolor": "black",
         "linewidth": 1,
         "showgrid": true,
         "showline": true,
         "title": {
          "text": "Objective T Value"
         }
        },
        "yaxis2": {
         "anchor": "x2",
         "domain": [
          0,
          1
         ],
         "gridcolor": "lightgray",
         "linecolor": "black",
         "linewidth": 1,
         "showgrid": true,
         "showline": true,
         "title": {
          "text": "Objective θ Value"
         }
        }
       }
      }
     },
     "metadata": {},
     "output_type": "display_data"
    },
    {
     "name": "stderr",
     "output_type": "stream",
     "text": [
      " 20%|██        | 2/10 [00:00<00:01,  7.31it/s]"
     ]
    },
    {
     "data": {
      "application/vnd.plotly.v1+json": {
       "config": {
        "plotlyServerURL": "https://plot.ly"
       },
       "data": [
        {
         "line": {
          "color": "green"
         },
         "mode": "lines",
         "name": "Min steps",
         "type": "scatter",
         "xaxis": "x",
         "y": [
          8.371601104736328,
          8.371601104736328,
          8.371601104736328
         ],
         "yaxis": "y"
        },
        {
         "line": {
          "color": "purple"
         },
         "mode": "lines",
         "name": "Max steps",
         "type": "scatter",
         "xaxis": "x2",
         "y": [
          8.391368865966797,
          8.391368865966797
         ],
         "yaxis": "y2"
        }
       ],
       "layout": {
        "annotations": [
         {
          "font": {
           "size": 16
          },
          "showarrow": false,
          "text": "Minimization Steps (Epoch 3)",
          "x": 0.225,
          "xanchor": "center",
          "xref": "paper",
          "y": 1,
          "yanchor": "bottom",
          "yref": "paper"
         },
         {
          "font": {
           "size": 16
          },
          "showarrow": false,
          "text": "Maximization Steps (Epoch 3)",
          "x": 0.775,
          "xanchor": "center",
          "xref": "paper",
          "y": 1,
          "yanchor": "bottom",
          "yref": "paper"
         }
        ],
        "font": {
         "size": 12
        },
        "height": 400,
        "paper_bgcolor": "white",
        "plot_bgcolor": "white",
        "showlegend": true,
        "template": {
         "data": {
          "bar": [
           {
            "error_x": {
             "color": "#2a3f5f"
            },
            "error_y": {
             "color": "#2a3f5f"
            },
            "marker": {
             "line": {
              "color": "#E5ECF6",
              "width": 0.5
             },
             "pattern": {
              "fillmode": "overlay",
              "size": 10,
              "solidity": 0.2
             }
            },
            "type": "bar"
           }
          ],
          "barpolar": [
           {
            "marker": {
             "line": {
              "color": "#E5ECF6",
              "width": 0.5
             },
             "pattern": {
              "fillmode": "overlay",
              "size": 10,
              "solidity": 0.2
             }
            },
            "type": "barpolar"
           }
          ],
          "carpet": [
           {
            "aaxis": {
             "endlinecolor": "#2a3f5f",
             "gridcolor": "white",
             "linecolor": "white",
             "minorgridcolor": "white",
             "startlinecolor": "#2a3f5f"
            },
            "baxis": {
             "endlinecolor": "#2a3f5f",
             "gridcolor": "white",
             "linecolor": "white",
             "minorgridcolor": "white",
             "startlinecolor": "#2a3f5f"
            },
            "type": "carpet"
           }
          ],
          "choropleth": [
           {
            "colorbar": {
             "outlinewidth": 0,
             "ticks": ""
            },
            "type": "choropleth"
           }
          ],
          "contour": [
           {
            "colorbar": {
             "outlinewidth": 0,
             "ticks": ""
            },
            "colorscale": [
             [
              0,
              "#0d0887"
             ],
             [
              0.1111111111111111,
              "#46039f"
             ],
             [
              0.2222222222222222,
              "#7201a8"
             ],
             [
              0.3333333333333333,
              "#9c179e"
             ],
             [
              0.4444444444444444,
              "#bd3786"
             ],
             [
              0.5555555555555556,
              "#d8576b"
             ],
             [
              0.6666666666666666,
              "#ed7953"
             ],
             [
              0.7777777777777778,
              "#fb9f3a"
             ],
             [
              0.8888888888888888,
              "#fdca26"
             ],
             [
              1,
              "#f0f921"
             ]
            ],
            "type": "contour"
           }
          ],
          "contourcarpet": [
           {
            "colorbar": {
             "outlinewidth": 0,
             "ticks": ""
            },
            "type": "contourcarpet"
           }
          ],
          "heatmap": [
           {
            "colorbar": {
             "outlinewidth": 0,
             "ticks": ""
            },
            "colorscale": [
             [
              0,
              "#0d0887"
             ],
             [
              0.1111111111111111,
              "#46039f"
             ],
             [
              0.2222222222222222,
              "#7201a8"
             ],
             [
              0.3333333333333333,
              "#9c179e"
             ],
             [
              0.4444444444444444,
              "#bd3786"
             ],
             [
              0.5555555555555556,
              "#d8576b"
             ],
             [
              0.6666666666666666,
              "#ed7953"
             ],
             [
              0.7777777777777778,
              "#fb9f3a"
             ],
             [
              0.8888888888888888,
              "#fdca26"
             ],
             [
              1,
              "#f0f921"
             ]
            ],
            "type": "heatmap"
           }
          ],
          "heatmapgl": [
           {
            "colorbar": {
             "outlinewidth": 0,
             "ticks": ""
            },
            "colorscale": [
             [
              0,
              "#0d0887"
             ],
             [
              0.1111111111111111,
              "#46039f"
             ],
             [
              0.2222222222222222,
              "#7201a8"
             ],
             [
              0.3333333333333333,
              "#9c179e"
             ],
             [
              0.4444444444444444,
              "#bd3786"
             ],
             [
              0.5555555555555556,
              "#d8576b"
             ],
             [
              0.6666666666666666,
              "#ed7953"
             ],
             [
              0.7777777777777778,
              "#fb9f3a"
             ],
             [
              0.8888888888888888,
              "#fdca26"
             ],
             [
              1,
              "#f0f921"
             ]
            ],
            "type": "heatmapgl"
           }
          ],
          "histogram": [
           {
            "marker": {
             "pattern": {
              "fillmode": "overlay",
              "size": 10,
              "solidity": 0.2
             }
            },
            "type": "histogram"
           }
          ],
          "histogram2d": [
           {
            "colorbar": {
             "outlinewidth": 0,
             "ticks": ""
            },
            "colorscale": [
             [
              0,
              "#0d0887"
             ],
             [
              0.1111111111111111,
              "#46039f"
             ],
             [
              0.2222222222222222,
              "#7201a8"
             ],
             [
              0.3333333333333333,
              "#9c179e"
             ],
             [
              0.4444444444444444,
              "#bd3786"
             ],
             [
              0.5555555555555556,
              "#d8576b"
             ],
             [
              0.6666666666666666,
              "#ed7953"
             ],
             [
              0.7777777777777778,
              "#fb9f3a"
             ],
             [
              0.8888888888888888,
              "#fdca26"
             ],
             [
              1,
              "#f0f921"
             ]
            ],
            "type": "histogram2d"
           }
          ],
          "histogram2dcontour": [
           {
            "colorbar": {
             "outlinewidth": 0,
             "ticks": ""
            },
            "colorscale": [
             [
              0,
              "#0d0887"
             ],
             [
              0.1111111111111111,
              "#46039f"
             ],
             [
              0.2222222222222222,
              "#7201a8"
             ],
             [
              0.3333333333333333,
              "#9c179e"
             ],
             [
              0.4444444444444444,
              "#bd3786"
             ],
             [
              0.5555555555555556,
              "#d8576b"
             ],
             [
              0.6666666666666666,
              "#ed7953"
             ],
             [
              0.7777777777777778,
              "#fb9f3a"
             ],
             [
              0.8888888888888888,
              "#fdca26"
             ],
             [
              1,
              "#f0f921"
             ]
            ],
            "type": "histogram2dcontour"
           }
          ],
          "mesh3d": [
           {
            "colorbar": {
             "outlinewidth": 0,
             "ticks": ""
            },
            "type": "mesh3d"
           }
          ],
          "parcoords": [
           {
            "line": {
             "colorbar": {
              "outlinewidth": 0,
              "ticks": ""
             }
            },
            "type": "parcoords"
           }
          ],
          "pie": [
           {
            "automargin": true,
            "type": "pie"
           }
          ],
          "scatter": [
           {
            "fillpattern": {
             "fillmode": "overlay",
             "size": 10,
             "solidity": 0.2
            },
            "type": "scatter"
           }
          ],
          "scatter3d": [
           {
            "line": {
             "colorbar": {
              "outlinewidth": 0,
              "ticks": ""
             }
            },
            "marker": {
             "colorbar": {
              "outlinewidth": 0,
              "ticks": ""
             }
            },
            "type": "scatter3d"
           }
          ],
          "scattercarpet": [
           {
            "marker": {
             "colorbar": {
              "outlinewidth": 0,
              "ticks": ""
             }
            },
            "type": "scattercarpet"
           }
          ],
          "scattergeo": [
           {
            "marker": {
             "colorbar": {
              "outlinewidth": 0,
              "ticks": ""
             }
            },
            "type": "scattergeo"
           }
          ],
          "scattergl": [
           {
            "marker": {
             "colorbar": {
              "outlinewidth": 0,
              "ticks": ""
             }
            },
            "type": "scattergl"
           }
          ],
          "scattermapbox": [
           {
            "marker": {
             "colorbar": {
              "outlinewidth": 0,
              "ticks": ""
             }
            },
            "type": "scattermapbox"
           }
          ],
          "scatterpolar": [
           {
            "marker": {
             "colorbar": {
              "outlinewidth": 0,
              "ticks": ""
             }
            },
            "type": "scatterpolar"
           }
          ],
          "scatterpolargl": [
           {
            "marker": {
             "colorbar": {
              "outlinewidth": 0,
              "ticks": ""
             }
            },
            "type": "scatterpolargl"
           }
          ],
          "scatterternary": [
           {
            "marker": {
             "colorbar": {
              "outlinewidth": 0,
              "ticks": ""
             }
            },
            "type": "scatterternary"
           }
          ],
          "surface": [
           {
            "colorbar": {
             "outlinewidth": 0,
             "ticks": ""
            },
            "colorscale": [
             [
              0,
              "#0d0887"
             ],
             [
              0.1111111111111111,
              "#46039f"
             ],
             [
              0.2222222222222222,
              "#7201a8"
             ],
             [
              0.3333333333333333,
              "#9c179e"
             ],
             [
              0.4444444444444444,
              "#bd3786"
             ],
             [
              0.5555555555555556,
              "#d8576b"
             ],
             [
              0.6666666666666666,
              "#ed7953"
             ],
             [
              0.7777777777777778,
              "#fb9f3a"
             ],
             [
              0.8888888888888888,
              "#fdca26"
             ],
             [
              1,
              "#f0f921"
             ]
            ],
            "type": "surface"
           }
          ],
          "table": [
           {
            "cells": {
             "fill": {
              "color": "#EBF0F8"
             },
             "line": {
              "color": "white"
             }
            },
            "header": {
             "fill": {
              "color": "#C8D4E3"
             },
             "line": {
              "color": "white"
             }
            },
            "type": "table"
           }
          ]
         },
         "layout": {
          "annotationdefaults": {
           "arrowcolor": "#2a3f5f",
           "arrowhead": 0,
           "arrowwidth": 1
          },
          "autotypenumbers": "strict",
          "coloraxis": {
           "colorbar": {
            "outlinewidth": 0,
            "ticks": ""
           }
          },
          "colorscale": {
           "diverging": [
            [
             0,
             "#8e0152"
            ],
            [
             0.1,
             "#c51b7d"
            ],
            [
             0.2,
             "#de77ae"
            ],
            [
             0.3,
             "#f1b6da"
            ],
            [
             0.4,
             "#fde0ef"
            ],
            [
             0.5,
             "#f7f7f7"
            ],
            [
             0.6,
             "#e6f5d0"
            ],
            [
             0.7,
             "#b8e186"
            ],
            [
             0.8,
             "#7fbc41"
            ],
            [
             0.9,
             "#4d9221"
            ],
            [
             1,
             "#276419"
            ]
           ],
           "sequential": [
            [
             0,
             "#0d0887"
            ],
            [
             0.1111111111111111,
             "#46039f"
            ],
            [
             0.2222222222222222,
             "#7201a8"
            ],
            [
             0.3333333333333333,
             "#9c179e"
            ],
            [
             0.4444444444444444,
             "#bd3786"
            ],
            [
             0.5555555555555556,
             "#d8576b"
            ],
            [
             0.6666666666666666,
             "#ed7953"
            ],
            [
             0.7777777777777778,
             "#fb9f3a"
            ],
            [
             0.8888888888888888,
             "#fdca26"
            ],
            [
             1,
             "#f0f921"
            ]
           ],
           "sequentialminus": [
            [
             0,
             "#0d0887"
            ],
            [
             0.1111111111111111,
             "#46039f"
            ],
            [
             0.2222222222222222,
             "#7201a8"
            ],
            [
             0.3333333333333333,
             "#9c179e"
            ],
            [
             0.4444444444444444,
             "#bd3786"
            ],
            [
             0.5555555555555556,
             "#d8576b"
            ],
            [
             0.6666666666666666,
             "#ed7953"
            ],
            [
             0.7777777777777778,
             "#fb9f3a"
            ],
            [
             0.8888888888888888,
             "#fdca26"
            ],
            [
             1,
             "#f0f921"
            ]
           ]
          },
          "colorway": [
           "#636efa",
           "#EF553B",
           "#00cc96",
           "#ab63fa",
           "#FFA15A",
           "#19d3f3",
           "#FF6692",
           "#B6E880",
           "#FF97FF",
           "#FECB52"
          ],
          "font": {
           "color": "#2a3f5f"
          },
          "geo": {
           "bgcolor": "white",
           "lakecolor": "white",
           "landcolor": "#E5ECF6",
           "showlakes": true,
           "showland": true,
           "subunitcolor": "white"
          },
          "hoverlabel": {
           "align": "left"
          },
          "hovermode": "closest",
          "mapbox": {
           "style": "light"
          },
          "paper_bgcolor": "white",
          "plot_bgcolor": "#E5ECF6",
          "polar": {
           "angularaxis": {
            "gridcolor": "white",
            "linecolor": "white",
            "ticks": ""
           },
           "bgcolor": "#E5ECF6",
           "radialaxis": {
            "gridcolor": "white",
            "linecolor": "white",
            "ticks": ""
           }
          },
          "scene": {
           "xaxis": {
            "backgroundcolor": "#E5ECF6",
            "gridcolor": "white",
            "gridwidth": 2,
            "linecolor": "white",
            "showbackground": true,
            "ticks": "",
            "zerolinecolor": "white"
           },
           "yaxis": {
            "backgroundcolor": "#E5ECF6",
            "gridcolor": "white",
            "gridwidth": 2,
            "linecolor": "white",
            "showbackground": true,
            "ticks": "",
            "zerolinecolor": "white"
           },
           "zaxis": {
            "backgroundcolor": "#E5ECF6",
            "gridcolor": "white",
            "gridwidth": 2,
            "linecolor": "white",
            "showbackground": true,
            "ticks": "",
            "zerolinecolor": "white"
           }
          },
          "shapedefaults": {
           "line": {
            "color": "#2a3f5f"
           }
          },
          "ternary": {
           "aaxis": {
            "gridcolor": "white",
            "linecolor": "white",
            "ticks": ""
           },
           "baxis": {
            "gridcolor": "white",
            "linecolor": "white",
            "ticks": ""
           },
           "bgcolor": "#E5ECF6",
           "caxis": {
            "gridcolor": "white",
            "linecolor": "white",
            "ticks": ""
           }
          },
          "title": {
           "x": 0.05
          },
          "xaxis": {
           "automargin": true,
           "gridcolor": "white",
           "linecolor": "white",
           "ticks": "",
           "title": {
            "standoff": 15
           },
           "zerolinecolor": "white",
           "zerolinewidth": 2
          },
          "yaxis": {
           "automargin": true,
           "gridcolor": "white",
           "linecolor": "white",
           "ticks": "",
           "title": {
            "standoff": 15
           },
           "zerolinecolor": "white",
           "zerolinewidth": 2
          }
         }
        },
        "title": {
         "text": "Optimization Progress - Epoch 3"
        },
        "width": 1000,
        "xaxis": {
         "anchor": "y",
         "domain": [
          0,
          0.45
         ],
         "gridcolor": "lightgray",
         "linecolor": "black",
         "linewidth": 1,
         "showgrid": true,
         "showline": true,
         "title": {
          "text": "Step"
         }
        },
        "xaxis2": {
         "anchor": "y2",
         "domain": [
          0.55,
          1
         ],
         "gridcolor": "lightgray",
         "linecolor": "black",
         "linewidth": 1,
         "showgrid": true,
         "showline": true,
         "title": {
          "text": "Step"
         }
        },
        "yaxis": {
         "anchor": "x",
         "domain": [
          0,
          1
         ],
         "gridcolor": "lightgray",
         "linecolor": "black",
         "linewidth": 1,
         "showgrid": true,
         "showline": true,
         "title": {
          "text": "Objective T Value"
         }
        },
        "yaxis2": {
         "anchor": "x2",
         "domain": [
          0,
          1
         ],
         "gridcolor": "lightgray",
         "linecolor": "black",
         "linewidth": 1,
         "showgrid": true,
         "showline": true,
         "title": {
          "text": "Objective θ Value"
         }
        }
       }
      }
     },
     "metadata": {},
     "output_type": "display_data"
    },
    {
     "name": "stderr",
     "output_type": "stream",
     "text": [
      " 30%|███       | 3/10 [00:00<00:01,  5.34it/s]"
     ]
    },
    {
     "data": {
      "application/vnd.plotly.v1+json": {
       "config": {
        "plotlyServerURL": "https://plot.ly"
       },
       "data": [
        {
         "line": {
          "color": "green"
         },
         "mode": "lines",
         "name": "Min steps",
         "type": "scatter",
         "xaxis": "x",
         "y": [
          8.371601104736328,
          8.371601104736328,
          8.371601104736328
         ],
         "yaxis": "y"
        },
        {
         "line": {
          "color": "purple"
         },
         "mode": "lines",
         "name": "Max steps",
         "type": "scatter",
         "xaxis": "x2",
         "y": [
          8.391368865966797,
          8.391368865966797
         ],
         "yaxis": "y2"
        }
       ],
       "layout": {
        "annotations": [
         {
          "font": {
           "size": 16
          },
          "showarrow": false,
          "text": "Minimization Steps (Epoch 4)",
          "x": 0.225,
          "xanchor": "center",
          "xref": "paper",
          "y": 1,
          "yanchor": "bottom",
          "yref": "paper"
         },
         {
          "font": {
           "size": 16
          },
          "showarrow": false,
          "text": "Maximization Steps (Epoch 4)",
          "x": 0.775,
          "xanchor": "center",
          "xref": "paper",
          "y": 1,
          "yanchor": "bottom",
          "yref": "paper"
         }
        ],
        "font": {
         "size": 12
        },
        "height": 400,
        "paper_bgcolor": "white",
        "plot_bgcolor": "white",
        "showlegend": true,
        "template": {
         "data": {
          "bar": [
           {
            "error_x": {
             "color": "#2a3f5f"
            },
            "error_y": {
             "color": "#2a3f5f"
            },
            "marker": {
             "line": {
              "color": "#E5ECF6",
              "width": 0.5
             },
             "pattern": {
              "fillmode": "overlay",
              "size": 10,
              "solidity": 0.2
             }
            },
            "type": "bar"
           }
          ],
          "barpolar": [
           {
            "marker": {
             "line": {
              "color": "#E5ECF6",
              "width": 0.5
             },
             "pattern": {
              "fillmode": "overlay",
              "size": 10,
              "solidity": 0.2
             }
            },
            "type": "barpolar"
           }
          ],
          "carpet": [
           {
            "aaxis": {
             "endlinecolor": "#2a3f5f",
             "gridcolor": "white",
             "linecolor": "white",
             "minorgridcolor": "white",
             "startlinecolor": "#2a3f5f"
            },
            "baxis": {
             "endlinecolor": "#2a3f5f",
             "gridcolor": "white",
             "linecolor": "white",
             "minorgridcolor": "white",
             "startlinecolor": "#2a3f5f"
            },
            "type": "carpet"
           }
          ],
          "choropleth": [
           {
            "colorbar": {
             "outlinewidth": 0,
             "ticks": ""
            },
            "type": "choropleth"
           }
          ],
          "contour": [
           {
            "colorbar": {
             "outlinewidth": 0,
             "ticks": ""
            },
            "colorscale": [
             [
              0,
              "#0d0887"
             ],
             [
              0.1111111111111111,
              "#46039f"
             ],
             [
              0.2222222222222222,
              "#7201a8"
             ],
             [
              0.3333333333333333,
              "#9c179e"
             ],
             [
              0.4444444444444444,
              "#bd3786"
             ],
             [
              0.5555555555555556,
              "#d8576b"
             ],
             [
              0.6666666666666666,
              "#ed7953"
             ],
             [
              0.7777777777777778,
              "#fb9f3a"
             ],
             [
              0.8888888888888888,
              "#fdca26"
             ],
             [
              1,
              "#f0f921"
             ]
            ],
            "type": "contour"
           }
          ],
          "contourcarpet": [
           {
            "colorbar": {
             "outlinewidth": 0,
             "ticks": ""
            },
            "type": "contourcarpet"
           }
          ],
          "heatmap": [
           {
            "colorbar": {
             "outlinewidth": 0,
             "ticks": ""
            },
            "colorscale": [
             [
              0,
              "#0d0887"
             ],
             [
              0.1111111111111111,
              "#46039f"
             ],
             [
              0.2222222222222222,
              "#7201a8"
             ],
             [
              0.3333333333333333,
              "#9c179e"
             ],
             [
              0.4444444444444444,
              "#bd3786"
             ],
             [
              0.5555555555555556,
              "#d8576b"
             ],
             [
              0.6666666666666666,
              "#ed7953"
             ],
             [
              0.7777777777777778,
              "#fb9f3a"
             ],
             [
              0.8888888888888888,
              "#fdca26"
             ],
             [
              1,
              "#f0f921"
             ]
            ],
            "type": "heatmap"
           }
          ],
          "heatmapgl": [
           {
            "colorbar": {
             "outlinewidth": 0,
             "ticks": ""
            },
            "colorscale": [
             [
              0,
              "#0d0887"
             ],
             [
              0.1111111111111111,
              "#46039f"
             ],
             [
              0.2222222222222222,
              "#7201a8"
             ],
             [
              0.3333333333333333,
              "#9c179e"
             ],
             [
              0.4444444444444444,
              "#bd3786"
             ],
             [
              0.5555555555555556,
              "#d8576b"
             ],
             [
              0.6666666666666666,
              "#ed7953"
             ],
             [
              0.7777777777777778,
              "#fb9f3a"
             ],
             [
              0.8888888888888888,
              "#fdca26"
             ],
             [
              1,
              "#f0f921"
             ]
            ],
            "type": "heatmapgl"
           }
          ],
          "histogram": [
           {
            "marker": {
             "pattern": {
              "fillmode": "overlay",
              "size": 10,
              "solidity": 0.2
             }
            },
            "type": "histogram"
           }
          ],
          "histogram2d": [
           {
            "colorbar": {
             "outlinewidth": 0,
             "ticks": ""
            },
            "colorscale": [
             [
              0,
              "#0d0887"
             ],
             [
              0.1111111111111111,
              "#46039f"
             ],
             [
              0.2222222222222222,
              "#7201a8"
             ],
             [
              0.3333333333333333,
              "#9c179e"
             ],
             [
              0.4444444444444444,
              "#bd3786"
             ],
             [
              0.5555555555555556,
              "#d8576b"
             ],
             [
              0.6666666666666666,
              "#ed7953"
             ],
             [
              0.7777777777777778,
              "#fb9f3a"
             ],
             [
              0.8888888888888888,
              "#fdca26"
             ],
             [
              1,
              "#f0f921"
             ]
            ],
            "type": "histogram2d"
           }
          ],
          "histogram2dcontour": [
           {
            "colorbar": {
             "outlinewidth": 0,
             "ticks": ""
            },
            "colorscale": [
             [
              0,
              "#0d0887"
             ],
             [
              0.1111111111111111,
              "#46039f"
             ],
             [
              0.2222222222222222,
              "#7201a8"
             ],
             [
              0.3333333333333333,
              "#9c179e"
             ],
             [
              0.4444444444444444,
              "#bd3786"
             ],
             [
              0.5555555555555556,
              "#d8576b"
             ],
             [
              0.6666666666666666,
              "#ed7953"
             ],
             [
              0.7777777777777778,
              "#fb9f3a"
             ],
             [
              0.8888888888888888,
              "#fdca26"
             ],
             [
              1,
              "#f0f921"
             ]
            ],
            "type": "histogram2dcontour"
           }
          ],
          "mesh3d": [
           {
            "colorbar": {
             "outlinewidth": 0,
             "ticks": ""
            },
            "type": "mesh3d"
           }
          ],
          "parcoords": [
           {
            "line": {
             "colorbar": {
              "outlinewidth": 0,
              "ticks": ""
             }
            },
            "type": "parcoords"
           }
          ],
          "pie": [
           {
            "automargin": true,
            "type": "pie"
           }
          ],
          "scatter": [
           {
            "fillpattern": {
             "fillmode": "overlay",
             "size": 10,
             "solidity": 0.2
            },
            "type": "scatter"
           }
          ],
          "scatter3d": [
           {
            "line": {
             "colorbar": {
              "outlinewidth": 0,
              "ticks": ""
             }
            },
            "marker": {
             "colorbar": {
              "outlinewidth": 0,
              "ticks": ""
             }
            },
            "type": "scatter3d"
           }
          ],
          "scattercarpet": [
           {
            "marker": {
             "colorbar": {
              "outlinewidth": 0,
              "ticks": ""
             }
            },
            "type": "scattercarpet"
           }
          ],
          "scattergeo": [
           {
            "marker": {
             "colorbar": {
              "outlinewidth": 0,
              "ticks": ""
             }
            },
            "type": "scattergeo"
           }
          ],
          "scattergl": [
           {
            "marker": {
             "colorbar": {
              "outlinewidth": 0,
              "ticks": ""
             }
            },
            "type": "scattergl"
           }
          ],
          "scattermapbox": [
           {
            "marker": {
             "colorbar": {
              "outlinewidth": 0,
              "ticks": ""
             }
            },
            "type": "scattermapbox"
           }
          ],
          "scatterpolar": [
           {
            "marker": {
             "colorbar": {
              "outlinewidth": 0,
              "ticks": ""
             }
            },
            "type": "scatterpolar"
           }
          ],
          "scatterpolargl": [
           {
            "marker": {
             "colorbar": {
              "outlinewidth": 0,
              "ticks": ""
             }
            },
            "type": "scatterpolargl"
           }
          ],
          "scatterternary": [
           {
            "marker": {
             "colorbar": {
              "outlinewidth": 0,
              "ticks": ""
             }
            },
            "type": "scatterternary"
           }
          ],
          "surface": [
           {
            "colorbar": {
             "outlinewidth": 0,
             "ticks": ""
            },
            "colorscale": [
             [
              0,
              "#0d0887"
             ],
             [
              0.1111111111111111,
              "#46039f"
             ],
             [
              0.2222222222222222,
              "#7201a8"
             ],
             [
              0.3333333333333333,
              "#9c179e"
             ],
             [
              0.4444444444444444,
              "#bd3786"
             ],
             [
              0.5555555555555556,
              "#d8576b"
             ],
             [
              0.6666666666666666,
              "#ed7953"
             ],
             [
              0.7777777777777778,
              "#fb9f3a"
             ],
             [
              0.8888888888888888,
              "#fdca26"
             ],
             [
              1,
              "#f0f921"
             ]
            ],
            "type": "surface"
           }
          ],
          "table": [
           {
            "cells": {
             "fill": {
              "color": "#EBF0F8"
             },
             "line": {
              "color": "white"
             }
            },
            "header": {
             "fill": {
              "color": "#C8D4E3"
             },
             "line": {
              "color": "white"
             }
            },
            "type": "table"
           }
          ]
         },
         "layout": {
          "annotationdefaults": {
           "arrowcolor": "#2a3f5f",
           "arrowhead": 0,
           "arrowwidth": 1
          },
          "autotypenumbers": "strict",
          "coloraxis": {
           "colorbar": {
            "outlinewidth": 0,
            "ticks": ""
           }
          },
          "colorscale": {
           "diverging": [
            [
             0,
             "#8e0152"
            ],
            [
             0.1,
             "#c51b7d"
            ],
            [
             0.2,
             "#de77ae"
            ],
            [
             0.3,
             "#f1b6da"
            ],
            [
             0.4,
             "#fde0ef"
            ],
            [
             0.5,
             "#f7f7f7"
            ],
            [
             0.6,
             "#e6f5d0"
            ],
            [
             0.7,
             "#b8e186"
            ],
            [
             0.8,
             "#7fbc41"
            ],
            [
             0.9,
             "#4d9221"
            ],
            [
             1,
             "#276419"
            ]
           ],
           "sequential": [
            [
             0,
             "#0d0887"
            ],
            [
             0.1111111111111111,
             "#46039f"
            ],
            [
             0.2222222222222222,
             "#7201a8"
            ],
            [
             0.3333333333333333,
             "#9c179e"
            ],
            [
             0.4444444444444444,
             "#bd3786"
            ],
            [
             0.5555555555555556,
             "#d8576b"
            ],
            [
             0.6666666666666666,
             "#ed7953"
            ],
            [
             0.7777777777777778,
             "#fb9f3a"
            ],
            [
             0.8888888888888888,
             "#fdca26"
            ],
            [
             1,
             "#f0f921"
            ]
           ],
           "sequentialminus": [
            [
             0,
             "#0d0887"
            ],
            [
             0.1111111111111111,
             "#46039f"
            ],
            [
             0.2222222222222222,
             "#7201a8"
            ],
            [
             0.3333333333333333,
             "#9c179e"
            ],
            [
             0.4444444444444444,
             "#bd3786"
            ],
            [
             0.5555555555555556,
             "#d8576b"
            ],
            [
             0.6666666666666666,
             "#ed7953"
            ],
            [
             0.7777777777777778,
             "#fb9f3a"
            ],
            [
             0.8888888888888888,
             "#fdca26"
            ],
            [
             1,
             "#f0f921"
            ]
           ]
          },
          "colorway": [
           "#636efa",
           "#EF553B",
           "#00cc96",
           "#ab63fa",
           "#FFA15A",
           "#19d3f3",
           "#FF6692",
           "#B6E880",
           "#FF97FF",
           "#FECB52"
          ],
          "font": {
           "color": "#2a3f5f"
          },
          "geo": {
           "bgcolor": "white",
           "lakecolor": "white",
           "landcolor": "#E5ECF6",
           "showlakes": true,
           "showland": true,
           "subunitcolor": "white"
          },
          "hoverlabel": {
           "align": "left"
          },
          "hovermode": "closest",
          "mapbox": {
           "style": "light"
          },
          "paper_bgcolor": "white",
          "plot_bgcolor": "#E5ECF6",
          "polar": {
           "angularaxis": {
            "gridcolor": "white",
            "linecolor": "white",
            "ticks": ""
           },
           "bgcolor": "#E5ECF6",
           "radialaxis": {
            "gridcolor": "white",
            "linecolor": "white",
            "ticks": ""
           }
          },
          "scene": {
           "xaxis": {
            "backgroundcolor": "#E5ECF6",
            "gridcolor": "white",
            "gridwidth": 2,
            "linecolor": "white",
            "showbackground": true,
            "ticks": "",
            "zerolinecolor": "white"
           },
           "yaxis": {
            "backgroundcolor": "#E5ECF6",
            "gridcolor": "white",
            "gridwidth": 2,
            "linecolor": "white",
            "showbackground": true,
            "ticks": "",
            "zerolinecolor": "white"
           },
           "zaxis": {
            "backgroundcolor": "#E5ECF6",
            "gridcolor": "white",
            "gridwidth": 2,
            "linecolor": "white",
            "showbackground": true,
            "ticks": "",
            "zerolinecolor": "white"
           }
          },
          "shapedefaults": {
           "line": {
            "color": "#2a3f5f"
           }
          },
          "ternary": {
           "aaxis": {
            "gridcolor": "white",
            "linecolor": "white",
            "ticks": ""
           },
           "baxis": {
            "gridcolor": "white",
            "linecolor": "white",
            "ticks": ""
           },
           "bgcolor": "#E5ECF6",
           "caxis": {
            "gridcolor": "white",
            "linecolor": "white",
            "ticks": ""
           }
          },
          "title": {
           "x": 0.05
          },
          "xaxis": {
           "automargin": true,
           "gridcolor": "white",
           "linecolor": "white",
           "ticks": "",
           "title": {
            "standoff": 15
           },
           "zerolinecolor": "white",
           "zerolinewidth": 2
          },
          "yaxis": {
           "automargin": true,
           "gridcolor": "white",
           "linecolor": "white",
           "ticks": "",
           "title": {
            "standoff": 15
           },
           "zerolinecolor": "white",
           "zerolinewidth": 2
          }
         }
        },
        "title": {
         "text": "Optimization Progress - Epoch 4"
        },
        "width": 1000,
        "xaxis": {
         "anchor": "y",
         "domain": [
          0,
          0.45
         ],
         "gridcolor": "lightgray",
         "linecolor": "black",
         "linewidth": 1,
         "showgrid": true,
         "showline": true,
         "title": {
          "text": "Step"
         }
        },
        "xaxis2": {
         "anchor": "y2",
         "domain": [
          0.55,
          1
         ],
         "gridcolor": "lightgray",
         "linecolor": "black",
         "linewidth": 1,
         "showgrid": true,
         "showline": true,
         "title": {
          "text": "Step"
         }
        },
        "yaxis": {
         "anchor": "x",
         "domain": [
          0,
          1
         ],
         "gridcolor": "lightgray",
         "linecolor": "black",
         "linewidth": 1,
         "showgrid": true,
         "showline": true,
         "title": {
          "text": "Objective T Value"
         }
        },
        "yaxis2": {
         "anchor": "x2",
         "domain": [
          0,
          1
         ],
         "gridcolor": "lightgray",
         "linecolor": "black",
         "linewidth": 1,
         "showgrid": true,
         "showline": true,
         "title": {
          "text": "Objective θ Value"
         }
        }
       }
      }
     },
     "metadata": {},
     "output_type": "display_data"
    },
    {
     "name": "stderr",
     "output_type": "stream",
     "text": [
      " 30%|███       | 3/10 [00:00<00:01,  3.54it/s]"
     ]
    },
    {
     "name": "stdout",
     "output_type": "stream",
     "text": [
      "Convergence reached at epoch 4 with objective 8.371601104736328\n",
      "Final T: tensor([[ 0.0098, -0.0019, -0.0138],\n",
      "        [ 0.0036, -0.0069, -0.0089]], requires_grad=True)\n",
      "Final mu_L: tensor([-2.8298e-07,  1.9673e-08,  4.0886e-07], grad_fn=<AddBackward0>)\n",
      "Final Sigma_L: tensor([[0.3218, 0.0000, 0.0000],\n",
      "        [0.0000, 0.5835, 0.0000],\n",
      "        [0.0000, 0.0000, 0.3059]], grad_fn=<MmBackward0>)\n",
      "Final mu_H: tensor([0.0163, 0.0008], grad_fn=<AddBackward0>)\n",
      "Final Sigma_H: tensor([[8.2023, 0.0000],\n",
      "        [0.0000, 0.2016]], grad_fn=<MmBackward0>)\n"
     ]
    },
    {
     "name": "stderr",
     "output_type": "stream",
     "text": [
      "\n"
     ]
    }
   ],
   "source": [
    "params_Lerica, params_Herica, T_erica, inobjs, epobjs = run_optimization(**params_erica)"
   ]
  },
  {
   "cell_type": "markdown",
   "id": "677a5bbf",
   "metadata": {},
   "source": [
    "### ENRiCO optimization"
   ]
  },
  {
   "cell_type": "code",
   "execution_count": 23,
   "id": "943088ab",
   "metadata": {},
   "outputs": [],
   "source": [
    "theta_hatL   = {'mu_U': mu_U_ll_hat, 'Sigma_U': Sigma_U_ll_hat, 'radius': epsilon}\n",
    "theta_hatH   = {'mu_U': mu_U_hl_hat, 'Sigma_U': Sigma_U_hl_hat, 'radius': delta}\n",
    "\n",
    "params_enrico =  {\n",
    "                    'theta_hatL': theta_hatL,\n",
    "                    'theta_hatH': theta_hatH,\n",
    "                    'initial_theta': 'empirical',\n",
    "                    'epsilon': 0.9,\n",
    "                    'delta': 0.8,\n",
    "                    'lambda_L': 0.9,\n",
    "                    'lambda_H': 0.9,\n",
    "                    'lambda_param': 0.9,\n",
    "                    'eta_max': 0.001,\n",
    "                    'eta_min': 0.0001,\n",
    "                    'max_iter': 10,\n",
    "                    'num_steps_min': 3,\n",
    "                    'num_steps_max': 2,\n",
    "                    'tol': 1e-8,\n",
    "                    'seed': 0,\n",
    "                    'robust': False,\n",
    "                    'plot_steps': False,\n",
    "                    'plot_epochs': False\n",
    "                }"
   ]
  },
  {
   "cell_type": "code",
   "execution_count": 24,
   "id": "f3e8e5f2",
   "metadata": {},
   "outputs": [
    {
     "name": "stderr",
     "output_type": "stream",
     "text": [
      "  0%|          | 0/10 [00:00<?, ?it/s]"
     ]
    },
    {
     "data": {
      "application/vnd.plotly.v1+json": {
       "config": {
        "plotlyServerURL": "https://plot.ly"
       },
       "data": [
        {
         "line": {
          "color": "green"
         },
         "mode": "lines",
         "name": "Min steps",
         "type": "scatter",
         "y": [
          13.585732460021973,
          13.585732460021973,
          13.585732460021973
         ]
        }
       ],
       "layout": {
        "font": {
         "size": 12
        },
        "height": 400,
        "paper_bgcolor": "white",
        "plot_bgcolor": "white",
        "showlegend": true,
        "template": {
         "data": {
          "bar": [
           {
            "error_x": {
             "color": "#2a3f5f"
            },
            "error_y": {
             "color": "#2a3f5f"
            },
            "marker": {
             "line": {
              "color": "#E5ECF6",
              "width": 0.5
             },
             "pattern": {
              "fillmode": "overlay",
              "size": 10,
              "solidity": 0.2
             }
            },
            "type": "bar"
           }
          ],
          "barpolar": [
           {
            "marker": {
             "line": {
              "color": "#E5ECF6",
              "width": 0.5
             },
             "pattern": {
              "fillmode": "overlay",
              "size": 10,
              "solidity": 0.2
             }
            },
            "type": "barpolar"
           }
          ],
          "carpet": [
           {
            "aaxis": {
             "endlinecolor": "#2a3f5f",
             "gridcolor": "white",
             "linecolor": "white",
             "minorgridcolor": "white",
             "startlinecolor": "#2a3f5f"
            },
            "baxis": {
             "endlinecolor": "#2a3f5f",
             "gridcolor": "white",
             "linecolor": "white",
             "minorgridcolor": "white",
             "startlinecolor": "#2a3f5f"
            },
            "type": "carpet"
           }
          ],
          "choropleth": [
           {
            "colorbar": {
             "outlinewidth": 0,
             "ticks": ""
            },
            "type": "choropleth"
           }
          ],
          "contour": [
           {
            "colorbar": {
             "outlinewidth": 0,
             "ticks": ""
            },
            "colorscale": [
             [
              0,
              "#0d0887"
             ],
             [
              0.1111111111111111,
              "#46039f"
             ],
             [
              0.2222222222222222,
              "#7201a8"
             ],
             [
              0.3333333333333333,
              "#9c179e"
             ],
             [
              0.4444444444444444,
              "#bd3786"
             ],
             [
              0.5555555555555556,
              "#d8576b"
             ],
             [
              0.6666666666666666,
              "#ed7953"
             ],
             [
              0.7777777777777778,
              "#fb9f3a"
             ],
             [
              0.8888888888888888,
              "#fdca26"
             ],
             [
              1,
              "#f0f921"
             ]
            ],
            "type": "contour"
           }
          ],
          "contourcarpet": [
           {
            "colorbar": {
             "outlinewidth": 0,
             "ticks": ""
            },
            "type": "contourcarpet"
           }
          ],
          "heatmap": [
           {
            "colorbar": {
             "outlinewidth": 0,
             "ticks": ""
            },
            "colorscale": [
             [
              0,
              "#0d0887"
             ],
             [
              0.1111111111111111,
              "#46039f"
             ],
             [
              0.2222222222222222,
              "#7201a8"
             ],
             [
              0.3333333333333333,
              "#9c179e"
             ],
             [
              0.4444444444444444,
              "#bd3786"
             ],
             [
              0.5555555555555556,
              "#d8576b"
             ],
             [
              0.6666666666666666,
              "#ed7953"
             ],
             [
              0.7777777777777778,
              "#fb9f3a"
             ],
             [
              0.8888888888888888,
              "#fdca26"
             ],
             [
              1,
              "#f0f921"
             ]
            ],
            "type": "heatmap"
           }
          ],
          "heatmapgl": [
           {
            "colorbar": {
             "outlinewidth": 0,
             "ticks": ""
            },
            "colorscale": [
             [
              0,
              "#0d0887"
             ],
             [
              0.1111111111111111,
              "#46039f"
             ],
             [
              0.2222222222222222,
              "#7201a8"
             ],
             [
              0.3333333333333333,
              "#9c179e"
             ],
             [
              0.4444444444444444,
              "#bd3786"
             ],
             [
              0.5555555555555556,
              "#d8576b"
             ],
             [
              0.6666666666666666,
              "#ed7953"
             ],
             [
              0.7777777777777778,
              "#fb9f3a"
             ],
             [
              0.8888888888888888,
              "#fdca26"
             ],
             [
              1,
              "#f0f921"
             ]
            ],
            "type": "heatmapgl"
           }
          ],
          "histogram": [
           {
            "marker": {
             "pattern": {
              "fillmode": "overlay",
              "size": 10,
              "solidity": 0.2
             }
            },
            "type": "histogram"
           }
          ],
          "histogram2d": [
           {
            "colorbar": {
             "outlinewidth": 0,
             "ticks": ""
            },
            "colorscale": [
             [
              0,
              "#0d0887"
             ],
             [
              0.1111111111111111,
              "#46039f"
             ],
             [
              0.2222222222222222,
              "#7201a8"
             ],
             [
              0.3333333333333333,
              "#9c179e"
             ],
             [
              0.4444444444444444,
              "#bd3786"
             ],
             [
              0.5555555555555556,
              "#d8576b"
             ],
             [
              0.6666666666666666,
              "#ed7953"
             ],
             [
              0.7777777777777778,
              "#fb9f3a"
             ],
             [
              0.8888888888888888,
              "#fdca26"
             ],
             [
              1,
              "#f0f921"
             ]
            ],
            "type": "histogram2d"
           }
          ],
          "histogram2dcontour": [
           {
            "colorbar": {
             "outlinewidth": 0,
             "ticks": ""
            },
            "colorscale": [
             [
              0,
              "#0d0887"
             ],
             [
              0.1111111111111111,
              "#46039f"
             ],
             [
              0.2222222222222222,
              "#7201a8"
             ],
             [
              0.3333333333333333,
              "#9c179e"
             ],
             [
              0.4444444444444444,
              "#bd3786"
             ],
             [
              0.5555555555555556,
              "#d8576b"
             ],
             [
              0.6666666666666666,
              "#ed7953"
             ],
             [
              0.7777777777777778,
              "#fb9f3a"
             ],
             [
              0.8888888888888888,
              "#fdca26"
             ],
             [
              1,
              "#f0f921"
             ]
            ],
            "type": "histogram2dcontour"
           }
          ],
          "mesh3d": [
           {
            "colorbar": {
             "outlinewidth": 0,
             "ticks": ""
            },
            "type": "mesh3d"
           }
          ],
          "parcoords": [
           {
            "line": {
             "colorbar": {
              "outlinewidth": 0,
              "ticks": ""
             }
            },
            "type": "parcoords"
           }
          ],
          "pie": [
           {
            "automargin": true,
            "type": "pie"
           }
          ],
          "scatter": [
           {
            "fillpattern": {
             "fillmode": "overlay",
             "size": 10,
             "solidity": 0.2
            },
            "type": "scatter"
           }
          ],
          "scatter3d": [
           {
            "line": {
             "colorbar": {
              "outlinewidth": 0,
              "ticks": ""
             }
            },
            "marker": {
             "colorbar": {
              "outlinewidth": 0,
              "ticks": ""
             }
            },
            "type": "scatter3d"
           }
          ],
          "scattercarpet": [
           {
            "marker": {
             "colorbar": {
              "outlinewidth": 0,
              "ticks": ""
             }
            },
            "type": "scattercarpet"
           }
          ],
          "scattergeo": [
           {
            "marker": {
             "colorbar": {
              "outlinewidth": 0,
              "ticks": ""
             }
            },
            "type": "scattergeo"
           }
          ],
          "scattergl": [
           {
            "marker": {
             "colorbar": {
              "outlinewidth": 0,
              "ticks": ""
             }
            },
            "type": "scattergl"
           }
          ],
          "scattermapbox": [
           {
            "marker": {
             "colorbar": {
              "outlinewidth": 0,
              "ticks": ""
             }
            },
            "type": "scattermapbox"
           }
          ],
          "scatterpolar": [
           {
            "marker": {
             "colorbar": {
              "outlinewidth": 0,
              "ticks": ""
             }
            },
            "type": "scatterpolar"
           }
          ],
          "scatterpolargl": [
           {
            "marker": {
             "colorbar": {
              "outlinewidth": 0,
              "ticks": ""
             }
            },
            "type": "scatterpolargl"
           }
          ],
          "scatterternary": [
           {
            "marker": {
             "colorbar": {
              "outlinewidth": 0,
              "ticks": ""
             }
            },
            "type": "scatterternary"
           }
          ],
          "surface": [
           {
            "colorbar": {
             "outlinewidth": 0,
             "ticks": ""
            },
            "colorscale": [
             [
              0,
              "#0d0887"
             ],
             [
              0.1111111111111111,
              "#46039f"
             ],
             [
              0.2222222222222222,
              "#7201a8"
             ],
             [
              0.3333333333333333,
              "#9c179e"
             ],
             [
              0.4444444444444444,
              "#bd3786"
             ],
             [
              0.5555555555555556,
              "#d8576b"
             ],
             [
              0.6666666666666666,
              "#ed7953"
             ],
             [
              0.7777777777777778,
              "#fb9f3a"
             ],
             [
              0.8888888888888888,
              "#fdca26"
             ],
             [
              1,
              "#f0f921"
             ]
            ],
            "type": "surface"
           }
          ],
          "table": [
           {
            "cells": {
             "fill": {
              "color": "#EBF0F8"
             },
             "line": {
              "color": "white"
             }
            },
            "header": {
             "fill": {
              "color": "#C8D4E3"
             },
             "line": {
              "color": "white"
             }
            },
            "type": "table"
           }
          ]
         },
         "layout": {
          "annotationdefaults": {
           "arrowcolor": "#2a3f5f",
           "arrowhead": 0,
           "arrowwidth": 1
          },
          "autotypenumbers": "strict",
          "coloraxis": {
           "colorbar": {
            "outlinewidth": 0,
            "ticks": ""
           }
          },
          "colorscale": {
           "diverging": [
            [
             0,
             "#8e0152"
            ],
            [
             0.1,
             "#c51b7d"
            ],
            [
             0.2,
             "#de77ae"
            ],
            [
             0.3,
             "#f1b6da"
            ],
            [
             0.4,
             "#fde0ef"
            ],
            [
             0.5,
             "#f7f7f7"
            ],
            [
             0.6,
             "#e6f5d0"
            ],
            [
             0.7,
             "#b8e186"
            ],
            [
             0.8,
             "#7fbc41"
            ],
            [
             0.9,
             "#4d9221"
            ],
            [
             1,
             "#276419"
            ]
           ],
           "sequential": [
            [
             0,
             "#0d0887"
            ],
            [
             0.1111111111111111,
             "#46039f"
            ],
            [
             0.2222222222222222,
             "#7201a8"
            ],
            [
             0.3333333333333333,
             "#9c179e"
            ],
            [
             0.4444444444444444,
             "#bd3786"
            ],
            [
             0.5555555555555556,
             "#d8576b"
            ],
            [
             0.6666666666666666,
             "#ed7953"
            ],
            [
             0.7777777777777778,
             "#fb9f3a"
            ],
            [
             0.8888888888888888,
             "#fdca26"
            ],
            [
             1,
             "#f0f921"
            ]
           ],
           "sequentialminus": [
            [
             0,
             "#0d0887"
            ],
            [
             0.1111111111111111,
             "#46039f"
            ],
            [
             0.2222222222222222,
             "#7201a8"
            ],
            [
             0.3333333333333333,
             "#9c179e"
            ],
            [
             0.4444444444444444,
             "#bd3786"
            ],
            [
             0.5555555555555556,
             "#d8576b"
            ],
            [
             0.6666666666666666,
             "#ed7953"
            ],
            [
             0.7777777777777778,
             "#fb9f3a"
            ],
            [
             0.8888888888888888,
             "#fdca26"
            ],
            [
             1,
             "#f0f921"
            ]
           ]
          },
          "colorway": [
           "#636efa",
           "#EF553B",
           "#00cc96",
           "#ab63fa",
           "#FFA15A",
           "#19d3f3",
           "#FF6692",
           "#B6E880",
           "#FF97FF",
           "#FECB52"
          ],
          "font": {
           "color": "#2a3f5f"
          },
          "geo": {
           "bgcolor": "white",
           "lakecolor": "white",
           "landcolor": "#E5ECF6",
           "showlakes": true,
           "showland": true,
           "subunitcolor": "white"
          },
          "hoverlabel": {
           "align": "left"
          },
          "hovermode": "closest",
          "mapbox": {
           "style": "light"
          },
          "paper_bgcolor": "white",
          "plot_bgcolor": "#E5ECF6",
          "polar": {
           "angularaxis": {
            "gridcolor": "white",
            "linecolor": "white",
            "ticks": ""
           },
           "bgcolor": "#E5ECF6",
           "radialaxis": {
            "gridcolor": "white",
            "linecolor": "white",
            "ticks": ""
           }
          },
          "scene": {
           "xaxis": {
            "backgroundcolor": "#E5ECF6",
            "gridcolor": "white",
            "gridwidth": 2,
            "linecolor": "white",
            "showbackground": true,
            "ticks": "",
            "zerolinecolor": "white"
           },
           "yaxis": {
            "backgroundcolor": "#E5ECF6",
            "gridcolor": "white",
            "gridwidth": 2,
            "linecolor": "white",
            "showbackground": true,
            "ticks": "",
            "zerolinecolor": "white"
           },
           "zaxis": {
            "backgroundcolor": "#E5ECF6",
            "gridcolor": "white",
            "gridwidth": 2,
            "linecolor": "white",
            "showbackground": true,
            "ticks": "",
            "zerolinecolor": "white"
           }
          },
          "shapedefaults": {
           "line": {
            "color": "#2a3f5f"
           }
          },
          "ternary": {
           "aaxis": {
            "gridcolor": "white",
            "linecolor": "white",
            "ticks": ""
           },
           "baxis": {
            "gridcolor": "white",
            "linecolor": "white",
            "ticks": ""
           },
           "bgcolor": "#E5ECF6",
           "caxis": {
            "gridcolor": "white",
            "linecolor": "white",
            "ticks": ""
           }
          },
          "title": {
           "x": 0.05
          },
          "xaxis": {
           "automargin": true,
           "gridcolor": "white",
           "linecolor": "white",
           "ticks": "",
           "title": {
            "standoff": 15
           },
           "zerolinecolor": "white",
           "zerolinewidth": 2
          },
          "yaxis": {
           "automargin": true,
           "gridcolor": "white",
           "linecolor": "white",
           "ticks": "",
           "title": {
            "standoff": 15
           },
           "zerolinecolor": "white",
           "zerolinewidth": 2
          }
         }
        },
        "title": {
         "text": "Optimization Progress - Epoch 1"
        },
        "width": 500,
        "xaxis": {
         "gridcolor": "lightgray",
         "linecolor": "black",
         "linewidth": 1,
         "showgrid": true,
         "showline": true,
         "title": {
          "text": "Step"
         }
        },
        "yaxis": {
         "gridcolor": "lightgray",
         "linecolor": "black",
         "linewidth": 1,
         "showgrid": true,
         "showline": true,
         "title": {
          "text": "Objective T Value"
         }
        }
       }
      }
     },
     "metadata": {},
     "output_type": "display_data"
    },
    {
     "data": {
      "application/vnd.plotly.v1+json": {
       "config": {
        "plotlyServerURL": "https://plot.ly"
       },
       "data": [
        {
         "line": {
          "color": "green"
         },
         "mode": "lines",
         "name": "Min steps",
         "type": "scatter",
         "y": [
          13.585732460021973,
          13.585732460021973,
          13.585732460021973
         ]
        }
       ],
       "layout": {
        "font": {
         "size": 12
        },
        "height": 400,
        "paper_bgcolor": "white",
        "plot_bgcolor": "white",
        "showlegend": true,
        "template": {
         "data": {
          "bar": [
           {
            "error_x": {
             "color": "#2a3f5f"
            },
            "error_y": {
             "color": "#2a3f5f"
            },
            "marker": {
             "line": {
              "color": "#E5ECF6",
              "width": 0.5
             },
             "pattern": {
              "fillmode": "overlay",
              "size": 10,
              "solidity": 0.2
             }
            },
            "type": "bar"
           }
          ],
          "barpolar": [
           {
            "marker": {
             "line": {
              "color": "#E5ECF6",
              "width": 0.5
             },
             "pattern": {
              "fillmode": "overlay",
              "size": 10,
              "solidity": 0.2
             }
            },
            "type": "barpolar"
           }
          ],
          "carpet": [
           {
            "aaxis": {
             "endlinecolor": "#2a3f5f",
             "gridcolor": "white",
             "linecolor": "white",
             "minorgridcolor": "white",
             "startlinecolor": "#2a3f5f"
            },
            "baxis": {
             "endlinecolor": "#2a3f5f",
             "gridcolor": "white",
             "linecolor": "white",
             "minorgridcolor": "white",
             "startlinecolor": "#2a3f5f"
            },
            "type": "carpet"
           }
          ],
          "choropleth": [
           {
            "colorbar": {
             "outlinewidth": 0,
             "ticks": ""
            },
            "type": "choropleth"
           }
          ],
          "contour": [
           {
            "colorbar": {
             "outlinewidth": 0,
             "ticks": ""
            },
            "colorscale": [
             [
              0,
              "#0d0887"
             ],
             [
              0.1111111111111111,
              "#46039f"
             ],
             [
              0.2222222222222222,
              "#7201a8"
             ],
             [
              0.3333333333333333,
              "#9c179e"
             ],
             [
              0.4444444444444444,
              "#bd3786"
             ],
             [
              0.5555555555555556,
              "#d8576b"
             ],
             [
              0.6666666666666666,
              "#ed7953"
             ],
             [
              0.7777777777777778,
              "#fb9f3a"
             ],
             [
              0.8888888888888888,
              "#fdca26"
             ],
             [
              1,
              "#f0f921"
             ]
            ],
            "type": "contour"
           }
          ],
          "contourcarpet": [
           {
            "colorbar": {
             "outlinewidth": 0,
             "ticks": ""
            },
            "type": "contourcarpet"
           }
          ],
          "heatmap": [
           {
            "colorbar": {
             "outlinewidth": 0,
             "ticks": ""
            },
            "colorscale": [
             [
              0,
              "#0d0887"
             ],
             [
              0.1111111111111111,
              "#46039f"
             ],
             [
              0.2222222222222222,
              "#7201a8"
             ],
             [
              0.3333333333333333,
              "#9c179e"
             ],
             [
              0.4444444444444444,
              "#bd3786"
             ],
             [
              0.5555555555555556,
              "#d8576b"
             ],
             [
              0.6666666666666666,
              "#ed7953"
             ],
             [
              0.7777777777777778,
              "#fb9f3a"
             ],
             [
              0.8888888888888888,
              "#fdca26"
             ],
             [
              1,
              "#f0f921"
             ]
            ],
            "type": "heatmap"
           }
          ],
          "heatmapgl": [
           {
            "colorbar": {
             "outlinewidth": 0,
             "ticks": ""
            },
            "colorscale": [
             [
              0,
              "#0d0887"
             ],
             [
              0.1111111111111111,
              "#46039f"
             ],
             [
              0.2222222222222222,
              "#7201a8"
             ],
             [
              0.3333333333333333,
              "#9c179e"
             ],
             [
              0.4444444444444444,
              "#bd3786"
             ],
             [
              0.5555555555555556,
              "#d8576b"
             ],
             [
              0.6666666666666666,
              "#ed7953"
             ],
             [
              0.7777777777777778,
              "#fb9f3a"
             ],
             [
              0.8888888888888888,
              "#fdca26"
             ],
             [
              1,
              "#f0f921"
             ]
            ],
            "type": "heatmapgl"
           }
          ],
          "histogram": [
           {
            "marker": {
             "pattern": {
              "fillmode": "overlay",
              "size": 10,
              "solidity": 0.2
             }
            },
            "type": "histogram"
           }
          ],
          "histogram2d": [
           {
            "colorbar": {
             "outlinewidth": 0,
             "ticks": ""
            },
            "colorscale": [
             [
              0,
              "#0d0887"
             ],
             [
              0.1111111111111111,
              "#46039f"
             ],
             [
              0.2222222222222222,
              "#7201a8"
             ],
             [
              0.3333333333333333,
              "#9c179e"
             ],
             [
              0.4444444444444444,
              "#bd3786"
             ],
             [
              0.5555555555555556,
              "#d8576b"
             ],
             [
              0.6666666666666666,
              "#ed7953"
             ],
             [
              0.7777777777777778,
              "#fb9f3a"
             ],
             [
              0.8888888888888888,
              "#fdca26"
             ],
             [
              1,
              "#f0f921"
             ]
            ],
            "type": "histogram2d"
           }
          ],
          "histogram2dcontour": [
           {
            "colorbar": {
             "outlinewidth": 0,
             "ticks": ""
            },
            "colorscale": [
             [
              0,
              "#0d0887"
             ],
             [
              0.1111111111111111,
              "#46039f"
             ],
             [
              0.2222222222222222,
              "#7201a8"
             ],
             [
              0.3333333333333333,
              "#9c179e"
             ],
             [
              0.4444444444444444,
              "#bd3786"
             ],
             [
              0.5555555555555556,
              "#d8576b"
             ],
             [
              0.6666666666666666,
              "#ed7953"
             ],
             [
              0.7777777777777778,
              "#fb9f3a"
             ],
             [
              0.8888888888888888,
              "#fdca26"
             ],
             [
              1,
              "#f0f921"
             ]
            ],
            "type": "histogram2dcontour"
           }
          ],
          "mesh3d": [
           {
            "colorbar": {
             "outlinewidth": 0,
             "ticks": ""
            },
            "type": "mesh3d"
           }
          ],
          "parcoords": [
           {
            "line": {
             "colorbar": {
              "outlinewidth": 0,
              "ticks": ""
             }
            },
            "type": "parcoords"
           }
          ],
          "pie": [
           {
            "automargin": true,
            "type": "pie"
           }
          ],
          "scatter": [
           {
            "fillpattern": {
             "fillmode": "overlay",
             "size": 10,
             "solidity": 0.2
            },
            "type": "scatter"
           }
          ],
          "scatter3d": [
           {
            "line": {
             "colorbar": {
              "outlinewidth": 0,
              "ticks": ""
             }
            },
            "marker": {
             "colorbar": {
              "outlinewidth": 0,
              "ticks": ""
             }
            },
            "type": "scatter3d"
           }
          ],
          "scattercarpet": [
           {
            "marker": {
             "colorbar": {
              "outlinewidth": 0,
              "ticks": ""
             }
            },
            "type": "scattercarpet"
           }
          ],
          "scattergeo": [
           {
            "marker": {
             "colorbar": {
              "outlinewidth": 0,
              "ticks": ""
             }
            },
            "type": "scattergeo"
           }
          ],
          "scattergl": [
           {
            "marker": {
             "colorbar": {
              "outlinewidth": 0,
              "ticks": ""
             }
            },
            "type": "scattergl"
           }
          ],
          "scattermapbox": [
           {
            "marker": {
             "colorbar": {
              "outlinewidth": 0,
              "ticks": ""
             }
            },
            "type": "scattermapbox"
           }
          ],
          "scatterpolar": [
           {
            "marker": {
             "colorbar": {
              "outlinewidth": 0,
              "ticks": ""
             }
            },
            "type": "scatterpolar"
           }
          ],
          "scatterpolargl": [
           {
            "marker": {
             "colorbar": {
              "outlinewidth": 0,
              "ticks": ""
             }
            },
            "type": "scatterpolargl"
           }
          ],
          "scatterternary": [
           {
            "marker": {
             "colorbar": {
              "outlinewidth": 0,
              "ticks": ""
             }
            },
            "type": "scatterternary"
           }
          ],
          "surface": [
           {
            "colorbar": {
             "outlinewidth": 0,
             "ticks": ""
            },
            "colorscale": [
             [
              0,
              "#0d0887"
             ],
             [
              0.1111111111111111,
              "#46039f"
             ],
             [
              0.2222222222222222,
              "#7201a8"
             ],
             [
              0.3333333333333333,
              "#9c179e"
             ],
             [
              0.4444444444444444,
              "#bd3786"
             ],
             [
              0.5555555555555556,
              "#d8576b"
             ],
             [
              0.6666666666666666,
              "#ed7953"
             ],
             [
              0.7777777777777778,
              "#fb9f3a"
             ],
             [
              0.8888888888888888,
              "#fdca26"
             ],
             [
              1,
              "#f0f921"
             ]
            ],
            "type": "surface"
           }
          ],
          "table": [
           {
            "cells": {
             "fill": {
              "color": "#EBF0F8"
             },
             "line": {
              "color": "white"
             }
            },
            "header": {
             "fill": {
              "color": "#C8D4E3"
             },
             "line": {
              "color": "white"
             }
            },
            "type": "table"
           }
          ]
         },
         "layout": {
          "annotationdefaults": {
           "arrowcolor": "#2a3f5f",
           "arrowhead": 0,
           "arrowwidth": 1
          },
          "autotypenumbers": "strict",
          "coloraxis": {
           "colorbar": {
            "outlinewidth": 0,
            "ticks": ""
           }
          },
          "colorscale": {
           "diverging": [
            [
             0,
             "#8e0152"
            ],
            [
             0.1,
             "#c51b7d"
            ],
            [
             0.2,
             "#de77ae"
            ],
            [
             0.3,
             "#f1b6da"
            ],
            [
             0.4,
             "#fde0ef"
            ],
            [
             0.5,
             "#f7f7f7"
            ],
            [
             0.6,
             "#e6f5d0"
            ],
            [
             0.7,
             "#b8e186"
            ],
            [
             0.8,
             "#7fbc41"
            ],
            [
             0.9,
             "#4d9221"
            ],
            [
             1,
             "#276419"
            ]
           ],
           "sequential": [
            [
             0,
             "#0d0887"
            ],
            [
             0.1111111111111111,
             "#46039f"
            ],
            [
             0.2222222222222222,
             "#7201a8"
            ],
            [
             0.3333333333333333,
             "#9c179e"
            ],
            [
             0.4444444444444444,
             "#bd3786"
            ],
            [
             0.5555555555555556,
             "#d8576b"
            ],
            [
             0.6666666666666666,
             "#ed7953"
            ],
            [
             0.7777777777777778,
             "#fb9f3a"
            ],
            [
             0.8888888888888888,
             "#fdca26"
            ],
            [
             1,
             "#f0f921"
            ]
           ],
           "sequentialminus": [
            [
             0,
             "#0d0887"
            ],
            [
             0.1111111111111111,
             "#46039f"
            ],
            [
             0.2222222222222222,
             "#7201a8"
            ],
            [
             0.3333333333333333,
             "#9c179e"
            ],
            [
             0.4444444444444444,
             "#bd3786"
            ],
            [
             0.5555555555555556,
             "#d8576b"
            ],
            [
             0.6666666666666666,
             "#ed7953"
            ],
            [
             0.7777777777777778,
             "#fb9f3a"
            ],
            [
             0.8888888888888888,
             "#fdca26"
            ],
            [
             1,
             "#f0f921"
            ]
           ]
          },
          "colorway": [
           "#636efa",
           "#EF553B",
           "#00cc96",
           "#ab63fa",
           "#FFA15A",
           "#19d3f3",
           "#FF6692",
           "#B6E880",
           "#FF97FF",
           "#FECB52"
          ],
          "font": {
           "color": "#2a3f5f"
          },
          "geo": {
           "bgcolor": "white",
           "lakecolor": "white",
           "landcolor": "#E5ECF6",
           "showlakes": true,
           "showland": true,
           "subunitcolor": "white"
          },
          "hoverlabel": {
           "align": "left"
          },
          "hovermode": "closest",
          "mapbox": {
           "style": "light"
          },
          "paper_bgcolor": "white",
          "plot_bgcolor": "#E5ECF6",
          "polar": {
           "angularaxis": {
            "gridcolor": "white",
            "linecolor": "white",
            "ticks": ""
           },
           "bgcolor": "#E5ECF6",
           "radialaxis": {
            "gridcolor": "white",
            "linecolor": "white",
            "ticks": ""
           }
          },
          "scene": {
           "xaxis": {
            "backgroundcolor": "#E5ECF6",
            "gridcolor": "white",
            "gridwidth": 2,
            "linecolor": "white",
            "showbackground": true,
            "ticks": "",
            "zerolinecolor": "white"
           },
           "yaxis": {
            "backgroundcolor": "#E5ECF6",
            "gridcolor": "white",
            "gridwidth": 2,
            "linecolor": "white",
            "showbackground": true,
            "ticks": "",
            "zerolinecolor": "white"
           },
           "zaxis": {
            "backgroundcolor": "#E5ECF6",
            "gridcolor": "white",
            "gridwidth": 2,
            "linecolor": "white",
            "showbackground": true,
            "ticks": "",
            "zerolinecolor": "white"
           }
          },
          "shapedefaults": {
           "line": {
            "color": "#2a3f5f"
           }
          },
          "ternary": {
           "aaxis": {
            "gridcolor": "white",
            "linecolor": "white",
            "ticks": ""
           },
           "baxis": {
            "gridcolor": "white",
            "linecolor": "white",
            "ticks": ""
           },
           "bgcolor": "#E5ECF6",
           "caxis": {
            "gridcolor": "white",
            "linecolor": "white",
            "ticks": ""
           }
          },
          "title": {
           "x": 0.05
          },
          "xaxis": {
           "automargin": true,
           "gridcolor": "white",
           "linecolor": "white",
           "ticks": "",
           "title": {
            "standoff": 15
           },
           "zerolinecolor": "white",
           "zerolinewidth": 2
          },
          "yaxis": {
           "automargin": true,
           "gridcolor": "white",
           "linecolor": "white",
           "ticks": "",
           "title": {
            "standoff": 15
           },
           "zerolinecolor": "white",
           "zerolinewidth": 2
          }
         }
        },
        "title": {
         "text": "Optimization Progress - Epoch 2"
        },
        "width": 500,
        "xaxis": {
         "gridcolor": "lightgray",
         "linecolor": "black",
         "linewidth": 1,
         "showgrid": true,
         "showline": true,
         "title": {
          "text": "Step"
         }
        },
        "yaxis": {
         "gridcolor": "lightgray",
         "linecolor": "black",
         "linewidth": 1,
         "showgrid": true,
         "showline": true,
         "title": {
          "text": "Objective T Value"
         }
        }
       }
      }
     },
     "metadata": {},
     "output_type": "display_data"
    },
    {
     "name": "stderr",
     "output_type": "stream",
     "text": [
      " 10%|█         | 1/10 [00:00<00:01,  8.12it/s]"
     ]
    },
    {
     "name": "stdout",
     "output_type": "stream",
     "text": [
      "Convergence reached at epoch 2 with objective 13.585732460021973\n",
      "Final T: tensor([[ 0.0098, -0.0019, -0.0138],\n",
      "        [ 0.0036, -0.0069, -0.0089]], requires_grad=True)\n",
      "Final mu_L: tensor([0., 0., 0.])\n",
      "Final Sigma_L: tensor([[1., 0., 0.],\n",
      "        [0., 2., 0.],\n",
      "        [0., 0., 1.]])\n",
      "Final mu_H: tensor([0.0163, 0.0008])\n",
      "Final Sigma_H: tensor([[13.3758,  0.0000],\n",
      "        [ 0.0000,  0.3048]])\n"
     ]
    },
    {
     "name": "stderr",
     "output_type": "stream",
     "text": [
      "\n"
     ]
    }
   ],
   "source": [
    "params_Lenrico, params_Henrico, T_enrico, inobjs, epobjs = run_optimization(**params_enrico)"
   ]
  },
  {
   "cell_type": "code",
   "execution_count": null,
   "id": "516d1f46",
   "metadata": {},
   "outputs": [],
   "source": [
    "# # Save results\n",
    "# np.save('T_erica.npy', T_erica)\n",
    "# np.save('T_enrico.npy', T_enrico)\n",
    "# np.save('Tau.npy', Tau)\n",
    "\n",
    "# # Load results\n",
    "# T_erica = np.load('T_erica.npy')\n",
    "# T_enrico = np.load('T_enrico.npy')\n",
    "# Tau = np.load('Tau.npy')\n"
   ]
  },
  {
   "cell_type": "code",
   "execution_count": 33,
   "id": "85b5dcf5",
   "metadata": {},
   "outputs": [
    {
     "name": "stdout",
     "output_type": "stream",
     "text": [
      "T_erica condition number =  3.7877681\n",
      "T_enrico condition number =  3.787791\n",
      "Ground truth Tau condition number =  4.738720018687272\n"
     ]
    }
   ],
   "source": [
    "print('T_erica condition number = ', oput.condition_number(T_erica))\n",
    "print('T_enrico condition number = ', oput.condition_number(T_enrico))\n",
    "print('Ground truth Tau condition number = ', oput.condition_number(Tau))"
   ]
  },
  {
   "cell_type": "markdown",
   "id": "e5868ecc",
   "metadata": {},
   "source": [
    "## Run Evaluation"
   ]
  },
  {
   "cell_type": "code",
   "execution_count": 19,
   "id": "e0544ab5",
   "metadata": {},
   "outputs": [],
   "source": [
    "data = mut.load_samples(experiment)"
   ]
  },
  {
   "cell_type": "code",
   "execution_count": null,
   "id": "fe464677",
   "metadata": {},
   "outputs": [],
   "source": [
    "ll_noisy = True\n",
    "hl_noisy = False\n",
    "num_iter = 100"
   ]
  },
  {
   "cell_type": "code",
   "execution_count": 30,
   "id": "5eab4c20",
   "metadata": {},
   "outputs": [],
   "source": [
    "def add_random_noise(data, noise_type, params_theta=None, params_erica=None):\n",
    "\n",
    "    num_samples = data.shape[0]\n",
    "\n",
    "    if noise_type == 'gelbrich':\n",
    "        mu_U_hat    = params_theta['mu_U']\n",
    "        Sigma_U_hat = params_theta['Sigma_U']\n",
    "        radius      = params_theta['radius']\n",
    "        moments     = mut.sample_moments_U(mu_hat = mu_U_hat, Sigma_hat = Sigma_U_hat, bound = radius, num_envs = 1)\n",
    "        \n",
    "        noise_mu, noise_Sigma = moments[0]\n",
    "\n",
    "    if noise_type == 'max':\n",
    "        noise_mu, noise_Sigma = params_erica['mu_U'], params_erica['Sigma_U']\n",
    "\n",
    "    noise = np.random.multivariate_normal(mean=noise_mu, cov=noise_Sigma, size=num_samples)\n",
    "\n",
    "    return data + noise"
   ]
  },
  {
   "cell_type": "code",
   "execution_count": 47,
   "id": "0f37c8ac",
   "metadata": {},
   "outputs": [
    {
     "name": "stdout",
     "output_type": "stream",
     "text": [
      "Average AE 1: 15.309100157607176\n",
      "Average AE 2: 15.308981822056193\n",
      "Average AE 3: 1.5793264168391565\n"
     ]
    }
   ],
   "source": [
    "for i, T in enumerate([T_erica, T_enrico, Tau]): \n",
    "    avg_moms = 0\n",
    "    avg_distros = 0\n",
    "    for _ in range(num_iter):\n",
    "        tot_moms = 0\n",
    "        tot_distros = 0\n",
    "        for iota in Ill:\n",
    "            base, abst = data[iota]\n",
    "            if ll_noisy == True:\n",
    "                base = add_random_noise(base, 'gelbrich', theta_hatL)\n",
    "            if hl_noisy == True:\n",
    "                abst = add_random_noise(abst, 'gelbrich', theta_hatH)\n",
    "\n",
    "            tau_base = base@T.T\n",
    "\n",
    "            tau_muL    = np.mean(tau_base, axis=0)\n",
    "            tau_sigmaL = np.cov(tau_base, rowvar=False)\n",
    "            muH        = np.mean(abst, axis=0)\n",
    "            sigmaH     = np.cov(abst, rowvar=False)\n",
    "\n",
    "            dist_moms  = mut.wasserstein_moments(tau_muL, tau_sigmaL, muH, sigmaH)\n",
    "\n",
    "            tau_gaussian  = mut.sample_distros_Gelbrich([(tau_muL, tau_sigmaL)])[0] \n",
    "            abst_gaussian = mut.sample_distros_Gelbrich([(muH, sigmaH)])[0] \n",
    "\n",
    "            dist_distros  = mut.wasserstein_dist(tau_gaussian, abst_gaussian)\n",
    "            \n",
    "            tot_moms    += dist_moms\n",
    "            tot_distros += dist_distros\n",
    "\n",
    "\n",
    "        avg_moms += tot_moms/len(Ill)\n",
    "        avg_distros += tot_distros/len(Ill)\n",
    "\n",
    "    print(f\"Average moments {i+1}: {avg_moms/100}\")\n",
    "    print(f\"Average distros {i+1}: {avg_distros/100}\")"
   ]
  },
  {
   "cell_type": "code",
   "execution_count": null,
   "id": "6d7746d6",
   "metadata": {},
   "outputs": [],
   "source": []
  },
  {
   "cell_type": "code",
   "execution_count": null,
   "id": "91f19768",
   "metadata": {},
   "outputs": [],
   "source": []
  },
  {
   "cell_type": "code",
   "execution_count": null,
   "id": "03d9814b",
   "metadata": {},
   "outputs": [],
   "source": []
  },
  {
   "cell_type": "code",
   "execution_count": null,
   "id": "953208bc",
   "metadata": {},
   "outputs": [],
   "source": []
  },
  {
   "cell_type": "code",
   "execution_count": 83,
   "id": "f304401f",
   "metadata": {},
   "outputs": [
    {
     "name": "stdout",
     "output_type": "stream",
     "text": [
      "Original correlations:\n",
      "[[1.         0.19355199 0.06702295]\n",
      " [0.19355199 1.         0.29778543]\n",
      " [0.06702295 0.29778543 1.        ]]\n",
      "\n",
      "Contaminated correlations:\n",
      "[[1.         0.17113081 0.05988528]\n",
      " [0.17113081 1.         0.28023058]\n",
      " [0.05988528 0.28023058 1.        ]]\n"
     ]
    },
    {
     "data": {
      "image/png": "[encoded data removed]",
      "text/plain": [
       "<Figure size 1500x1000 with 6 Axes>"
      ]
     },
     "metadata": {},
     "output_type": "display_data"
    }
   ],
   "source": [
    "import numpy as np\n",
    "import matplotlib.pyplot as plt\n",
    "\n",
    "# 1. Create synthetic causal data (linear relationships)\n",
    "np.random.seed(42)  # for reproducibility\n",
    "n_samples = 1000\n",
    "\n",
    "# Generate X (first variable)\n",
    "X = np.random.normal(0, 1, n_samples)\n",
    "\n",
    "# Generate Y (depends on X)\n",
    "Y = 0.5 * X + np.random.normal(0, 0.1, n_samples)\n",
    "\n",
    "# Generate Z (depends on Y)\n",
    "Z = 0.7 * Y + np.random.normal(0, 0.1, n_samples)\n",
    "\n",
    "# Combine into one array\n",
    "original_data = Dll\n",
    "\n",
    "def contaminate_causal_data(data, nonlinear_fraction=0.3, noise_level=0.1):\n",
    "    \"\"\"\n",
    "    Contaminate causal data by adding noise and non-linear transformations.\n",
    "    \"\"\"\n",
    "    contaminated_data = data.copy()\n",
    "    n_samples = data.shape[0]\n",
    "    \n",
    "    # Add base noise\n",
    "    noise = np.random.normal(0, noise_level, data.shape)\n",
    "    contaminated_data += noise\n",
    "    \n",
    "    # Select random subset for non-linear transformations\n",
    "    n_contaminate = int(n_samples * nonlinear_fraction)\n",
    "    indices_to_contaminate = np.random.choice(n_samples, n_contaminate, replace=False)\n",
    "    \n",
    "    for idx in indices_to_contaminate:\n",
    "        transform_type = np.random.choice(['quadratic', 'exponential', 'sinusoidal'])\n",
    "        \n",
    "        if transform_type == 'quadratic':\n",
    "            contaminated_data[idx] = contaminated_data[idx]**2 * np.sign(contaminated_data[idx])\n",
    "        elif transform_type == 'exponential':\n",
    "            contaminated_data[idx] = np.exp(contaminated_data[idx] * 0.5) - 1\n",
    "        elif transform_type == 'sinusoidal':\n",
    "            contaminated_data[idx] = np.sin(contaminated_data[idx])\n",
    "    \n",
    "    return contaminated_data\n",
    "\n",
    "def plot_relationships(original, contaminated):\n",
    "    \"\"\"Plot relationships between variables\"\"\"\n",
    "    fig, axes = plt.subplots(2, 3, figsize=(15, 10))\n",
    "    \n",
    "    # Original data relationships\n",
    "    axes[0,0].scatter(original[:,0], original[:,1], alpha=0.5, s=1)\n",
    "    axes[0,0].set_title('Original: X vs Y')\n",
    "    axes[0,0].set_xlabel('X'); axes[0,0].set_ylabel('Y')\n",
    "    \n",
    "    axes[0,1].scatter(original[:,1], original[:,2], alpha=0.5, s=1)\n",
    "    axes[0,1].set_title('Original: Y vs Z')\n",
    "    axes[0,1].set_xlabel('Y'); axes[0,1].set_ylabel('Z')\n",
    "    \n",
    "    axes[0,2].scatter(original[:,0], original[:,2], alpha=0.5, s=1)\n",
    "    axes[0,2].set_title('Original: X vs Z')\n",
    "    axes[0,2].set_xlabel('X'); axes[0,2].set_ylabel('Z')\n",
    "    \n",
    "    # Contaminated data relationships\n",
    "    axes[1,0].scatter(contaminated[:,0], contaminated[:,1], alpha=0.5, s=1)\n",
    "    axes[1,0].set_title('Contaminated: X vs Y')\n",
    "    axes[1,0].set_xlabel('X'); axes[1,0].set_ylabel('Y')\n",
    "    \n",
    "    axes[1,1].scatter(contaminated[:,1], contaminated[:,2], alpha=0.5, s=1)\n",
    "    axes[1,1].set_title('Contaminated: Y vs Z')\n",
    "    axes[1,1].set_xlabel('Y'); axes[1,1].set_ylabel('Z')\n",
    "    \n",
    "    axes[1,2].scatter(contaminated[:,0], contaminated[:,2], alpha=0.5, s=1)\n",
    "    axes[1,2].set_title('Contaminated: X vs Z')\n",
    "    axes[1,2].set_xlabel('X'); axes[1,2].set_ylabel('Z')\n",
    "    \n",
    "    plt.tight_layout()\n",
    "    plt.show()\n",
    "\n",
    "# Contaminate the data\n",
    "contaminated_data = contaminate_causal_data(\n",
    "    original_data,\n",
    "    nonlinear_fraction=0.3,  # 30% of points will have non-linear transformations\n",
    "    noise_level=0.2         # Amount of random noise\n",
    ")\n",
    "\n",
    "# Print correlations\n",
    "print(\"Original correlations:\")\n",
    "print(np.corrcoef(original_data.T))\n",
    "print(\"\\nContaminated correlations:\")\n",
    "print(np.corrcoef(contaminated_data.T))\n",
    "\n",
    "# Plot the relationships\n",
    "plot_relationships(original_data, contaminated_data)"
   ]
  },
  {
   "cell_type": "code",
   "execution_count": 96,
   "id": "a47c16f5",
   "metadata": {},
   "outputs": [
    {
     "data": {
      "image/png": "[encoded data removed]",
      "text/plain": [
       "<Figure size 1500x500 with 1 Axes>"
      ]
     },
     "metadata": {},
     "output_type": "display_data"
    }
   ],
   "source": [
    "def contaminate_linear_relationships(data, contamination_fraction=0.3):\n",
    "    \"\"\"\n",
    "    Contaminate linear relationships by applying non-linear transformations\n",
    "    and introducing non-additive noise.\n",
    "    \n",
    "    Args:\n",
    "        data: numpy array of shape (n_samples, n_vars) from linear additive model\n",
    "        contamination_fraction: fraction of data to contaminate\n",
    "    \n",
    "    Returns:\n",
    "        Contaminated data array\n",
    "    \"\"\"\n",
    "    contaminated = data.copy()\n",
    "    n_samples, n_vars = data.shape\n",
    "    \n",
    "    # Select samples to contaminate\n",
    "    n_contaminate = int(n_samples * contamination_fraction)\n",
    "    contaminate_idx = np.random.choice(n_samples, n_contaminate, replace=False)\n",
    "    \n",
    "    # Different types of contamination\n",
    "    for idx in contaminate_idx:\n",
    "        # Randomly choose contamination type\n",
    "        contamination_type = np.random.choice([\n",
    "            'multiplicative_interaction',  # Multiply variables together\n",
    "            'threshold_effect',           # Create discontinuous relationships\n",
    "            'exponential_scaling',        # Exponential relationships\n",
    "            'cross_variable_mixing'       # Mix information between variables\n",
    "        ])\n",
    "        \n",
    "        if contamination_type == 'multiplicative_interaction':\n",
    "            # Multiply pairs of variables\n",
    "            for i in range(n_vars-1):\n",
    "                contaminated[idx, i+1] *= contaminated[idx, i]\n",
    "                \n",
    "        elif contamination_type == 'threshold_effect':\n",
    "            # Create discontinuous jumps\n",
    "            thresholds = np.random.randn(n_vars)\n",
    "            for i in range(n_vars):\n",
    "                if contaminated[idx, i] > thresholds[i]:\n",
    "                    contaminated[idx, i] *= 2\n",
    "                else:\n",
    "                    contaminated[idx, i] *= 0.5\n",
    "                    \n",
    "        elif contamination_type == 'exponential_scaling':\n",
    "            # Create exponential relationships\n",
    "            for i in range(n_vars):\n",
    "                sign = np.sign(contaminated[idx, i])\n",
    "                contaminated[idx, i] = sign * np.exp(np.abs(contaminated[idx, i]))\n",
    "                \n",
    "        elif contamination_type == 'cross_variable_mixing':\n",
    "            # Mix information between variables\n",
    "            mix_matrix = np.random.randn(n_vars, n_vars)\n",
    "            contaminated[idx] = contaminated[idx] @ mix_matrix\n",
    "    \n",
    "    # Normalize to keep similar scale as original data\n",
    "    for i in range(n_vars):\n",
    "        orig_std = np.std(data[:, i])\n",
    "        orig_mean = np.mean(data[:, i])\n",
    "        contaminated[:, i] = (contaminated[:, i] - np.mean(contaminated[:, i])) / np.std(contaminated[:, i])\n",
    "        contaminated[:, i] = contaminated[:, i] * orig_std + orig_mean\n",
    "    \n",
    "    return contaminated\n",
    "\n",
    "# Example usage:\n",
    "# contaminated_data = contaminate_linear_relationships(data, contamination_fraction=0.3)\n",
    "\n",
    "def plot_contamination_effect(original, contaminated):\n",
    "    \"\"\"Visualize the effect of contamination\"\"\"\n",
    "    n_vars = original.shape[1]\n",
    "    \n",
    "    plt.figure(figsize=(15, 5))\n",
    "    \n",
    "    # Plot original vs contaminated for each pair of variables\n",
    "    for i in range(n_vars-1):\n",
    "        plt.subplot(1, n_vars-1, i+1)\n",
    "        \n",
    "        # Plot original\n",
    "        plt.scatter(original[:, i], original[:, i+1], \n",
    "                   alpha=0.5, s=1, label='Original', color='blue')\n",
    "        \n",
    "        # Plot contaminated\n",
    "        plt.scatter(contaminated[:, i], contaminated[:, i+1], \n",
    "                   alpha=0.5, s=1, label='Contaminated', color='red')\n",
    "        \n",
    "        plt.xlabel(f'Variable {i+1}')\n",
    "        plt.ylabel(f'Variable {i+2}')\n",
    "        plt.title(f'Var{i+1} vs Var{i+2}')\n",
    "        plt.legend()\n",
    "    \n",
    "    plt.tight_layout()\n",
    "    plt.show()\n",
    "\n",
    "# Usage:\n",
    "data = Dhl\n",
    "contaminated = contaminate_linear_relationships(data, contamination_fraction=0.3)\n",
    "plot_contamination_effect(data, contaminated)"
   ]
  },
  {
   "cell_type": "code",
   "execution_count": 102,
   "id": "8fd7ceb1",
   "metadata": {},
   "outputs": [
    {
     "name": "stdout",
     "output_type": "stream",
     "text": [
      "=== Noise Analysis ===\n",
      "\n",
      "Variable 1:\n",
      "Original mean: 0.009\n",
      "Noisy mean: 0.029\n",
      "Original std: 1.002\n",
      "Noisy std: 2.830\n",
      "Missing values: 505\n",
      "\n",
      "Variable 2:\n",
      "Original mean: -0.003\n",
      "Noisy mean: 0.014\n",
      "Original std: 1.154\n",
      "Noisy std: 3.829\n",
      "Missing values: 475\n"
     ]
    },
    {
     "data": {
      "image/png": "[encoded data removed]",
      "text/plain": [
       "<Figure size 1500x500 with 2 Axes>"
      ]
     },
     "metadata": {},
     "output_type": "display_data"
    }
   ],
   "source": [
    "def add_noise_to_dataset(data, noise_config=None):\n",
    "    \"\"\"\n",
    "    Add different types of noise to make a dataset dirty.\n",
    "    \n",
    "    Args:\n",
    "        data: numpy array of shape (n_samples, n_vars)\n",
    "        noise_config: dictionary with noise parameters\n",
    "            - gaussian_noise: std of Gaussian noise\n",
    "            - outlier_fraction: fraction of outliers to add\n",
    "            - missing_fraction: fraction of values to set as missing (NaN)\n",
    "            - swap_fraction: fraction of values to swap between samples\n",
    "    \n",
    "    Returns:\n",
    "        Noisy data array\n",
    "    \"\"\"\n",
    "    if noise_config is None:\n",
    "        noise_config = {\n",
    "            'gaussian_noise': 0.1,      # Standard deviation of Gaussian noise\n",
    "            'outlier_fraction': 0.01,   # 1% outliers\n",
    "            'missing_fraction': 0.05,   # 5% missing values\n",
    "            'swap_fraction': 0.02       # 2% swapped values\n",
    "        }\n",
    "    \n",
    "    noisy_data = data.copy()\n",
    "    n_samples, n_vars = data.shape\n",
    "    \n",
    "    # 1. Add Gaussian noise\n",
    "    if noise_config['gaussian_noise'] > 0:\n",
    "        noise = np.random.normal(0, noise_config['gaussian_noise'], \n",
    "                               size=data.shape)\n",
    "        noisy_data += noise\n",
    "    \n",
    "    # 2. Add outliers\n",
    "    if noise_config['outlier_fraction'] > 0:\n",
    "        n_outliers = int(n_samples * n_vars * noise_config['outlier_fraction'])\n",
    "        # Randomly select positions for outliers\n",
    "        outlier_rows = np.random.randint(0, n_samples, size=n_outliers)\n",
    "        outlier_cols = np.random.randint(0, n_vars, size=n_outliers)\n",
    "        \n",
    "        # Create outliers by multiplying with large random values\n",
    "        for row, col in zip(outlier_rows, outlier_cols):\n",
    "            multiplier = np.random.choice([-1, 1]) * np.random.uniform(3, 10)\n",
    "            noisy_data[row, col] *= multiplier\n",
    "    \n",
    "    # 3. Add missing values (NaN)\n",
    "    if noise_config['missing_fraction'] > 0:\n",
    "        n_missing = int(n_samples * n_vars * noise_config['missing_fraction'])\n",
    "        missing_rows = np.random.randint(0, n_samples, size=n_missing)\n",
    "        missing_cols = np.random.randint(0, n_vars, size=n_missing)\n",
    "        noisy_data[missing_rows, missing_cols] = np.nan\n",
    "    \n",
    "    # 4. Swap values between samples\n",
    "    if noise_config['swap_fraction'] > 0:\n",
    "        n_swaps = int(n_samples * n_vars * noise_config['swap_fraction'])\n",
    "        for _ in range(n_swaps):\n",
    "            # Select two random positions\n",
    "            row1, row2 = np.random.randint(0, n_samples, size=2)\n",
    "            col = np.random.randint(0, n_vars)\n",
    "            # Swap values\n",
    "            noisy_data[row1, col], noisy_data[row2, col] = \\\n",
    "                noisy_data[row2, col], noisy_data[row1, col]\n",
    "    \n",
    "    return noisy_data\n",
    "\n",
    "def analyze_noise_effects(original, noisy):\n",
    "    \"\"\"\n",
    "    Analyze and visualize the effects of added noise.\n",
    "    \"\"\"\n",
    "    n_vars = original.shape[1]\n",
    "    \n",
    "    # Print basic statistics\n",
    "    print(\"=== Noise Analysis ===\")\n",
    "    for i in range(n_vars):\n",
    "        print(f\"\\nVariable {i+1}:\")\n",
    "        print(f\"Original mean: {np.nanmean(original[:, i]):.3f}\")\n",
    "        print(f\"Noisy mean: {np.nanmean(noisy[:, i]):.3f}\")\n",
    "        print(f\"Original std: {np.nanstd(original[:, i]):.3f}\")\n",
    "        print(f\"Noisy std: {np.nanstd(noisy[:, i]):.3f}\")\n",
    "        print(f\"Missing values: {np.sum(np.isnan(noisy[:, i]))}\")\n",
    "        \n",
    "    # Visualize distributions\n",
    "    plt.figure(figsize=(15, 5))\n",
    "    for i in range(n_vars):\n",
    "        plt.subplot(1, n_vars, i+1)\n",
    "        plt.hist(original[:, i], bins=50, alpha=0.5, label='Original', \n",
    "                density=True)\n",
    "        plt.hist(noisy[:, i][~np.isnan(noisy[:, i])], bins=50, alpha=0.5, \n",
    "                label='Noisy', density=True)\n",
    "        plt.title(f'Variable {i+1} Distribution')\n",
    "        plt.legend()\n",
    "    plt.tight_layout()\n",
    "    plt.show()\n",
    "\n",
    "# Example usage:\n",
    "noise_config = {\n",
    "    'gaussian_noise': 0.6,      # Add Gaussian noise with std=0.1\n",
    "    'outlier_fraction': 0.05,   # Add 1% outliers\n",
    "    'missing_fraction': 0.05,   # Make 5% of values missing\n",
    "    'swap_fraction': 0.02       # Swap 2% of values between samples\n",
    "}\n",
    "\n",
    "dirty_data = add_noise_to_dataset(data, noise_config)\n",
    "analyze_noise_effects(data, dirty_data)"
   ]
  },
  {
   "cell_type": "code",
   "execution_count": 99,
   "id": "f579ddf1",
   "metadata": {},
   "outputs": [],
   "source": [
    "# First contaminate linear relationships\n",
    "contaminated_data = contaminate_linear_relationships(data, contamination_fraction=0.3)\n",
    "\n",
    "# Then add noise to make it dirty\n",
    "dirty_data = add_noise_to_dataset(contaminated_data, noise_config)"
   ]
  },
  {
   "cell_type": "code",
   "execution_count": 107,
   "id": "607cbadc",
   "metadata": {},
   "outputs": [
    {
     "data": {
      "image/png": "[encoded data removed]",
      "text/plain": [
       "<Figure size 1500x500 with 2 Axes>"
      ]
     },
     "metadata": {},
     "output_type": "display_data"
    }
   ],
   "source": [
    "def shift_gaussian_distribution(data, mean_shift=None, var_multiplier=None):\n",
    "    \"\"\"\n",
    "    Shift and scale a Gaussian distribution by modifying its mean and variance.\n",
    "    \n",
    "    Args:\n",
    "        data: numpy array of shape (n_samples, n_vars)\n",
    "        mean_shift: dict of shifts for each variable, e.g., {0: 1.5, 2: -0.5}\n",
    "                   (if None, no shift is applied)\n",
    "        var_multiplier: dict of variance multipliers, e.g., {0: 2.0, 2: 0.5}\n",
    "                       (if None, no scaling is applied)\n",
    "    \n",
    "    Returns:\n",
    "        Modified data array\n",
    "    \"\"\"\n",
    "    modified_data = data.copy()\n",
    "    n_vars = data.shape[1]\n",
    "    \n",
    "    # Apply mean shifts\n",
    "    if mean_shift is not None:\n",
    "        for var_idx, shift in mean_shift.items():\n",
    "            if var_idx < n_vars:\n",
    "                modified_data[:, var_idx] += shift\n",
    "    \n",
    "    # Apply variance scaling\n",
    "    if var_multiplier is not None:\n",
    "        for var_idx, multiplier in var_multiplier.items():\n",
    "            if var_idx < n_vars:\n",
    "                # Center the data, scale it, then shift back\n",
    "                mean = np.mean(modified_data[:, var_idx])\n",
    "                modified_data[:, var_idx] = (modified_data[:, var_idx] - mean) * np.sqrt(multiplier) + mean\n",
    "    \n",
    "    return modified_data\n",
    "\n",
    "# Example usage:\n",
    "# Shift mean of variable 0 by +1.5 and variable 2 by -0.5\n",
    "mean_shifts = {\n",
    "    0: 1.5,  # Shift first variable right by 1.5\n",
    "    1: -2.5  # Shift third variable left by 0.5\n",
    "}\n",
    "\n",
    "# Double variance of variable 0 and halve variance of variable 2\n",
    "var_multipliers = {\n",
    "    0: 2.0,  # Double spread of first variable\n",
    "    1: 0.5   # Halve spread of third variable\n",
    "}\n",
    "\n",
    "modified_data = shift_gaussian_distribution(data, \n",
    "                                          mean_shift=mean_shifts,\n",
    "                                          var_multiplier=var_multipliers)\n",
    "\n",
    "def plot_distribution_changes(original, modified):\n",
    "    \"\"\"\n",
    "    Visualize the changes in distributions.\n",
    "    \"\"\"\n",
    "    n_vars = original.shape[1]\n",
    "    plt.figure(figsize=(15, 5))\n",
    "    \n",
    "    for i in range(n_vars):\n",
    "        plt.subplot(1, n_vars, i+1)\n",
    "        \n",
    "        # Plot original distribution\n",
    "        plt.hist(original[:, i], bins=50, alpha=0.5, \n",
    "                label=f'Original (μ={np.mean(original[:, i]):.2f}, σ²={np.var(original[:, i]):.2f})', \n",
    "                density=True)\n",
    "        \n",
    "        # Plot modified distribution\n",
    "        plt.hist(modified[:, i], bins=50, alpha=0.5, \n",
    "                label=f'Modified (μ={np.mean(modified[:, i]):.2f}, σ²={np.var(modified[:, i]):.2f})', \n",
    "                density=True)\n",
    "        \n",
    "        plt.title(f'Variable {i+1} Distribution')\n",
    "        plt.legend(bbox_to_anchor=(1.05, 1), loc='upper left')\n",
    "    \n",
    "    plt.tight_layout()\n",
    "    plt.show()\n",
    "\n",
    "# Example usage with visualization:\n",
    "modified_data = shift_gaussian_distribution(data, mean_shifts, var_multipliers)\n",
    "plot_distribution_changes(data, modified_data)"
   ]
  },
  {
   "cell_type": "code",
   "execution_count": 108,
   "id": "aa4d560f",
   "metadata": {},
   "outputs": [],
   "source": [
    "def generate_non_gaussian_exogenous(n_samples, n_vars, distribution_type='exponential', params=None):\n",
    "    \"\"\"\n",
    "    Generate non-Gaussian exogenous noise.\n",
    "    \n",
    "    Args:\n",
    "        n_samples: Number of samples to generate\n",
    "        n_vars: Number of variables\n",
    "        distribution_type: Type of non-Gaussian distribution\n",
    "        params: Distribution parameters\n",
    "    \n",
    "    Returns:\n",
    "        np.ndarray: Non-Gaussian noise (n_samples x n_vars)\n",
    "    \"\"\"\n",
    "    if params is None:\n",
    "        params = {}\n",
    "        \n",
    "    if distribution_type == 'exponential':\n",
    "        # Default scale=1.0\n",
    "        scale = params.get('scale', 1.0)\n",
    "        exogenous = np.random.exponential(scale=scale, size=(n_samples, n_vars))\n",
    "        \n",
    "    elif distribution_type == 'multivariate_t':\n",
    "        # Student's t-distribution\n",
    "        df = params.get('df', 3)  # degrees of freedom\n",
    "        exogenous = np.random.standard_t(df=df, size=(n_samples, n_vars))\n",
    "        \n",
    "    elif distribution_type == 'uniform':\n",
    "        low = params.get('low', -1)\n",
    "        high = params.get('high', 1)\n",
    "        exogenous = np.random.uniform(low=low, high=high, size=(n_samples, n_vars))\n",
    "        \n",
    "    elif distribution_type == 'laplace':\n",
    "        # Laplace (double exponential) distribution\n",
    "        loc = params.get('loc', 0.0)\n",
    "        scale = params.get('scale', 1.0)\n",
    "        exogenous = np.random.laplace(loc=loc, scale=scale, size=(n_samples, n_vars))\n",
    "        \n",
    "    elif distribution_type == 'chi_square':\n",
    "        df = params.get('df', 1)\n",
    "        exogenous = np.random.chisquare(df=df, size=(n_samples, n_vars))\n",
    "        \n",
    "    else:\n",
    "        raise ValueError(f\"Unknown distribution type: {distribution_type}\")\n",
    "    \n",
    "    return exogenous\n",
    "\n",
    "# Example usage:\n",
    "\"\"\"\n",
    "# Generate exogenous noise from different distributions\n",
    "n_samples = 1000\n",
    "n_vars = 3\n",
    "\n",
    "# Exponential noise\n",
    "exogenous_exp = generate_non_gaussian_exogenous(\n",
    "    n_samples, n_vars, \n",
    "    distribution_type='exponential',\n",
    "    params={'scale': 1.0}\n",
    ")\n",
    "\n",
    "# Use it with your existing LinearAddSCM\n",
    "endogenous_exp = model.sample_settings(exogenous_exp)\n",
    "\n",
    "# Or with t-distribution\n",
    "exogenous_t = generate_non_gaussian_exogenous(\n",
    "    n_samples, n_vars, \n",
    "    distribution_type='multivariate_t',\n",
    "    params={'df': 3}\n",
    ")\n",
    "\n",
    "endogenous_t = model.sample_settings(exogenous_t)\n",
    "\"\"\"\n",
    "\n",
    "def plot_distributions(exogenous, endogenous):\n",
    "    \"\"\"\n",
    "    Visualize the distributions of exogenous and endogenous variables.\n",
    "    \"\"\"\n",
    "    n_vars = exogenous.shape[1]\n",
    "    plt.figure(figsize=(15, 5))\n",
    "    \n",
    "    for i in range(n_vars):\n",
    "        plt.subplot(1, n_vars, i+1)\n",
    "        plt.hist(exogenous[:, i], bins=50, alpha=0.5, \n",
    "                label='Exogenous', density=True)\n",
    "        plt.hist(endogenous[:, i], bins=50, alpha=0.5, \n",
    "                label='Endogenous', density=True)\n",
    "        plt.title(f'Variable {i+1}')\n",
    "        plt.legend()\n",
    "    \n",
    "    plt.tight_layout()\n",
    "    plt.show()"
   ]
  },
  {
   "cell_type": "code",
   "execution_count": 115,
   "id": "d1cca0ec",
   "metadata": {},
   "outputs": [
    {
     "data": {
      "image/png": "[encoded data removed]",
      "text/plain": [
       "<Figure size 1500x500 with 3 Axes>"
      ]
     },
     "metadata": {},
     "output_type": "display_data"
    }
   ],
   "source": [
    "model = lanm.LinearAddSCM(Gll, ll_coeffs, None)\n",
    "# Generate non-Gaussian exogenous noise\n",
    "exogenous = generate_non_gaussian_exogenous(\n",
    "    n_samples=1000,\n",
    "    n_vars=3,\n",
    "    distribution_type='multivariate_t',\n",
    "    params={'scale': 1.0}\n",
    ")\n",
    "\n",
    "# Use your existing linear additive mechanism\n",
    "endogenous = model.sample_settings(exogenous)\n",
    "\n",
    "# Visualize the results\n",
    "plot_distributions(exogenous, endogenous)"
   ]
  },
  {
   "cell_type": "code",
   "execution_count": 116,
   "id": "a1a15185",
   "metadata": {},
   "outputs": [
    {
     "data": {
      "text/plain": [
       "\"\\n# Initialize modifier with your data\\nmodifier = DataModifier(data)\\n\\n# Chain different modifications\\nmodified_data = (modifier\\n    .shift_gaussian(mean_shift={0: 1.5}, var_multiplier={1: 2.0})\\n    .add_non_gaussian_noise(distribution_type='exponential', \\n                          vars_to_modify=[0, 1])\\n    .contaminate_linearity(contamination_fraction=0.3)\\n    .add_noise({\\n        'gaussian_noise': 0.1,\\n        'outlier_fraction': 0.01,\\n        'missing_fraction': 0.05,\\n        'swap_fraction': 0.02\\n    })\\n    .modified_data\\n)\\n\\n# Or use step by step\\nmodifier = DataModifier(data)\\nmodifier.shift_gaussian(mean_shift={0: 1.5})\\nmodifier.contaminate_linearity()\\nmodifier.plot_modifications()\\n\""
      ]
     },
     "execution_count": 116,
     "metadata": {},
     "output_type": "execute_result"
    }
   ],
   "source": [
    "class DataModifier:\n",
    "    \"\"\"\n",
    "    A class to modify datasets with various types of transformations.\n",
    "    \"\"\"\n",
    "    def __init__(self, data):\n",
    "        \"\"\"\n",
    "        Initialize with original data.\n",
    "        \n",
    "        Args:\n",
    "            data: numpy array of shape (n_samples, n_vars)\n",
    "        \"\"\"\n",
    "        self.original_data = data.copy()\n",
    "        self.modified_data = data.copy()\n",
    "        self.n_samples, self.n_vars = data.shape\n",
    "        \n",
    "    def reset(self):\n",
    "        \"\"\"Reset to original data\"\"\"\n",
    "        self.modified_data = self.original_data.copy()\n",
    "        return self\n",
    "        \n",
    "    def shift_gaussian(self, mean_shift=None, var_multiplier=None):\n",
    "        \"\"\"\n",
    "        Shift Gaussian distribution parameters.\n",
    "        \n",
    "        Args:\n",
    "            mean_shift: dict of shifts for each variable, e.g., {0: 1.5, 2: -0.5}\n",
    "            var_multiplier: dict of variance multipliers, e.g., {0: 2.0, 2: 0.5}\n",
    "        \"\"\"\n",
    "        if mean_shift:\n",
    "            for var_idx, shift in mean_shift.items():\n",
    "                self.modified_data[:, var_idx] += shift\n",
    "                \n",
    "        if var_multiplier:\n",
    "            for var_idx, multiplier in var_multiplier.items():\n",
    "                mean = np.mean(self.modified_data[:, var_idx])\n",
    "                self.modified_data[:, var_idx] = (\n",
    "                    (self.modified_data[:, var_idx] - mean) * \n",
    "                    np.sqrt(multiplier) + mean\n",
    "                )\n",
    "        return self\n",
    "    \n",
    "    def add_non_gaussian_noise(self, distribution_type='exponential', \n",
    "                             vars_to_modify=None, params=None):\n",
    "        \"\"\"\n",
    "        Add non-Gaussian noise to specified variables.\n",
    "        \n",
    "        Args:\n",
    "            distribution_type: Type of non-Gaussian noise\n",
    "            vars_to_modify: List of variable indices to modify\n",
    "            params: Distribution parameters\n",
    "        \"\"\"\n",
    "        if vars_to_modify is None:\n",
    "            vars_to_modify = range(self.n_vars)\n",
    "            \n",
    "        if params is None:\n",
    "            params = {}\n",
    "            \n",
    "        noise = generate_non_gaussian_exogenous(\n",
    "            self.n_samples, \n",
    "            len(vars_to_modify), \n",
    "            distribution_type, \n",
    "            params\n",
    "        )\n",
    "        \n",
    "        for idx, var in enumerate(vars_to_modify):\n",
    "            self.modified_data[:, var] += noise[:, idx]\n",
    "            \n",
    "        return self\n",
    "    \n",
    "    def contaminate_linearity(self, contamination_fraction=0.3):\n",
    "        \"\"\"\n",
    "        Contaminate linear relationships between variables.\n",
    "        \n",
    "        Args:\n",
    "            contamination_fraction: Fraction of samples to contaminate\n",
    "        \"\"\"\n",
    "        self.modified_data = contaminate_linear_relationships(\n",
    "            self.modified_data, \n",
    "            contamination_fraction\n",
    "        )\n",
    "        return self\n",
    "    \n",
    "    def add_noise(self, noise_config=None):\n",
    "        \"\"\"\n",
    "        Add various types of noise to make data dirty.\n",
    "        \n",
    "        Args:\n",
    "            noise_config: Dictionary with noise parameters\n",
    "        \"\"\"\n",
    "        self.modified_data = add_noise_to_dataset(\n",
    "            self.modified_data, \n",
    "            noise_config\n",
    "        )\n",
    "        return self\n",
    "    \n",
    "    def plot_modifications(self):\n",
    "        \"\"\"Visualize the changes in the data\"\"\"\n",
    "        # Distribution plots\n",
    "        plt.figure(figsize=(15, 10))\n",
    "        \n",
    "        # Histograms\n",
    "        for i in range(self.n_vars):\n",
    "            plt.subplot(2, self.n_vars, i+1)\n",
    "            plt.hist(self.original_data[:, i], bins=50, alpha=0.5, \n",
    "                    label='Original', density=True)\n",
    "            plt.hist(self.modified_data[:, i], bins=50, alpha=0.5, \n",
    "                    label='Modified', density=True)\n",
    "            plt.title(f'Variable {i+1} Distribution')\n",
    "            plt.legend()\n",
    "        \n",
    "        # Scatter plots\n",
    "        for i in range(self.n_vars-1):\n",
    "            plt.subplot(2, self.n_vars-1, self.n_vars+i+1)\n",
    "            plt.scatter(self.original_data[:, i], self.original_data[:, i+1], \n",
    "                       alpha=0.5, s=1, label='Original')\n",
    "            plt.scatter(self.modified_data[:, i], self.modified_data[:, i+1], \n",
    "                       alpha=0.5, s=1, label='Modified')\n",
    "            plt.xlabel(f'Var {i+1}')\n",
    "            plt.ylabel(f'Var {i+2}')\n",
    "            plt.legend()\n",
    "            \n",
    "        plt.tight_layout()\n",
    "        plt.show()\n",
    "\n",
    "# Example usage:\n",
    "\"\"\"\n",
    "# Initialize modifier with your data\n",
    "modifier = DataModifier(data)\n",
    "\n",
    "# Chain different modifications\n",
    "modified_data = (modifier\n",
    "    .shift_gaussian(mean_shift={0: 1.5}, var_multiplier={1: 2.0})\n",
    "    .add_non_gaussian_noise(distribution_type='exponential', \n",
    "                          vars_to_modify=[0, 1])\n",
    "    .contaminate_linearity(contamination_fraction=0.3)\n",
    "    .add_noise({\n",
    "        'gaussian_noise': 0.1,\n",
    "        'outlier_fraction': 0.01,\n",
    "        'missing_fraction': 0.05,\n",
    "        'swap_fraction': 0.02\n",
    "    })\n",
    "    .modified_data\n",
    ")\n",
    "\n",
    "# Or use step by step\n",
    "modifier = DataModifier(data)\n",
    "modifier.shift_gaussian(mean_shift={0: 1.5})\n",
    "modifier.contaminate_linearity()\n",
    "modifier.plot_modifications()\n",
    "\"\"\""
   ]
  },
  {
   "cell_type": "code",
   "execution_count": null,
   "id": "008e4000",
   "metadata": {},
   "outputs": [],
   "source": []
  },
  {
   "cell_type": "code",
   "execution_count": 121,
   "id": "45993722",
   "metadata": {},
   "outputs": [
    {
     "ename": "ValueError",
     "evalue": "num must be an integer with 1 <= num <= 4, not 5",
     "output_type": "error",
     "traceback": [
      "\u001b[0;31m---------------------------------------------------------------------------\u001b[0m",
      "\u001b[0;31mValueError\u001b[0m                                Traceback (most recent call last)",
      "Cell \u001b[0;32mIn[121], line 23\u001b[0m\n\u001b[1;32m      3\u001b[0m shifted_data \u001b[38;5;241m=\u001b[39m modifier\u001b[38;5;241m.\u001b[39mshift_gaussian(\n\u001b[1;32m      4\u001b[0m     mean_shift\u001b[38;5;241m=\u001b[39m{\u001b[38;5;241m0\u001b[39m: \u001b[38;5;241m1.5\u001b[39m, \u001b[38;5;241m1\u001b[39m: \u001b[38;5;241m-\u001b[39m\u001b[38;5;241m4\u001b[39m,\u001b[38;5;241m2\u001b[39m: \u001b[38;5;241m-\u001b[39m\u001b[38;5;241m0.5\u001b[39m},\n\u001b[1;32m      5\u001b[0m     var_multiplier\u001b[38;5;241m=\u001b[39m{\u001b[38;5;241m1\u001b[39m: \u001b[38;5;241m2.0\u001b[39m, \u001b[38;5;241m2\u001b[39m:\u001b[38;5;241m3\u001b[39m}\n\u001b[1;32m      6\u001b[0m )\u001b[38;5;241m.\u001b[39mmodified_data\n\u001b[1;32m      8\u001b[0m \u001b[38;5;66;03m# # 2. Add non-Gaussian noise to specific variables\u001b[39;00m\n\u001b[1;32m      9\u001b[0m \u001b[38;5;66;03m# non_gaussian_data = modifier.reset().add_non_gaussian_noise(\u001b[39;00m\n\u001b[1;32m     10\u001b[0m \u001b[38;5;66;03m#     distribution_type='exponential',\u001b[39;00m\n\u001b[0;32m   (...)\u001b[0m\n\u001b[1;32m     21\u001b[0m \n\u001b[1;32m     22\u001b[0m \u001b[38;5;66;03m# 4. Visualize changes\u001b[39;00m\n\u001b[0;32m---> 23\u001b[0m modifier\u001b[38;5;241m.\u001b[39mplot_modifications()\n",
      "Cell \u001b[0;32mIn[116], line 113\u001b[0m, in \u001b[0;36mDataModifier.plot_modifications\u001b[0;34m(self)\u001b[0m\n\u001b[1;32m    111\u001b[0m \u001b[38;5;66;03m# Scatter plots\u001b[39;00m\n\u001b[1;32m    112\u001b[0m \u001b[38;5;28;01mfor\u001b[39;00m i \u001b[38;5;129;01min\u001b[39;00m \u001b[38;5;28mrange\u001b[39m(\u001b[38;5;28mself\u001b[39m\u001b[38;5;241m.\u001b[39mn_vars\u001b[38;5;241m-\u001b[39m\u001b[38;5;241m1\u001b[39m):\n\u001b[0;32m--> 113\u001b[0m     plt\u001b[38;5;241m.\u001b[39msubplot(\u001b[38;5;241m2\u001b[39m, \u001b[38;5;28mself\u001b[39m\u001b[38;5;241m.\u001b[39mn_vars\u001b[38;5;241m-\u001b[39m\u001b[38;5;241m1\u001b[39m, \u001b[38;5;28mself\u001b[39m\u001b[38;5;241m.\u001b[39mn_vars\u001b[38;5;241m+\u001b[39mi\u001b[38;5;241m+\u001b[39m\u001b[38;5;241m1\u001b[39m)\n\u001b[1;32m    114\u001b[0m     plt\u001b[38;5;241m.\u001b[39mscatter(\u001b[38;5;28mself\u001b[39m\u001b[38;5;241m.\u001b[39moriginal_data[:, i], \u001b[38;5;28mself\u001b[39m\u001b[38;5;241m.\u001b[39moriginal_data[:, i\u001b[38;5;241m+\u001b[39m\u001b[38;5;241m1\u001b[39m], \n\u001b[1;32m    115\u001b[0m                alpha\u001b[38;5;241m=\u001b[39m\u001b[38;5;241m0.5\u001b[39m, s\u001b[38;5;241m=\u001b[39m\u001b[38;5;241m1\u001b[39m, label\u001b[38;5;241m=\u001b[39m\u001b[38;5;124m'\u001b[39m\u001b[38;5;124mOriginal\u001b[39m\u001b[38;5;124m'\u001b[39m)\n\u001b[1;32m    116\u001b[0m     plt\u001b[38;5;241m.\u001b[39mscatter(\u001b[38;5;28mself\u001b[39m\u001b[38;5;241m.\u001b[39mmodified_data[:, i], \u001b[38;5;28mself\u001b[39m\u001b[38;5;241m.\u001b[39mmodified_data[:, i\u001b[38;5;241m+\u001b[39m\u001b[38;5;241m1\u001b[39m], \n\u001b[1;32m    117\u001b[0m                alpha\u001b[38;5;241m=\u001b[39m\u001b[38;5;241m0.5\u001b[39m, s\u001b[38;5;241m=\u001b[39m\u001b[38;5;241m1\u001b[39m, label\u001b[38;5;241m=\u001b[39m\u001b[38;5;124m'\u001b[39m\u001b[38;5;124mModified\u001b[39m\u001b[38;5;124m'\u001b[39m)\n",
      "File \u001b[0;32m~/opt/anaconda3/envs/erica/lib/python3.12/site-packages/matplotlib/pyplot.py:1534\u001b[0m, in \u001b[0;36msubplot\u001b[0;34m(*args, **kwargs)\u001b[0m\n\u001b[1;32m   1531\u001b[0m fig \u001b[38;5;241m=\u001b[39m gcf()\n\u001b[1;32m   1533\u001b[0m \u001b[38;5;66;03m# First, search for an existing subplot with a matching spec.\u001b[39;00m\n\u001b[0;32m-> 1534\u001b[0m key \u001b[38;5;241m=\u001b[39m SubplotSpec\u001b[38;5;241m.\u001b[39m_from_subplot_args(fig, args)\n\u001b[1;32m   1536\u001b[0m \u001b[38;5;28;01mfor\u001b[39;00m ax \u001b[38;5;129;01min\u001b[39;00m fig\u001b[38;5;241m.\u001b[39maxes:\n\u001b[1;32m   1537\u001b[0m     \u001b[38;5;66;03m# If we found an Axes at the position, we can reuse it if the user passed no\u001b[39;00m\n\u001b[1;32m   1538\u001b[0m     \u001b[38;5;66;03m# kwargs or if the Axes class and kwargs are identical.\u001b[39;00m\n\u001b[1;32m   1539\u001b[0m     \u001b[38;5;28;01mif\u001b[39;00m (ax\u001b[38;5;241m.\u001b[39mget_subplotspec() \u001b[38;5;241m==\u001b[39m key\n\u001b[1;32m   1540\u001b[0m         \u001b[38;5;129;01mand\u001b[39;00m (kwargs \u001b[38;5;241m==\u001b[39m {}\n\u001b[1;32m   1541\u001b[0m              \u001b[38;5;129;01mor\u001b[39;00m (ax\u001b[38;5;241m.\u001b[39m_projection_init\n\u001b[1;32m   1542\u001b[0m                  \u001b[38;5;241m==\u001b[39m fig\u001b[38;5;241m.\u001b[39m_process_projection_requirements(\u001b[38;5;241m*\u001b[39m\u001b[38;5;241m*\u001b[39mkwargs)))):\n",
      "File \u001b[0;32m~/opt/anaconda3/envs/erica/lib/python3.12/site-packages/matplotlib/gridspec.py:589\u001b[0m, in \u001b[0;36mSubplotSpec._from_subplot_args\u001b[0;34m(figure, args)\u001b[0m\n\u001b[1;32m    587\u001b[0m \u001b[38;5;28;01melse\u001b[39;00m:\n\u001b[1;32m    588\u001b[0m     \u001b[38;5;28;01mif\u001b[39;00m \u001b[38;5;129;01mnot\u001b[39;00m \u001b[38;5;28misinstance\u001b[39m(num, Integral) \u001b[38;5;129;01mor\u001b[39;00m num \u001b[38;5;241m<\u001b[39m \u001b[38;5;241m1\u001b[39m \u001b[38;5;129;01mor\u001b[39;00m num \u001b[38;5;241m>\u001b[39m rows\u001b[38;5;241m*\u001b[39mcols:\n\u001b[0;32m--> 589\u001b[0m         \u001b[38;5;28;01mraise\u001b[39;00m \u001b[38;5;167;01mValueError\u001b[39;00m(\n\u001b[1;32m    590\u001b[0m             \u001b[38;5;124mf\u001b[39m\u001b[38;5;124m\"\u001b[39m\u001b[38;5;124mnum must be an integer with 1 <= num <= \u001b[39m\u001b[38;5;132;01m{\u001b[39;00mrows\u001b[38;5;241m*\u001b[39mcols\u001b[38;5;132;01m}\u001b[39;00m\u001b[38;5;124m, \u001b[39m\u001b[38;5;124m\"\u001b[39m\n\u001b[1;32m    591\u001b[0m             \u001b[38;5;124mf\u001b[39m\u001b[38;5;124m\"\u001b[39m\u001b[38;5;124mnot \u001b[39m\u001b[38;5;132;01m{\u001b[39;00mnum\u001b[38;5;132;01m!r}\u001b[39;00m\u001b[38;5;124m\"\u001b[39m\n\u001b[1;32m    592\u001b[0m         )\n\u001b[1;32m    593\u001b[0m     i \u001b[38;5;241m=\u001b[39m j \u001b[38;5;241m=\u001b[39m num\n\u001b[1;32m    594\u001b[0m \u001b[38;5;28;01mreturn\u001b[39;00m gs[i\u001b[38;5;241m-\u001b[39m\u001b[38;5;241m1\u001b[39m:j]\n",
      "\u001b[0;31mValueError\u001b[0m: num must be an integer with 1 <= num <= 4, not 5"
     ]
    },
    {
     "data": {
      "image/png": "[encoded data removed]",
      "text/plain": [
       "<Figure size 1500x1000 with 4 Axes>"
      ]
     },
     "metadata": {},
     "output_type": "display_data"
    }
   ],
   "source": [
    "# 1. Just shift Gaussian parameters\n",
    "modifier = DataModifier(Dll)\n",
    "shifted_data = modifier.shift_gaussian(\n",
    "    mean_shift={0: 1.5, 1: -4,2: -0.5},\n",
    "    var_multiplier={1: 2.0, 2:3}\n",
    ").modified_data\n",
    "\n",
    "# # 2. Add non-Gaussian noise to specific variables\n",
    "# non_gaussian_data = modifier.reset().add_non_gaussian_noise(\n",
    "#     distribution_type='exponential',\n",
    "#     vars_to_modify=[0, 2]\n",
    "# ).modified_data\n",
    "\n",
    "# # 3. Complex modification\n",
    "# complex_modification = (modifier.reset()\n",
    "#     .shift_gaussian(mean_shift={0: 1.0})\n",
    "#     .add_non_gaussian_noise(distribution_type='exponential')\n",
    "#     .contaminate_linearity(contamination_fraction=0.3)\n",
    "#     .modified_data\n",
    "# )\n",
    "\n",
    "# 4. Visualize changes\n",
    "modifier.plot_modifications()"
   ]
  },
  {
   "cell_type": "code",
   "execution_count": null,
   "id": "14385493",
   "metadata": {},
   "outputs": [],
   "source": []
  },
  {
   "cell_type": "code",
   "execution_count": null,
   "id": "1cede777",
   "metadata": {},
   "outputs": [],
   "source": []
  },
  {
   "cell_type": "code",
   "execution_count": null,
   "id": "5b7cef79",
   "metadata": {},
   "outputs": [],
   "source": []
  },
  {
   "cell_type": "code",
   "execution_count": null,
   "id": "e2c35c2d",
   "metadata": {},
   "outputs": [],
   "source": []
  },
  {
   "cell_type": "code",
   "execution_count": null,
   "id": "15efd2cb",
   "metadata": {},
   "outputs": [],
   "source": []
  },
  {
   "cell_type": "code",
   "execution_count": null,
   "id": "3243c4d6",
   "metadata": {},
   "outputs": [],
   "source": []
  },
  {
   "cell_type": "code",
   "execution_count": null,
   "id": "77371ea1",
   "metadata": {},
   "outputs": [],
   "source": []
  },
  {
   "cell_type": "markdown",
   "id": "cb75a353",
   "metadata": {},
   "source": [
    "### Run a grid-search"
   ]
  },
  {
   "cell_type": "code",
   "execution_count": 41,
   "id": "4a3a1005",
   "metadata": {},
   "outputs": [
    {
     "name": "stdout",
     "output_type": "stream",
     "text": [
      "Running combination 1/5: {'lambda_param': 0.2}\n"
     ]
    },
    {
     "name": "stderr",
     "output_type": "stream",
     "text": [
      " 30%|███       | 3/10 [00:00<00:00, 25.26it/s]"
     ]
    },
    {
     "name": "stdout",
     "output_type": "stream",
     "text": [
      "Step 1/1: Objective = 1.6026020050048828, Gradient Norm = 3.541008710861206\n",
      "Step 1/1: Objective = 2.157719850540161, Gradient Norm = 3.592430353164673\n",
      "Step 1/1: Objective = 2.0324082374572754, Gradient Norm = 2.9353740215301514\n",
      "Step 1/1: Objective = 2.0185794830322266, Gradient Norm = 2.871495246887207\n",
      "Step 1/1: Objective = 2.0127692222595215, Gradient Norm = 2.8650739192962646\n"
     ]
    },
    {
     "name": "stderr",
     "output_type": "stream",
     "text": [
      " 60%|██████    | 6/10 [00:00<00:00, 18.59it/s]"
     ]
    },
    {
     "name": "stdout",
     "output_type": "stream",
     "text": [
      "Step 1/1: Objective = 2.007770538330078, Gradient Norm = 2.8635976314544678\n",
      "Step 1/1: Objective = 2.00293231010437, Gradient Norm = 2.862715482711792\n"
     ]
    },
    {
     "name": "stderr",
     "output_type": "stream",
     "text": [
      " 80%|████████  | 8/10 [00:00<00:00, 15.00it/s]"
     ]
    },
    {
     "name": "stdout",
     "output_type": "stream",
     "text": [
      "Step 1/1: Objective = 1.9981982707977295, Gradient Norm = 2.8620455265045166\n",
      "Step 1/1: Objective = 1.9935672283172607, Gradient Norm = 2.8615567684173584\n"
     ]
    },
    {
     "name": "stderr",
     "output_type": "stream",
     "text": [
      "100%|██████████| 10/10 [00:00<00:00, 14.12it/s]\n"
     ]
    },
    {
     "name": "stdout",
     "output_type": "stream",
     "text": [
      "Step 1/1: Objective = 1.9890460968017578, Gradient Norm = 2.861253261566162\n",
      "Final T: tensor([[ 0.3467,  0.1189,  0.2439],\n",
      "        [ 0.2403, -1.1140, -0.1766]], requires_grad=True)\n",
      "Final mu_L: tensor([ 0.1181, -0.0881,  0.1137], grad_fn=<AddBackward0>)\n",
      "Final Sigma_L: tensor([[0.5000, 0.0000, 0.0000],\n",
      "        [0.0000, 1.5633, 0.0000],\n",
      "        [0.0000, 0.0000, 1.5000]], grad_fn=<AddBackward0>)\n",
      "Final mu_H: tensor([0.1358, 0.1298], grad_fn=<AddBackward0>)\n",
      "Final Sigma_H: tensor([[1.5000, 0.0000],\n",
      "        [0.0000, 1.5000]], grad_fn=<AddBackward0>)\n",
      "Results saved to: synth1_erica_results/result_1.pkl\n",
      "Running combination 2/5: {'lambda_param': 0.4}\n"
     ]
    },
    {
     "name": "stderr",
     "output_type": "stream",
     "text": [
      "  0%|          | 0/10 [00:00<?, ?it/s]"
     ]
    },
    {
     "name": "stdout",
     "output_type": "stream",
     "text": [
      "Step 1/1: Objective = 1.6026020050048828, Gradient Norm = 3.541008710861206\n",
      "Step 1/1: Objective = 1.7905457019805908, Gradient Norm = 3.2711431980133057\n"
     ]
    },
    {
     "name": "stderr",
     "output_type": "stream",
     "text": [
      " 40%|████      | 4/10 [00:00<00:00, 26.77it/s]"
     ]
    },
    {
     "name": "stdout",
     "output_type": "stream",
     "text": [
      "Step 1/1: Objective = 2.181090831756592, Gradient Norm = 3.886312246322632\n",
      "Step 1/1: Objective = 1.9982795715332031, Gradient Norm = 2.9500863552093506\n",
      "Step 1/1: Objective = 1.9930298328399658, Gradient Norm = 2.9484946727752686\n"
     ]
    },
    {
     "name": "stderr",
     "output_type": "stream",
     "text": [
      " 70%|███████   | 7/10 [00:00<00:00, 16.27it/s]"
     ]
    },
    {
     "name": "stdout",
     "output_type": "stream",
     "text": [
      "Step 1/1: Objective = 1.9878889322280884, Gradient Norm = 2.9471583366394043\n",
      "Step 1/1: Objective = 1.9828557968139648, Gradient Norm = 2.946053981781006\n",
      "Step 1/1: Objective = 1.9779307842254639, Gradient Norm = 2.9451639652252197\n"
     ]
    },
    {
     "name": "stderr",
     "output_type": "stream",
     "text": [
      " 90%|█████████ | 9/10 [00:00<00:00, 13.28it/s]"
     ]
    },
    {
     "name": "stdout",
     "output_type": "stream",
     "text": [
      "Step 1/1: Objective = 1.9731204509735107, Gradient Norm = 2.944492816925049\n"
     ]
    },
    {
     "name": "stderr",
     "output_type": "stream",
     "text": [
      "100%|██████████| 10/10 [00:00<00:00, 13.63it/s]\n"
     ]
    },
    {
     "name": "stdout",
     "output_type": "stream",
     "text": [
      "Step 1/1: Objective = 1.9684324264526367, Gradient Norm = 2.9440340995788574\n",
      "Final T: tensor([[ 0.3466,  0.1188,  0.2443],\n",
      "        [ 0.2402, -1.1142, -0.1766]], requires_grad=True)\n",
      "Final mu_L: tensor([ 0.1181, -0.0881,  0.1137], grad_fn=<AddBackward0>)\n",
      "Final Sigma_L: tensor([[0.5000, 0.0000, 0.0000],\n",
      "        [0.0000, 1.5000, 0.0000],\n",
      "        [0.0000, 0.0000, 1.5000]], grad_fn=<AddBackward0>)\n",
      "Final mu_H: tensor([0.1358, 0.1298], grad_fn=<AddBackward0>)\n",
      "Final Sigma_H: tensor([[1.5000, 0.0000],\n",
      "        [0.0000, 1.5000]], grad_fn=<AddBackward0>)\n",
      "Results saved to: synth1_erica_results/result_2.pkl\n",
      "Running combination 3/5: {'lambda_param': 0.6}\n"
     ]
    },
    {
     "name": "stderr",
     "output_type": "stream",
     "text": [
      "  0%|          | 0/10 [00:00<?, ?it/s]"
     ]
    },
    {
     "name": "stdout",
     "output_type": "stream",
     "text": [
      "Step 1/1: Objective = 1.6026020050048828, Gradient Norm = 3.541008710861206\n",
      "Step 1/1: Objective = 1.5258506536483765, Gradient Norm = 3.138038396835327\n"
     ]
    },
    {
     "name": "stderr",
     "output_type": "stream",
     "text": [
      " 30%|███       | 3/10 [00:00<00:00, 29.34it/s]"
     ]
    },
    {
     "name": "stdout",
     "output_type": "stream",
     "text": [
      "Step 1/1: Objective = 1.5836281776428223, Gradient Norm = 3.502628803253174\n",
      "Step 1/1: Objective = 1.6426475048065186, Gradient Norm = 3.956981897354126\n",
      "Step 1/1: Objective = 1.697021722793579, Gradient Norm = 4.438928604125977\n",
      "Step 1/1: Objective = 1.744328498840332, Gradient Norm = 4.839473247528076\n"
     ]
    },
    {
     "name": "stderr",
     "output_type": "stream",
     "text": [
      " 60%|██████    | 6/10 [00:00<00:00, 19.47it/s]"
     ]
    },
    {
     "name": "stdout",
     "output_type": "stream",
     "text": [
      "Step 1/1: Objective = 1.78388249874115, Gradient Norm = 5.183915138244629\n",
      "Step 1/1: Objective = 1.8157119750976562, Gradient Norm = 5.470893859863281\n"
     ]
    },
    {
     "name": "stderr",
     "output_type": "stream",
     "text": [
      " 90%|█████████ | 9/10 [00:00<00:00, 13.90it/s]"
     ]
    },
    {
     "name": "stdout",
     "output_type": "stream",
     "text": [
      "Step 1/1: Objective = 1.8403030633926392, Gradient Norm = 5.699570655822754\n"
     ]
    },
    {
     "name": "stderr",
     "output_type": "stream",
     "text": [
      "100%|██████████| 10/10 [00:00<00:00, 13.54it/s]\n"
     ]
    },
    {
     "name": "stdout",
     "output_type": "stream",
     "text": [
      "Step 1/1: Objective = 1.858405351638794, Gradient Norm = 5.874941825866699\n",
      "Final T: tensor([[ 0.3467,  0.1187,  0.2387],\n",
      "        [ 0.2405, -1.1128, -0.1763]], requires_grad=True)\n",
      "Final mu_L: tensor([ 0.1181, -0.0881,  0.1137], grad_fn=<AddBackward0>)\n",
      "Final Sigma_L: tensor([[0.5000, 0.0000, 0.0000],\n",
      "        [0.0000, 1.5000, 0.0000],\n",
      "        [0.0000, 0.0000, 1.5000]], grad_fn=<AddBackward0>)\n",
      "Final mu_H: tensor([0.1359, 0.1298], grad_fn=<AddBackward0>)\n",
      "Final Sigma_H: tensor([[1.4179, 0.0000],\n",
      "        [0.0000, 1.4033]], grad_fn=<DiagEmbedBackward0>)\n",
      "Results saved to: synth1_erica_results/result_3.pkl\n",
      "Running combination 4/5: {'lambda_param': 0.8}\n"
     ]
    },
    {
     "name": "stderr",
     "output_type": "stream",
     "text": [
      "  0%|          | 0/10 [00:00<?, ?it/s]"
     ]
    },
    {
     "name": "stdout",
     "output_type": "stream",
     "text": [
      "Step 1/1: Objective = 1.6026020050048828, Gradient Norm = 3.541008710861206\n"
     ]
    },
    {
     "name": "stderr",
     "output_type": "stream",
     "text": [
      " 30%|███       | 3/10 [00:00<00:00, 29.63it/s]"
     ]
    },
    {
     "name": "stdout",
     "output_type": "stream",
     "text": [
      "Step 1/1: Objective = 1.3395202159881592, Gradient Norm = 3.0672192573547363\n",
      "Step 1/1: Objective = 1.2413148880004883, Gradient Norm = 3.0120716094970703\n",
      "Step 1/1: Objective = 1.2113540172576904, Gradient Norm = 2.903855323791504\n",
      "Step 1/1: Objective = 1.202183723449707, Gradient Norm = 2.840022563934326\n"
     ]
    },
    {
     "name": "stderr",
     "output_type": "stream",
     "text": [
      " 60%|██████    | 6/10 [00:00<00:00, 19.13it/s]"
     ]
    },
    {
     "name": "stdout",
     "output_type": "stream",
     "text": [
      "Step 1/1: Objective = 1.197507619857788, Gradient Norm = 2.8274905681610107\n",
      "Step 1/1: Objective = 1.1934016942977905, Gradient Norm = 2.820382833480835\n",
      "Step 1/1: Objective = 1.1894582509994507, Gradient Norm = 2.813884973526001\n"
     ]
    },
    {
     "name": "stderr",
     "output_type": "stream",
     "text": [
      " 90%|█████████ | 9/10 [00:00<00:00, 13.80it/s]"
     ]
    },
    {
     "name": "stdout",
     "output_type": "stream",
     "text": [
      "Step 1/1: Objective = 1.1856379508972168, Gradient Norm = 2.807492971420288\n"
     ]
    },
    {
     "name": "stderr",
     "output_type": "stream",
     "text": [
      "100%|██████████| 10/10 [00:00<00:00, 14.18it/s]\n"
     ]
    },
    {
     "name": "stdout",
     "output_type": "stream",
     "text": [
      "Step 1/1: Objective = 1.1819442510604858, Gradient Norm = 2.801156520843506\n",
      "Final T: tensor([[ 0.3458,  0.1190,  0.2441],\n",
      "        [ 0.2401, -1.1129, -0.1766]], requires_grad=True)\n",
      "Final mu_L: tensor([ 0.1181, -0.0881,  0.1137], grad_fn=<AddBackward0>)\n",
      "Final Sigma_L: tensor([[0.5000, 0.0000, 0.0000],\n",
      "        [0.0000, 1.5000, 0.0000],\n",
      "        [0.0000, 0.0000, 0.8770]], grad_fn=<AddBackward0>)\n",
      "Final mu_H: tensor([0.1358, 0.1298], grad_fn=<AddBackward0>)\n",
      "Final Sigma_H: tensor([[0.5000, 0.0000],\n",
      "        [0.0000, 0.5000]], grad_fn=<AddBackward0>)\n",
      "Results saved to: synth1_erica_results/result_4.pkl\n",
      "Running combination 5/5: {'lambda_param': 1.0}\n"
     ]
    },
    {
     "name": "stderr",
     "output_type": "stream",
     "text": [
      "  0%|          | 0/10 [00:00<?, ?it/s]"
     ]
    },
    {
     "name": "stdout",
     "output_type": "stream",
     "text": [
      "Step 1/1: Objective = 1.6026020050048828, Gradient Norm = 3.541008710861206\n",
      "Step 1/1: Objective = 1.2434988021850586, Gradient Norm = 2.9818167686462402\n"
     ]
    },
    {
     "name": "stderr",
     "output_type": "stream",
     "text": [
      " 30%|███       | 3/10 [00:00<00:00, 21.89it/s]"
     ]
    },
    {
     "name": "stdout",
     "output_type": "stream",
     "text": [
      "Step 1/1: Objective = 1.1818166971206665, Gradient Norm = 2.768096923828125\n",
      "Step 1/1: Objective = 1.173356294631958, Gradient Norm = 2.735426187515259\n",
      "Step 1/1: Objective = 1.1689836978912354, Gradient Norm = 2.7261195182800293\n",
      "Step 1/1: Objective = 1.1651160717010498, Gradient Norm = 2.7191154956817627\n"
     ]
    },
    {
     "name": "stderr",
     "output_type": "stream",
     "text": [
      " 60%|██████    | 6/10 [00:00<00:00, 17.65it/s]"
     ]
    },
    {
     "name": "stdout",
     "output_type": "stream",
     "text": [
      "Step 1/1: Objective = 1.1613925695419312, Gradient Norm = 2.71236252784729\n"
     ]
    },
    {
     "name": "stderr",
     "output_type": "stream",
     "text": [
      " 80%|████████  | 8/10 [00:00<00:00, 14.46it/s]"
     ]
    },
    {
     "name": "stdout",
     "output_type": "stream",
     "text": [
      "Step 1/1: Objective = 1.157782793045044, Gradient Norm = 2.705651044845581\n",
      "Step 1/1: Objective = 1.1542861461639404, Gradient Norm = 2.6989614963531494\n"
     ]
    },
    {
     "name": "stderr",
     "output_type": "stream",
     "text": [
      "100%|██████████| 10/10 [00:00<00:00, 13.55it/s]"
     ]
    },
    {
     "name": "stdout",
     "output_type": "stream",
     "text": [
      "Step 1/1: Objective = 1.1509135961532593, Gradient Norm = 2.6922953128814697\n",
      "Final T: tensor([[ 0.3459,  0.1190,  0.2443],\n",
      "        [ 0.2401, -1.1130, -0.1767]], requires_grad=True)\n",
      "Final mu_L: tensor([ 0.1181, -0.0881,  0.1137], grad_fn=<AddBackward0>)\n",
      "Final Sigma_L: tensor([[0.5000, 0.0000, 0.0000],\n",
      "        [0.0000, 1.5000, 0.0000],\n",
      "        [0.0000, 0.0000, 0.5837]], grad_fn=<AddBackward0>)\n",
      "Final mu_H: tensor([0.1358, 0.1298], grad_fn=<AddBackward0>)\n",
      "Final Sigma_H: tensor([[0.5000, 0.0000],\n",
      "        [0.0000, 0.5000]], grad_fn=<AddBackward0>)\n",
      "Results saved to: synth1_erica_results/result_5.pkl\n"
     ]
    },
    {
     "name": "stderr",
     "output_type": "stream",
     "text": [
      "\n"
     ]
    }
   ],
   "source": [
    "results_dir = f\"{experiment}_erica_results\"\n",
    "os.makedirs(results_dir, exist_ok=True)\n",
    "\n",
    "# Define parameter grids\n",
    "param_grid = {\n",
    "    'lambda_param': [0.2, 0.4, 0.6, 0.8, 1.0],\n",
    "    # Add other hyperparameters here\n",
    "}\n",
    "\n",
    "# Fixed parameters\n",
    "fixed_params = {\n",
    "    'epsilon': 0.5,\n",
    "    'delta': 0.5,\n",
    "    'eta_max': 0.01,\n",
    "    'eta_min': 0.001,\n",
    "    'lambda_L': 0.8,\n",
    "    'lambda_H': 0.8,\n",
    "    'max_iter': 10,\n",
    "    'num_steps_min': 1,\n",
    "    'num_steps_max': 1,\n",
    "    'tol_max': 1e-4,\n",
    "    'tol': 1e-4,\n",
    "    'seed': 42\n",
    "}\n",
    "\n",
    "# Generate all combinations of parameters\n",
    "param_combinations = [dict(zip(param_grid.keys(), v)) for v in product(*param_grid.values())]\n",
    "\n",
    "# Iterate over each combination\n",
    "for idx, params in enumerate(param_combinations, 1):\n",
    "    try:\n",
    "        print(f\"Running combination {idx}/{len(param_combinations)}: {params}\")\n",
    "\n",
    "        # Run your optimization function here\n",
    "        final_mu_L, final_Sigma_L, final_mu_H, final_Sigma_H, final_T = optimize_min_max(\n",
    "                                                                                        mu_L0, Sigma_L0, mu_H0, Sigma_H0,\n",
    "                                                                                        LLmodels, HLmodels,\n",
    "                                                                                        hat_mu_L, hat_Sigma_L, hat_mu_H, hat_Sigma_H,\n",
    "                                                                                        **params,\n",
    "                                                                                        **fixed_params\n",
    "                                                                                        )\n",
    "\n",
    "        # Prepare results\n",
    "        results = {\n",
    "            'parameters': params,\n",
    "            'mu_L': final_mu_L.detach().numpy(),\n",
    "            'Sigma_L': final_Sigma_L.detach().numpy(),\n",
    "            'mu_H': final_mu_H.detach().numpy(),\n",
    "            'Sigma_H': final_Sigma_H.detach().numpy(),\n",
    "            'T': final_T.detach().numpy(),\n",
    "            'execution_time': datetime.now().strftime(\"%Y-%m-%d %H:%M:%S\")\n",
    "        }\n",
    "\n",
    "        # Save results\n",
    "        result_filename = f\"{results_dir}/result_{idx}.pkl\"\n",
    "        with open(result_filename, 'wb') as f:\n",
    "            pickle.dump(results, f)\n",
    "\n",
    "        print(f\"Results saved to: {result_filename}\")\n",
    "\n",
    "    except Exception as e:\n",
    "        print(f\"Error with parameters {params}: {str(e)}\")\n",
    "        continue"
   ]
  },
  {
   "cell_type": "markdown",
   "id": "1442a9d4",
   "metadata": {},
   "source": [
    "### Load results"
   ]
  },
  {
   "cell_type": "code",
   "execution_count": 46,
   "id": "d53133ba",
   "metadata": {},
   "outputs": [
    {
     "name": "stdout",
     "output_type": "stream",
     "text": [
      "Parameters used:\n",
      "{'lambda_param': 1.0}\n",
      "T matrix:\n",
      "[[ 0.34585983  0.11897802  0.24429919]\n",
      " [ 0.24009041 -1.1129556  -0.17671084]]\n",
      "Execution time: 2024-12-03 10:55:55\n"
     ]
    }
   ],
   "source": [
    "with open('synth1_erica_results/result_5.pkl', 'rb') as f:  # Replace with your actual filename\n",
    "    loaded_results = pickle.load(f)\n",
    "\n",
    "# Access specific results\n",
    "print(f\"Parameters used:\\n{loaded_results['parameters']}\")\n",
    "print(f\"T matrix:\\n{loaded_results['T']}\")\n",
    "print(f\"Execution time: {loaded_results['execution_time']}\")\n",
    "\n",
    "# Access other components as needed:\n",
    "# loaded_results['mu_L']\n",
    "# loaded_results['Sigma_L'] \n",
    "# loaded_results['mu_H']\n",
    "# loaded_results['Sigma_H']"
   ]
  },
  {
   "cell_type": "markdown",
   "id": "35b1b240",
   "metadata": {},
   "source": [
    "### Compare results"
   ]
  },
  {
   "cell_type": "code",
   "execution_count": 33,
   "id": "9d87692c",
   "metadata": {},
   "outputs": [
    {
     "name": "stdout",
     "output_type": "stream",
     "text": [
      "Best parameters: {'lambda_param': 1.0}\n"
     ]
    }
   ],
   "source": [
    "results_dir = \"synth1_erica_results\"\n",
    "result_files = [f for f in os.listdir(results_dir) if f.startswith('result_') and f.endswith('.pkl')]\n",
    "\n",
    "# Load all results into a list\n",
    "all_results = []\n",
    "for filename in result_files:\n",
    "    with open(os.path.join(results_dir, filename), 'rb') as f:\n",
    "        result = pickle.load(f)\n",
    "        all_results.append(result)\n",
    "\n",
    "# Now you can compare results, find the best parameters, etc.\n",
    "# For example, if you stored objective values:\n",
    "best_result = min(all_results, key=lambda x: x.get('objective', float('inf')))\n",
    "print(f\"Best parameters: {best_result['parameters']}\")"
   ]
  },
  {
   "cell_type": "markdown",
   "id": "22515356",
   "metadata": {},
   "source": [
    "### Find experiments with a specific parameter value"
   ]
  },
  {
   "cell_type": "code",
   "execution_count": 39,
   "id": "68727235",
   "metadata": {},
   "outputs": [],
   "source": [
    "def find_experiments_by_param(results_dir, param_name, param_value):\n",
    "    # List all result files in the directory\n",
    "    result_files = [f for f in os.listdir(results_dir) if f.startswith('result_') and f.endswith('.pkl')]\n",
    "    \n",
    "    matching_results = []\n",
    "    \n",
    "    for filename in result_files:\n",
    "        with open(os.path.join(results_dir, filename), 'rb') as f:\n",
    "            result = pickle.load(f)\n",
    "            # Check if the parameter matches the desired value\n",
    "            if result['parameters'].get(param_name) == param_value:\n",
    "                matching_results.append({\n",
    "                    'filename': filename,\n",
    "                    'data': result\n",
    "                })\n",
    "    \n",
    "    return matching_results"
   ]
  },
  {
   "cell_type": "code",
   "execution_count": null,
   "id": "869cfd37",
   "metadata": {},
   "outputs": [],
   "source": [
    "# Example usage:\n",
    "results_dir = \"synth1_erica_results\"\n",
    "lambda_param_value = 0.8  # The value you're looking for\n",
    "\n",
    "matching_experiments = find_experiments_by_param(results_dir, 'lambda_param', lambda_param_value)\n",
    "\n",
    "if matching_experiments:\n",
    "    print(f\"Found {len(matching_experiments)} experiments with lambda_param = {lambda_param_value}\")\n",
    "    for exp in matching_experiments:\n",
    "        print(f\"\\nFilename: {exp['filename']}\")\n",
    "        print(f\"Parameters: {exp['data']['parameters']}\")\n",
    "        print(f\"Execution time: {exp['data']['execution_time']}\")\n",
    "        # Print other relevant information as needed\n",
    "        # print(f\"T matrix:\\n{exp['data']['T']}\")\n",
    "        # print(f\"Objective value: {exp['data'].get('objective')}\")\n",
    "else:\n",
    "    print(f\"No experiments found with lambda_param = {lambda_param_value}\")"
   ]
  },
  {
   "cell_type": "code",
   "execution_count": null,
   "id": "d8ba3ecd",
   "metadata": {},
   "outputs": [],
   "source": []
  },
  {
   "cell_type": "code",
   "execution_count": 76,
   "id": "398a4222",
   "metadata": {},
   "outputs": [
    {
     "ename": "TypeError",
     "evalue": "expected np.ndarray (got Tensor)",
     "output_type": "error",
     "traceback": [
      "\u001b[0;31m---------------------------------------------------------------------------\u001b[0m",
      "\u001b[0;31mTypeError\u001b[0m                                 Traceback (most recent call last)",
      "Cell \u001b[0;32mIn[76], line 1\u001b[0m\n\u001b[0;32m----> 1\u001b[0m Dhl \u001b[38;5;241m=\u001b[39m torch\u001b[38;5;241m.\u001b[39mfrom_numpy(Dhl)\n\u001b[1;32m      3\u001b[0m TDll \u001b[38;5;241m=\u001b[39m []\n\u001b[1;32m      4\u001b[0m \u001b[38;5;28;01mfor\u001b[39;00m xl \u001b[38;5;129;01min\u001b[39;00m Dll:\n",
      "\u001b[0;31mTypeError\u001b[0m: expected np.ndarray (got Tensor)"
     ]
    }
   ],
   "source": [
    "Dhl = torch.from_numpy(Dhl)\n",
    "\n",
    "TDll = []\n",
    "for xl in Dll:\n",
    "    xl = torch.tensor(xl, dtype=torch.float32)\n",
    "\n",
    "    TDll.append(T @ xl)\n",
    "TDll = torch.stack(TDll)\n",
    "\n",
    "# Compute average distance\n",
    "# Method 1: Using MSE (Mean Squared Error)\n",
    "mse_distance = torch.mean(torch.sum((TDll - Dhl)**2, dim=1))\n",
    "\n",
    "# Method 2: Using L2/Euclidean distance\n",
    "l2_distance = torch.mean(torch.sqrt(torch.sum((TDll - Dhl)**2, dim=1)))\n",
    "\n",
    "# Method 3: Using L1/Manhattan distance\n",
    "l1_distance = torch.mean(torch.sum(torch.abs(TDll - Dhl), dim=1))\n",
    "\n",
    "print(f\"MSE Distance: {mse_distance.item()}\")\n",
    "print(f\"L2 Distance: {l2_distance.item()}\")\n",
    "print(f\"L1 Distance: {l1_distance.item()}\")"
   ]
  },
  {
   "cell_type": "markdown",
   "id": "a6a76ea3",
   "metadata": {},
   "source": []
  }
 ],
 "metadata": {
  "kernelspec": {
   "display_name": "erica",
   "language": "python",
   "name": "python3"
  },
  "language_info": {
   "codemirror_mode": {
    "name": "ipython",
    "version": 3
   },
   "file_extension": ".py",
   "mimetype": "text/x-python",
   "name": "python",
   "nbconvert_exporter": "python",
   "pygments_lexer": "ipython3",
   "version": "3.12.5"
  }
 },
 "nbformat": 4,
 "nbformat_minor": 5
}
