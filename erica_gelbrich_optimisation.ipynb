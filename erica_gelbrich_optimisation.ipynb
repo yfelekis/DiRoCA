{
 "cells": [
  {
   "cell_type": "code",
   "execution_count": 1,
   "id": "a28ac6f7",
   "metadata": {},
   "outputs": [
    {
     "name": "stderr",
     "output_type": "stream",
     "text": [
      "\n",
      "A module that was compiled using NumPy 1.x cannot be run in\n",
      "NumPy 2.1.1 as it may crash. To support both 1.x and 2.x\n",
      "versions of NumPy, modules must be compiled with NumPy 2.0.\n",
      "Some module may need to rebuild instead e.g. with 'pybind11>=2.12'.\n",
      "\n",
      "If you are a user of the module, the easiest solution will be to\n",
      "downgrade to 'numpy<2' or try to upgrade the affected module.\n",
      "We expect that some modules will need time to support NumPy 2.\n",
      "\n",
      "Traceback (most recent call last):  File \"<frozen runpy>\", line 198, in _run_module_as_main\n",
      "  File \"<frozen runpy>\", line 88, in _run_code\n",
      "  File \"/Users/giofelekis/opt/anaconda3/envs/erica/lib/python3.12/site-packages/ipykernel_launcher.py\", line 17, in <module>\n",
      "    app.launch_new_instance()\n",
      "  File \"/Users/giofelekis/opt/anaconda3/envs/erica/lib/python3.12/site-packages/traitlets/config/application.py\", line 1075, in launch_instance\n",
      "    app.start()\n",
      "  File \"/Users/giofelekis/opt/anaconda3/envs/erica/lib/python3.12/site-packages/ipykernel/kernelapp.py\", line 701, in start\n",
      "    self.io_loop.start()\n",
      "  File \"/Users/giofelekis/opt/anaconda3/envs/erica/lib/python3.12/site-packages/tornado/platform/asyncio.py\", line 205, in start\n",
      "    self.asyncio_loop.run_forever()\n",
      "  File \"/Users/giofelekis/opt/anaconda3/envs/erica/lib/python3.12/asyncio/base_events.py\", line 641, in run_forever\n",
      "    self._run_once()\n",
      "  File \"/Users/giofelekis/opt/anaconda3/envs/erica/lib/python3.12/asyncio/base_events.py\", line 1986, in _run_once\n",
      "    handle._run()\n",
      "  File \"/Users/giofelekis/opt/anaconda3/envs/erica/lib/python3.12/asyncio/events.py\", line 88, in _run\n",
      "    self._context.run(self._callback, *self._args)\n",
      "  File \"/Users/giofelekis/opt/anaconda3/envs/erica/lib/python3.12/site-packages/ipykernel/kernelbase.py\", line 534, in dispatch_queue\n",
      "    await self.process_one()\n",
      "  File \"/Users/giofelekis/opt/anaconda3/envs/erica/lib/python3.12/site-packages/ipykernel/kernelbase.py\", line 523, in process_one\n",
      "    await dispatch(*args)\n",
      "  File \"/Users/giofelekis/opt/anaconda3/envs/erica/lib/python3.12/site-packages/ipykernel/kernelbase.py\", line 429, in dispatch_shell\n",
      "    await result\n",
      "  File \"/Users/giofelekis/opt/anaconda3/envs/erica/lib/python3.12/site-packages/ipykernel/kernelbase.py\", line 767, in execute_request\n",
      "    reply_content = await reply_content\n",
      "  File \"/Users/giofelekis/opt/anaconda3/envs/erica/lib/python3.12/site-packages/ipykernel/ipkernel.py\", line 429, in do_execute\n",
      "    res = shell.run_cell(\n",
      "  File \"/Users/giofelekis/opt/anaconda3/envs/erica/lib/python3.12/site-packages/ipykernel/zmqshell.py\", line 549, in run_cell\n",
      "    return super().run_cell(*args, **kwargs)\n",
      "  File \"/Users/giofelekis/opt/anaconda3/envs/erica/lib/python3.12/site-packages/IPython/core/interactiveshell.py\", line 3075, in run_cell\n",
      "    result = self._run_cell(\n",
      "  File \"/Users/giofelekis/opt/anaconda3/envs/erica/lib/python3.12/site-packages/IPython/core/interactiveshell.py\", line 3130, in _run_cell\n",
      "    result = runner(coro)\n",
      "  File \"/Users/giofelekis/opt/anaconda3/envs/erica/lib/python3.12/site-packages/IPython/core/async_helpers.py\", line 128, in _pseudo_sync_runner\n",
      "    coro.send(None)\n",
      "  File \"/Users/giofelekis/opt/anaconda3/envs/erica/lib/python3.12/site-packages/IPython/core/interactiveshell.py\", line 3334, in run_cell_async\n",
      "    has_raised = await self.run_ast_nodes(code_ast.body, cell_name,\n",
      "  File \"/Users/giofelekis/opt/anaconda3/envs/erica/lib/python3.12/site-packages/IPython/core/interactiveshell.py\", line 3517, in run_ast_nodes\n",
      "    if await self.run_code(code, result, async_=asy):\n",
      "  File \"/Users/giofelekis/opt/anaconda3/envs/erica/lib/python3.12/site-packages/IPython/core/interactiveshell.py\", line 3577, in run_code\n",
      "    exec(code_obj, self.user_global_ns, self.user_ns)\n",
      "  File \"/var/folders/vn/9swzhgj513q7n9gd_4vsbd840000gn/T/ipykernel_5681/2989619535.py\", line 4, in <module>\n",
      "    import modularised_utils as mut\n",
      "  File \"/Users/giofelekis/Desktop/ERiCA/modularised_utils.py\", line 22, in <module>\n",
      "    from src.CBN import CausalBayesianNetwork as CBN\n",
      "  File \"/Users/giofelekis/Desktop/ERiCA/src/CBN.py\", line 4, in <module>\n",
      "    from pgmpy.models import BayesianNetwork\n",
      "  File \"/Users/giofelekis/opt/anaconda3/envs/erica/lib/python3.12/site-packages/pgmpy/__init__.py\", line 1, in <module>\n",
      "    from .global_vars import config\n",
      "  File \"/Users/giofelekis/opt/anaconda3/envs/erica/lib/python3.12/site-packages/pgmpy/global_vars.py\", line 4, in <module>\n",
      "    import torch\n",
      "  File \"/Users/giofelekis/opt/anaconda3/envs/erica/lib/python3.12/site-packages/torch/__init__.py\", line 1477, in <module>\n",
      "    from .functional import *  # noqa: F403\n",
      "  File \"/Users/giofelekis/opt/anaconda3/envs/erica/lib/python3.12/site-packages/torch/functional.py\", line 9, in <module>\n",
      "    import torch.nn.functional as F\n",
      "  File \"/Users/giofelekis/opt/anaconda3/envs/erica/lib/python3.12/site-packages/torch/nn/__init__.py\", line 1, in <module>\n",
      "    from .modules import *  # noqa: F403\n",
      "  File \"/Users/giofelekis/opt/anaconda3/envs/erica/lib/python3.12/site-packages/torch/nn/modules/__init__.py\", line 35, in <module>\n",
      "    from .transformer import TransformerEncoder, TransformerDecoder, \\\n",
      "  File \"/Users/giofelekis/opt/anaconda3/envs/erica/lib/python3.12/site-packages/torch/nn/modules/transformer.py\", line 20, in <module>\n",
      "    device: torch.device = torch.device(torch._C._get_default_device()),  # torch.device('cpu'),\n",
      "/Users/giofelekis/opt/anaconda3/envs/erica/lib/python3.12/site-packages/torch/nn/modules/transformer.py:20: UserWarning: Failed to initialize NumPy: _ARRAY_API not found (Triggered internally at /Users/runner/work/pytorch/pytorch/pytorch/torch/csrc/utils/tensor_numpy.cpp:84.)\n",
      "  device: torch.device = torch.device(torch._C._get_default_device()),  # torch.device('cpu'),\n"
     ]
    }
   ],
   "source": [
    "import joblib\n",
    "import numpy as np\n",
    "\n",
    "import modularised_utils as mut\n",
    "import Linear_Additive_Noise_Models as lanm\n",
    "import operations as ops\n",
    "\n",
    "import params\n",
    "\n",
    "np.random.seed(0)"
   ]
  },
  {
   "cell_type": "code",
   "execution_count": 2,
   "id": "677de9ef",
   "metadata": {},
   "outputs": [],
   "source": [
    "experiment = 'synth1'"
   ]
  },
  {
   "cell_type": "code",
   "execution_count": 3,
   "id": "897015a0",
   "metadata": {},
   "outputs": [],
   "source": [
    "# Define the radius of the Wasserstein balls (epsilon, delta) and the size for both models.\n",
    "epsilon         = params.radius[experiment][0]\n",
    "ll_num_envs     = params.n_envs[experiment][0]\n",
    "\n",
    "delta           = params.radius[experiment][1]\n",
    "hl_num_envs     = params.n_envs[experiment][1]\n",
    "\n",
    "# Define the number of samples per environment. Currently every environment has the same number of samples\n",
    "num_llsamples   = params.n_samples[experiment][0]\n",
    "num_hlsamples   = params.n_samples[experiment][1]\n",
    "\n",
    "distance_err    = 'wass'"
   ]
  },
  {
   "cell_type": "code",
   "execution_count": 4,
   "id": "6ccf37e0",
   "metadata": {},
   "outputs": [],
   "source": [
    "Dll = mut.load_samples(experiment)[None][0] \n",
    "Gll = mut.load_ll_model(experiment)[0]\n",
    "Ill = mut.load_ll_model(experiment)[1]\n",
    "\n",
    "\n",
    "Dhl = mut.load_samples(experiment)[None][1] \n",
    "Ghl = mut.load_hl_model(experiment)[0]\n",
    "Ihl = mut.load_hl_model(experiment)[1]\n",
    "\n",
    "omega = mut.load_omega_map(experiment)"
   ]
  },
  {
   "cell_type": "code",
   "execution_count": 5,
   "id": "b9fb9e92",
   "metadata": {},
   "outputs": [],
   "source": [
    "ll_coeffs = mut.get_coefficients(Dll, Gll)\n",
    "hl_coeffs = mut.get_coefficients(Dhl, Ghl) "
   ]
  },
  {
   "cell_type": "code",
   "execution_count": 7,
   "id": "4b7233f7",
   "metadata": {},
   "outputs": [
    {
     "data": {
      "text/plain": [
       "{('Smoking', 'Tar'): np.float64(0.2801809653886389),\n",
       " ('Tar', 'Cancer'): np.float64(0.21674035424599092)}"
      ]
     },
     "execution_count": 7,
     "metadata": {},
     "output_type": "execute_result"
    }
   ],
   "source": [
    "ll_coeffs"
   ]
  },
  {
   "cell_type": "code",
   "execution_count": 6,
   "id": "3e42545e",
   "metadata": {},
   "outputs": [],
   "source": [
    "# # [Not suggested] In case we want to explore also the interventional --> worse estimation!\n",
    "# Dlls, Dhls = [], []\n",
    "# for dpair in list(mut.load_samples(experiment).values()):\n",
    "#     Dlls.append(dpair[0])\n",
    "#     Dhls.append(dpair[1])\n",
    "    \n",
    "# ll_coeffs = mut.get_coefficients(Dlls, Gll)\n",
    "# hl_coeffs = mut.get_coefficients(Dhls, Ghl) "
   ]
  },
  {
   "cell_type": "code",
   "execution_count": 7,
   "id": "75470de5",
   "metadata": {},
   "outputs": [],
   "source": [
    "U_ll_hat, mu_U_ll_hat, Sigma_U_ll_hat = mut.lan_abduction(Dll, Gll, ll_coeffs)\n",
    "U_hl_hat, mu_U_hl_hat, Sigma_U_hl_hat = mut.lan_abduction(Dhl, Ghl, hl_coeffs)"
   ]
  },
  {
   "cell_type": "code",
   "execution_count": 8,
   "id": "53e18c8a",
   "metadata": {},
   "outputs": [],
   "source": [
    "LLmodels = {}\n",
    "for iota in Ill:\n",
    "    LLmodels[iota] = lanm.LinearAddSCM(Gll, ll_coeffs, iota)\n",
    "    \n",
    "HLmodels, Dhl_samples = {}, {}\n",
    "for eta in Ihl:\n",
    "    HLmodels[eta] = lanm.LinearAddSCM(Ghl, hl_coeffs, eta)"
   ]
  },
  {
   "cell_type": "code",
   "execution_count": 9,
   "id": "c6c38736",
   "metadata": {},
   "outputs": [],
   "source": [
    "# Ambiguity set construction: Based on epsilon and delta include distribution (as many as the num_envs) that\n",
    "# pass the \"gelbrich\" test.\n",
    "ll_moments = mut.sample_moments_U(mu_hat    = mu_U_ll_hat,\n",
    "                                  Sigma_hat = Sigma_U_ll_hat,\n",
    "                                  bound     = epsilon,\n",
    "                                  num_envs  = ll_num_envs)\n",
    "\n",
    "A_ll       = mut.sample_distros_Gelbrich(ll_moments) #Low-level: A_epsilon\n",
    "\n",
    "\n",
    "hl_moments = mut.sample_moments_U(mu_hat    = mu_U_hl_hat,\n",
    "                                  Sigma_hat = Sigma_U_hl_hat,\n",
    "                                  bound     = delta,\n",
    "                                  num_envs  = hl_num_envs)\n",
    "\n",
    "A_hl       = mut.sample_distros_Gelbrich(hl_moments) #High-level A_delta"
   ]
  },
  {
   "cell_type": "code",
   "execution_count": 10,
   "id": "dcd01dc8",
   "metadata": {},
   "outputs": [
    {
     "name": "stderr",
     "output_type": "stream",
     "text": [
      "/Users/giofelekis/opt/anaconda3/envs/erica/lib/python3.12/site-packages/threadpoolctl.py:1214: RuntimeWarning: \n",
      "Found Intel OpenMP ('libiomp') and LLVM OpenMP ('libomp') loaded at\n",
      "the same time. Both libraries are known to be incompatible and this\n",
      "can cause random crashes or deadlocks on Linux when loaded in the\n",
      "same Python program.\n",
      "Using threadpoolctl may cause crashes or deadlocks. For more\n",
      "information and possible workarounds, please see\n",
      "    https://github.com/joblib/threadpoolctl/blob/master/multiple_openmp.md\n",
      "\n",
      "  warnings.warn(msg, RuntimeWarning)\n"
     ]
    }
   ],
   "source": [
    "abstraction_errors             = {}\n",
    "abstraction_env_errors         = {}\n",
    "max_env_avg_interv_error_value = -np.inf\n",
    "max_env_avg_interv_error_key   = None\n",
    "\n",
    "for lenv in A_ll:\n",
    "\n",
    "    Dll_noise      = lenv.sample(num_llsamples)[0]\n",
    "    ll_environment = mut.get_exogenous_distribution(Dll_noise)\n",
    "\n",
    "    for henv in A_hl:\n",
    "        Dhl_noise      = henv.sample(num_hlsamples)[0]\n",
    "        hl_environment = mut.get_exogenous_distribution(Dhl_noise)\n",
    "\n",
    "        total_ui_error = 0\n",
    "        num_distros    = len(Ill)\n",
    "\n",
    "        n, m  = len(LLmodels[None].endogenous_vars), len(HLmodels[None].endogenous_vars)\n",
    "\n",
    "        T     = mut.sample_stoch_matrix(n, m)\n",
    "\n",
    "        for iota in Ill:\n",
    "            llcm   = LLmodels[iota]\n",
    "            hlcm   = HLmodels[omega[iota]]\n",
    "            llmech = llcm.compute_mechanism()\n",
    "            hlmech = hlcm.compute_mechanism()\n",
    "            error  = mut.ui_error_dist(distance_err, lenv, henv, llmech, hlmech, T)\n",
    "\n",
    "            total_ui_error += error\n",
    "\n",
    "        avg_interv_error = total_ui_error/num_distros\n",
    "\n",
    "        if avg_interv_error > max_env_avg_interv_error_value:\n",
    "            max_env_avg_interv_error_value = avg_interv_error\n",
    "            max_env_avg_interv_error_key   = (lenv, henv)\n",
    "\n",
    "        abstraction_errors[str(T)] = avg_interv_error\n",
    "        abstraction_env_errors['ll: '+str(ll_environment.means_)+' hl: '+str(hl_environment.means_)] = avg_interv_error"
   ]
  },
  {
   "cell_type": "code",
   "execution_count": 11,
   "id": "0657828e",
   "metadata": {},
   "outputs": [
    {
     "name": "stdout",
     "output_type": "stream",
     "text": [
      "Abstraction: [[0.21761458 0.78238542]\n",
      " [0.75095088 0.24904912]\n",
      " [0.86664525 0.13335475]], Error: 1.080267499893765\n",
      "==============================================================================\n",
      "max LL mean vector = [[0.03909886 0.02270429 0.149256  ]]\n",
      "max LL covariance = [[[0.82603265 0.         0.        ]\n",
      "  [0.         2.03002425 0.        ]\n",
      "  [0.         0.         0.84745966]]]\n",
      "\n",
      "max HL mean vector = [[ 0.07752375 -0.03284999]]\n",
      "max HL covariance = [[[1.03175598 0.        ]\n",
      "  [0.         0.77764308]]]\n",
      "==============================================================================\n",
      "max environment, average interventional abstraction error = 1.080267499893765\n"
     ]
    }
   ],
   "source": [
    "max_tau   = max(abstraction_errors, key=abstraction_errors.get)\n",
    "max_error = abstraction_errors[max_tau]\n",
    "\n",
    "print(f\"Abstraction: {max_tau}, Error: {max_error}\")\n",
    "print('==============================================================================' )\n",
    "max_lenv = max_env_avg_interv_error_key[0]\n",
    "max_henv = max_env_avg_interv_error_key[1]\n",
    "\n",
    "print(f\"max LL mean vector = {max_lenv.means_}\")\n",
    "print(f\"max LL covariance = {max_lenv.covariances_}\")\n",
    "print( )\n",
    "\n",
    "print(f\"max HL mean vector = {max_henv.means_}\")\n",
    "print(f\"max HL covariance = {max_henv.covariances_}\")\n",
    "print('==============================================================================' )\n",
    "print(f\"max environment, average interventional abstraction error = {max_env_avg_interv_error_value}\")"
   ]
  },
  {
   "cell_type": "code",
   "execution_count": null,
   "id": "abc902b4",
   "metadata": {},
   "outputs": [],
   "source": []
  }
 ],
 "metadata": {
  "kernelspec": {
   "display_name": "Python 3 (ipykernel)",
   "language": "python",
   "name": "python3"
  },
  "language_info": {
   "codemirror_mode": {
    "name": "ipython",
    "version": 3
   },
   "file_extension": ".py",
   "mimetype": "text/x-python",
   "name": "python",
   "nbconvert_exporter": "python",
   "pygments_lexer": "ipython3",
   "version": "3.12.5"
  }
 },
 "nbformat": 4,
 "nbformat_minor": 5
}
