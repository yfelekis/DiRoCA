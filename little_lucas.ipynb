{
 "cells": [
  {
   "cell_type": "code",
   "execution_count": 1,
   "id": "a28ac6f7",
   "metadata": {},
   "outputs": [],
   "source": [
    "import joblib\n",
    "\n",
    "import numpy as np\n",
    "import networkx as nx\n",
    "\n",
    "from src.CBN import CausalBayesianNetwork as CBN\n",
    "import modularised_utils as mut\n",
    "import Linear_Additive_Noise_Models as lanm\n",
    "import operations as ops\n",
    "\n",
    "import params\n",
    "\n",
    "np.random.seed(0)"
   ]
  },
  {
   "cell_type": "markdown",
   "id": "ce898cd9",
   "metadata": {},
   "source": [
    "### Define low-level DCM \"LL\" and high-level DCM \"HL\""
   ]
  },
  {
   "cell_type": "code",
   "execution_count": 2,
   "id": "0575feee",
   "metadata": {},
   "outputs": [],
   "source": [
    "experiment = 'little_lucas'"
   ]
  },
  {
   "cell_type": "code",
   "execution_count": 3,
   "id": "10230e5e",
   "metadata": {},
   "outputs": [],
   "source": [
    "Anx = 'Anxiety'\n",
    "PP  = 'Peer Pressure'\n",
    "Sm  = 'Smoking'\n",
    "Gen = 'Genetics'\n",
    "LC  = 'Lung Cancer'\n",
    "All = 'Allergy'\n",
    "Cou = 'Coughing'\n",
    "Fat = 'Fatigue'\n",
    "\n",
    "Env = 'Environment'\n",
    "Gen_ = 'Genetics_'\n",
    "LC_  = 'Lung Cancer_'"
   ]
  },
  {
   "cell_type": "code",
   "execution_count": 4,
   "id": "afb18cf8",
   "metadata": {},
   "outputs": [],
   "source": [
    "ll_endogenous_coeff_dict = {(Anx,Sm):.2, (PP,Sm):.2, (Sm,LC):.2, (Gen,LC):.2, (All,Cou):.4, (LC,Cou):.6, (LC,Fat):.1, (Cou,Fat):.3, (Anx, Fat):.1}\n",
    "ll_causal_graph          = CBN(list(ll_endogenous_coeff_dict.keys()))\n",
    "\n",
    "hl_endogenous_coeff_dict = {(Env, LC_): .6, (Gen_, LC_):8}\n",
    "hl_causal_graph          = CBN(list(hl_endogenous_coeff_dict.keys()))"
   ]
  },
  {
   "cell_type": "code",
   "execution_count": 5,
   "id": "1ce76ac1",
   "metadata": {},
   "outputs": [],
   "source": [
    "#nx.draw(nx.DiGraph(ll_causal_graph.edges()),with_labels=True)\n",
    "#nx.draw(nx.DiGraph(hl_causal_graph.edges()),with_labels=True)"
   ]
  },
  {
   "cell_type": "code",
   "execution_count": 6,
   "id": "942ffe6d",
   "metadata": {},
   "outputs": [],
   "source": [
    "ll_mu_hat       = np.array([0, 0, 0, 0, 0, 0, 0, 0])  \n",
    "ll_Sigma_hat    = np.diag([1, 2, 1, 2, 4, 5, 6, 1]) \n",
    "\n",
    "hl_mu_hat       = np.array([0, 0, 0])  \n",
    "hl_Sigma_hat    = np.diag([1, 1, 2])\n",
    "\n",
    "# # Alternative way of initializing these randomly\n",
    "# ll_mu_hat    = np.random.randn(8)  \n",
    "# ll_Sigma_hat = np.diag(np.random.rand(8)) \n",
    "\n",
    "# hl_mu_hat    = np.random.randn(3)  \n",
    "# hl_Sigma_hat = np.diag(np.random.rand(3))\n",
    "\n",
    "ll_moments   = [(ll_mu_hat, ll_Sigma_hat)]\n",
    "hl_moments   = [(hl_mu_hat, hl_Sigma_hat)]\n",
    "\n",
    "lenv         = mut.sample_distros_Gelbrich(ll_moments)[0] \n",
    "henv         = mut.sample_distros_Gelbrich(hl_moments)[0]"
   ]
  },
  {
   "cell_type": "code",
   "execution_count": 7,
   "id": "d66c8778",
   "metadata": {},
   "outputs": [],
   "source": [
    "# Define the radius of the Wasserstein balls (epsilon, delta) and the size for both models.\n",
    "epsilon         = params.radius[experiment][0]\n",
    "ll_num_envs     = params.n_envs[experiment][0]\n",
    "\n",
    "delta           = params.radius[experiment][1]\n",
    "hl_num_envs     = params.n_envs[experiment][1]\n",
    "\n",
    "# Define the number of samples per environment. Currently every environment has the same number of samples\n",
    "num_llsamples   = params.n_samples[experiment][0]\n",
    "num_hlsamples   = params.n_samples[experiment][1]"
   ]
  },
  {
   "cell_type": "markdown",
   "id": "c2b57b88",
   "metadata": {},
   "source": [
    "### Construct the empirical nominal distribution/ environment"
   ]
  },
  {
   "cell_type": "code",
   "execution_count": 8,
   "id": "597fc948",
   "metadata": {},
   "outputs": [
    {
     "name": "stderr",
     "output_type": "stream",
     "text": [
      "/Users/giofelekis/opt/anaconda3/envs/erica/lib/python3.12/site-packages/threadpoolctl.py:1214: RuntimeWarning: \n",
      "Found Intel OpenMP ('libiomp') and LLVM OpenMP ('libomp') loaded at\n",
      "the same time. Both libraries are known to be incompatible and this\n",
      "can cause random crashes or deadlocks on Linux when loaded in the\n",
      "same Python program.\n",
      "Using threadpoolctl may cause crashes or deadlocks. For more\n",
      "information and possible workarounds, please see\n",
      "    https://github.com/joblib/threadpoolctl/blob/master/multiple_openmp.md\n",
      "\n",
      "  warnings.warn(msg, RuntimeWarning)\n"
     ]
    }
   ],
   "source": [
    "Dll_noise      = lenv.sample(num_llsamples)[0]\n",
    "ll_environment = mut.get_exogenous_distribution(Dll_noise)\n",
    "\n",
    "Dhl_noise      = henv.sample(num_hlsamples)[0]\n",
    "hl_environment = mut.get_exogenous_distribution(Dhl_noise)"
   ]
  },
  {
   "cell_type": "code",
   "execution_count": 9,
   "id": "62b11fad",
   "metadata": {},
   "outputs": [
    {
     "data": {
      "text/plain": [
       "['data/little_lucas/exogenous_HL.pkl']"
      ]
     },
     "execution_count": 9,
     "metadata": {},
     "output_type": "execute_result"
    }
   ],
   "source": [
    "joblib.dump((Dll_noise, ll_mu_hat, ll_Sigma_hat), f\"data/{experiment}/exogenous_LL.pkl\")\n",
    "joblib.dump((Dhl_noise, hl_mu_hat, hl_Sigma_hat), f\"data/{experiment}/exogenous_HL.pkl\")"
   ]
  },
  {
   "cell_type": "markdown",
   "id": "d7ba255d",
   "metadata": {},
   "source": [
    "### Define the sets of relevant interventions and the (total) surjective and order-preserving function $ω:I^{L} \\mapsto I^{H}$"
   ]
  },
  {
   "cell_type": "code",
   "execution_count": 10,
   "id": "fc02d782",
   "metadata": {
    "scrolled": true
   },
   "outputs": [],
   "source": [
    "iota0 = None\n",
    "iota1 = ops.Intervention({Anx: 0})\n",
    "iota2 = ops.Intervention({Gen: 1})\n",
    "iota3 = ops.Intervention({All: 0})\n",
    "iota4 = ops.Intervention({Anx: 0, PP:0})\n",
    "iota5 = ops.Intervention({Anx: 0, PP:0, Sm:0})\n",
    "iota6 = ops.Intervention({Anx: 0, PP:0, Sm:1})\n",
    "\n",
    "\n",
    "eta0 = None\n",
    "eta1 = ops.Intervention({Env: 0})\n",
    "eta2 = ops.Intervention({Env: 1})\n",
    "eta3 = ops.Intervention({Gen_: 0})\n",
    "eta4 = ops.Intervention({Gen_: 1})\n",
    "\n",
    "\n",
    "omega = {   \n",
    "            iota0: eta0,\n",
    "            iota1: eta1,\n",
    "            iota4: eta1,\n",
    "            iota5: eta1,\n",
    "            iota6: eta1,\n",
    "            iota2: eta4,\n",
    "            iota3: eta3\n",
    "        }\n",
    "\n",
    "Ill_relevant = list(set(omega.keys()))\n",
    "Ihl_relevant = list(set(omega.values()))"
   ]
  },
  {
   "cell_type": "code",
   "execution_count": 11,
   "id": "578b1b88",
   "metadata": {},
   "outputs": [
    {
     "data": {
      "text/plain": [
       "['data/little_lucas/omega.pkl']"
      ]
     },
     "execution_count": 11,
     "metadata": {},
     "output_type": "execute_result"
    }
   ],
   "source": [
    "joblib.dump((ll_causal_graph, Ill_relevant), f\"data/{experiment}/LL.pkl\")\n",
    "\n",
    "joblib.dump((hl_causal_graph, Ihl_relevant), f\"data/{experiment}/HL.pkl\")\n",
    "\n",
    "joblib.dump(omega, f\"data/{experiment}/omega.pkl\")"
   ]
  },
  {
   "cell_type": "markdown",
   "id": "e0d71d01",
   "metadata": {},
   "source": [
    "### Sampling and Pair construction"
   ]
  },
  {
   "cell_type": "code",
   "execution_count": 12,
   "id": "5ed1cc6c",
   "metadata": {},
   "outputs": [],
   "source": [
    "Dll_samples = {}\n",
    "for iota in Ill_relevant:\n",
    "    llcm              = lanm.LinearAddSCM(ll_causal_graph, ll_endogenous_coeff_dict, iota)\n",
    "    Dll_samples[iota] = llcm.sample_settings(Dll_noise)\n",
    "\n",
    "Dhl_samples = {}\n",
    "for eta in Ihl_relevant:\n",
    "    hlcm             = lanm.LinearAddSCM(hl_causal_graph, hl_endogenous_coeff_dict, eta)\n",
    "    Dhl_samples[eta] = hlcm.sample_settings(Dhl_noise)\n",
    "\n",
    "Ds = {}\n",
    "for iota in Ill_relevant:\n",
    "    Ds[iota] = (Dll_samples[iota], Dhl_samples[omega[iota]])"
   ]
  },
  {
   "cell_type": "code",
   "execution_count": 13,
   "id": "8f59b225",
   "metadata": {},
   "outputs": [
    {
     "data": {
      "text/plain": [
       "['data/little_lucas/Ds.pkl']"
      ]
     },
     "execution_count": 13,
     "metadata": {},
     "output_type": "execute_result"
    }
   ],
   "source": [
    "joblib.dump(Ds, f\"data/{experiment}/Ds.pkl\")"
   ]
  }
 ],
 "metadata": {
  "kernelspec": {
   "display_name": "erica",
   "language": "python",
   "name": "python3"
  },
  "language_info": {
   "codemirror_mode": {
    "name": "ipython",
    "version": 3
   },
   "file_extension": ".py",
   "mimetype": "text/x-python",
   "name": "python",
   "nbconvert_exporter": "python",
   "pygments_lexer": "ipython3",
   "version": "3.12.5"
  }
 },
 "nbformat": 4,
 "nbformat_minor": 5
}
